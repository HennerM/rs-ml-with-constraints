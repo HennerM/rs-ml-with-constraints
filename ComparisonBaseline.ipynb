{
 "cells": [
  {
   "cell_type": "code",
   "execution_count": 12,
   "metadata": {},
   "outputs": [
    {
     "data": {
      "text/plain": [
       "<module 'models.MatrixFactorization' from '/home/ec2-user/SageMaker/rs-ml-with-constraints/models/MatrixFactorization.py'>"
      ]
     },
     "execution_count": 12,
     "metadata": {},
     "output_type": "execute_result"
    }
   ],
   "source": [
    "import utils.common\n",
    "import evaluation\n",
    "import importlib\n",
    "import numpy as np\n",
    "import tensorflow as tf\n",
    "import models.MatrixFactorization\n",
    "import models.BPR\n",
    "import models.ConstraintAutoRec\n",
    "import models.NeuralLogicRec\n",
    "import models.MatrixFactorization\n",
    "import models.BPR\n",
    "import pandas as pd\n",
    "from models.NeuralLogicRec import item_cf, user_cf, diversity_constraint, Constraint, And, Or, Implies, Forall, Not, Equiv\n",
    "importlib.reload(models.MatrixFactorization)"
   ]
  },
  {
   "cell_type": "markdown",
   "metadata": {},
   "source": [
    "# Comparison with baseline models\n",
    "## MovieLens dataset"
   ]
  },
  {
   "cell_type": "code",
   "execution_count": 10,
   "metadata": {},
   "outputs": [],
   "source": [
    "eval_ml = evaluation.Evaluation(utils.common.movie_lens)\n",
    "ev_test = evaluation.Evaluation(utils.common.ml_small)\n",
    "eval_msd = evaluation.Evaluation(utils.common.msd)"
   ]
  },
  {
   "cell_type": "code",
   "execution_count": 8,
   "metadata": {},
   "outputs": [],
   "source": [
    "def train_and_evaluate(model, dataset, evaluation):\n",
    "    evals = []\n",
    "    model.epochs = 1\n",
    "    for e in range(12):\n",
    "        model.train(utils.common.load_dataset(dataset), dataset['train']['records'])\n",
    "        ev_tmp = evaluation.evaluate_single_thread(model)\n",
    "        evals.append(ev_tmp)\n",
    "        print(ev_tmp)\n",
    "    pd.DataFrame(evals).to_csv('../evals/Comp_' + model.get_name() + '.csv')"
   ]
  },
  {
   "cell_type": "code",
   "execution_count": 17,
   "metadata": {},
   "outputs": [],
   "source": [
    "constraints = list()\n",
    "constraints.append(Constraint(weight=0.2, formula=item_cf))\n",
    "constraints.append(Constraint(weight=0.2, formula=user_cf))\n",
    "@tf.function\n",
    "def likes_equiv(model, outputs):\n",
    "    return Forall(Equiv(outputs['rec'], outputs['likes']))\n",
    "constraints.append(Constraint(weight=0.95, formula=likes_equiv))\n",
    "@tf.function\n",
    "def novelty_constraint(model, outputs):\n",
    "    return Forall(Implies(outputs['popular'], Not(outputs['rec'])))\n",
    "constraints.append(Constraint(weight=0.6, formula=novelty_constraint))\n",
    "constraints.append(Constraint(weight=0.45, formula=diversity_constraint))"
   ]
  },
  {
   "cell_type": "code",
   "execution_count": 8,
   "metadata": {
    "scrolled": true
   },
   "outputs": [
    {
     "name": "stdout",
     "output_type": "stream",
     "text": [
      "Epoch #0 Loss at step 2885: 0.2257, time: 554.524. Train accuracy 0.768, Validation accuracy 0.656\n",
      "{'accuracy': 0.6416155199349998, 'precision@5': 0.11083720419882229, 'recall@5': 0.046464419736859205, 'map@1': 0.13320653962912843, 'map@5': 0.07065192080270168, 'map@10': 0.05743680360717546, 'diversity@5': 0.12624053053384499, 'diversity@10': 0.1329284142248182, 'epc@5': 0.7303518922017387, 'epc@10': 0.7587401027330339, 'epd@5': 0.15727052481536002, 'coverage@1': 0.033041132838840186, 'coverage@5': 0.07215104517869184, 'coverage@10': 0.09787111068297852, 'name': 'NeuralLogicRec_comparison_ML', 'embedding_dim': 32, 'epochs_trained': 1, 'batch_size': 48, 'nr_hidden_layers': 3, 'nr_item_samples': 4096}\n",
      "Epoch #0 Loss at step 2885: 0.1895, time: 545.105. Train accuracy 0.842, Validation accuracy 0.691\n",
      "{'accuracy': 0.7211723235021822, 'precision@5': 0.1425843970593614, 'recall@5': 0.06343103868775374, 'map@1': 0.16129622179144873, 'map@5': 0.09368012630603612, 'map@10': 0.07806333190686732, 'diversity@5': 0.11609527930283534, 'diversity@10': 0.1246623675093248, 'epc@5': 0.7523886424887938, 'epc@10': 0.7756632608861648, 'epd@5': 0.15207545018235546, 'coverage@1': 0.0403622001733937, 'coverage@5': 0.08448126384741354, 'coverage@10': 0.11328388401888065, 'name': 'NeuralLogicRec_comparison_ML', 'embedding_dim': 32, 'epochs_trained': 2, 'batch_size': 48, 'nr_hidden_layers': 3, 'nr_item_samples': 4096}\n",
      "Epoch #0 Loss at step 2885: 0.1986, time: 543.530. Train accuracy 0.860, Validation accuracy 0.773\n",
      "{'accuracy': 0.7611241405053174, 'precision@5': 0.1546834424490692, 'recall@5': 0.06770121378177775, 'map@1': 0.17834022164514832, 'map@5': 0.10259364243362634, 'map@10': 0.08508446723306752, 'diversity@5': 0.11662475363109584, 'diversity@10': 0.1254592479867232, 'epc@5': 0.7571218811858633, 'epc@10': 0.7771565728406785, 'epd@5': 0.1526308051409872, 'coverage@1': 0.04508236200751373, 'coverage@5': 0.09700414218283403, 'coverage@10': 0.13707735285617956, 'name': 'NeuralLogicRec_comparison_ML', 'embedding_dim': 32, 'epochs_trained': 3, 'batch_size': 48, 'nr_hidden_layers': 3, 'nr_item_samples': 4096}\n",
      "Epoch #0 Loss at step 2885: 0.1938, time: 543.325. Train accuracy 0.858, Validation accuracy 0.733\n",
      "{'accuracy': 0.7434586478521104, 'precision@5': 0.16567791960791486, 'recall@5': 0.07431294491132362, 'map@1': 0.19271423868914817, 'map@5': 0.11156116780252694, 'map@10': 0.09312658723086069, 'diversity@5': 0.11652464609054188, 'diversity@10': 0.12523155492953045, 'epc@5': 0.751542795963395, 'epc@10': 0.7741610252795939, 'epd@5': 0.15173672805611832, 'coverage@1': 0.055967633175994604, 'coverage@5': 0.11627010885271169, 'coverage@10': 0.15364608419227435, 'name': 'NeuralLogicRec_comparison_ML', 'embedding_dim': 32, 'epochs_trained': 4, 'batch_size': 48, 'nr_hidden_layers': 3, 'nr_item_samples': 4096}\n",
      "Epoch #0 Loss at step 2885: 0.1987, time: 544.657. Train accuracy 0.858, Validation accuracy 0.738\n",
      "{'accuracy': 0.765236715375668, 'precision@5': 0.17094473501334992, 'recall@5': 0.0780501588869175, 'map@1': 0.20215061629055264, 'map@5': 0.11727392519984231, 'map@10': 0.09799280066845914, 'diversity@5': 0.11521680678673658, 'diversity@10': 0.12433248943989492, 'epc@5': 0.7472097876617633, 'epc@10': 0.7715198666985538, 'epd@5': 0.15078328601893404, 'coverage@1': 0.0568346016761391, 'coverage@5': 0.11877468451979578, 'coverage@10': 0.16019651286003275, 'name': 'NeuralLogicRec_comparison_ML', 'embedding_dim': 32, 'epochs_trained': 5, 'batch_size': 48, 'nr_hidden_layers': 3, 'nr_item_samples': 4096}\n",
      "Epoch #0 Loss at step 2885: 0.2013, time: 544.551. Train accuracy 0.879, Validation accuracy 0.796\n",
      "{'accuracy': 0.7836680005907046, 'precision@5': 0.16403203979371642, 'recall@5': 0.07383876681401558, 'map@1': 0.20449142313741267, 'map@5': 0.11299788880354697, 'map@10': 0.09387575835406453, 'diversity@5': 0.11600205193003359, 'diversity@10': 0.12521169690201292, 'epc@5': 0.7620023359550274, 'epc@10': 0.7852811624683094, 'epd@5': 0.15158641310811732, 'coverage@1': 0.062229072343704846, 'coverage@5': 0.12831133802138522, 'coverage@10': 0.17185242269530873, 'name': 'NeuralLogicRec_comparison_ML', 'embedding_dim': 32, 'epochs_trained': 6, 'batch_size': 48, 'nr_hidden_layers': 3, 'nr_item_samples': 4096}\n",
      "Epoch #0 Loss at step 2885: 0.1659, time: 544.219. Train accuracy 0.853, Validation accuracy 0.684\n",
      "{'accuracy': 0.74900910753104, 'precision@5': 0.17596283969130613, 'recall@5': 0.08048098769527712, 'map@1': 0.20844153469148896, 'map@5': 0.12081850009550167, 'map@10': 0.10139862554821076, 'diversity@5': 0.11316671914381586, 'diversity@10': 0.12287441313342504, 'epc@5': 0.7438072943682774, 'epc@10': 0.7706023634844051, 'epd@5': 0.15017552060299258, 'coverage@1': 0.06540795684423466, 'coverage@5': 0.13226086118871014, 'coverage@10': 0.17743955302957326, 'name': 'NeuralLogicRec_comparison_ML', 'embedding_dim': 32, 'epochs_trained': 7, 'batch_size': 48, 'nr_hidden_layers': 3, 'nr_item_samples': 4096}\n",
      "Epoch #0 Loss at step 2885: 0.1807, time: 545.125. Train accuracy 0.888, Validation accuracy 0.784\n",
      "{'accuracy': 0.7599931823584538, 'precision@5': 0.1736220328444461, 'recall@5': 0.07666962080308191, 'map@1': 0.20975823854284772, 'map@5': 0.11865022615607819, 'map@10': 0.09873728531810609, 'diversity@5': 0.11415409678317222, 'diversity@10': 0.12430865405298662, 'epc@5': 0.7438305529423167, 'epc@10': 0.7692101365574432, 'epd@5': 0.15027910252102405, 'coverage@1': 0.06733455351122243, 'coverage@5': 0.14237549369039593, 'coverage@10': 0.1902514208650419, 'name': 'NeuralLogicRec_comparison_ML', 'embedding_dim': 32, 'epochs_trained': 8, 'batch_size': 48, 'nr_hidden_layers': 3, 'nr_item_samples': 4096}\n",
      "Epoch #0 Loss at step 2885: 0.1821, time: 546.804. Train accuracy 0.861, Validation accuracy 0.695\n",
      "{'accuracy': 0.7556256649437765, 'precision@5': 0.17355619765187813, 'recall@5': 0.07701666833752988, 'map@1': 0.2153542299111225, 'map@5': 0.12035568275564984, 'map@10': 0.09961965709588545, 'diversity@5': 0.11604537331402003, 'diversity@10': 0.12410509969455898, 'epc@5': 0.768732972281954, 'epc@10': 0.789757147515126, 'epd@5': 0.15001510482028496, 'coverage@1': 0.07311434351218572, 'coverage@5': 0.14613235719102205, 'coverage@10': 0.19448993353241498, 'name': 'NeuralLogicRec_comparison_ML', 'embedding_dim': 32, 'epochs_trained': 9, 'batch_size': 48, 'nr_hidden_layers': 3, 'nr_item_samples': 4096}\n",
      "Epoch #0 Loss at step 2885: 0.1774, time: 545.787. Train accuracy 0.875, Validation accuracy 0.765\n",
      "{'accuracy': 0.7717348253308831, 'precision@5': 0.17798910061811932, 'recall@5': 0.07856342191526182, 'map@1': 0.21509820416224718, 'map@5': 0.12281206694057359, 'map@10': 0.10133492307418263, 'diversity@5': 0.11541239777903797, 'diversity@10': 0.12432227382011918, 'epc@5': 0.7480115149751848, 'epc@10': 0.7725123798116483, 'epd@5': 0.15042712068108757, 'coverage@1': 0.06771987284461999, 'coverage@5': 0.1434351218572392, 'coverage@10': 0.19188902803198152, 'name': 'NeuralLogicRec_comparison_ML', 'embedding_dim': 32, 'epochs_trained': 10, 'batch_size': 48, 'nr_hidden_layers': 3, 'nr_item_samples': 4096}\n",
      "Epoch #0 Loss at step 2885: 0.2017, time: 546.212. Train accuracy 0.871, Validation accuracy 0.709\n",
      "{'accuracy': 0.7642845960982954, 'precision@5': 0.1747558611608939, 'recall@5': 0.07552057186465794, 'map@1': 0.21579313119490875, 'map@5': 0.1212752215841898, 'map@10': 0.0996583213565754, 'diversity@5': 0.11823190858921348, 'diversity@10': 0.12676938070357285, 'epc@5': 0.7640849237015119, 'epc@10': 0.786513218225883, 'epd@5': 0.15130994292007716, 'coverage@1': 0.07706386667951065, 'coverage@5': 0.15672863885945476, 'coverage@10': 0.19969174453328195, 'name': 'NeuralLogicRec_comparison_ML', 'embedding_dim': 32, 'epochs_trained': 11, 'batch_size': 48, 'nr_hidden_layers': 3, 'nr_item_samples': 4096}\n",
      "Epoch #0 Loss at step 2885: 0.2160, time: 546.392. Train accuracy 0.859, Validation accuracy 0.761\n",
      "{'accuracy': 0.7773786774462578, 'precision@5': 0.17648952123184963, 'recall@5': 0.07703149925199221, 'map@1': 0.22095022127939723, 'map@5': 0.12244160174585178, 'map@10': 0.10081470260023945, 'diversity@5': 0.11670150404410427, 'diversity@10': 0.12541616033193448, 'epc@5': 0.7539594638631217, 'epc@10': 0.7785989251189779, 'epd@5': 0.14989253743032868, 'coverage@1': 0.07244003467874001, 'coverage@5': 0.1523937963587323, 'coverage@10': 0.19506791253251132, 'name': 'NeuralLogicRec_comparison_ML', 'embedding_dim': 32, 'epochs_trained': 12, 'batch_size': 48, 'nr_hidden_layers': 3, 'nr_item_samples': 4096}\n"
     ]
    },
    {
     "ename": "ValueError",
     "evalue": "If using all scalar values, you must pass an index",
     "output_type": "error",
     "traceback": [
      "\u001b[0;31m---------------------------------------------------------------------------\u001b[0m",
      "\u001b[0;31mValueError\u001b[0m                                Traceback (most recent call last)",
      "\u001b[0;32m<ipython-input-8-8b4e90d71aca>\u001b[0m in \u001b[0;36m<module>\u001b[0;34m()\u001b[0m\n\u001b[1;32m      1\u001b[0m \u001b[0mnlr_ml\u001b[0m \u001b[0;34m=\u001b[0m \u001b[0mmodels\u001b[0m\u001b[0;34m.\u001b[0m\u001b[0mNeuralLogicRec\u001b[0m\u001b[0;34m.\u001b[0m\u001b[0mNLR\u001b[0m\u001b[0;34m(\u001b[0m\u001b[0mutils\u001b[0m\u001b[0;34m.\u001b[0m\u001b[0mcommon\u001b[0m\u001b[0;34m.\u001b[0m\u001b[0mmovie_lens\u001b[0m\u001b[0;34m[\u001b[0m\u001b[0;34m'user'\u001b[0m\u001b[0;34m]\u001b[0m\u001b[0;34m,\u001b[0m \u001b[0mutils\u001b[0m\u001b[0;34m.\u001b[0m\u001b[0mcommon\u001b[0m\u001b[0;34m.\u001b[0m\u001b[0mmovie_lens\u001b[0m\u001b[0;34m[\u001b[0m\u001b[0;34m'dimensions'\u001b[0m\u001b[0;34m]\u001b[0m\u001b[0;34m,\u001b[0m \u001b[0mepochs\u001b[0m\u001b[0;34m=\u001b[0m\u001b[0;36m1\u001b[0m\u001b[0;34m,\u001b[0m \u001b[0mconstraints\u001b[0m\u001b[0;34m=\u001b[0m\u001b[0mconstraints\u001b[0m\u001b[0;34m,\u001b[0m \u001b[0mmode\u001b[0m\u001b[0;34m=\u001b[0m\u001b[0;34m'ae'\u001b[0m\u001b[0;34m,\u001b[0m \u001b[0mname\u001b[0m\u001b[0;34m=\u001b[0m\u001b[0;34m'comparison_ML'\u001b[0m\u001b[0;34m)\u001b[0m\u001b[0;34m\u001b[0m\u001b[0m\n\u001b[0;32m----> 2\u001b[0;31m \u001b[0mtrain_and_evaluate\u001b[0m\u001b[0;34m(\u001b[0m\u001b[0mnlr_ml\u001b[0m\u001b[0;34m,\u001b[0m \u001b[0mutils\u001b[0m\u001b[0;34m.\u001b[0m\u001b[0mcommon\u001b[0m\u001b[0;34m.\u001b[0m\u001b[0mmovie_lens\u001b[0m\u001b[0;34m,\u001b[0m \u001b[0meval_ml\u001b[0m\u001b[0;34m)\u001b[0m\u001b[0;34m\u001b[0m\u001b[0m\n\u001b[0m\u001b[1;32m      3\u001b[0m \u001b[0mnlr_ml\u001b[0m\u001b[0;34m.\u001b[0m\u001b[0msave\u001b[0m\u001b[0;34m(\u001b[0m\u001b[0;34m'../saved_models/NLR'\u001b[0m\u001b[0;34m)\u001b[0m\u001b[0;34m\u001b[0m\u001b[0m\n",
      "\u001b[0;32m<ipython-input-3-4bb1c99691fb>\u001b[0m in \u001b[0;36mtrain_and_evaluate\u001b[0;34m(model, dataset, evaluation)\u001b[0m\n\u001b[1;32m      7\u001b[0m         \u001b[0mevals\u001b[0m\u001b[0;34m.\u001b[0m\u001b[0mappend\u001b[0m\u001b[0;34m(\u001b[0m\u001b[0mev_tmp\u001b[0m\u001b[0;34m)\u001b[0m\u001b[0;34m\u001b[0m\u001b[0m\n\u001b[1;32m      8\u001b[0m         \u001b[0mprint\u001b[0m\u001b[0;34m(\u001b[0m\u001b[0mev_tmp\u001b[0m\u001b[0;34m)\u001b[0m\u001b[0;34m\u001b[0m\u001b[0m\n\u001b[0;32m----> 9\u001b[0;31m     \u001b[0mpd\u001b[0m\u001b[0;34m.\u001b[0m\u001b[0mDataFrame\u001b[0m\u001b[0;34m(\u001b[0m\u001b[0mev_tmp\u001b[0m\u001b[0;34m)\u001b[0m\u001b[0;34m.\u001b[0m\u001b[0mto_csv\u001b[0m\u001b[0;34m(\u001b[0m\u001b[0;34m'../evals/Comp_'\u001b[0m \u001b[0;34m+\u001b[0m \u001b[0mmodel\u001b[0m\u001b[0;34m.\u001b[0m\u001b[0mget_name\u001b[0m\u001b[0;34m(\u001b[0m\u001b[0;34m)\u001b[0m \u001b[0;34m+\u001b[0m \u001b[0;34m'.csv'\u001b[0m\u001b[0;34m)\u001b[0m\u001b[0;34m\u001b[0m\u001b[0m\n\u001b[0m",
      "\u001b[0;32m~/anaconda3/envs/tensorflow_p36/lib/python3.6/site-packages/pandas/core/frame.py\u001b[0m in \u001b[0;36m__init__\u001b[0;34m(self, data, index, columns, dtype, copy)\u001b[0m\n\u001b[1;32m    390\u001b[0m                                  dtype=dtype, copy=copy)\n\u001b[1;32m    391\u001b[0m         \u001b[0;32melif\u001b[0m \u001b[0misinstance\u001b[0m\u001b[0;34m(\u001b[0m\u001b[0mdata\u001b[0m\u001b[0;34m,\u001b[0m \u001b[0mdict\u001b[0m\u001b[0;34m)\u001b[0m\u001b[0;34m:\u001b[0m\u001b[0;34m\u001b[0m\u001b[0m\n\u001b[0;32m--> 392\u001b[0;31m             \u001b[0mmgr\u001b[0m \u001b[0;34m=\u001b[0m \u001b[0minit_dict\u001b[0m\u001b[0;34m(\u001b[0m\u001b[0mdata\u001b[0m\u001b[0;34m,\u001b[0m \u001b[0mindex\u001b[0m\u001b[0;34m,\u001b[0m \u001b[0mcolumns\u001b[0m\u001b[0;34m,\u001b[0m \u001b[0mdtype\u001b[0m\u001b[0;34m=\u001b[0m\u001b[0mdtype\u001b[0m\u001b[0;34m)\u001b[0m\u001b[0;34m\u001b[0m\u001b[0m\n\u001b[0m\u001b[1;32m    393\u001b[0m         \u001b[0;32melif\u001b[0m \u001b[0misinstance\u001b[0m\u001b[0;34m(\u001b[0m\u001b[0mdata\u001b[0m\u001b[0;34m,\u001b[0m \u001b[0mma\u001b[0m\u001b[0;34m.\u001b[0m\u001b[0mMaskedArray\u001b[0m\u001b[0;34m)\u001b[0m\u001b[0;34m:\u001b[0m\u001b[0;34m\u001b[0m\u001b[0m\n\u001b[1;32m    394\u001b[0m             \u001b[0;32mimport\u001b[0m \u001b[0mnumpy\u001b[0m\u001b[0;34m.\u001b[0m\u001b[0mma\u001b[0m\u001b[0;34m.\u001b[0m\u001b[0mmrecords\u001b[0m \u001b[0;32mas\u001b[0m \u001b[0mmrecords\u001b[0m\u001b[0;34m\u001b[0m\u001b[0m\n",
      "\u001b[0;32m~/anaconda3/envs/tensorflow_p36/lib/python3.6/site-packages/pandas/core/internals/construction.py\u001b[0m in \u001b[0;36minit_dict\u001b[0;34m(data, index, columns, dtype)\u001b[0m\n\u001b[1;32m    210\u001b[0m         \u001b[0marrays\u001b[0m \u001b[0;34m=\u001b[0m \u001b[0;34m[\u001b[0m\u001b[0mdata\u001b[0m\u001b[0;34m[\u001b[0m\u001b[0mk\u001b[0m\u001b[0;34m]\u001b[0m \u001b[0;32mfor\u001b[0m \u001b[0mk\u001b[0m \u001b[0;32min\u001b[0m \u001b[0mkeys\u001b[0m\u001b[0;34m]\u001b[0m\u001b[0;34m\u001b[0m\u001b[0m\n\u001b[1;32m    211\u001b[0m \u001b[0;34m\u001b[0m\u001b[0m\n\u001b[0;32m--> 212\u001b[0;31m     \u001b[0;32mreturn\u001b[0m \u001b[0marrays_to_mgr\u001b[0m\u001b[0;34m(\u001b[0m\u001b[0marrays\u001b[0m\u001b[0;34m,\u001b[0m \u001b[0mdata_names\u001b[0m\u001b[0;34m,\u001b[0m \u001b[0mindex\u001b[0m\u001b[0;34m,\u001b[0m \u001b[0mcolumns\u001b[0m\u001b[0;34m,\u001b[0m \u001b[0mdtype\u001b[0m\u001b[0;34m=\u001b[0m\u001b[0mdtype\u001b[0m\u001b[0;34m)\u001b[0m\u001b[0;34m\u001b[0m\u001b[0m\n\u001b[0m\u001b[1;32m    213\u001b[0m \u001b[0;34m\u001b[0m\u001b[0m\n\u001b[1;32m    214\u001b[0m \u001b[0;34m\u001b[0m\u001b[0m\n",
      "\u001b[0;32m~/anaconda3/envs/tensorflow_p36/lib/python3.6/site-packages/pandas/core/internals/construction.py\u001b[0m in \u001b[0;36marrays_to_mgr\u001b[0;34m(arrays, arr_names, index, columns, dtype)\u001b[0m\n\u001b[1;32m     49\u001b[0m     \u001b[0;31m# figure out the index, if necessary\u001b[0m\u001b[0;34m\u001b[0m\u001b[0;34m\u001b[0m\u001b[0m\n\u001b[1;32m     50\u001b[0m     \u001b[0;32mif\u001b[0m \u001b[0mindex\u001b[0m \u001b[0;32mis\u001b[0m \u001b[0;32mNone\u001b[0m\u001b[0;34m:\u001b[0m\u001b[0;34m\u001b[0m\u001b[0m\n\u001b[0;32m---> 51\u001b[0;31m         \u001b[0mindex\u001b[0m \u001b[0;34m=\u001b[0m \u001b[0mextract_index\u001b[0m\u001b[0;34m(\u001b[0m\u001b[0marrays\u001b[0m\u001b[0;34m)\u001b[0m\u001b[0;34m\u001b[0m\u001b[0m\n\u001b[0m\u001b[1;32m     52\u001b[0m     \u001b[0;32melse\u001b[0m\u001b[0;34m:\u001b[0m\u001b[0;34m\u001b[0m\u001b[0m\n\u001b[1;32m     53\u001b[0m         \u001b[0mindex\u001b[0m \u001b[0;34m=\u001b[0m \u001b[0mensure_index\u001b[0m\u001b[0;34m(\u001b[0m\u001b[0mindex\u001b[0m\u001b[0;34m)\u001b[0m\u001b[0;34m\u001b[0m\u001b[0m\n",
      "\u001b[0;32m~/anaconda3/envs/tensorflow_p36/lib/python3.6/site-packages/pandas/core/internals/construction.py\u001b[0m in \u001b[0;36mextract_index\u001b[0;34m(data)\u001b[0m\n\u001b[1;32m    306\u001b[0m \u001b[0;34m\u001b[0m\u001b[0m\n\u001b[1;32m    307\u001b[0m         \u001b[0;32mif\u001b[0m \u001b[0;32mnot\u001b[0m \u001b[0mindexes\u001b[0m \u001b[0;32mand\u001b[0m \u001b[0;32mnot\u001b[0m \u001b[0mraw_lengths\u001b[0m\u001b[0;34m:\u001b[0m\u001b[0;34m\u001b[0m\u001b[0m\n\u001b[0;32m--> 308\u001b[0;31m             raise ValueError('If using all scalar values, you must pass'\n\u001b[0m\u001b[1;32m    309\u001b[0m                              ' an index')\n\u001b[1;32m    310\u001b[0m \u001b[0;34m\u001b[0m\u001b[0m\n",
      "\u001b[0;31mValueError\u001b[0m: If using all scalar values, you must pass an index"
     ]
    }
   ],
   "source": [
    "nlr_ml = models.NeuralLogicRec.NLR(utils.common.movie_lens['user'], utils.common.movie_lens['dimensions'], epochs=1, constraints=constraints, mode='ae', name='comparison_ML')\n",
    "train_and_evaluate(nlr_ml, utils.common.movie_lens, eval_ml)\n",
    "nlr_ml.save('../saved_models/NLR')"
   ]
  },
  {
   "cell_type": "code",
   "execution_count": 16,
   "metadata": {
    "scrolled": true
   },
   "outputs": [
    {
     "name": "stdout",
     "output_type": "stream",
     "text": [
      "4327/4327 [==============================] - 88s 20ms/step - loss: 0.1797 - accuracy: 0.0102\n",
      "{'accuracy': 0.8230827624172755, 'precision@5': 0.22994769759701547, 'recall@5': 0.10114069222006004, 'map@1': 0.29113785157821587, 'map@5': 0.17090637179002635, 'map@10': 0.14183405426449297, 'diversity@5': 0.11497341537020579, 'diversity@10': 0.12410851656694785, 'epc@5': 0.7468427317948263, 'epc@10': 0.7620802467038587, 'epd@5': 0.14900602942368313, 'coverage@1': 0.03188517483864753, 'coverage@5': 0.06627492534437915, 'coverage@10': 0.0947885560157981, 'name': 'ConstraintAutoRec_ML_pretrain', 'dimensions': 10381, 'latent_dims': 32, 'accuracy_weight': 1.0, 'novelty_weight': 0.75, 'diversity_weight': 0.75, 'epochs': 1, 'batch_size': 32, 'optimizer': 'adam'}\n",
      "4327/4327 [==============================] - 87s 20ms/step - loss: 0.1724 - accuracy: 0.0163\n",
      "{'accuracy': 0.8277965239951341, 'precision@5': 0.23548516879411874, 'recall@5': 0.10485083003383228, 'map@1': 0.29538056398814966, 'map@5': 0.1747956162702331, 'map@10': 0.14593243172653608, 'diversity@5': 0.11728141208296894, 'diversity@10': 0.12619762320722797, 'epc@5': 0.7586469852633382, 'epc@10': 0.7736690906374856, 'epd@5': 0.1489849384393361, 'coverage@1': 0.04305943550717657, 'coverage@5': 0.0856372218476062, 'coverage@10': 0.11819670551969945, 'name': 'ConstraintAutoRec_ML_pretrain', 'dimensions': 10381, 'latent_dims': 32, 'accuracy_weight': 1.0, 'novelty_weight': 0.75, 'diversity_weight': 0.75, 'epochs': 1, 'batch_size': 32, 'optimizer': 'adam'}\n",
      "4327/4327 [==============================] - 86s 20ms/step - loss: 0.1705 - accuracy: 0.0163\n",
      "{'accuracy': 0.8272329319527445, 'precision@5': 0.23402947953622769, 'recall@5': 0.10429329126115588, 'map@1': 0.2952708386672031, 'map@5': 0.17309916121087987, 'map@10': 0.14456077731902697, 'diversity@5': 0.11813357992918563, 'diversity@10': 0.12707493965845515, 'epc@5': 0.7662677118891156, 'epc@10': 0.7798567998380342, 'epd@5': 0.14932752570951827, 'coverage@1': 0.051536460841922746, 'coverage@5': 0.09873807918312301, 'coverage@10': 0.1367883633561314, 'name': 'ConstraintAutoRec_ML_pretrain', 'dimensions': 10381, 'latent_dims': 32, 'accuracy_weight': 1.0, 'novelty_weight': 0.75, 'diversity_weight': 0.75, 'epochs': 1, 'batch_size': 32, 'optimizer': 'adam'}\n",
      "4327/4327 [==============================] - 87s 20ms/step - loss: 0.1693 - accuracy: 0.0175\n",
      "{'accuracy': 0.8338099965757185, 'precision@5': 0.23611426063421237, 'recall@5': 0.10620990655623656, 'map@1': 0.30002560257488753, 'map@5': 0.17568164823687663, 'map@10': 0.1463298277109266, 'diversity@5': 0.12018205021929404, 'diversity@10': 0.12841903655233655, 'epc@5': 0.7753527894313332, 'epc@10': 0.7890333473880549, 'epd@5': 0.1501124207999746, 'coverage@1': 0.05712359117618727, 'coverage@5': 0.1128985646854831, 'coverage@10': 0.1541277333590213, 'name': 'ConstraintAutoRec_ML_pretrain', 'dimensions': 10381, 'latent_dims': 32, 'accuracy_weight': 1.0, 'novelty_weight': 0.75, 'diversity_weight': 0.75, 'epochs': 1, 'batch_size': 32, 'optimizer': 'adam'}\n",
      "4327/4327 [==============================] - 87s 20ms/step - loss: 0.1684 - accuracy: 0.0171\n",
      "{'accuracy': 0.8324324794788114, 'precision@5': 0.24156395157455837, 'recall@5': 0.10766890471599887, 'map@1': 0.30781610036209356, 'map@5': 0.18101888088300436, 'map@10': 0.1513068800105374, 'diversity@5': 0.11792182337353732, 'diversity@10': 0.1270802325230395, 'epc@5': 0.75808492663373, 'epc@10': 0.7727151666042379, 'epd@5': 0.14943820265431565, 'coverage@1': 0.053270397842211735, 'coverage@5': 0.10837106251806185, 'coverage@10': 0.14545804835757634, 'name': 'ConstraintAutoRec_ML_pretrain', 'dimensions': 10381, 'latent_dims': 32, 'accuracy_weight': 1.0, 'novelty_weight': 0.75, 'diversity_weight': 0.75, 'epochs': 1, 'batch_size': 32, 'optimizer': 'adam'}\n",
      "4327/4327 [==============================] - 86s 20ms/step - loss: 0.1679 - accuracy: 0.0173\n",
      "{'accuracy': 0.8300655428158416, 'precision@5': 0.23997659193153142, 'recall@5': 0.10664555775476973, 'map@1': 0.3052192677663582, 'map@5': 0.17960503964335206, 'map@10': 0.1502050582359285, 'diversity@5': 0.11811496780057114, 'diversity@10': 0.12708219216081673, 'epc@5': 0.7607260053245128, 'epc@10': 0.7758089705162968, 'epd@5': 0.14960869839485755, 'coverage@1': 0.05866486850977748, 'coverage@5': 0.11704074751950679, 'coverage@10': 0.1563433195260572, 'name': 'ConstraintAutoRec_ML_pretrain', 'dimensions': 10381, 'latent_dims': 32, 'accuracy_weight': 1.0, 'novelty_weight': 0.75, 'diversity_weight': 0.75, 'epochs': 1, 'batch_size': 32, 'optimizer': 'adam'}\n",
      "4327/4327 [==============================] - 87s 20ms/step - loss: 0.1673 - accuracy: 0.0177\n",
      "{'accuracy': 0.8324825047139257, 'precision@5': 0.2396766760542775, 'recall@5': 0.10764092652708121, 'map@1': 0.3041220145568926, 'map@5': 0.17918208917011083, 'map@10': 0.14986392617448738, 'diversity@5': 0.11889655471393061, 'diversity@10': 0.12788873015336466, 'epc@5': 0.7665318488711999, 'epc@10': 0.7817242376186339, 'epd@5': 0.14977310058613053, 'coverage@1': 0.058857528176476256, 'coverage@5': 0.11598111935266352, 'coverage@10': 0.16087082169347847, 'name': 'ConstraintAutoRec_ML_pretrain', 'dimensions': 10381, 'latent_dims': 32, 'accuracy_weight': 1.0, 'novelty_weight': 0.75, 'diversity_weight': 0.75, 'epochs': 1, 'batch_size': 32, 'optimizer': 'adam'}\n",
      "4327/4327 [==============================] - 87s 20ms/step - loss: 0.1671 - accuracy: 0.0192\n",
      "{'accuracy': 0.8347187775768536, 'precision@5': 0.24095680479865406, 'recall@5': 0.10824849698138791, 'map@1': 0.3044877656267145, 'map@5': 0.17930569271220675, 'map@10': 0.14982969164051646, 'diversity@5': 0.11802113793490648, 'diversity@10': 0.12698167593197554, 'epc@5': 0.7676480229211154, 'epc@10': 0.7817485983782169, 'epd@5': 0.14938397008554416, 'coverage@1': 0.05799055967633176, 'coverage@5': 0.11309122435218187, 'coverage@10': 0.153068105192178, 'name': 'ConstraintAutoRec_ML_pretrain', 'dimensions': 10381, 'latent_dims': 32, 'accuracy_weight': 1.0, 'novelty_weight': 0.75, 'diversity_weight': 0.75, 'epochs': 1, 'batch_size': 32, 'optimizer': 'adam'}\n",
      "4327/4327 [==============================] - 86s 20ms/step - loss: 0.1667 - accuracy: 0.0173\n",
      "{'accuracy': 0.8358710658418547, 'precision@5': 0.24071540909257164, 'recall@5': 0.10770390030213049, 'map@1': 0.30265901027760506, 'map@5': 0.17919128374561608, 'map@10': 0.15000779794366434, 'diversity@5': 0.11919674814699445, 'diversity@10': 0.127791042976267, 'epc@5': 0.7636029118711752, 'epc@10': 0.7776845576317666, 'epd@5': 0.14965410592480524, 'coverage@1': 0.058857528176476256, 'coverage@5': 0.11097196801849533, 'coverage@10': 0.15191214719198537, 'name': 'ConstraintAutoRec_ML_pretrain', 'dimensions': 10381, 'latent_dims': 32, 'accuracy_weight': 1.0, 'novelty_weight': 0.75, 'diversity_weight': 0.75, 'epochs': 1, 'batch_size': 32, 'optimizer': 'adam'}\n",
      "4327/4327 [==============================] - 87s 20ms/step - loss: 0.1665 - accuracy: 0.0180\n",
      "{'accuracy': 0.8342221500961379, 'precision@5': 0.24250027431330237, 'recall@5': 0.10828370981227792, 'map@1': 0.30514611755239385, 'map@5': 0.18110963794707993, 'map@10': 0.15084067264828627, 'diversity@5': 0.1188510068483764, 'diversity@10': 0.12771585976668334, 'epc@5': 0.7667926274164764, 'epc@10': 0.781435029385018, 'epd@5': 0.1496517571084377, 'coverage@1': 0.06444465851074077, 'coverage@5': 0.1219535690203256, 'coverage@10': 0.16838454869473077, 'name': 'ConstraintAutoRec_ML_pretrain', 'dimensions': 10381, 'latent_dims': 32, 'accuracy_weight': 1.0, 'novelty_weight': 0.75, 'diversity_weight': 0.75, 'epochs': 1, 'batch_size': 32, 'optimizer': 'adam'}\n",
      "4327/4327 [==============================] - 87s 20ms/step - loss: 0.1663 - accuracy: 0.0170\n",
      "{'accuracy': 0.8350710003509854, 'precision@5': 0.24217841337185914, 'recall@5': 0.10785654020825539, 'map@1': 0.3062067956548773, 'map@5': 0.18133485932807467, 'map@10': 0.15182593873066907, 'diversity@5': 0.12015492152461128, 'diversity@10': 0.12868130476468445, 'epc@5': 0.770702533001627, 'epc@10': 0.7847883911716682, 'epd@5': 0.15000597020098616, 'coverage@1': 0.0626143916771024, 'coverage@5': 0.12050862152008478, 'coverage@10': 0.16212310952702053, 'name': 'ConstraintAutoRec_ML_pretrain', 'dimensions': 10381, 'latent_dims': 32, 'accuracy_weight': 1.0, 'novelty_weight': 0.75, 'diversity_weight': 0.75, 'epochs': 1, 'batch_size': 32, 'optimizer': 'adam'}\n",
      "4327/4327 [==============================] - 88s 20ms/step - loss: 0.1660 - accuracy: 0.0169\n",
      "{'accuracy': 0.8335837201405161, 'precision@5': 0.24425587944844743, 'recall@5': 0.1098599309803694, 'map@1': 0.30876705314363045, 'map@5': 0.18299709634289568, 'map@10': 0.15312095466784112, 'diversity@5': 0.11839344646049536, 'diversity@10': 0.12715436139958375, 'epc@5': 0.7606857428234762, 'epc@10': 0.7753274354951187, 'epd@5': 0.1494105721519911, 'coverage@1': 0.05856853867642809, 'coverage@5': 0.11280223485213371, 'coverage@10': 0.15297177535882864, 'name': 'ConstraintAutoRec_ML_pretrain', 'dimensions': 10381, 'latent_dims': 32, 'accuracy_weight': 1.0, 'novelty_weight': 0.75, 'diversity_weight': 0.75, 'epochs': 1, 'batch_size': 32, 'optimizer': 'adam'}\n"
     ]
    }
   ],
   "source": [
    "car_ml = models.ConstraintAutoRec.ConstraintAutoRec(utils.common.movie_lens['dimensions'], epochs=1, novelty_weight=0.75, diversity_weight=0.75, name='ConstraintAutoRec_ML_pretrain')\n",
    "train_and_evaluate(car_ml, utils.common.movie_lens, eval_ml)\n",
    "car_ml.save('../saved_models')"
   ]
  },
  {
   "cell_type": "code",
   "execution_count": 23,
   "metadata": {},
   "outputs": [
    {
     "name": "stdout",
     "output_type": "stream",
     "text": [
      "Epoch #0 Loss at step 6380: 0.6931\n",
      "{'accuracy': 0.13927232722481883, 'precision@5': 0.0010826231666727626, 'recall@5': 0.000293141763231371, 'map@1': 0.0001828755349109396, 'map@5': 0.00035227923875010665, 'map@10': 0.0002485262623229152, 'diversity@5': 0.1947398687859497, 'diversity@10': 0.17174180196912026, 'epc@5': 0.9947901308589702, 'epc@10': 0.9951814453668391, 'epd@5': 0.19648981028177348, 'coverage@1': 0.0027935651671322607, 'coverage@5': 0.013775166168962528, 'coverage@10': 0.02157788267026298, 'name': 'BPR', 'latent_dim': 128, 'epochs': 1, 'batch_size': 2048}\n",
      "Epoch #0 Loss at step 6380: 0.6931\n",
      "{'accuracy': 0.13927232722481883, 'precision@5': 0.0010387330382941372, 'recall@5': 0.00020377206561487905, 'map@1': 0.00025602574887531544, 'map@5': 0.0003923899394072395, 'map@10': 0.0002466990965948575, 'diversity@5': 0.19518281259173512, 'diversity@10': 0.1717969480559117, 'epc@5': 0.9935863801850202, 'epc@10': 0.9945293339671298, 'epd@5': 0.19626259059960452, 'coverage@1': 0.0029862248338310376, 'coverage@5': 0.011752239668625373, 'coverage@10': 0.014353145169058858, 'name': 'BPR', 'latent_dim': 128, 'epochs': 1, 'batch_size': 2048}\n",
      "Epoch #0 Loss at step 6380: 0.6931\n",
      "{'accuracy': 0.13927232722481883, 'precision@5': 0.0006949270326615706, 'recall@5': 0.00013350624326206867, 'map@1': 0.0005852017117150067, 'map@5': 0.0003083891103714812, 'map@10': 0.00020190329890048262, 'diversity@5': 0.19435737664863334, 'diversity@10': 0.17137415605562636, 'epc@5': 0.9949315095340272, 'epc@10': 0.9955256467410583, 'epd@5': 0.19587779493790028, 'coverage@1': 0.013967825835661304, 'coverage@5': 0.04267411617377902, 'coverage@10': 0.052596089008766014, 'name': 'BPR', 'latent_dim': 128, 'epochs': 1, 'batch_size': 2048}\n",
      "Epoch #0 Loss at step 6380: 0.6931\n",
      "{'accuracy': 0.13927232722481883, 'precision@5': 0.000526681540543506, 'recall@5': 8.906192417593362e-05, 'map@1': 0.00021945064189312754, 'map@5': 0.00020341855333260182, 'map@10': 0.00013854998859204998, 'diversity@5': 0.1941553196305716, 'diversity@10': 0.17118323045733197, 'epc@5': 0.9957046305754794, 'epc@10': 0.9962667120944652, 'epd@5': 0.19615541773176726, 'coverage@1': 0.005490800500915134, 'coverage@5': 0.017339370002889896, 'coverage@10': 0.022444851170407475, 'name': 'BPR', 'latent_dim': 128, 'epochs': 1, 'batch_size': 2048}\n",
      "Epoch #0 Loss at step 6380: 0.6931\n",
      "{'accuracy': 0.13927232722481883, 'precision@5': 0.002384696975238653, 'recall@5': 0.0007376919398240661, 'map@1': 0.0007315021396437584, 'map@5': 0.0010700047547639077, 'map@10': 0.0008160930636595128, 'diversity@5': 0.19423515853047857, 'diversity@10': 0.17156353515886866, 'epc@5': 0.9902867563128036, 'epc@10': 0.990493337632774, 'epd@5': 0.19600949660316003, 'coverage@1': 0.0017339370002889896, 'coverage@5': 0.008188035834698007, 'coverage@10': 0.013967825835661304, 'name': 'BPR', 'latent_dim': 128, 'epochs': 1, 'batch_size': 2048}\n",
      "Epoch #0 Loss at step 6380: 0.6931\n",
      "{'accuracy': 0.13927232722481883, 'precision@5': 0.0020701510551918365, 'recall@5': 0.0006408041217256844, 'map@1': 0.0029625836655572217, 'map@5': 0.0012786860596011689, 'map@10': 0.0008852004796435017, 'diversity@5': 0.19460477086340575, 'diversity@10': 0.17192023938784584, 'epc@5': 0.9896131362452292, 'epc@10': 0.9910532299629986, 'epd@5': 0.19630404875268154, 'coverage@1': 0.005876119834312687, 'coverage@5': 0.02610538483768423, 'coverage@10': 0.037761294672960216, 'name': 'BPR', 'latent_dim': 128, 'epochs': 1, 'batch_size': 2048}\n",
      "Epoch #0 Loss at step 6380: 0.6931\n",
      "{'accuracy': 0.13927232722481883, 'precision@5': 0.000863172524779635, 'recall@5': 0.00014962038390861098, 'map@1': 0.0004389012837862551, 'map@5': 0.00038312424563841855, 'map@10': 0.00027192721205376196, 'diversity@5': 0.19537890539371808, 'diversity@10': 0.1721060621330605, 'epc@5': 0.9942281672364158, 'epc@10': 0.9947934031315973, 'epd@5': 0.19669213460313856, 'coverage@1': 0.005298140834216356, 'coverage@5': 0.016376071669396013, 'coverage@10': 0.024756767170792796, 'name': 'BPR', 'latent_dim': 128, 'epochs': 1, 'batch_size': 2048}\n",
      "Epoch #0 Loss at step 6380: 0.6931\n",
      "{'accuracy': 0.13927232722481883, 'precision@5': 0.0013605939797373908, 'recall@5': 0.00036943622153531955, 'map@1': 0.00193848067005596, 'map@5': 0.0008005376540726381, 'map@10': 0.0005363812008594569, 'diversity@5': 0.19539313898752347, 'diversity@10': 0.17243216996605917, 'epc@5': 0.9911638691176715, 'epc@10': 0.9928316347301357, 'epd@5': 0.1964721206452961, 'coverage@1': 0.004720161834120027, 'coverage@5': 0.010692611501782101, 'coverage@10': 0.012426548502071092, 'name': 'BPR', 'latent_dim': 128, 'epochs': 1, 'batch_size': 2048}\n",
      "Epoch #0 Loss at step 6380: 0.6931\n",
      "{'accuracy': 0.13927232722481883, 'precision@5': 0.0016166197286127063, 'recall@5': 0.0003643255690863999, 'map@1': 0.0016458798141984565, 'map@5': 0.0008661290125940285, 'map@10': 0.000596848778768789, 'diversity@5': 0.19457444161733858, 'diversity@10': 0.17161993422068236, 'epc@5': 0.9906482098434382, 'epc@10': 0.9915424330787126, 'epd@5': 0.19597245261247295, 'coverage@1': 0.003756863500626144, 'coverage@5': 0.01599075233599846, 'coverage@10': 0.02283017050380503, 'name': 'BPR', 'latent_dim': 128, 'epochs': 1, 'batch_size': 2048}\n",
      "Epoch #0 Loss at step 6380: 0.6931\n",
      "{'accuracy': 0.13927232722481883, 'precision@5': 0.0010021579313119493, 'recall@5': 0.00018025968793256223, 'map@1': 0.0006217768186971947, 'map@5': 0.0004446313838801312, 'map@10': 0.00032966169574194157, 'diversity@5': 0.19450039702158997, 'diversity@10': 0.17119698715646697, 'epc@5': 0.9938229232264575, 'epc@10': 0.9941982474774635, 'epd@5': 0.19605917182129778, 'coverage@1': 0.00510548116751758, 'coverage@5': 0.016954050669492342, 'coverage@10': 0.03159618533859936, 'name': 'BPR', 'latent_dim': 128, 'epochs': 1, 'batch_size': 2048}\n",
      "Epoch #0 Loss at step 6380: 0.6931\n",
      "{'accuracy': 0.13927232722481883, 'precision@5': 0.0006217768186971947, 'recall@5': 0.00011125106823277404, 'map@1': 0.00014630042792875168, 'map@5': 0.0002269485388244761, 'map@10': 0.0001736530604043375, 'diversity@5': 0.19447666455962412, 'diversity@10': 0.1714437651912507, 'epc@5': 0.9954257108328082, 'epc@10': 0.99555901733316, 'epd@5': 0.19597165309065037, 'coverage@1': 0.007417397167902899, 'coverage@5': 0.015123783835853964, 'coverage@10': 0.016376071669396013, 'name': 'BPR', 'latent_dim': 128, 'epochs': 1, 'batch_size': 2048}\n",
      "Epoch #0 Loss at step 6380: 0.6931\n",
      "{'accuracy': 0.13927232722481883, 'precision@5': 0.001250868658790827, 'recall@5': 0.00022681484200375512, 'map@1': 0.00040232617680406715, 'map@5': 0.0004947189609418496, 'map@10': 0.00035552128816365675, 'diversity@5': 0.19532442787283352, 'diversity@10': 0.17191711563530526, 'epc@5': 0.9929369461026772, 'epc@10': 0.993382819850075, 'epd@5': 0.19659887897397388, 'coverage@1': 0.0045275021674212506, 'coverage@5': 0.018880647336480108, 'coverage@10': 0.03564203833927367, 'name': 'BPR', 'latent_dim': 128, 'epochs': 1, 'batch_size': 2048}\n"
     ]
    }
   ],
   "source": [
    "bpr_ml = models.BPR.BPR(utils.common.movie_lens['user'], utils.common.movie_lens['dimensions'], epochs=1, batch_size=2048)\n",
    "train_and_evaluate(bpr_ml, utils.common.movie_lens, eval_ml)\n",
    "bpr_ml.save('../saved_models')"
   ]
  },
  {
   "cell_type": "code",
   "execution_count": 11,
   "metadata": {},
   "outputs": [
    {
     "name": "stdout",
     "output_type": "stream",
     "text": [
      "Epoch #0 Loss at step 6380: 1445.9629\n",
      "{'accuracy': 0.1405070228874698, 'precision@5': 0.023122782634139208, 'recall@5': 0.006369372858797354, 'map@1': 0.027211879594747815, 'map@5': 0.012752429196688734, 'map@10': 0.009017483720137897, 'diversity@5': 0.17072716962032697, 'diversity@10': 0.17274620463220028, 'epc@5': 0.8849541284035927, 'epc@10': 0.8928357895335679, 'epd@5': 0.17449855518332602, 'coverage@1': 0.17637992486273, 'coverage@5': 0.35690203255948366, 'coverage@10': 0.5003371544167229, 'name': 'BPR_comparison_ml', 'latent_dim': 40, 'epochs': 1, 'batch_size': 2048}\n",
      "Epoch #0 Loss at step 6380: 1380.0099\n",
      "{'accuracy': 0.5994031876218591, 'precision@5': 0.13507187008522, 'recall@5': 0.05085723744058807, 'map@1': 0.17157382685344355, 'map@5': 0.09327157220129316, 'map@10': 0.0730880774168306, 'diversity@5': 0.11860636120421603, 'diversity@10': 0.11831931334612697, 'epc@5': 0.5730526945444887, 'epc@10': 0.6021639629366432, 'epd@5': 0.15969999853138087, 'coverage@1': 0.014738464502456411, 'coverage@5': 0.04970619400828437, 'coverage@10': 0.08438493401406416, 'name': 'BPR_comparison_ml', 'latent_dim': 40, 'epochs': 1, 'batch_size': 2048}\n",
      "Epoch #0 Loss at step 6380: 827.92908\n",
      "{'accuracy': 0.7850690982991884, 'precision@5': 0.1338210014264292, 'recall@5': 0.04945504303208972, 'map@1': 0.17047657364397792, 'map@5': 0.092556925090117, 'map@10': 0.07206944358743134, 'diversity@5': 0.12369789234943368, 'diversity@10': 0.12321748342809324, 'epc@5': 0.5646246012167611, 'epc@10': 0.5949290815858086, 'epd@5': 0.1597371357030594, 'coverage@1': 0.004720161834120027, 'coverage@5': 0.010981601001830267, 'coverage@10': 0.01984394566997399, 'name': 'BPR_comparison_ml', 'latent_dim': 40, 'epochs': 1, 'batch_size': 2048}\n",
      "Epoch #0 Loss at step 6380: 757.49469\n",
      "{'accuracy': 0.7969922663021242, 'precision@5': 0.1352840057057167, 'recall@5': 0.05028406047488476, 'map@1': 0.1738780585933214, 'map@5': 0.09389790058885922, 'map@10': 0.073061792675651, 'diversity@5': 0.12364604403270503, 'diversity@10': 0.12326615550661568, 'epc@5': 0.5660674593049109, 'epc@10': 0.5959330661898835, 'epd@5': 0.15950271945728944, 'coverage@1': 0.004142182834023697, 'coverage@5': 0.010885271168480879, 'coverage@10': 0.018495328003082553, 'name': 'BPR_comparison_ml', 'latent_dim': 40, 'epochs': 1, 'batch_size': 2048}\n",
      "Epoch #0 Loss at step 6380: 674.73118\n",
      "{'accuracy': 0.795288853995136, 'precision@5': 0.13619106835887496, 'recall@5': 0.049351187336579665, 'map@1': 0.173219706667642, 'map@5': 0.09450255822553838, 'map@10': 0.07414500571268338, 'diversity@5': 0.1251489716837289, 'diversity@10': 0.12394223317437002, 'epc@5': 0.5675193435203528, 'epc@10': 0.5978559115557565, 'epd@5': 0.15903815348479267, 'coverage@1': 0.004334842500722474, 'coverage@5': 0.012811867835468645, 'coverage@10': 0.02215586167035931, 'name': 'BPR_comparison_ml', 'latent_dim': 40, 'epochs': 1, 'batch_size': 2048}\n",
      "Epoch #0 Loss at step 6380: 1465.7135\n",
      "{'accuracy': 0.796827913588952, 'precision@5': 0.1406898065176841, 'recall@5': 0.05273801482565186, 'map@1': 0.17760871950550455, 'map@5': 0.09725089304219549, 'map@10': 0.07599977234783499, 'diversity@5': 0.12115617059938341, 'diversity@10': 0.12259215673071315, 'epc@5': 0.5674305700687923, 'epc@10': 0.5970511624044874, 'epd@5': 0.1607824604721528, 'coverage@1': 0.004816491667469416, 'coverage@5': 0.014160485502360081, 'coverage@10': 0.02446777767074463, 'name': 'BPR_comparison_ml', 'latent_dim': 40, 'epochs': 1, 'batch_size': 2048}\n",
      "Epoch #0 Loss at step 6380: 644.55766\n",
      "{'accuracy': 0.7988302462832099, 'precision@5': 0.1444277824512637, 'recall@5': 0.05436672076173336, 'map@1': 0.17892542335686332, 'map@5': 0.1000481775436971, 'map@10': 0.07880343677038985, 'diversity@5': 0.12267378639056854, 'diversity@10': 0.12345891515454506, 'epc@5': 0.5677933408351927, 'epc@10': 0.5981254473061214, 'epd@5': 0.160378274907712, 'coverage@1': 0.005394470667565745, 'coverage@5': 0.017339370002889896, 'coverage@10': 0.028802620171467102, 'name': 'BPR_comparison_ml', 'latent_dim': 40, 'epochs': 1, 'batch_size': 2048}\n",
      "Epoch #0 Loss at step 6380: 846.76759\n",
      "{'accuracy': 0.8032047119246559, 'precision@5': 0.14619070260780515, 'recall@5': 0.05423970736643401, 'map@1': 0.18368018726454774, 'map@5': 0.10185083249007391, 'map@10': 0.08061555581367315, 'diversity@5': 0.12304197985151785, 'diversity@10': 0.12468159698260108, 'epc@5': 0.5705117485378721, 'epc@10': 0.6002517855942493, 'epd@5': 0.15857301003797408, 'coverage@1': 0.00568346016761391, 'coverage@5': 0.015412773335902128, 'coverage@10': 0.024949426837491573, 'name': 'BPR_comparison_ml', 'latent_dim': 40, 'epochs': 1, 'batch_size': 2048}\n",
      "Epoch #0 Loss at step 6380: 1469.4673\n",
      "{'accuracy': 0.8046750188474326, 'precision@5': 0.15036757982517102, 'recall@5': 0.0561823407393313, 'map@1': 0.18305841044585056, 'map@5': 0.1043069118824395, 'map@10': 0.08289381652063026, 'diversity@5': 0.12228284407431869, 'diversity@10': 0.12411406420705234, 'epc@5': 0.5740887541693486, 'epc@10': 0.6034085678858566, 'epd@5': 0.1571015108797304, 'coverage@1': 0.007128407667854735, 'coverage@5': 0.020710914170118486, 'coverage@10': 0.03227049417204508, 'name': 'BPR_comparison_ml', 'latent_dim': 40, 'epochs': 1, 'batch_size': 2048}\n",
      "Epoch #0 Loss at step 6380: 689.82601\n",
      "{'accuracy': 0.8056770093585911, 'precision@5': 0.15309608280604223, 'recall@5': 0.057045379171994794, 'map@1': 0.1898613803445375, 'map@5': 0.10716145674587212, 'map@10': 0.0854435593745441, 'diversity@5': 0.12319377622364565, 'diversity@10': 0.12539362724165454, 'epc@5': 0.576706738812669, 'epc@10': 0.6057552738289909, 'epd@5': 0.15846732575232417, 'coverage@1': 0.007610056834601676, 'coverage@5': 0.019073307003178885, 'coverage@10': 0.03005490800500915, 'name': 'BPR_comparison_ml', 'latent_dim': 40, 'epochs': 1, 'batch_size': 2048}\n",
      "Epoch #0 Loss at step 6380: 1299.9586\n",
      "{'accuracy': 0.8062302650576277, 'precision@5': 0.15421528107969718, 'recall@5': 0.05789316643764717, 'map@1': 0.18854467649317874, 'map@5': 0.1081129784735176, 'map@10': 0.0865537947542026, 'diversity@5': 0.12370544929066667, 'diversity@10': 0.12533600892474836, 'epc@5': 0.5786049298821264, 'epc@10': 0.6069624502552079, 'epd@5': 0.1596075068821733, 'coverage@1': 0.00789904633464984, 'coverage@5': 0.020614584336769097, 'coverage@10': 0.031499855505249974, 'name': 'BPR_comparison_ml', 'latent_dim': 40, 'epochs': 1, 'batch_size': 2048}\n",
      "Epoch #0 Loss at step 6380: 894.05510\n",
      "{'accuracy': 0.8076155896461101, 'precision@5': 0.1561318166855638, 'recall@5': 0.05884797770278817, 'map@1': 0.19128780951684285, 'map@5': 0.10928824841812664, 'map@10': 0.08737019010503928, 'diversity@5': 0.12308908673051064, 'diversity@10': 0.12610359724815315, 'epc@5': 0.5779497987541382, 'epc@10': 0.6073216234999923, 'epd@5': 0.15933072974630458, 'coverage@1': 0.00789904633464984, 'coverage@5': 0.020614584336769097, 'coverage@10': 0.03178884500529814, 'name': 'BPR_comparison_ml', 'latent_dim': 40, 'epochs': 1, 'batch_size': 2048}\n"
     ]
    }
   ],
   "source": [
    "bpr_ml = models.BPR.BPR(utils.common.movie_lens['user'], utils.common.movie_lens['dimensions'], epochs=1, batch_size=2048, latent_dim=40, name='comparison_ml')\n",
    "train_and_evaluate(bpr_ml, utils.common.movie_lens, eval_ml)\n",
    "bpr_ml.save('../saved_models')"
   ]
  },
  {
   "cell_type": "code",
   "execution_count": 15,
   "metadata": {},
   "outputs": [
    {
     "name": "stdout",
     "output_type": "stream",
     "text": [
      "Epoch 0, loss:  4085.379 |================================================================================>| 100.0% \n",
      "{'accuracy': 0.46593181858382865, 'precision@5': 0.0020043158626238985, 'recall@5': 0.0005310334096718402, 'map@1': 0.0021579313119490873, 'map@5': 0.0009683767561131228, 'map@10': 0.0007011750382055051, 'diversity@5': 0.19026801631619011, 'diversity@10': 0.19037210104623184, 'epc@5': 0.9868208759786438, 'epc@10': 0.98687266333382, 'epd@5': 0.1895811787103569, 'coverage@1': 0.5826028320971005, 'coverage@5': 0.8748675464791446, 'coverage@10': 0.9472112513245352, 'name': 'MatrixFactorizationcomparison_ml', 'latent_dim': 40, 'epochs': 1, 'batch_size': 2048}\n",
      "Epoch 0, loss:  3596.772 |================================================================================>| 100.0% \n",
      "{'accuracy': 0.46197927221291163, 'precision@5': 0.001960425734245273, 'recall@5': 0.0005247824529704393, 'map@1': 0.002304231739877839, 'map@5': 0.0009543156594288594, 'map@10': 0.0007030102269122772, 'diversity@5': 0.19029021353650138, 'diversity@10': 0.19035228620087907, 'epc@5': 0.9868490220589577, 'epc@10': 0.9868658978883588, 'epd@5': 0.18958638537066086, 'coverage@1': 0.5620845775936808, 'coverage@5': 0.8577208361429535, 'coverage@10': 0.9347847028224641, 'name': 'MatrixFactorizationcomparison_ml', 'latent_dim': 40, 'epochs': 1, 'batch_size': 2048}\n",
      "Epoch 0, loss:  3167.822 |================================================================================>| 100.0% \n",
      "{'accuracy': 0.45699109742235355, 'precision@5': 0.002018945905416773, 'recall@5': 0.0005565016917260128, 'map@1': 0.0021579313119490873, 'map@5': 0.0009461370591175647, 'map@10': 0.0006833992620601255, 'diversity@5': 0.19030007513544384, 'diversity@10': 0.1903321037471317, 'epc@5': 0.9869239824493947, 'epc@10': 0.986915848781288, 'epd@5': 0.18959929583688095, 'coverage@1': 0.5491763799248627, 'coverage@5': 0.8435603506405934, 'coverage@10': 0.924092091320682, 'name': 'MatrixFactorizationcomparison_ml', 'latent_dim': 40, 'epochs': 1, 'batch_size': 2048}\n",
      "Epoch 0, loss:  2790.083 |================================================================================>| 100.0% \n",
      "{'accuracy': 0.4511325387913585, 'precision@5': 0.0019823707984345856, 'recall@5': 0.0005553895473520054, 'map@1': 0.002267656632895651, 'map@5': 0.0009606756641429841, 'map@10': 0.0007014110105392429, 'diversity@5': 0.19023857319179963, 'diversity@10': 0.19027810560011182, 'epc@5': 0.9869415832807943, 'epc@10': 0.9869072778155598, 'epd@5': 0.18958362634124512, 'coverage@1': 0.5374241402562373, 'coverage@5': 0.8312301319718717, 'coverage@10': 0.9142664483190444, 'name': 'MatrixFactorizationcomparison_ml', 'latent_dim': 40, 'epochs': 1, 'batch_size': 2048}\n",
      "Epoch 0, loss:  2456.557 |================================================================================>| 100.0% \n",
      "{'accuracy': 0.44454497099233, 'precision@5': 0.00196774075564171, 'recall@5': 0.0005432210802062911, 'map@1': 0.0021213562049668994, 'map@5': 0.0009421442766053424, 'map@10': 0.0006863390703724687, 'diversity@5': 0.19019924771229904, 'diversity@10': 0.19026486438860787, 'epc@5': 0.9869927262336918, 'epc@10': 0.9869401945955444, 'epd@5': 0.1895799842287613, 'coverage@1': 0.5266351989211059, 'coverage@5': 0.8197668818032945, 'coverage@10': 0.9063674019843946, 'name': 'MatrixFactorizationcomparison_ml', 'latent_dim': 40, 'epochs': 1, 'batch_size': 2048}\n",
      "Epoch 0, loss:  2161.937 |================================================================================>| 100.0% \n",
      "{'accuracy': 0.4372130234937153, 'precision@5': 0.0019384806700559602, 'recall@5': 0.0005483998140247015, 'map@1': 0.002267656632895651, 'map@5': 0.0009611531724841406, 'map@10': 0.0006942545653617112, 'diversity@5': 0.19019313800458587, 'diversity@10': 0.1902646718301384, 'epc@5': 0.9869998797406235, 'epc@10': 0.9869657058642227, 'epd@5': 0.18959495755799396, 'coverage@1': 0.5168095559194683, 'coverage@5': 0.805510066467585, 'coverage@10': 0.8991426644831905, 'name': 'MatrixFactorizationcomparison_ml', 'latent_dim': 40, 'epochs': 1, 'batch_size': 2048}\n",
      "Epoch 0, loss:  1901.367 |================================================================================>| 100.0% \n",
      "{'accuracy': 0.42875860037148344, 'precision@5': 0.0018872755202808966, 'recall@5': 0.0005639528969941594, 'map@1': 0.002377381953842215, 'map@5': 0.0009625145792440332, 'map@10': 0.0006994745007689112, 'diversity@5': 0.1901323318454103, 'diversity@10': 0.19025618751601275, 'epc@5': 0.9869906616572823, 'epc@10': 0.9869736601069573, 'epd@5': 0.18958602362487695, 'coverage@1': 0.506598593584433, 'coverage@5': 0.7939504864656585, 'coverage@10': 0.8891243618148541, 'name': 'MatrixFactorizationcomparison_ml', 'latent_dim': 40, 'epochs': 1, 'batch_size': 2048}\n",
      "Epoch 0, loss:  1670.766 |================================================================================>| 100.0% \n",
      "{'accuracy': 0.4189908518288595, 'precision@5': 0.001901905563073772, 'recall@5': 0.0005717676604935347, 'map@1': 0.002377381953842215, 'map@5': 0.00096580633887243, 'map@10': 0.0006919207943158543, 'diversity@5': 0.19022200953283286, 'diversity@10': 0.1902586208041277, 'epc@5': 0.9870369011146317, 'epc@10': 0.9870087387306025, 'epd@5': 0.18958078422411828, 'coverage@1': 0.49773624891628937, 'coverage@5': 0.7849918119641653, 'coverage@10': 0.8787207398131202, 'name': 'MatrixFactorizationcomparison_ml', 'latent_dim': 40, 'epochs': 1, 'batch_size': 2048}\n",
      "Epoch 0, loss:  1466.652 |================================================================================>| 100.0% \n",
      "{'accuracy': 0.40720899575933034, 'precision@5': 0.001887275520280897, 'recall@5': 0.0005620572876685542, 'map@1': 0.0025602574887531545, 'map@5': 0.0009882797101625968, 'map@10': 0.0007010336195268644, 'diversity@5': 0.1902410617388589, 'diversity@10': 0.19023742807948665, 'epc@5': 0.9870502216003391, 'epc@10': 0.9870461418900703, 'epd@5': 0.18955930433373697, 'coverage@1': 0.49051151141508526, 'coverage@5': 0.7739138811289856, 'coverage@10': 0.8721703111453617, 'name': 'MatrixFactorizationcomparison_ml', 'latent_dim': 40, 'epochs': 1, 'batch_size': 2048}\n",
      "Epoch 0, loss:  1286.021 |================================================================================>| 100.0% \n",
      "{'accuracy': 0.39429047973578984, 'precision@5': 0.0019019055630737722, 'recall@5': 0.0005703410678679197, 'map@1': 0.0025968325957353424, 'map@5': 0.0010086093737935295, 'map@10': 0.0007045208449496619, 'diversity@5': 0.19023208352149343, 'diversity@10': 0.19026315538573238, 'epc@5': 0.987107983362083, 'epc@10': 0.9870800114387086, 'epd@5': 0.18960072087637686, 'coverage@1': 0.4826124650804354, 'coverage@5': 0.7670744629611791, 'coverage@10': 0.8629226471438204, 'name': 'MatrixFactorizationcomparison_ml', 'latent_dim': 40, 'epochs': 1, 'batch_size': 2048}\n",
      "Epoch 0, loss:  1126.210 |================================================================================>| 100.0% \n",
      "{'accuracy': 0.3788374964873541, 'precision@5': 0.0018872755202808968, 'recall@5': 0.0005832202909983751, 'map@1': 0.0025236823817709666, 'map@5': 0.0009915714697909936, 'map@10': 0.000699848741336669, 'diversity@5': 0.19031809231947786, 'diversity@10': 0.19026955831310588, 'epc@5': 0.9871653452462976, 'epc@10': 0.9871018347543274, 'epd@5': 0.18961493856541267, 'coverage@1': 0.47500240824583373, 'coverage@5': 0.7573451497928908, 'coverage@10': 0.8574318466429053, 'name': 'MatrixFactorizationcomparison_ml', 'latent_dim': 40, 'epochs': 1, 'batch_size': 2048}\n",
      "Epoch 0, loss:  984.876 |================================================================================>| 100.0% \n",
      "{'accuracy': 0.36209856569524457, 'precision@5': 0.0018580154346951466, 'recall@5': 0.000572029966278123, 'map@1': 0.0024505321678065907, 'map@5': 0.0009710487708732103, 'map@10': 0.0006957264277467148, 'diversity@5': 0.19021561585983754, 'diversity@10': 0.19028417011335955, 'epc@5': 0.9871878272564087, 'epc@10': 0.9871286658283304, 'epd@5': 0.18958970064711106, 'coverage@1': 0.467874000577979, 'coverage@5': 0.7488681244581447, 'coverage@10': 0.8502071091417012, 'name': 'MatrixFactorizationcomparison_ml', 'latent_dim': 40, 'epochs': 1, 'batch_size': 2048}\n"
     ]
    }
   ],
   "source": [
    "mf_ml = models.MatrixFactorization.MatrixFactorization(utils.common.movie_lens['user'], utils.common.movie_lens['dimensions'], epochs=1, batch_size=2048, latent_dim=40, name='comparison_ml')\n",
    "train_and_evaluate(mf_ml, utils.common.movie_lens, eval_ml)\n",
    "mf_ml.save('../saved_models')"
   ]
  },
  {
   "cell_type": "markdown",
   "metadata": {},
   "source": [
    "## MSD dataset"
   ]
  },
  {
   "cell_type": "code",
   "execution_count": 18,
   "metadata": {},
   "outputs": [
    {
     "name": "stderr",
     "output_type": "stream",
     "text": [
      "WARNING: Logging before flag parsing goes to stderr.\n",
      "W0903 08:41:27.533615 140099245623104 deprecation.py:323] From /home/ec2-user/anaconda3/envs/tensorflow_p36/lib/python3.6/site-packages/tensorflow_core/python/ops/math_grad.py:1424: where (from tensorflow.python.ops.array_ops) is deprecated and will be removed in a future version.\n",
      "Instructions for updating:\n",
      "Use tf.where in 2.0, which has the same broadcast rule as np.where\n"
     ]
    },
    {
     "name": "stdout",
     "output_type": "stream",
     "text": [
      "Epoch #0 Loss at step 2457: 0.3172, time: 351.038. Train accuracy 0.758, Validation accuracy 0.482\n",
      "{'accuracy': 0.47722797440213105, 'precision@5': 0.04563282864493273, 'recall@5': 0.02252205867817557, 'map@1': 0.05786343891021045, 'map@5': 0.02625446932741016, 'map@10': 0.019956593166916232, 'diversity@5': 0.22791160495057736, 'diversity@10': 0.23087719828641146, 'epc@5': 0.9149420019504836, 'epc@10': 0.9224539479450653, 'epd@5': 0.2766878889060244, 'coverage@1': 0.08730631704410012, 'coverage@5': 0.19681168057210965, 'coverage@10': 0.27502979737783073, 'name': 'NeuralLogicRec_comparison_MSD', 'embedding_dim': 32, 'epochs_trained': 1, 'batch_size': 48, 'nr_hidden_layers': 3, 'nr_item_samples': 4096}\n",
      "Epoch #0 Loss at step 2457: 0.2874, time: 336.456. Train accuracy 0.794, Validation accuracy 0.612\n",
      "{'accuracy': 0.5730038866342452, 'precision@5': 0.04748850744380245, 'recall@5': 0.023390330997257597, 'map@1': 0.05744169372864915, 'map@5': 0.026605302742749498, 'map@10': 0.020375842757170443, 'diversity@5': 0.2336099588135717, 'diversity@10': 0.23378270256825548, 'epc@5': 0.9351607533234157, 'epc@10': 0.9402591736691686, 'epd@5': 0.2822709835087215, 'coverage@1': 0.1531585220500596, 'coverage@5': 0.33849821215733017, 'coverage@10': 0.44815256257449343, 'name': 'NeuralLogicRec_comparison_MSD', 'embedding_dim': 32, 'epochs_trained': 2, 'batch_size': 48, 'nr_hidden_layers': 3, 'nr_item_samples': 4096}\n",
      "Epoch #0 Loss at step 2457: 0.2901, time: 334.795. Train accuracy 0.789, Validation accuracy 0.551\n",
      "{'accuracy': 0.6042508568592017, 'precision@5': 0.04704989245497871, 'recall@5': 0.023696523338569316, 'map@1': 0.060140862890641474, 'map@5': 0.027132648231716176, 'map@10': 0.02098317350423566, 'diversity@5': 0.22192354184816904, 'diversity@10': 0.22926486958058773, 'epc@5': 0.9442292854614012, 'epc@10': 0.9486655451530327, 'epd@5': 0.27775036096440964, 'coverage@1': 0.18087008343265792, 'coverage@5': 0.37246722288438616, 'coverage@10': 0.49255065554231225, 'name': 'NeuralLogicRec_comparison_MSD', 'embedding_dim': 32, 'epochs_trained': 3, 'batch_size': 48, 'nr_hidden_layers': 3, 'nr_item_samples': 4096}\n",
      "Epoch #0 Loss at step 2457: 0.2696, time: 334.709. Train accuracy 0.772, Validation accuracy 0.631\n",
      "{'accuracy': 0.6222492494418469, 'precision@5': 0.0503563746784193, 'recall@5': 0.02551622462262764, 'map@1': 0.059929990299860826, 'map@5': 0.028240525963101983, 'map@10': 0.02181654512430639, 'diversity@5': 0.22409801079663108, 'diversity@10': 0.23006151108788533, 'epc@5': 0.9395881580166843, 'epc@10': 0.9443755470819338, 'epd@5': 0.279313031418687, 'coverage@1': 0.1848927294398093, 'coverage@5': 0.39183551847437426, 'coverage@10': 0.5160905840286055, 'name': 'NeuralLogicRec_comparison_MSD', 'embedding_dim': 32, 'epochs_trained': 4, 'batch_size': 48, 'nr_hidden_layers': 3, 'nr_item_samples': 4096}\n",
      "Epoch #0 Loss at step 2457: 0.2778, time: 336.950. Train accuracy 0.801, Validation accuracy 0.565\n",
      "{'accuracy': 0.6081557418079843, 'precision@5': 0.05196744127198348, 'recall@5': 0.02594184627048371, 'map@1': 0.062249588798447976, 'map@5': 0.02926908045492247, 'map@10': 0.02275880883455527, 'diversity@5': 0.21640272383016412, 'diversity@10': 0.22444972904881416, 'epc@5': 0.9400920775485085, 'epc@10': 0.9448171192288582, 'epd@5': 0.2753355701163586, 'coverage@1': 0.20277115613825983, 'coverage@5': 0.416865315852205, 'coverage@10': 0.5417163289630512, 'name': 'NeuralLogicRec_comparison_MSD', 'embedding_dim': 32, 'epochs_trained': 5, 'batch_size': 48, 'nr_hidden_layers': 3, 'nr_item_samples': 4096}\n",
      "Epoch #0 Loss at step 2457: 0.2424, time: 334.138. Train accuracy 0.814, Validation accuracy 0.608\n",
      "{'accuracy': 0.6098196313025164, 'precision@5': 0.053004934418624264, 'recall@5': 0.02677713514315861, 'map@1': 0.06338830078866349, 'map@5': 0.02979899156041031, 'map@10': 0.023120812148182412, 'diversity@5': 0.22328213768655525, 'diversity@10': 0.2287000744013207, 'epc@5': 0.9418878820560692, 'epc@10': 0.9459845170733221, 'epd@5': 0.27831001347601997, 'coverage@1': 0.20709177592371872, 'coverage@5': 0.41567342073897495, 'coverage@10': 0.5405244338498212, 'name': 'NeuralLogicRec_comparison_MSD', 'embedding_dim': 32, 'epochs_trained': 6, 'batch_size': 48, 'nr_hidden_layers': 3, 'nr_item_samples': 4096}\n",
      "Epoch #0 Loss at step 2457: 0.2763, time: 334.776. Train accuracy 0.800, Validation accuracy 0.662\n",
      "{'accuracy': 0.6252230729079301, 'precision@5': 0.05344354940744802, 'recall@5': 0.027158897080524054, 'map@1': 0.06596094639618742, 'map@5': 0.030416895111973347, 'map@10': 0.023380858198899, 'diversity@5': 0.2264930446660824, 'diversity@10': 0.23315413390534467, 'epc@5': 0.9412411959228745, 'epc@10': 0.9457459004119073, 'epd@5': 0.28124781231964513, 'coverage@1': 0.2051549463647199, 'coverage@5': 0.42565554231227654, 'coverage@10': 0.5530393325387366, 'name': 'NeuralLogicRec_comparison_MSD', 'embedding_dim': 32, 'epochs_trained': 7, 'batch_size': 48, 'nr_hidden_layers': 3, 'nr_item_samples': 4096}\n",
      "Epoch #0 Loss at step 2457: 0.2642, time: 335.633. Train accuracy 0.785, Validation accuracy 0.572\n",
      "{'accuracy': 0.6071250532549984, 'precision@5': 0.052954324996836916, 'recall@5': 0.026485284125689575, 'map@1': 0.061026527771920205, 'map@5': 0.029352679722023066, 'map@10': 0.023000573814922338, 'diversity@5': 0.22521427071806419, 'diversity@10': 0.2324983426258184, 'epc@5': 0.9449182112755233, 'epc@10': 0.948766351250515, 'epd@5': 0.27931451252554873, 'coverage@1': 0.21617997616209775, 'coverage@5': 0.4432359952324195, 'coverage@10': 0.5806019070321812, 'name': 'NeuralLogicRec_comparison_MSD', 'embedding_dim': 32, 'epochs_trained': 8, 'batch_size': 48, 'nr_hidden_layers': 3, 'nr_item_samples': 4096}\n",
      "Epoch #0 Loss at step 2457: 0.2502, time: 335.701. Train accuracy 0.796, Validation accuracy 0.593\n",
      "{'accuracy': 0.5837440093558223, 'precision@5': 0.055577580026148196, 'recall@5': 0.027768736826479443, 'map@1': 0.06600312091434356, 'map@5': 0.03128756460901879, 'map@10': 0.024328849100328485, 'diversity@5': 0.21963991008209063, 'diversity@10': 0.2278690805170367, 'epc@5': 0.9378998089023497, 'epc@10': 0.9427435045009425, 'epd@5': 0.27811294413462206, 'coverage@1': 0.2064958283671037, 'coverage@5': 0.425953516090584, 'coverage@10': 0.5604886769964244, 'name': 'NeuralLogicRec_comparison_MSD', 'embedding_dim': 32, 'epochs_trained': 9, 'batch_size': 48, 'nr_hidden_layers': 3, 'nr_item_samples': 4096}\n",
      "Epoch #0 Loss at step 2457: 0.2602, time: 336.242. Train accuracy 0.798, Validation accuracy 0.610\n",
      "{'accuracy': 0.6006099539111998, 'precision@5': 0.056100544051284215, 'recall@5': 0.028069247198734913, 'map@1': 0.06591877187803129, 'map@5': 0.03154191209893205, 'map@10': 0.024304979401589172, 'diversity@5': 0.23251145689317826, 'diversity@10': 0.23698057695095037, 'epc@5': 0.9393157281164812, 'epc@10': 0.9438015404426665, 'epd@5': 0.28120921846916086, 'coverage@1': 0.2015792610250298, 'coverage@5': 0.43861740166865315, 'coverage@10': 0.5710667461263409, 'name': 'NeuralLogicRec_comparison_MSD', 'embedding_dim': 32, 'epochs_trained': 10, 'batch_size': 48, 'nr_hidden_layers': 3, 'nr_item_samples': 4096}\n",
      "Epoch #0 Loss at step 2457: 0.2404, time: 332.957. Train accuracy 0.815, Validation accuracy 0.667\n",
      "{'accuracy': 0.6111342698632896, 'precision@5': 0.05573784319514149, 'recall@5': 0.028103826118354824, 'map@1': 0.06575007380540678, 'map@5': 0.03164076448343244, 'map@10': 0.02465469232716728, 'diversity@5': 0.22178768297744808, 'diversity@10': 0.22937522104524, 'epc@5': 0.9419679057404218, 'epc@10': 0.9458049799194045, 'epd@5': 0.27908505474960865, 'coverage@1': 0.2176698450536353, 'coverage@5': 0.4436829558998808, 'coverage@10': 0.5797079856972587, 'name': 'NeuralLogicRec_comparison_MSD', 'embedding_dim': 32, 'epochs_trained': 11, 'batch_size': 48, 'nr_hidden_layers': 3, 'nr_item_samples': 4096}\n",
      "Epoch #0 Loss at step 2457: 0.2536, time: 336.136. Train accuracy 0.809, Validation accuracy 0.626\n",
      "{'accuracy': 0.5978029411201248, 'precision@5': 0.056370460967483445, 'recall@5': 0.028383922689353924, 'map@1': 0.06714183290455907, 'map@5': 0.03206878898214143, 'map@10': 0.025033121381674194, 'diversity@5': 0.22009505859359355, 'diversity@10': 0.227278291218935, 'epc@5': 0.943700932039962, 'epc@10': 0.9477407879384302, 'epd@5': 0.27848490752373484, 'coverage@1': 0.22228843861740166, 'coverage@5': 0.4578367103694875, 'coverage@10': 0.5864123957091776, 'name': 'NeuralLogicRec_comparison_MSD', 'embedding_dim': 32, 'epochs_trained': 12, 'batch_size': 48, 'nr_hidden_layers': 3, 'nr_item_samples': 4096}\n"
     ]
    }
   ],
   "source": [
    "nlr_msd = models.NeuralLogicRec.NLR(utils.common.msd['user'], utils.common.msd['dimensions'], epochs=1, constraints=constraints, mode='ae', name='comparison_MSD')\n",
    "train_and_evaluate(nlr_msd, utils.common.msd, eval_msd)\n",
    "nlr_msd.save('../saved_models/NLR')"
   ]
  },
  {
   "cell_type": "code",
   "execution_count": 19,
   "metadata": {
    "scrolled": true
   },
   "outputs": [
    {
     "name": "stdout",
     "output_type": "stream",
     "text": [
      "3686/3686 [==============================] - 62s 17ms/step - loss: 0.1998 - accuracy: 0.0342\n",
      "{'accuracy': 0.8265762833241213, 'precision@5': 0.1011091898275062, 'recall@5': 0.04992743412077249, 'map@1': 0.1382902450339505, 'map@5': 0.06591330090581493, 'map@10': 0.051148220589444626, 'diversity@5': 0.20642384954145587, 'diversity@10': 0.21243844740641785, 'epc@5': 0.9113742372016838, 'epc@10': 0.9187103997010473, 'epd@5': 0.2700156222857087, 'coverage@1': 0.0749404052443385, 'coverage@5': 0.1655244338498212, 'coverage@10': 0.24418951132300357, 'name': 'ConstraintAutoRec_MSD_comparison', 'dimensions': 6712, 'latent_dims': 32, 'accuracy_weight': 1.0, 'novelty_weight': 0.75, 'diversity_weight': 0.75, 'epochs': 1, 'batch_size': 32, 'optimizer': 'adam'}\n",
      "3686/3686 [==============================] - 61s 17ms/step - loss: 0.1886 - accuracy: 0.0356\n",
      "{'accuracy': 0.852545748360818, 'precision@5': 0.11178777782463835, 'recall@5': 0.05614142264705903, 'map@1': 0.1484121293914217, 'map@5': 0.07309970993303624, 'map@10': 0.056701359371906346, 'diversity@5': 0.19634627996805473, 'diversity@10': 0.20518611414024315, 'epc@5': 0.9268053088969793, 'epc@10': 0.9327142202864733, 'epd@5': 0.2684619370687448, 'coverage@1': 0.11129320619785459, 'coverage@5': 0.24255065554231228, 'coverage@10': 0.3377532777115614, 'name': 'ConstraintAutoRec_MSD_comparison', 'dimensions': 6712, 'latent_dims': 32, 'accuracy_weight': 1.0, 'novelty_weight': 0.75, 'diversity_weight': 0.75, 'epochs': 1, 'batch_size': 32, 'optimizer': 'adam'}\n",
      "3686/3686 [==============================] - 61s 17ms/step - loss: 0.1852 - accuracy: 0.0364\n",
      "{'accuracy': 0.8517335921543687, 'precision@5': 0.11532200244612203, 'recall@5': 0.058154219028532336, 'map@1': 0.1565518113955548, 'map@5': 0.07610646019897, 'map@10': 0.05881981774843562, 'diversity@5': 0.19344801959389255, 'diversity@10': 0.20275611682987588, 'epc@5': 0.9266533864374319, 'epc@10': 0.9327677042224753, 'epd@5': 0.26621304232695536, 'coverage@1': 0.12053039332538737, 'coverage@5': 0.2541716328963051, 'coverage@10': 0.3547377830750894, 'name': 'ConstraintAutoRec_MSD_comparison', 'dimensions': 6712, 'latent_dims': 32, 'accuracy_weight': 1.0, 'novelty_weight': 0.75, 'diversity_weight': 0.75, 'epochs': 1, 'batch_size': 32, 'optimizer': 'adam'}\n",
      "3686/3686 [==============================] - 61s 16ms/step - loss: 0.1834 - accuracy: 0.0367\n",
      "{'accuracy': 0.8511687459963786, 'precision@5': 0.11688245961789887, 'recall@5': 0.05907205123514062, 'map@1': 0.1576905233857703, 'map@5': 0.07694937652003993, 'map@10': 0.05962182252887315, 'diversity@5': 0.19905439397525046, 'diversity@10': 0.2096904865555235, 'epc@5': 0.9233904652249683, 'epc@10': 0.9297967415865003, 'epd@5': 0.2680286040258235, 'coverage@1': 0.12261620977353993, 'coverage@5': 0.2598331346841478, 'coverage@10': 0.3668057210965435, 'name': 'ConstraintAutoRec_MSD_comparison', 'dimensions': 6712, 'latent_dims': 32, 'accuracy_weight': 1.0, 'novelty_weight': 0.75, 'diversity_weight': 0.75, 'epochs': 1, 'batch_size': 32, 'optimizer': 'adam'}\n",
      "3686/3686 [==============================] - 61s 16ms/step - loss: 0.1822 - accuracy: 0.0370\n",
      "{'accuracy': 0.8528296464142409, 'precision@5': 0.11819830458437014, 'recall@5': 0.060264789196477674, 'map@1': 0.15790139597655098, 'map@5': 0.07776600405812586, 'map@10': 0.06042785818218434, 'diversity@5': 0.20079491475163463, 'diversity@10': 0.21144470534556442, 'epc@5': 0.9247234062311485, 'epc@10': 0.9311912064616026, 'epd@5': 0.26940665654135937, 'coverage@1': 0.12425506555423123, 'coverage@5': 0.2745828367103695, 'coverage@10': 0.38528009535160906, 'name': 'ConstraintAutoRec_MSD_comparison', 'dimensions': 6712, 'latent_dims': 32, 'accuracy_weight': 1.0, 'novelty_weight': 0.75, 'diversity_weight': 0.75, 'epochs': 1, 'batch_size': 32, 'optimizer': 'adam'}\n",
      "3686/3686 [==============================] - 61s 17ms/step - loss: 0.1813 - accuracy: 0.0369\n",
      "{'accuracy': 0.8506809446334566, 'precision@5': 0.11915988359832988, 'recall@5': 0.06071076431813892, 'map@1': 0.16026316899329426, 'map@5': 0.07855398806929743, 'map@10': 0.061165399885041764, 'diversity@5': 0.20422896738799906, 'diversity@10': 0.21325737266566266, 'epc@5': 0.9269260730160009, 'epc@10': 0.9331548586755128, 'epd@5': 0.26981988845721055, 'coverage@1': 0.12678784266984505, 'coverage@5': 0.27860548271752084, 'coverage@10': 0.3924314660309893, 'name': 'ConstraintAutoRec_MSD_comparison', 'dimensions': 6712, 'latent_dims': 32, 'accuracy_weight': 1.0, 'novelty_weight': 0.75, 'diversity_weight': 0.75, 'epochs': 1, 'batch_size': 32, 'optimizer': 'adam'}\n",
      "3686/3686 [==============================] - 61s 17ms/step - loss: 0.1806 - accuracy: 0.0373\n",
      "{'accuracy': 0.861903033385021, 'precision@5': 0.12074564548100038, 'recall@5': 0.061839494111298764, 'map@1': 0.16279364008266206, 'map@5': 0.07973287128805664, 'map@10': 0.06168104821454883, 'diversity@5': 0.20315054450741624, 'diversity@10': 0.21286742925347266, 'epc@5': 0.9253629751637725, 'epc@10': 0.9318413480866727, 'epd@5': 0.2690812031952555, 'coverage@1': 0.13066150178784267, 'coverage@5': 0.2802443384982122, 'coverage@10': 0.3942193087008343, 'name': 'ConstraintAutoRec_MSD_comparison', 'dimensions': 6712, 'latent_dims': 32, 'accuracy_weight': 1.0, 'novelty_weight': 0.75, 'diversity_weight': 0.75, 'epochs': 1, 'batch_size': 32, 'optimizer': 'adam'}\n",
      "3686/3686 [==============================] - 60s 16ms/step - loss: 0.1801 - accuracy: 0.0375\n",
      "{'accuracy': 0.8581987178962682, 'precision@5': 0.12018050693770825, 'recall@5': 0.06114661966989946, 'map@1': 0.16085361224748007, 'map@5': 0.07911967722435438, 'map@10': 0.06152506032263092, 'diversity@5': 0.20727416131825327, 'diversity@10': 0.21799078172729425, 'epc@5': 0.9248140582154407, 'epc@10': 0.9312159130974232, 'epd@5': 0.27007379776299645, 'coverage@1': 0.13036352800953516, 'coverage@5': 0.28188319427890346, 'coverage@10': 0.3966030989272944, 'name': 'ConstraintAutoRec_MSD_comparison', 'dimensions': 6712, 'latent_dims': 32, 'accuracy_weight': 1.0, 'novelty_weight': 0.75, 'diversity_weight': 0.75, 'epochs': 1, 'batch_size': 32, 'optimizer': 'adam'}\n",
      "3686/3686 [==============================] - 62s 17ms/step - loss: 0.1797 - accuracy: 0.0376\n",
      "{'accuracy': 0.8595320531269686, 'precision@5': 0.1212348698916115, 'recall@5': 0.061915104462330416, 'map@1': 0.16275146556450593, 'map@5': 0.08016627303783055, 'map@10': 0.062344826416845175, 'diversity@5': 0.20707208895037058, 'diversity@10': 0.21665390971872223, 'epc@5': 0.9266669347845775, 'epc@10': 0.933021423256498, 'epd@5': 0.2708546612333847, 'coverage@1': 0.13528009535160906, 'coverage@5': 0.29201430274135876, 'coverage@10': 0.40777711561382596, 'name': 'ConstraintAutoRec_MSD_comparison', 'dimensions': 6712, 'latent_dims': 32, 'accuracy_weight': 1.0, 'novelty_weight': 0.75, 'diversity_weight': 0.75, 'epochs': 1, 'batch_size': 32, 'optimizer': 'adam'}\n",
      "3686/3686 [==============================] - 61s 17ms/step - loss: 0.1793 - accuracy: 0.0379\n",
      "{'accuracy': 0.8499957235330732, 'precision@5': 0.12022268145586439, 'recall@5': 0.06122837237685879, 'map@1': 0.1628779891189743, 'map@5': 0.07948435793982164, 'map@10': 0.06191365244381249, 'diversity@5': 0.20817704388001784, 'diversity@10': 0.21689046179931887, 'epc@5': 0.9249368336139393, 'epc@10': 0.9314869543341778, 'epd@5': 0.2711635910162463, 'coverage@1': 0.13200238379022647, 'coverage@5': 0.285160905840286, 'coverage@10': 0.39764600715137066, 'name': 'ConstraintAutoRec_MSD_comparison', 'dimensions': 6712, 'latent_dims': 32, 'accuracy_weight': 1.0, 'novelty_weight': 0.75, 'diversity_weight': 0.75, 'epochs': 1, 'batch_size': 32, 'optimizer': 'adam'}\n",
      "3686/3686 [==============================] - 62s 17ms/step - loss: 0.1790 - accuracy: 0.0371\n",
      "{'accuracy': 0.8511193619239946, 'precision@5': 0.11972502214162203, 'recall@5': 0.06123958309761027, 'map@1': 0.16405887562734595, 'map@5': 0.07927444599084345, 'map@10': 0.06178581387772018, 'diversity@5': 0.20707150332081328, 'diversity@10': 0.21570991261885825, 'epc@5': 0.9254560621501684, 'epc@10': 0.9320305166763903, 'epd@5': 0.2714812728836024, 'coverage@1': 0.13036352800953516, 'coverage@5': 0.28560786650774733, 'coverage@10': 0.40420143027413585, 'name': 'ConstraintAutoRec_MSD_comparison', 'dimensions': 6712, 'latent_dims': 32, 'accuracy_weight': 1.0, 'novelty_weight': 0.75, 'diversity_weight': 0.75, 'epochs': 1, 'batch_size': 32, 'optimizer': 'adam'}\n",
      "3686/3686 [==============================] - 61s 16ms/step - loss: 0.1788 - accuracy: 0.0374\n",
      "{'accuracy': 0.8456453660765411, 'precision@5': 0.12041668423938255, 'recall@5': 0.06125048598228594, 'map@1': 0.1617392771287588, 'map@5': 0.0794633878321829, 'map@10': 0.06178760375114765, 'diversity@5': 0.20544060257543095, 'diversity@10': 0.21546121066341653, 'epc@5': 0.9206832582785791, 'epc@10': 0.9276327350858825, 'epd@5': 0.27054148933581296, 'coverage@1': 0.1279797377830751, 'coverage@5': 0.28411799761620976, 'coverage@10': 0.3903456495828367, 'name': 'ConstraintAutoRec_MSD_comparison', 'dimensions': 6712, 'latent_dims': 32, 'accuracy_weight': 1.0, 'novelty_weight': 0.75, 'diversity_weight': 0.75, 'epochs': 1, 'batch_size': 32, 'optimizer': 'adam'}\n"
     ]
    }
   ],
   "source": [
    "car_msd = models.ConstraintAutoRec.ConstraintAutoRec(utils.common.msd['dimensions'], epochs=1, novelty_weight=0.75, diversity_weight=0.75, name='ConstraintAutoRec_MSD_comparison')\n",
    "train_and_evaluate(car_msd, utils.common.msd, eval_msd)\n",
    "car_msd.save('../saved_models')"
   ]
  },
  {
   "cell_type": "code",
   "execution_count": 20,
   "metadata": {},
   "outputs": [
    {
     "name": "stdout",
     "output_type": "stream",
     "text": [
      "Epoch #0 Loss at step 3190: 1502.8075\n",
      "{'accuracy': 0.025397350211430306, 'precision@5': 0.0018472438952384968, 'recall@5': 0.0008542013295798013, 'map@1': 0.001307410062840032, 'map@5': 0.0007969226659918744, 'map@10': 0.0006039719608416877, 'diversity@5': 0.35848194947180895, 'diversity@10': 0.358812771733288, 'epc@5': 0.9885843756609178, 'epc@10': 0.9887195954814065, 'epd@5': 0.3525017263280819, 'coverage@1': 0.6705899880810489, 'coverage@5': 0.9311680572109654, 'coverage@10': 0.9801847437425506, 'name': 'BPR__comparison_msd', 'latent_dim': 40, 'epochs': 1, 'batch_size': 2048}\n",
      "Epoch #0 Loss at step 3190: 1518.4530\n",
      "{'accuracy': 0.00742809399067885, 'precision@5': 0.018396524819703938, 'recall@5': 0.00857767315610263, 'map@1': 0.022689890767997975, 'map@5': 0.01069366538737295, 'map@10': 0.007848063215479836, 'diversity@5': 0.329414529622591, 'diversity@10': 0.3343564754618313, 'epc@5': 0.9592781812291956, 'epc@10': 0.9623545097970811, 'epd@5': 0.33474065686319354, 'coverage@1': 0.516984505363528, 'coverage@5': 0.8478843861740167, 'coverage@10': 0.9395113230035756, 'name': 'BPR__comparison_msd', 'latent_dim': 40, 'epochs': 1, 'batch_size': 2048}\n",
      "Epoch #0 Loss at step 3190: 1407.6680\n",
      "{'accuracy': 0.15919498594937137, 'precision@5': 0.05375564084180338, 'recall@5': 0.025969424180250285, 'map@1': 0.07388975580953988, 'map@5': 0.03469764385025235, 'map@10': 0.026719171012985064, 'diversity@5': 0.25110022487819705, 'diversity@10': 0.2666230412071683, 'epc@5': 0.8763679587126848, 'epc@10': 0.8843318541462422, 'epd@5': 0.2973246036429063, 'coverage@1': 0.16910011918951132, 'coverage@5': 0.4149284862932062, 'coverage@10': 0.5814958283671037, 'name': 'BPR__comparison_msd', 'latent_dim': 40, 'epochs': 1, 'batch_size': 2048}\n",
      "Epoch #0 Loss at step 3190: 1194.9268\n",
      "{'accuracy': 0.39452141419231623, 'precision@5': 0.06774071106237613, 'recall@5': 0.032427091185236574, 'map@1': 0.09303698705242293, 'map@5': 0.043640070946911656, 'map@10': 0.033071296192958635, 'diversity@5': 0.22805149276943723, 'diversity@10': 0.2549072302421641, 'epc@5': 0.8571292561377919, 'epc@10': 0.8680488894474535, 'epd@5': 0.2899397527574518, 'coverage@1': 0.09058402860548272, 'coverage@5': 0.23808104886769965, 'coverage@10': 0.341626936829559, 'name': 'BPR__comparison_msd', 'latent_dim': 40, 'epochs': 1, 'batch_size': 2048}\n",
      "Epoch #0 Loss at step 3190: 1112.7140\n",
      "{'accuracy': 0.5408017973094713, 'precision@5': 0.07446332925646323, 'recall@5': 0.0357684743267094, 'map@1': 0.1032432204462064, 'map@5': 0.04804100534679169, 'map@10': 0.036684094231666076, 'diversity@5': 0.23552773450729156, 'diversity@10': 0.2545251603206127, 'epc@5': 0.8674753058037207, 'epc@10': 0.8769621180854081, 'epd@5': 0.2924817509470317, 'coverage@1': 0.07076877234803337, 'coverage@5': 0.16701430274135876, 'coverage@10': 0.24001787842669844, 'name': 'BPR__comparison_msd', 'latent_dim': 40, 'epochs': 1, 'batch_size': 2048}\n",
      "Epoch #0 Loss at step 3190: 890.20398\n",
      "{'accuracy': 0.6438155970052624, 'precision@5': 0.08035089199105899, 'recall@5': 0.03867823255286857, 'map@1': 0.11222639281346211, 'map@5': 0.05186421913879634, 'map@10': 0.03947743936366356, 'diversity@5': 0.22651207043008373, 'diversity@10': 0.24246455637281036, 'epc@5': 0.8758954977942214, 'epc@10': 0.8847741776582658, 'epd@5': 0.2855367115230191, 'coverage@1': 0.05765792610250298, 'coverage@5': 0.1367699642431466, 'coverage@10': 0.19442789034564958, 'name': 'BPR__comparison_msd', 'latent_dim': 40, 'epochs': 1, 'batch_size': 2048}\n",
      "Epoch #0 Loss at step 3190: 1018.9263\n",
      "{'accuracy': 0.7115672250705346, 'precision@5': 0.08457677871030324, 'recall@5': 0.04092454572107943, 'map@1': 0.11926953734553583, 'map@5': 0.05484784371060783, 'map@10': 0.0419434153248364, 'diversity@5': 0.22211781025580513, 'diversity@10': 0.23288989829312673, 'epc@5': 0.8846781021696716, 'epc@10': 0.8923896222451072, 'epd@5': 0.28236504704689536, 'coverage@1': 0.05765792610250298, 'coverage@5': 0.13393921334922526, 'coverage@10': 0.18951132300357568, 'name': 'BPR__comparison_msd', 'latent_dim': 40, 'epochs': 1, 'batch_size': 2048}\n",
      "Epoch #0 Loss at step 3190: 835.37123\n",
      "{'accuracy': 0.7541961069872902, 'precision@5': 0.08827126650078022, 'recall@5': 0.04265308275927721, 'map@1': 0.12576441314157985, 'map@5': 0.057559548076607674, 'map@10': 0.04408478495655233, 'diversity@5': 0.2195196236775516, 'diversity@10': 0.2256990396517855, 'epc@5': 0.890615891210864, 'epc@10': 0.8979102977591561, 'epd@5': 0.28042391616395607, 'coverage@1': 0.05780691299165673, 'coverage@5': 0.13602502979737782, 'coverage@10': 0.19412991656734208, 'name': 'BPR__comparison_msd', 'latent_dim': 40, 'epochs': 1, 'batch_size': 2048}\n",
      "Epoch #0 Loss at step 3190: 927.09460\n",
      "{'accuracy': 0.7821688105655594, 'precision@5': 0.09091139133735397, 'recall@5': 0.04424810667257453, 'map@1': 0.12702964868626376, 'map@5': 0.05895086200029054, 'map@10': 0.045066465424136726, 'diversity@5': 0.21980431290091276, 'diversity@10': 0.2233130134988686, 'epc@5': 0.8944244487852991, 'epc@10': 0.9015124221879683, 'epd@5': 0.27893340640906333, 'coverage@1': 0.06227651966626937, 'coverage@5': 0.14526221692491062, 'coverage@10': 0.20768772348033374, 'name': 'BPR__comparison_msd', 'latent_dim': 40, 'epochs': 1, 'batch_size': 2048}\n",
      "Epoch #0 Loss at step 3190: 846.5669\n",
      "{'accuracy': 0.8001572560298519, 'precision@5': 0.09204166842393827, 'recall@5': 0.044885397443946304, 'map@1': 0.12770444097676184, 'map@5': 0.05959271130605111, 'map@10': 0.04583132344233029, 'diversity@5': 0.21691609782839938, 'diversity@10': 0.22088733098295452, 'epc@5': 0.8976426022915113, 'epc@10': 0.9045222289955596, 'epd@5': 0.27725206627857923, 'coverage@1': 0.06883194278903457, 'coverage@5': 0.15002979737783076, 'coverage@10': 0.21722288438617401, 'name': 'BPR__comparison_msd', 'latent_dim': 40, 'epochs': 1, 'batch_size': 2048}\n",
      "Epoch #0 Loss at step 3190: 738.5427\n",
      "{'accuracy': 0.8130159545580311, 'precision@5': 0.09404074058453883, 'recall@5': 0.04589036414629335, 'map@1': 0.12829488423094765, 'map@5': 0.06084538821643962, 'map@10': 0.04646867564702315, 'diversity@5': 0.2146730606164308, 'diversity@10': 0.21895407606510875, 'epc@5': 0.8995219961921703, 'epc@10': 0.906278924172368, 'epd@5': 0.27524089000709673, 'coverage@1': 0.0716626936829559, 'coverage@5': 0.15598927294398093, 'coverage@10': 0.22943980929678187, 'name': 'BPR__comparison_msd', 'latent_dim': 40, 'epochs': 1, 'batch_size': 2048}\n",
      "Epoch #0 Loss at step 3190: 816.04615\n",
      "{'accuracy': 0.8214785442220354, 'precision@5': 0.09556745814179073, 'recall@5': 0.04674298223960311, 'map@1': 0.1307410062840032, 'map@5': 0.061778593151795465, 'map@10': 0.04719953805088844, 'diversity@5': 0.2125220559658045, 'diversity@10': 0.2173848759435735, 'epc@5': 0.900379641951381, 'epc@10': 0.9072202502222132, 'epd@5': 0.2739679200999014, 'coverage@1': 0.07702622169249106, 'coverage@5': 0.16671632896305125, 'coverage@10': 0.2362932061978546, 'name': 'BPR__comparison_msd', 'latent_dim': 40, 'epochs': 1, 'batch_size': 2048}\n"
     ]
    }
   ],
   "source": [
    "bpr_msd = models.BPR.BPR(utils.common.msd['user'], utils.common.msd['dimensions'], epochs=1, batch_size=2048 , latent_dim=40, name='_comparison_msd')\n",
    "train_and_evaluate(bpr_msd, utils.common.msd, eval_msd)\n",
    "bpr_msd.save('../saved_models')"
   ]
  },
  {
   "cell_type": "code",
   "execution_count": 21,
   "metadata": {},
   "outputs": [
    {
     "name": "stdout",
     "output_type": "stream",
     "text": [
      "Epoch 0, loss:  3487.880 |================================================================================>| 100.0% \n",
      "{'accuracy': 0.4558006437175195, 'precision@5': 0.0017460250516637846, 'recall@5': 0.0008256148178161642, 'map@1': 0.0011387119902155117, 'map@5': 0.0007078289963870496, 'map@10': 0.000531107750325875, 'diversity@5': 0.3643960766705883, 'diversity@10': 0.36392603802049545, 'epc@5': 0.9896310506883026, 'epc@10': 0.9896430279403197, 'epd@5': 0.3559863286324122, 'coverage@1': 0.6683551847437426, 'coverage@5': 0.9271454112038141, 'coverage@10': 0.9736293206197855, 'name': 'MatrixFactorizationcomparison_msd', 'latent_dim': 40, 'epochs': 1, 'batch_size': 2048}\n",
      "Epoch 0, loss:  3128.250 |================================================================================>| 100.0% \n",
      "{'accuracy': 0.45049479667385395, 'precision@5': 0.0017122854371388807, 'recall@5': 0.000806816523599726, 'map@1': 0.0011387119902155117, 'map@5': 0.0007073018149100981, 'map@10': 0.0005487795800610228, 'diversity@5': 0.3646829435221327, 'diversity@10': 0.3640967406913952, 'epc@5': 0.9896185428116238, 'epc@10': 0.9896326093648671, 'epd@5': 0.3560195271256834, 'coverage@1': 0.6540524433849821, 'coverage@5': 0.9129916567342073, 'coverage@10': 0.967222884386174, 'name': 'MatrixFactorizationcomparison_msd', 'latent_dim': 40, 'epochs': 1, 'batch_size': 2048}\n",
      "Epoch 0, loss:  2806.692 |================================================================================>| 100.0% \n",
      "{'accuracy': 0.444087436124404, 'precision@5': 0.0016195014971953949, 'recall@5': 0.000775210629622459, 'map@1': 0.001307410062840032, 'map@5': 0.0007069737908799947, 'map@10': 0.0005587443592910213, 'diversity@5': 0.3651105232169222, 'diversity@10': 0.36418245002415245, 'epc@5': 0.9896205628546391, 'epc@10': 0.9896200477809618, 'epd@5': 0.35628753013800885, 'coverage@1': 0.6401966626936829, 'coverage@5': 0.9036054827175208, 'coverage@10': 0.9620083432657927, 'name': 'MatrixFactorizationcomparison_msd', 'latent_dim': 40, 'epochs': 1, 'batch_size': 2048}\n",
      "Epoch 0, loss:  2518.379 |================================================================================>| 100.0% \n",
      "{'accuracy': 0.4371895495031791, 'precision@5': 0.0016869807262452027, 'recall@5': 0.0008142047651329792, 'map@1': 0.0014339336173084223, 'map@5': 0.0007250033973917404, 'map@10': 0.0005641083145973382, 'diversity@5': 0.3650040814467865, 'diversity@10': 0.36424165319071233, 'epc@5': 0.9895935508770254, 'epc@10': 0.9896012920446733, 'epd@5': 0.3563511462626054, 'coverage@1': 0.6297675804529201, 'coverage@5': 0.8948152562574494, 'coverage@10': 0.9558998808104887, 'name': 'MatrixFactorizationcomparison_msd', 'latent_dim': 40, 'epochs': 1, 'batch_size': 2048}\n",
      "Epoch 0, loss:  2259.654 |================================================================================>| 100.0% \n",
      "{'accuracy': 0.4298018851559908, 'precision@5': 0.0016110665935641687, 'recall@5': 0.0007537222058000157, 'map@1': 0.0012230610265277718, 'map@5': 0.0006864840041424749, 'map@10': 0.0005443531351249991, 'diversity@5': 0.3651754668405199, 'diversity@10': 0.3643449401758912, 'epc@5': 0.9895687197064639, 'epc@10': 0.9895700203280285, 'epd@5': 0.35639868703141064, 'coverage@1': 0.6139749702026222, 'coverage@5': 0.8875148986889154, 'coverage@10': 0.9480035756853397, 'name': 'MatrixFactorizationcomparison_msd', 'latent_dim': 40, 'epochs': 1, 'batch_size': 2048}\n",
      "Epoch 0, loss:  2027.010 |================================================================================>| 100.0% \n",
      "{'accuracy': 0.4217557638175967, 'precision@5': 0.0016363713044578465, 'recall@5': 0.0007714470726604753, 'map@1': 0.0013917590991522923, 'map@5': 0.0007162639000182757, 'map@10': 0.0005604564306146453, 'diversity@5': 0.36510033034706435, 'diversity@10': 0.36459775026534946, 'epc@5': 0.9895354494870824, 'epc@10': 0.9895544987468649, 'epd@5': 0.3563122437116937, 'coverage@1': 0.6050357568533969, 'coverage@5': 0.8809594755661502, 'coverage@10': 0.9414481525625745, 'name': 'MatrixFactorizationcomparison_msd', 'latent_dim': 40, 'epochs': 1, 'batch_size': 2048}\n",
      "Epoch 0, loss:  1817.594 |================================================================================>| 100.0% \n",
      "{'accuracy': 0.4128467710534926, 'precision@5': 0.0016363713044578467, 'recall@5': 0.0007909584742739254, 'map@1': 0.0015604571717768125, 'map@5': 0.0007359453418244698, 'map@10': 0.0005691780298515468, 'diversity@5': 0.36511470660888695, 'diversity@10': 0.3646988091896487, 'epc@5': 0.9895138452315893, 'epc@10': 0.9895388545459505, 'epd@5': 0.35622779252159764, 'coverage@1': 0.5926698450536353, 'coverage@5': 0.8724672228843862, 'coverage@10': 0.9372765196662693, 'name': 'MatrixFactorizationcomparison_msd', 'latent_dim': 40, 'epochs': 1, 'batch_size': 2048}\n",
      "Epoch 0, loss:  1629.078 |================================================================================>| 100.0% \n",
      "{'accuracy': 0.40213785318478035, 'precision@5': 0.001686980726245203, 'recall@5': 0.0008251745099542526, 'map@1': 0.0016448062080890726, 'map@5': 0.0007768546244359158, 'map@10': 0.0005883357303421027, 'diversity@5': 0.3653086550942916, 'diversity@10': 0.3647816082622821, 'epc@5': 0.989483672875606, 'epc@10': 0.9895093215074818, 'epd@5': 0.3563058976357912, 'coverage@1': 0.5798569725864124, 'coverage@5': 0.8627830750893921, 'coverage@10': 0.9323599523241954, 'name': 'MatrixFactorizationcomparison_msd', 'latent_dim': 40, 'epochs': 1, 'batch_size': 2048}\n",
      "Epoch 0, loss:  1459.266 |================================================================================>| 100.0% \n",
      "{'accuracy': 0.3907079994920141, 'precision@5': 0.0017291552444013327, 'recall@5': 0.0008363639236361804, 'map@1': 0.0016448062080890726, 'map@5': 0.000795727721310784, 'map@10': 0.0005913210133373168, 'diversity@5': 0.36538798373819376, 'diversity@10': 0.36504088167185944, 'epc@5': 0.9894549350490462, 'epc@10': 0.9894867635849188, 'epd@5': 0.3563655037704267, 'coverage@1': 0.5701728247914184, 'coverage@5': 0.8544398092967819, 'coverage@10': 0.9258045292014303, 'name': 'MatrixFactorizationcomparison_msd', 'latent_dim': 40, 'epochs': 1, 'batch_size': 2048}\n",
      "Epoch 0, loss:  1306.214 |================================================================================>| 100.0% \n",
      "{'accuracy': 0.37774028583024405, 'precision@5': 0.0017207203407701068, 'recall@5': 0.0008297713545853643, 'map@1': 0.0016869807262452027, 'map@5': 0.0007950248126748485, 'map@10': 0.0005857610352485144, 'diversity@5': 0.3655390545668164, 'diversity@10': 0.365058492555799, 'epc@5': 0.9894445166020631, 'epc@10': 0.9894610076418042, 'epd@5': 0.3564221467552796, 'coverage@1': 0.5662991656734208, 'coverage@5': 0.8457985697258641, 'coverage@10': 0.9205899880810489, 'name': 'MatrixFactorizationcomparison_msd', 'latent_dim': 40, 'epochs': 1, 'batch_size': 2048}\n",
      "Epoch 0, loss:  1168.374 |================================================================================>| 100.0% \n",
      "{'accuracy': 0.3636372017945972, 'precision@5': 0.001703850533507655, 'recall@5': 0.0008050629413401549, 'map@1': 0.0018135042807135928, 'map@5': 0.0007996288642402261, 'map@10': 0.0005850276765360883, 'diversity@5': 0.36576445404892377, 'diversity@10': 0.3651245392478364, 'epc@5': 0.9894149704117807, 'epc@10': 0.9894383344871595, 'epd@5': 0.3563968327019021, 'coverage@1': 0.5595947556615017, 'coverage@5': 0.8370083432657927, 'coverage@10': 0.9153754469606674, 'name': 'MatrixFactorizationcomparison_msd', 'latent_dim': 40, 'epochs': 1, 'batch_size': 2048}\n",
      "Epoch 0, loss:  1044.136 |================================================================================>| 100.0% \n",
      "{'accuracy': 0.3478153444035543, 'precision@5': 0.001661676015351525, 'recall@5': 0.000786028348796559, 'map@1': 0.0016869807262452027, 'map@5': 0.0007828996387049611, 'map@10': 0.0005820031571064345, 'diversity@5': 0.3658524199126384, 'diversity@10': 0.36516965930531653, 'epc@5': 0.9894108415685439, 'epc@10': 0.9894226638268561, 'epd@5': 0.356365992908102, 'coverage@1': 0.5533373063170441, 'coverage@5': 0.8285160905840286, 'coverage@10': 0.9100119189511323, 'name': 'MatrixFactorizationcomparison_msd', 'latent_dim': 40, 'epochs': 1, 'batch_size': 2048}\n"
     ]
    }
   ],
   "source": [
    "mf_msd = models.MatrixFactorization.MatrixFactorization(utils.common.msd['user'], utils.common.msd['dimensions'], epochs=1, batch_size=2048, latent_dim=40, name='comparison_msd')\n",
    "train_and_evaluate(mf_msd, utils.common.msd, eval_msd)\n",
    "mf_msd.save('../saved_models')"
   ]
  },
  {
   "cell_type": "code",
   "execution_count": null,
   "metadata": {},
   "outputs": [],
   "source": []
  }
 ],
 "metadata": {
  "kernelspec": {
   "display_name": "conda_tensorflow_p36",
   "language": "python",
   "name": "conda_tensorflow_p36"
  },
  "language_info": {
   "codemirror_mode": {
    "name": "ipython",
    "version": 3
   },
   "file_extension": ".py",
   "mimetype": "text/x-python",
   "name": "python",
   "nbconvert_exporter": "python",
   "pygments_lexer": "ipython3",
   "version": "3.6.5"
  }
 },
 "nbformat": 4,
 "nbformat_minor": 4
}
