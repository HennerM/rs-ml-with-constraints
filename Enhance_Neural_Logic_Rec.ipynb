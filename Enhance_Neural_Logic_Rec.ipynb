{
 "cells": [
  {
   "cell_type": "code",
   "execution_count": 139,
   "metadata": {},
   "outputs": [],
   "source": [
    "evals = list()"
   ]
  },
  {
   "cell_type": "code",
   "execution_count": 426,
   "metadata": {},
   "outputs": [],
   "source": [
    "import utils.common\n",
    "import evaluation\n",
    "import importlib\n",
    "import numpy as np\n",
    "import time\n",
    "from models.ConstraintAutoRec import ConstraintAutoRec \n",
    "import models.NeuralLogicRec\n",
    "import tensorflow as tf\n",
    "import pandas as pd\n",
    "\n",
    "importlib.reload(utils.common)\n",
    "importlib.reload(evaluation)\n",
    "importlib.reload(models.NeuralLogicRec)\n",
    "import itertools\n",
    "\n",
    "ml_small = utils.common.ml_small\n",
    "ml_big = utils.common.movie_lens\n"
   ]
  },
  {
   "cell_type": "code",
   "execution_count": 427,
   "metadata": {
    "scrolled": true
   },
   "outputs": [],
   "source": [
    "ev = evaluation.Evaluation(ml_small)\n",
    "nlr = models.NeuralLogicRec.NLR(ml_small['user'], ml_small['dimensions'], epochs=2, embedding_dim=16, batch_size=48, nr_hidden_layers=4, nr_item_samples = 4096)"
   ]
  },
  {
   "cell_type": "code",
   "execution_count": 433,
   "metadata": {},
   "outputs": [
    {
     "name": "stdout",
     "output_type": "stream",
     "text": [
      "Epoch #0 Loss at step 12: 0.1912, time: 4.580. Train accuracy 0.818, Validation accuracy 0.711\n",
      "Epoch #1 Loss at step 12: 0.1807, time: 4.482. Train accuracy 0.788, Validation accuracy 0.623\n",
      "Epoch #2 Loss at step 12: 0.1830, time: 4.478. Train accuracy 0.832, Validation accuracy 0.647\n",
      "Epoch #3 Loss at step 12: 0.1767, time: 4.477. Train accuracy 0.807, Validation accuracy 0.604\n",
      "Epoch #4 Loss at step 12: 0.1767, time: 4.496. Train accuracy 0.836, Validation accuracy 0.743\n",
      "Epoch #5 Loss at step 12: 0.1767, time: 4.501. Train accuracy 0.825, Validation accuracy 0.667\n",
      "Epoch #6 Loss at step 12: 0.1968, time: 4.498. Train accuracy 0.838, Validation accuracy 0.655\n",
      "Epoch #7 Loss at step 12: 0.1952, time: 4.488. Train accuracy 0.835, Validation accuracy 0.694\n",
      "Epoch #8 Loss at step 12: 0.1779, time: 4.487. Train accuracy 0.837, Validation accuracy 0.699\n",
      "Epoch #9 Loss at step 12: 0.1906, time: 4.491. Train accuracy 0.828, Validation accuracy 0.662\n",
      "Batch nr 2 predicted\r"
     ]
    }
   ],
   "source": [
    "nlr.epochs = 10\n",
    "nlr.train(utils.common.load_dataset(ml_small), ml_small['train']['records'])\n",
    "evals.append(ev.evaluate_single_thread(nlr, max_nr_batches=16))\n",
    "# evals.append(ev.evaluate_single_thread(nlr))"
   ]
  },
  {
   "cell_type": "code",
   "execution_count": 432,
   "metadata": {},
   "outputs": [
    {
     "data": {
      "text/html": [
       "<div>\n",
       "<style scoped>\n",
       "    .dataframe tbody tr th:only-of-type {\n",
       "        vertical-align: middle;\n",
       "    }\n",
       "\n",
       "    .dataframe tbody tr th {\n",
       "        vertical-align: top;\n",
       "    }\n",
       "\n",
       "    .dataframe thead th {\n",
       "        text-align: right;\n",
       "    }\n",
       "</style>\n",
       "<table border=\"1\" class=\"dataframe\">\n",
       "  <thead>\n",
       "    <tr style=\"text-align: right;\">\n",
       "      <th></th>\n",
       "      <th>accuracy</th>\n",
       "      <th>batch_size</th>\n",
       "      <th>diversity@10</th>\n",
       "      <th>diversity@5</th>\n",
       "      <th>embedding_dim</th>\n",
       "      <th>epc@10</th>\n",
       "      <th>epc@5</th>\n",
       "      <th>epd@5</th>\n",
       "      <th>epochs_trained</th>\n",
       "      <th>map@1</th>\n",
       "      <th>map@10</th>\n",
       "      <th>map@5</th>\n",
       "      <th>name</th>\n",
       "      <th>nr_hidden_layers</th>\n",
       "      <th>nr_item_samples</th>\n",
       "      <th>precision</th>\n",
       "      <th>recall</th>\n",
       "      <th>unique@1</th>\n",
       "      <th>unique@10</th>\n",
       "      <th>unique@5</th>\n",
       "    </tr>\n",
       "  </thead>\n",
       "  <tbody>\n",
       "    <tr>\n",
       "      <th>31</th>\n",
       "      <td>0.85512</td>\n",
       "      <td>48</td>\n",
       "      <td>0.379929</td>\n",
       "      <td>0.379514</td>\n",
       "      <td>16</td>\n",
       "      <td>0.94049</td>\n",
       "      <td>0.934018</td>\n",
       "      <td>0.371503</td>\n",
       "      <td>10</td>\n",
       "      <td>0.0135135</td>\n",
       "      <td>0.00329663</td>\n",
       "      <td>0.0039039</td>\n",
       "      <td>NeuralLogicRec</td>\n",
       "      <td>4</td>\n",
       "      <td>4096</td>\n",
       "      <td>0.85512</td>\n",
       "      <td>1</td>\n",
       "      <td>41</td>\n",
       "      <td>272</td>\n",
       "      <td>154</td>\n",
       "    </tr>\n",
       "    <tr>\n",
       "      <th>32</th>\n",
       "      <td>0.14488</td>\n",
       "      <td>48</td>\n",
       "      <td>0.381286</td>\n",
       "      <td>0.382869</td>\n",
       "      <td>16</td>\n",
       "      <td>0.954313</td>\n",
       "      <td>0.955793</td>\n",
       "      <td>0.375358</td>\n",
       "      <td>10</td>\n",
       "      <td>0.00900901</td>\n",
       "      <td>0.00311859</td>\n",
       "      <td>0.00503003</td>\n",
       "      <td>NeuralLogicRec</td>\n",
       "      <td>4</td>\n",
       "      <td>4096</td>\n",
       "      <td>NaN</td>\n",
       "      <td>0</td>\n",
       "      <td>72</td>\n",
       "      <td>277</td>\n",
       "      <td>193</td>\n",
       "    </tr>\n",
       "    <tr>\n",
       "      <th>33</th>\n",
       "      <td>0.688353</td>\n",
       "      <td>48</td>\n",
       "      <td>0.254615</td>\n",
       "      <td>0.244714</td>\n",
       "      <td>16</td>\n",
       "      <td>0.695678</td>\n",
       "      <td>0.686081</td>\n",
       "      <td>0.317351</td>\n",
       "      <td>20</td>\n",
       "      <td>0.130631</td>\n",
       "      <td>0.0486898</td>\n",
       "      <td>0.0653253</td>\n",
       "      <td>NeuralLogicRec</td>\n",
       "      <td>4</td>\n",
       "      <td>4096</td>\n",
       "      <td>0.894219</td>\n",
       "      <td>0.715675</td>\n",
       "      <td>10</td>\n",
       "      <td>44</td>\n",
       "      <td>28</td>\n",
       "    </tr>\n",
       "    <tr>\n",
       "      <th>34</th>\n",
       "      <td>0.14488</td>\n",
       "      <td>48</td>\n",
       "      <td>0.359529</td>\n",
       "      <td>0.360956</td>\n",
       "      <td>16</td>\n",
       "      <td>0.925628</td>\n",
       "      <td>0.926339</td>\n",
       "      <td>0.36095</td>\n",
       "      <td>10</td>\n",
       "      <td>0.0225225</td>\n",
       "      <td>0.00886333</td>\n",
       "      <td>0.011952</td>\n",
       "      <td>NeuralLogicRec</td>\n",
       "      <td>4</td>\n",
       "      <td>4096</td>\n",
       "      <td>NaN</td>\n",
       "      <td>0</td>\n",
       "      <td>155</td>\n",
       "      <td>725</td>\n",
       "      <td>493</td>\n",
       "    </tr>\n",
       "    <tr>\n",
       "      <th>35</th>\n",
       "      <td>0.719719</td>\n",
       "      <td>48</td>\n",
       "      <td>0.230198</td>\n",
       "      <td>0.215628</td>\n",
       "      <td>16</td>\n",
       "      <td>0.656374</td>\n",
       "      <td>0.647145</td>\n",
       "      <td>0.306987</td>\n",
       "      <td>20</td>\n",
       "      <td>0.157658</td>\n",
       "      <td>0.0590371</td>\n",
       "      <td>0.075961</td>\n",
       "      <td>NeuralLogicRec</td>\n",
       "      <td>4</td>\n",
       "      <td>4096</td>\n",
       "      <td>0.896196</td>\n",
       "      <td>0.757699</td>\n",
       "      <td>9</td>\n",
       "      <td>48</td>\n",
       "      <td>32</td>\n",
       "    </tr>\n",
       "  </tbody>\n",
       "</table>\n",
       "</div>"
      ],
      "text/plain": [
       "    accuracy  batch_size diversity@10 diversity@5  embedding_dim    epc@10  \\\n",
       "31   0.85512          48     0.379929    0.379514             16   0.94049   \n",
       "32   0.14488          48     0.381286    0.382869             16  0.954313   \n",
       "33  0.688353          48     0.254615    0.244714             16  0.695678   \n",
       "34   0.14488          48     0.359529    0.360956             16  0.925628   \n",
       "35  0.719719          48     0.230198    0.215628             16  0.656374   \n",
       "\n",
       "       epc@5     epd@5  epochs_trained       map@1      map@10       map@5  \\\n",
       "31  0.934018  0.371503              10   0.0135135  0.00329663   0.0039039   \n",
       "32  0.955793  0.375358              10  0.00900901  0.00311859  0.00503003   \n",
       "33  0.686081  0.317351              20    0.130631   0.0486898   0.0653253   \n",
       "34  0.926339   0.36095              10   0.0225225  0.00886333    0.011952   \n",
       "35  0.647145  0.306987              20    0.157658   0.0590371    0.075961   \n",
       "\n",
       "              name  nr_hidden_layers  nr_item_samples precision    recall  \\\n",
       "31  NeuralLogicRec                 4             4096   0.85512         1   \n",
       "32  NeuralLogicRec                 4             4096       NaN         0   \n",
       "33  NeuralLogicRec                 4             4096  0.894219  0.715675   \n",
       "34  NeuralLogicRec                 4             4096       NaN         0   \n",
       "35  NeuralLogicRec                 4             4096  0.896196  0.757699   \n",
       "\n",
       "   unique@1 unique@10 unique@5  \n",
       "31       41       272      154  \n",
       "32       72       277      193  \n",
       "33       10        44       28  \n",
       "34      155       725      493  \n",
       "35        9        48       32  "
      ]
     },
     "execution_count": 432,
     "metadata": {},
     "output_type": "execute_result"
    }
   ],
   "source": [
    "pd.DataFrame(evals).tail()\n",
    "# pd.DataFrame(eval_per_epcoh)"
   ]
  },
  {
   "cell_type": "code",
   "execution_count": 430,
   "metadata": {},
   "outputs": [
    {
     "name": "stdout",
     "output_type": "stream",
     "text": [
      "[[0.04461825 0.07001454 0.07251677 ... 0.46985802 0.47034782 0.4707997 ]\n",
      " [0.06302831 0.09506053 0.09548745 ... 0.46599618 0.46654314 0.46694294]\n",
      " [0.04147524 0.06529918 0.06756973 ... 0.46791163 0.4690586  0.46919516]\n",
      " ...\n",
      " [0.05938116 0.08775127 0.09082821 ... 0.46407378 0.4641957  0.46419656]\n",
      " [0.03280231 0.05258277 0.05364361 ... 0.46555996 0.46593317 0.4665666 ]\n",
      " [0.06234038 0.09997848 0.10272777 ... 0.46644256 0.4665259  0.4677803 ]]\n"
     ]
    },
    {
     "data": {
      "text/plain": [
       "array([  132,   247,   483,  2992,  4786,  4838,  7401,  9070,  9684,\n",
       "       10061])"
      ]
     },
     "execution_count": 430,
     "metadata": {},
     "output_type": "execute_result"
    }
   ],
   "source": [
    "# print(np.flip(np.argsort(nlr.predict_single_user(3))))\n",
    "\n",
    "pp = nlr.model(np.arange(10))\n",
    "print(np.sort(pp['rec']))\n",
    "top_1 = np.flip(np.argsort(pp['rec']))\n",
    "np.unique(top_1[:,0])"
   ]
  },
  {
   "cell_type": "code",
   "execution_count": 420,
   "metadata": {},
   "outputs": [
    {
     "data": {
      "text/plain": [
       "array([9.4366103e-02, 8.8392317e-02, 7.7841699e-02, ..., 7.0035458e-06,\n",
       "       5.9604645e-06, 5.6326389e-06], dtype=float32)"
      ]
     },
     "execution_count": 420,
     "metadata": {},
     "output_type": "execute_result"
    }
   ],
   "source": [
    "estimations =  nlr.model([0,1,2,3,4,5])\n",
    "np.flip(np.sort(estimations['novel']))"
   ]
  },
  {
   "cell_type": "code",
   "execution_count": 100,
   "metadata": {},
   "outputs": [
    {
     "name": "stdout",
     "output_type": "stream",
     "text": [
      "(3, 10)\n",
      "tf.Tensor(\n",
      "[[200 201 202 203 204 205 206 207 208 209]\n",
      " [100 101 102 103 104 105 106 107 108 109]\n",
      " [300 301 302 303 304 305 306 307 308 309]], shape=(3, 10), dtype=int64)\n",
      "tf.Tensor(\n",
      "[[200 203 206 209 102 105 108 301 304 307]\n",
      " [201 204 207 100 103 106 109 302 305 308]\n",
      " [202 205 208 101 104 107 300 303 306 309]], shape=(3, 10), dtype=int64)\n"
     ]
    }
   ],
   "source": [
    "num_movies = 10\n",
    "num_user = 3\n",
    "rated = tf.convert_to_tensor(np.arange(num_movies * num_user).reshape([num_user, num_movies]))\n",
    "seen = tf.convert_to_tensor(np.arange(num_movies * num_user, num_movies * num_user * 2).reshape([num_user, num_movies]))\n",
    "movies = tf.tile(tf.expand_dims(tf.convert_to_tensor(np.arange(num_movies).reshape(num_movies, 1)), axis=0), [num_user, 1, 1])\n",
    "users = tf.tile(tf.expand_dims(tf.convert_to_tensor([[200], [100], [300]],dtype=tf.int64), axis=1), [1, num_movies, 1])\n",
    "# print(movies)\n",
    "# print(users)\n",
    "res = (tf.concat([users, movies], axis=-1))\n",
    "res = tf.reduce_sum(res, axis=-1)\n",
    "print(res.shape)\n",
    "print(res)\n",
    "a = tf.reshape(res, [num_movies, num_user])\n",
    "print(tf.transpose(a))\n"
   ]
  },
  {
   "cell_type": "code",
   "execution_count": 415,
   "metadata": {},
   "outputs": [
    {
     "data": {
      "image/png": "[encoded data removed]",
      "text/plain": [
       "<Figure size 432x288 with 1 Axes>"
      ]
     },
     "metadata": {},
     "output_type": "display_data"
    },
    {
     "data": {
      "image/png": "[encoded data removed]",
      "text/plain": [
       "<Figure size 432x288 with 1 Axes>"
      ]
     },
     "metadata": {},
     "output_type": "display_data"
    }
   ],
   "source": [
    "eval_data = pd.DataFrame(evals)[:10]\n",
    "eval_data = eval_data.sort_values(by='diversity@5')\n",
    "import matplotlib.pyplot as plt\n",
    "plt.plot(eval_data['diversity@5'], eval_data['map@1'])\n",
    "plt.show()\n",
    "plt.bar(eval_data.index, eval_data['map@1'])\n",
    "plt.show()"
   ]
  },
  {
   "cell_type": "code",
   "execution_count": 361,
   "metadata": {},
   "outputs": [
    {
     "name": "stdout",
     "output_type": "stream",
     "text": [
      "tf.Tensor(\n",
      "[[0.5348855  0.4261676  0.6748345  0.947036  ]\n",
      " [0.6216029  0.5945157  0.20591366 0.4074974 ]], shape=(2, 4), dtype=float32)\n",
      "tf.Tensor([0.93067133 0.44795012 0.76219654 0.6605954 ], shape=(4,), dtype=float32)\n"
     ]
    }
   ],
   "source": []
  },
  {
   "cell_type": "code",
   "execution_count": 352,
   "metadata": {},
   "outputs": [
    {
     "data": {
      "text/plain": [
       "<tf.Tensor: id=28495684, shape=(4, 2), dtype=float32, numpy=\n",
       "array([[0.04003942, 0.        ],\n",
       "       [0.51560414, 0.        ],\n",
       "       [0.06803727, 0.        ],\n",
       "       [0.21156752, 0.        ]], dtype=float32)>"
      ]
     },
     "execution_count": 352,
     "metadata": {},
     "output_type": "execute_result"
    }
   ],
   "source": [
    "tf.gather(a, [0, 2], axis=1)"
   ]
  },
  {
   "cell_type": "code",
   "execution_count": 353,
   "metadata": {},
   "outputs": [
    {
     "data": {
      "text/plain": [
       "<tf.Tensor: id=28495687, shape=(), dtype=float32, numpy=0.04003942>"
      ]
     },
     "execution_count": 353,
     "metadata": {},
     "output_type": "execute_result"
    }
   ],
   "source": [
    "tf.gather_nd(a, [0,0])"
   ]
  },
  {
   "cell_type": "code",
   "execution_count": 362,
   "metadata": {},
   "outputs": [
    {
     "data": {
      "text/plain": [
       "<tf.Tensor: id=28495748, shape=(2, 4), dtype=float32, numpy=\n",
       "array([[1.4655569 , 0.87411773, 1.437031  , 1.6076314 ],\n",
       "       [1.5522742 , 1.0424658 , 0.9681102 , 1.0680928 ]], dtype=float32)>"
      ]
     },
     "execution_count": 362,
     "metadata": {},
     "output_type": "execute_result"
    }
   ],
   "source": [
    "b + a"
   ]
  },
  {
   "cell_type": "code",
   "execution_count": 364,
   "metadata": {},
   "outputs": [
    {
     "data": {
      "text/plain": [
       "<tf.Tensor: id=28495750, shape=(2, 4), dtype=float32, numpy=\n",
       "array([[1.4655569 , 0.87411773, 1.437031  , 1.6076314 ],\n",
       "       [1.5522742 , 1.0424658 , 0.9681102 , 1.0680928 ]], dtype=float32)>"
      ]
     },
     "execution_count": 364,
     "metadata": {},
     "output_type": "execute_result"
    }
   ],
   "source": [
    "a + b"
   ]
  },
  {
   "cell_type": "code",
   "execution_count": null,
   "metadata": {},
   "outputs": [],
   "source": []
  }
 ],
 "metadata": {
  "kernelspec": {
   "display_name": "conda_tensorflow_p36",
   "language": "python",
   "name": "conda_tensorflow_p36"
  },
  "language_info": {
   "codemirror_mode": {
    "name": "ipython",
    "version": 3
   },
   "file_extension": ".py",
   "mimetype": "text/x-python",
   "name": "python",
   "nbconvert_exporter": "python",
   "pygments_lexer": "ipython3",
   "version": "3.6.5"
  }
 },
 "nbformat": 4,
 "nbformat_minor": 4
}
