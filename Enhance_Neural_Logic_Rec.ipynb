{
 "cells": [
  {
   "cell_type": "code",
   "execution_count": 183,
   "metadata": {},
   "outputs": [],
   "source": [
    "evals = list()"
   ]
  },
  {
   "cell_type": "code",
   "execution_count": 239,
   "metadata": {},
   "outputs": [],
   "source": [
    "import utils.common\n",
    "import evaluation\n",
    "import importlib\n",
    "import numpy as np\n",
    "import time\n",
    "from models.ConstraintAutoRec import ConstraintAutoRec \n",
    "import models.NeuralLogicRec\n",
    "import tensorflow as tf\n",
    "import pandas as pd\n",
    "\n",
    "importlib.reload(utils.common)\n",
    "importlib.reload(evaluation)\n",
    "importlib.reload(models.NeuralLogicRec)\n",
    "import itertools\n",
    "\n",
    "ml_small = utils.common.ml_small\n",
    "ml_big = utils.common.movie_lens\n"
   ]
  },
  {
   "cell_type": "code",
   "execution_count": 240,
   "metadata": {
    "scrolled": true
   },
   "outputs": [],
   "source": [
    "ev = evaluation.Evaluation(ml_small)"
   ]
  },
  {
   "cell_type": "code",
   "execution_count": 241,
   "metadata": {},
   "outputs": [],
   "source": [
    "nlr = models.NeuralLogicRec.NLR(ml_small['user'], ml_small['dimensions'], epochs=10, embedding_dim=16, batch_size=20)"
   ]
  },
  {
   "cell_type": "code",
   "execution_count": 246,
   "metadata": {
    "scrolled": true
   },
   "outputs": [
    {
     "name": "stdout",
     "output_type": "stream",
     "text": [
      "Epoch #0 Loss at step 30: 0.1365, time: 3.459. Train accuracy 0.623, Validation accuracy 0.167\n",
      "Epoch #1 Loss at step 30: 0.1402, time: 3.388. Train accuracy 0.617, Validation accuracy 0.239\n",
      "Epoch #2 Loss at step 30: 0.1149, time: 3.346. Train accuracy 0.632, Validation accuracy 0.219\n",
      "Epoch #3 Loss at step 30: 0.1333, time: 3.364. Train accuracy 0.614, Validation accuracy 0.243\n",
      "Epoch #4 Loss at step 30: 0.1315, time: 3.353. Train accuracy 0.635, Validation accuracy 0.279\n",
      "Epoch #5 Loss at step 30: 0.1377, time: 3.368. Train accuracy 0.634, Validation accuracy 0.283\n",
      "Epoch #6 Loss at step 30: 0.1277, time: 3.349. Train accuracy 0.595, Validation accuracy 0.225\n",
      "Epoch #7 Loss at step 30: 0.1085, time: 3.380. Train accuracy 0.607, Validation accuracy 0.211\n",
      "Epoch #8 Loss at step 30: 0.1107, time: 3.368. Train accuracy 0.617, Validation accuracy 0.276\n",
      "Epoch #9 Loss at step 30: 0.1179, time: 3.361. Train accuracy 0.601, Validation accuracy 0.200\n",
      "Batch nr 1 predicted\n",
      "Batch nr 2 predicted\n"
     ]
    }
   ],
   "source": [
    "nlr.train(utils.common.load_dataset(ml_small), ml_small['train']['records'])\n",
    "evals.append(ev.evaluate_single_thread(nlr))"
   ]
  },
  {
   "cell_type": "code",
   "execution_count": 247,
   "metadata": {},
   "outputs": [
    {
     "data": {
      "text/html": [
       "<div>\n",
       "<style scoped>\n",
       "    .dataframe tbody tr th:only-of-type {\n",
       "        vertical-align: middle;\n",
       "    }\n",
       "\n",
       "    .dataframe tbody tr th {\n",
       "        vertical-align: top;\n",
       "    }\n",
       "\n",
       "    .dataframe thead th {\n",
       "        text-align: right;\n",
       "    }\n",
       "</style>\n",
       "<table border=\"1\" class=\"dataframe\">\n",
       "  <thead>\n",
       "    <tr style=\"text-align: right;\">\n",
       "      <th></th>\n",
       "      <th>accuracy</th>\n",
       "      <th>batch_size</th>\n",
       "      <th>diversity@10</th>\n",
       "      <th>diversity@5</th>\n",
       "      <th>epc@10</th>\n",
       "      <th>epc@5</th>\n",
       "      <th>epd@5</th>\n",
       "      <th>epochs</th>\n",
       "      <th>latent_dim</th>\n",
       "      <th>map@1</th>\n",
       "      <th>map@10</th>\n",
       "      <th>map@5</th>\n",
       "      <th>name</th>\n",
       "      <th>precision</th>\n",
       "      <th>recall</th>\n",
       "    </tr>\n",
       "  </thead>\n",
       "  <tbody>\n",
       "    <tr>\n",
       "      <th>0</th>\n",
       "      <td>0.167968</td>\n",
       "      <td>8</td>\n",
       "      <td>0.381171</td>\n",
       "      <td>0.384767</td>\n",
       "      <td>0.987122</td>\n",
       "      <td>0.986118</td>\n",
       "      <td>0.382341</td>\n",
       "      <td>10</td>\n",
       "      <td>128</td>\n",
       "      <td>0.000000</td>\n",
       "      <td>0.000496</td>\n",
       "      <td>0.000480</td>\n",
       "      <td>NeuralLogicRec</td>\n",
       "      <td>0.861433</td>\n",
       "      <td>0.035780</td>\n",
       "    </tr>\n",
       "    <tr>\n",
       "      <th>1</th>\n",
       "      <td>0.172094</td>\n",
       "      <td>20</td>\n",
       "      <td>0.383206</td>\n",
       "      <td>0.385601</td>\n",
       "      <td>0.980408</td>\n",
       "      <td>0.975676</td>\n",
       "      <td>0.380676</td>\n",
       "      <td>10</td>\n",
       "      <td>128</td>\n",
       "      <td>0.018018</td>\n",
       "      <td>0.002477</td>\n",
       "      <td>0.004204</td>\n",
       "      <td>NeuralLogicRec</td>\n",
       "      <td>0.873832</td>\n",
       "      <td>0.040192</td>\n",
       "    </tr>\n",
       "    <tr>\n",
       "      <th>2</th>\n",
       "      <td>0.144880</td>\n",
       "      <td>20</td>\n",
       "      <td>0.378521</td>\n",
       "      <td>0.377755</td>\n",
       "      <td>0.987558</td>\n",
       "      <td>0.987802</td>\n",
       "      <td>0.379148</td>\n",
       "      <td>10</td>\n",
       "      <td>128</td>\n",
       "      <td>0.000000</td>\n",
       "      <td>0.000394</td>\n",
       "      <td>0.000450</td>\n",
       "      <td>NeuralLogicRec</td>\n",
       "      <td>NaN</td>\n",
       "      <td>0.000000</td>\n",
       "    </tr>\n",
       "    <tr>\n",
       "      <th>3</th>\n",
       "      <td>0.144880</td>\n",
       "      <td>20</td>\n",
       "      <td>0.383063</td>\n",
       "      <td>0.380426</td>\n",
       "      <td>0.985683</td>\n",
       "      <td>0.985406</td>\n",
       "      <td>0.379210</td>\n",
       "      <td>10</td>\n",
       "      <td>128</td>\n",
       "      <td>0.009009</td>\n",
       "      <td>0.001139</td>\n",
       "      <td>0.002027</td>\n",
       "      <td>NeuralLogicRec</td>\n",
       "      <td>NaN</td>\n",
       "      <td>0.000000</td>\n",
       "    </tr>\n",
       "    <tr>\n",
       "      <th>4</th>\n",
       "      <td>0.161427</td>\n",
       "      <td>20</td>\n",
       "      <td>0.382450</td>\n",
       "      <td>0.383443</td>\n",
       "      <td>0.984011</td>\n",
       "      <td>0.983200</td>\n",
       "      <td>0.378511</td>\n",
       "      <td>10</td>\n",
       "      <td>128</td>\n",
       "      <td>0.009009</td>\n",
       "      <td>0.001443</td>\n",
       "      <td>0.001982</td>\n",
       "      <td>NeuralLogicRec</td>\n",
       "      <td>0.919403</td>\n",
       "      <td>0.025134</td>\n",
       "    </tr>\n",
       "    <tr>\n",
       "      <th>5</th>\n",
       "      <td>0.169110</td>\n",
       "      <td>20</td>\n",
       "      <td>0.381901</td>\n",
       "      <td>0.385050</td>\n",
       "      <td>0.986402</td>\n",
       "      <td>0.986434</td>\n",
       "      <td>0.379663</td>\n",
       "      <td>10</td>\n",
       "      <td>128</td>\n",
       "      <td>0.000000</td>\n",
       "      <td>0.001070</td>\n",
       "      <td>0.001682</td>\n",
       "      <td>NeuralLogicRec</td>\n",
       "      <td>0.838738</td>\n",
       "      <td>0.038432</td>\n",
       "    </tr>\n",
       "    <tr>\n",
       "      <th>6</th>\n",
       "      <td>0.147895</td>\n",
       "      <td>20</td>\n",
       "      <td>0.385040</td>\n",
       "      <td>0.381381</td>\n",
       "      <td>0.986572</td>\n",
       "      <td>0.986585</td>\n",
       "      <td>0.383449</td>\n",
       "      <td>10</td>\n",
       "      <td>128</td>\n",
       "      <td>0.000000</td>\n",
       "      <td>0.000203</td>\n",
       "      <td>0.000180</td>\n",
       "      <td>NeuralLogicRec</td>\n",
       "      <td>0.714286</td>\n",
       "      <td>0.004095</td>\n",
       "    </tr>\n",
       "    <tr>\n",
       "      <th>7</th>\n",
       "      <td>0.229055</td>\n",
       "      <td>20</td>\n",
       "      <td>0.382462</td>\n",
       "      <td>0.379304</td>\n",
       "      <td>0.988317</td>\n",
       "      <td>0.987800</td>\n",
       "      <td>0.380509</td>\n",
       "      <td>10</td>\n",
       "      <td>128</td>\n",
       "      <td>0.000000</td>\n",
       "      <td>0.000774</td>\n",
       "      <td>0.000751</td>\n",
       "      <td>NeuralLogicRec</td>\n",
       "      <td>0.853564</td>\n",
       "      <td>0.119580</td>\n",
       "    </tr>\n",
       "    <tr>\n",
       "      <th>8</th>\n",
       "      <td>0.235913</td>\n",
       "      <td>20</td>\n",
       "      <td>0.384827</td>\n",
       "      <td>0.383411</td>\n",
       "      <td>0.987777</td>\n",
       "      <td>0.988526</td>\n",
       "      <td>0.382356</td>\n",
       "      <td>10</td>\n",
       "      <td>128</td>\n",
       "      <td>0.004505</td>\n",
       "      <td>0.000846</td>\n",
       "      <td>0.001351</td>\n",
       "      <td>NeuralLogicRec</td>\n",
       "      <td>0.852655</td>\n",
       "      <td>0.130012</td>\n",
       "    </tr>\n",
       "    <tr>\n",
       "      <th>9</th>\n",
       "      <td>0.212974</td>\n",
       "      <td>20</td>\n",
       "      <td>0.382188</td>\n",
       "      <td>0.381707</td>\n",
       "      <td>0.986930</td>\n",
       "      <td>0.986719</td>\n",
       "      <td>0.379838</td>\n",
       "      <td>10</td>\n",
       "      <td>128</td>\n",
       "      <td>0.000000</td>\n",
       "      <td>0.000163</td>\n",
       "      <td>0.000225</td>\n",
       "      <td>NeuralLogicRec</td>\n",
       "      <td>0.883370</td>\n",
       "      <td>0.086530</td>\n",
       "    </tr>\n",
       "    <tr>\n",
       "      <th>10</th>\n",
       "      <td>0.243060</td>\n",
       "      <td>20</td>\n",
       "      <td>0.383932</td>\n",
       "      <td>0.386537</td>\n",
       "      <td>0.986385</td>\n",
       "      <td>0.986171</td>\n",
       "      <td>0.381909</td>\n",
       "      <td>10</td>\n",
       "      <td>128</td>\n",
       "      <td>0.000000</td>\n",
       "      <td>0.000959</td>\n",
       "      <td>0.001291</td>\n",
       "      <td>NeuralLogicRec</td>\n",
       "      <td>0.856093</td>\n",
       "      <td>0.135798</td>\n",
       "    </tr>\n",
       "    <tr>\n",
       "      <th>11</th>\n",
       "      <td>0.228750</td>\n",
       "      <td>20</td>\n",
       "      <td>0.378998</td>\n",
       "      <td>0.378926</td>\n",
       "      <td>0.981973</td>\n",
       "      <td>0.980920</td>\n",
       "      <td>0.376872</td>\n",
       "      <td>10</td>\n",
       "      <td>128</td>\n",
       "      <td>0.004505</td>\n",
       "      <td>0.001680</td>\n",
       "      <td>0.002733</td>\n",
       "      <td>NeuralLogicRec</td>\n",
       "      <td>0.853849</td>\n",
       "      <td>0.118887</td>\n",
       "    </tr>\n",
       "    <tr>\n",
       "      <th>12</th>\n",
       "      <td>0.238262</td>\n",
       "      <td>20</td>\n",
       "      <td>0.383543</td>\n",
       "      <td>0.382223</td>\n",
       "      <td>0.985308</td>\n",
       "      <td>0.985117</td>\n",
       "      <td>0.382440</td>\n",
       "      <td>10</td>\n",
       "      <td>128</td>\n",
       "      <td>0.000000</td>\n",
       "      <td>0.000850</td>\n",
       "      <td>0.001126</td>\n",
       "      <td>NeuralLogicRec</td>\n",
       "      <td>0.857282</td>\n",
       "      <td>0.129169</td>\n",
       "    </tr>\n",
       "    <tr>\n",
       "      <th>13</th>\n",
       "      <td>0.242807</td>\n",
       "      <td>20</td>\n",
       "      <td>0.382624</td>\n",
       "      <td>0.383405</td>\n",
       "      <td>0.984954</td>\n",
       "      <td>0.984258</td>\n",
       "      <td>0.383642</td>\n",
       "      <td>10</td>\n",
       "      <td>128</td>\n",
       "      <td>0.000000</td>\n",
       "      <td>0.000756</td>\n",
       "      <td>0.000676</td>\n",
       "      <td>NeuralLogicRec</td>\n",
       "      <td>0.850455</td>\n",
       "      <td>0.142427</td>\n",
       "    </tr>\n",
       "    <tr>\n",
       "      <th>14</th>\n",
       "      <td>0.243559</td>\n",
       "      <td>20</td>\n",
       "      <td>0.381546</td>\n",
       "      <td>0.378939</td>\n",
       "      <td>0.984872</td>\n",
       "      <td>0.984545</td>\n",
       "      <td>0.380034</td>\n",
       "      <td>10</td>\n",
       "      <td>128</td>\n",
       "      <td>0.004505</td>\n",
       "      <td>0.000901</td>\n",
       "      <td>0.001261</td>\n",
       "      <td>NeuralLogicRec</td>\n",
       "      <td>0.852199</td>\n",
       "      <td>0.140607</td>\n",
       "    </tr>\n",
       "  </tbody>\n",
       "</table>\n",
       "</div>"
      ],
      "text/plain": [
       "    accuracy  batch_size  diversity@10  diversity@5    epc@10     epc@5  \\\n",
       "0   0.167968           8      0.381171     0.384767  0.987122  0.986118   \n",
       "1   0.172094          20      0.383206     0.385601  0.980408  0.975676   \n",
       "2   0.144880          20      0.378521     0.377755  0.987558  0.987802   \n",
       "3   0.144880          20      0.383063     0.380426  0.985683  0.985406   \n",
       "4   0.161427          20      0.382450     0.383443  0.984011  0.983200   \n",
       "5   0.169110          20      0.381901     0.385050  0.986402  0.986434   \n",
       "6   0.147895          20      0.385040     0.381381  0.986572  0.986585   \n",
       "7   0.229055          20      0.382462     0.379304  0.988317  0.987800   \n",
       "8   0.235913          20      0.384827     0.383411  0.987777  0.988526   \n",
       "9   0.212974          20      0.382188     0.381707  0.986930  0.986719   \n",
       "10  0.243060          20      0.383932     0.386537  0.986385  0.986171   \n",
       "11  0.228750          20      0.378998     0.378926  0.981973  0.980920   \n",
       "12  0.238262          20      0.383543     0.382223  0.985308  0.985117   \n",
       "13  0.242807          20      0.382624     0.383405  0.984954  0.984258   \n",
       "14  0.243559          20      0.381546     0.378939  0.984872  0.984545   \n",
       "\n",
       "       epd@5  epochs  latent_dim     map@1    map@10     map@5  \\\n",
       "0   0.382341      10         128  0.000000  0.000496  0.000480   \n",
       "1   0.380676      10         128  0.018018  0.002477  0.004204   \n",
       "2   0.379148      10         128  0.000000  0.000394  0.000450   \n",
       "3   0.379210      10         128  0.009009  0.001139  0.002027   \n",
       "4   0.378511      10         128  0.009009  0.001443  0.001982   \n",
       "5   0.379663      10         128  0.000000  0.001070  0.001682   \n",
       "6   0.383449      10         128  0.000000  0.000203  0.000180   \n",
       "7   0.380509      10         128  0.000000  0.000774  0.000751   \n",
       "8   0.382356      10         128  0.004505  0.000846  0.001351   \n",
       "9   0.379838      10         128  0.000000  0.000163  0.000225   \n",
       "10  0.381909      10         128  0.000000  0.000959  0.001291   \n",
       "11  0.376872      10         128  0.004505  0.001680  0.002733   \n",
       "12  0.382440      10         128  0.000000  0.000850  0.001126   \n",
       "13  0.383642      10         128  0.000000  0.000756  0.000676   \n",
       "14  0.380034      10         128  0.004505  0.000901  0.001261   \n",
       "\n",
       "              name  precision    recall  \n",
       "0   NeuralLogicRec   0.861433  0.035780  \n",
       "1   NeuralLogicRec   0.873832  0.040192  \n",
       "2   NeuralLogicRec        NaN  0.000000  \n",
       "3   NeuralLogicRec        NaN  0.000000  \n",
       "4   NeuralLogicRec   0.919403  0.025134  \n",
       "5   NeuralLogicRec   0.838738  0.038432  \n",
       "6   NeuralLogicRec   0.714286  0.004095  \n",
       "7   NeuralLogicRec   0.853564  0.119580  \n",
       "8   NeuralLogicRec   0.852655  0.130012  \n",
       "9   NeuralLogicRec   0.883370  0.086530  \n",
       "10  NeuralLogicRec   0.856093  0.135798  \n",
       "11  NeuralLogicRec   0.853849  0.118887  \n",
       "12  NeuralLogicRec   0.857282  0.129169  \n",
       "13  NeuralLogicRec   0.850455  0.142427  \n",
       "14  NeuralLogicRec   0.852199  0.140607  "
      ]
     },
     "execution_count": 247,
     "metadata": {},
     "output_type": "execute_result"
    }
   ],
   "source": [
    "pd.DataFrame(evals)"
   ]
  },
  {
   "cell_type": "code",
   "execution_count": 170,
   "metadata": {},
   "outputs": [
    {
     "name": "stdout",
     "output_type": "stream",
     "text": [
      "[[0.00142995 0.00326657 0.00341159 ... 0.5646297  0.5646297  0.5646297 ]]\n",
      "tf.Tensor(\n",
      "[[0.5646297  0.15429246 0.12063897 0.4047243  0.0911631  0.5646297\n",
      "  0.5646297  0.30203676 0.43148625 0.11856645]], shape=(1, 10), dtype=float32)\n",
      "tf.Tensor(\n",
      "[[0.4458373  0.23893094 0.1800633  0.42173564 0.12459189 0.4524185\n",
      "  0.45023888 0.28291112 0.4086203  0.14337033]], shape=(1, 10), dtype=float32)\n",
      "0.10416411\n"
     ]
    }
   ],
   "source": [
    "# print(np.flip(np.argsort(nlr.predict_single_user(3))))\n",
    "pred = nlr.model([4])\n",
    "# inf = models.NeuralLogicRec.map_inference(nlr.model, pred)\n",
    "print(np.sort(pred['likes']))\n",
    "print(pred['likes'][:,10:20])\n",
    "print(pred['rated'][:,10:20])\n",
    "print(pred['rated'].numpy().mean())\n",
    "# print(np.sort(inf['likes'].numpy()))\n",
    "# nlr.model(np.array(1), np.array(1))\n",
    "# ev.evaluate(nlr)\n",
    "# pred = nlr.model(tf.convert_to_tensor([1, 2, 3], dtype=tf.int32))"
   ]
  },
  {
   "cell_type": "code",
   "execution_count": 85,
   "metadata": {},
   "outputs": [
    {
     "data": {
      "text/plain": [
       "2.0"
      ]
     },
     "execution_count": 85,
     "metadata": {},
     "output_type": "execute_result"
    }
   ],
   "source": [
    "a = [1,2,3]\n",
    "np.mean(a)"
   ]
  },
  {
   "cell_type": "code",
   "execution_count": 86,
   "metadata": {},
   "outputs": [
    {
     "name": "stdout",
     "output_type": "stream",
     "text": [
      "tf.Tensor(\n",
      "[[ True False False  True False False  True False False  True]\n",
      " [False False  True False False  True False False  True False]\n",
      " [False  True False False  True False False  True False False]], shape=(3, 10), dtype=bool)\n",
      "tf.Tensor(\n",
      "[[30 31 32 33 34 35 36 37 38 39]\n",
      " [40 41 42 43 44 45 46 47 48 49]\n",
      " [50 51 52 53 54 55 56 57 58 59]], shape=(3, 10), dtype=int64)\n"
     ]
    }
   ],
   "source": [
    "num_movies = 10\n",
    "num_user = 3\n",
    "rated = tf.convert_to_tensor(np.arange(num_movies * num_user).reshape([num_user, num_movies]) % 3 == 0)\n",
    "seen = tf.convert_to_tensor(np.arange(num_movies * num_user, num_movies * num_user * 2).reshape([num_user, num_movies]))\n",
    "users = tf.convert_to_tensor(np.arange(num_user))\n",
    "users = tf.convert_to_tensor([20, 10, 5, 0, 40])\n",
    "print(rated)\n",
    "print(seen)"
   ]
  },
  {
   "cell_type": "code",
   "execution_count": 87,
   "metadata": {},
   "outputs": [
    {
     "name": "stdout",
     "output_type": "stream",
     "text": [
      "tf.Tensor(\n",
      "[[20 10]\n",
      " [20  5]\n",
      " [20  0]\n",
      " [20 40]\n",
      " [10 20]\n",
      " [10  5]\n",
      " [10  0]\n",
      " [10 40]\n",
      " [ 5 20]\n",
      " [ 5 10]\n",
      " [ 5  0]\n",
      " [ 5 40]\n",
      " [ 0 20]\n",
      " [ 0 10]\n",
      " [ 0  5]\n",
      " [ 0 40]\n",
      " [40 20]\n",
      " [40 10]\n",
      " [40  5]\n",
      " [40  0]], shape=(20, 2), dtype=int32)\n"
     ]
    },
    {
     "ename": "InvalidArgumentError",
     "evalue": "slice index 3 of dimension 0 out of bounds. [Op:StridedSlice] name: strided_slice/",
     "output_type": "error",
     "traceback": [
      "\u001b[0;31m---------------------------------------------------------------------------\u001b[0m",
      "\u001b[0;31mInvalidArgumentError\u001b[0m                      Traceback (most recent call last)",
      "\u001b[0;32m<ipython-input-87-0c6b31a13617>\u001b[0m in \u001b[0;36m<module>\u001b[0;34m\u001b[0m\n\u001b[1;32m      1\u001b[0m \u001b[0muser_cross\u001b[0m \u001b[0;34m=\u001b[0m \u001b[0mtf\u001b[0m\u001b[0;34m.\u001b[0m\u001b[0mconvert_to_tensor\u001b[0m\u001b[0;34m(\u001b[0m\u001b[0;34m[\u001b[0m\u001b[0mx\u001b[0m \u001b[0;32mfor\u001b[0m \u001b[0mx\u001b[0m \u001b[0;32min\u001b[0m \u001b[0mitertools\u001b[0m\u001b[0;34m.\u001b[0m\u001b[0mpermutations\u001b[0m\u001b[0;34m(\u001b[0m\u001b[0musers\u001b[0m\u001b[0;34m.\u001b[0m\u001b[0mnumpy\u001b[0m\u001b[0;34m(\u001b[0m\u001b[0;34m)\u001b[0m\u001b[0;34m,\u001b[0m \u001b[0;36m2\u001b[0m\u001b[0;34m)\u001b[0m\u001b[0;34m]\u001b[0m\u001b[0;34m)\u001b[0m\u001b[0;34m\u001b[0m\u001b[0;34m\u001b[0m\u001b[0m\n\u001b[1;32m      2\u001b[0m \u001b[0mprint\u001b[0m\u001b[0;34m(\u001b[0m\u001b[0muser_cross\u001b[0m\u001b[0;34m)\u001b[0m\u001b[0;34m\u001b[0m\u001b[0;34m\u001b[0m\u001b[0m\n\u001b[0;32m----> 3\u001b[0;31m \u001b[0mrated_cross\u001b[0m \u001b[0;34m=\u001b[0m \u001b[0mtf\u001b[0m\u001b[0;34m.\u001b[0m\u001b[0mconvert_to_tensor\u001b[0m\u001b[0;34m(\u001b[0m\u001b[0;34m[\u001b[0m\u001b[0mtf\u001b[0m\u001b[0;34m.\u001b[0m\u001b[0mstack\u001b[0m\u001b[0;34m(\u001b[0m\u001b[0;34m[\u001b[0m\u001b[0mrated\u001b[0m\u001b[0;34m[\u001b[0m\u001b[0mx\u001b[0m\u001b[0;34m[\u001b[0m\u001b[0;36m0\u001b[0m\u001b[0;34m]\u001b[0m\u001b[0;34m]\u001b[0m\u001b[0;34m,\u001b[0m \u001b[0mrated\u001b[0m\u001b[0;34m[\u001b[0m\u001b[0mx\u001b[0m\u001b[0;34m[\u001b[0m\u001b[0;36m1\u001b[0m\u001b[0;34m]\u001b[0m\u001b[0;34m]\u001b[0m\u001b[0;34m]\u001b[0m\u001b[0;34m,\u001b[0m \u001b[0maxis\u001b[0m\u001b[0;34m=\u001b[0m\u001b[0;36m0\u001b[0m\u001b[0;34m)\u001b[0m \u001b[0;32mfor\u001b[0m \u001b[0mx\u001b[0m \u001b[0;32min\u001b[0m \u001b[0mitertools\u001b[0m\u001b[0;34m.\u001b[0m\u001b[0mpermutations\u001b[0m\u001b[0;34m(\u001b[0m\u001b[0mrange\u001b[0m\u001b[0;34m(\u001b[0m\u001b[0mlen\u001b[0m\u001b[0;34m(\u001b[0m\u001b[0musers\u001b[0m\u001b[0;34m.\u001b[0m\u001b[0mnumpy\u001b[0m\u001b[0;34m(\u001b[0m\u001b[0;34m)\u001b[0m\u001b[0;34m)\u001b[0m\u001b[0;34m)\u001b[0m\u001b[0;34m,\u001b[0m \u001b[0;36m2\u001b[0m\u001b[0;34m)\u001b[0m\u001b[0;34m]\u001b[0m\u001b[0;34m)\u001b[0m\u001b[0;34m\u001b[0m\u001b[0;34m\u001b[0m\u001b[0m\n\u001b[0m\u001b[1;32m      4\u001b[0m \u001b[0;31m# print(rated_cross)\u001b[0m\u001b[0;34m\u001b[0m\u001b[0;34m\u001b[0m\u001b[0;34m\u001b[0m\u001b[0m\n",
      "\u001b[0;32m<ipython-input-87-0c6b31a13617>\u001b[0m in \u001b[0;36m<listcomp>\u001b[0;34m(.0)\u001b[0m\n\u001b[1;32m      1\u001b[0m \u001b[0muser_cross\u001b[0m \u001b[0;34m=\u001b[0m \u001b[0mtf\u001b[0m\u001b[0;34m.\u001b[0m\u001b[0mconvert_to_tensor\u001b[0m\u001b[0;34m(\u001b[0m\u001b[0;34m[\u001b[0m\u001b[0mx\u001b[0m \u001b[0;32mfor\u001b[0m \u001b[0mx\u001b[0m \u001b[0;32min\u001b[0m \u001b[0mitertools\u001b[0m\u001b[0;34m.\u001b[0m\u001b[0mpermutations\u001b[0m\u001b[0;34m(\u001b[0m\u001b[0musers\u001b[0m\u001b[0;34m.\u001b[0m\u001b[0mnumpy\u001b[0m\u001b[0;34m(\u001b[0m\u001b[0;34m)\u001b[0m\u001b[0;34m,\u001b[0m \u001b[0;36m2\u001b[0m\u001b[0;34m)\u001b[0m\u001b[0;34m]\u001b[0m\u001b[0;34m)\u001b[0m\u001b[0;34m\u001b[0m\u001b[0;34m\u001b[0m\u001b[0m\n\u001b[1;32m      2\u001b[0m \u001b[0mprint\u001b[0m\u001b[0;34m(\u001b[0m\u001b[0muser_cross\u001b[0m\u001b[0;34m)\u001b[0m\u001b[0;34m\u001b[0m\u001b[0;34m\u001b[0m\u001b[0m\n\u001b[0;32m----> 3\u001b[0;31m \u001b[0mrated_cross\u001b[0m \u001b[0;34m=\u001b[0m \u001b[0mtf\u001b[0m\u001b[0;34m.\u001b[0m\u001b[0mconvert_to_tensor\u001b[0m\u001b[0;34m(\u001b[0m\u001b[0;34m[\u001b[0m\u001b[0mtf\u001b[0m\u001b[0;34m.\u001b[0m\u001b[0mstack\u001b[0m\u001b[0;34m(\u001b[0m\u001b[0;34m[\u001b[0m\u001b[0mrated\u001b[0m\u001b[0;34m[\u001b[0m\u001b[0mx\u001b[0m\u001b[0;34m[\u001b[0m\u001b[0;36m0\u001b[0m\u001b[0;34m]\u001b[0m\u001b[0;34m]\u001b[0m\u001b[0;34m,\u001b[0m \u001b[0mrated\u001b[0m\u001b[0;34m[\u001b[0m\u001b[0mx\u001b[0m\u001b[0;34m[\u001b[0m\u001b[0;36m1\u001b[0m\u001b[0;34m]\u001b[0m\u001b[0;34m]\u001b[0m\u001b[0;34m]\u001b[0m\u001b[0;34m,\u001b[0m \u001b[0maxis\u001b[0m\u001b[0;34m=\u001b[0m\u001b[0;36m0\u001b[0m\u001b[0;34m)\u001b[0m \u001b[0;32mfor\u001b[0m \u001b[0mx\u001b[0m \u001b[0;32min\u001b[0m \u001b[0mitertools\u001b[0m\u001b[0;34m.\u001b[0m\u001b[0mpermutations\u001b[0m\u001b[0;34m(\u001b[0m\u001b[0mrange\u001b[0m\u001b[0;34m(\u001b[0m\u001b[0mlen\u001b[0m\u001b[0;34m(\u001b[0m\u001b[0musers\u001b[0m\u001b[0;34m.\u001b[0m\u001b[0mnumpy\u001b[0m\u001b[0;34m(\u001b[0m\u001b[0;34m)\u001b[0m\u001b[0;34m)\u001b[0m\u001b[0;34m)\u001b[0m\u001b[0;34m,\u001b[0m \u001b[0;36m2\u001b[0m\u001b[0;34m)\u001b[0m\u001b[0;34m]\u001b[0m\u001b[0;34m)\u001b[0m\u001b[0;34m\u001b[0m\u001b[0;34m\u001b[0m\u001b[0m\n\u001b[0m\u001b[1;32m      4\u001b[0m \u001b[0;31m# print(rated_cross)\u001b[0m\u001b[0;34m\u001b[0m\u001b[0;34m\u001b[0m\u001b[0;34m\u001b[0m\u001b[0m\n",
      "\u001b[0;32m~/anaconda3/envs/tensorflow/lib/python3.7/site-packages/tensorflow/python/ops/array_ops.py\u001b[0m in \u001b[0;36m_slice_helper\u001b[0;34m(tensor, slice_spec, var)\u001b[0m\n\u001b[1;32m    678\u001b[0m         \u001b[0mellipsis_mask\u001b[0m\u001b[0;34m=\u001b[0m\u001b[0mellipsis_mask\u001b[0m\u001b[0;34m,\u001b[0m\u001b[0;34m\u001b[0m\u001b[0;34m\u001b[0m\u001b[0m\n\u001b[1;32m    679\u001b[0m         \u001b[0mvar\u001b[0m\u001b[0;34m=\u001b[0m\u001b[0mvar\u001b[0m\u001b[0;34m,\u001b[0m\u001b[0;34m\u001b[0m\u001b[0;34m\u001b[0m\u001b[0m\n\u001b[0;32m--> 680\u001b[0;31m         name=name)\n\u001b[0m\u001b[1;32m    681\u001b[0m \u001b[0;34m\u001b[0m\u001b[0m\n\u001b[1;32m    682\u001b[0m \u001b[0;34m\u001b[0m\u001b[0m\n",
      "\u001b[0;32m~/anaconda3/envs/tensorflow/lib/python3.7/site-packages/tensorflow/python/ops/array_ops.py\u001b[0m in \u001b[0;36mstrided_slice\u001b[0;34m(input_, begin, end, strides, begin_mask, end_mask, ellipsis_mask, new_axis_mask, shrink_axis_mask, var, name)\u001b[0m\n\u001b[1;32m    844\u001b[0m       \u001b[0mellipsis_mask\u001b[0m\u001b[0;34m=\u001b[0m\u001b[0mellipsis_mask\u001b[0m\u001b[0;34m,\u001b[0m\u001b[0;34m\u001b[0m\u001b[0;34m\u001b[0m\u001b[0m\n\u001b[1;32m    845\u001b[0m       \u001b[0mnew_axis_mask\u001b[0m\u001b[0;34m=\u001b[0m\u001b[0mnew_axis_mask\u001b[0m\u001b[0;34m,\u001b[0m\u001b[0;34m\u001b[0m\u001b[0;34m\u001b[0m\u001b[0m\n\u001b[0;32m--> 846\u001b[0;31m       shrink_axis_mask=shrink_axis_mask)\n\u001b[0m\u001b[1;32m    847\u001b[0m \u001b[0;34m\u001b[0m\u001b[0m\n\u001b[1;32m    848\u001b[0m   \u001b[0mparent_name\u001b[0m \u001b[0;34m=\u001b[0m \u001b[0mname\u001b[0m\u001b[0;34m\u001b[0m\u001b[0;34m\u001b[0m\u001b[0m\n",
      "\u001b[0;32m~/anaconda3/envs/tensorflow/lib/python3.7/site-packages/tensorflow/python/ops/gen_array_ops.py\u001b[0m in \u001b[0;36mstrided_slice\u001b[0;34m(input, begin, end, strides, begin_mask, end_mask, ellipsis_mask, new_axis_mask, shrink_axis_mask, name)\u001b[0m\n\u001b[1;32m   9965\u001b[0m       \u001b[0;32melse\u001b[0m\u001b[0;34m:\u001b[0m\u001b[0;34m\u001b[0m\u001b[0;34m\u001b[0m\u001b[0m\n\u001b[1;32m   9966\u001b[0m         \u001b[0mmessage\u001b[0m \u001b[0;34m=\u001b[0m \u001b[0me\u001b[0m\u001b[0;34m.\u001b[0m\u001b[0mmessage\u001b[0m\u001b[0;34m\u001b[0m\u001b[0;34m\u001b[0m\u001b[0m\n\u001b[0;32m-> 9967\u001b[0;31m       \u001b[0m_six\u001b[0m\u001b[0;34m.\u001b[0m\u001b[0mraise_from\u001b[0m\u001b[0;34m(\u001b[0m\u001b[0m_core\u001b[0m\u001b[0;34m.\u001b[0m\u001b[0m_status_to_exception\u001b[0m\u001b[0;34m(\u001b[0m\u001b[0me\u001b[0m\u001b[0;34m.\u001b[0m\u001b[0mcode\u001b[0m\u001b[0;34m,\u001b[0m \u001b[0mmessage\u001b[0m\u001b[0;34m)\u001b[0m\u001b[0;34m,\u001b[0m \u001b[0;32mNone\u001b[0m\u001b[0;34m)\u001b[0m\u001b[0;34m\u001b[0m\u001b[0;34m\u001b[0m\u001b[0m\n\u001b[0m\u001b[1;32m   9968\u001b[0m   \u001b[0;31m# Add nodes to the TensorFlow graph.\u001b[0m\u001b[0;34m\u001b[0m\u001b[0;34m\u001b[0m\u001b[0;34m\u001b[0m\u001b[0m\n\u001b[1;32m   9969\u001b[0m   \u001b[0;32mif\u001b[0m \u001b[0mbegin_mask\u001b[0m \u001b[0;32mis\u001b[0m \u001b[0;32mNone\u001b[0m\u001b[0;34m:\u001b[0m\u001b[0;34m\u001b[0m\u001b[0;34m\u001b[0m\u001b[0m\n",
      "\u001b[0;32m~/anaconda3/envs/tensorflow/lib/python3.7/site-packages/six.py\u001b[0m in \u001b[0;36mraise_from\u001b[0;34m(value, from_value)\u001b[0m\n",
      "\u001b[0;31mInvalidArgumentError\u001b[0m: slice index 3 of dimension 0 out of bounds. [Op:StridedSlice] name: strided_slice/"
     ]
    }
   ],
   "source": [
    "user_cross = tf.convert_to_tensor([x for x in itertools.permutations(users.numpy(), 2)])\n",
    "print(user_cross)\n",
    "rated_cross = tf.convert_to_tensor([tf.stack([rated[x[0]], rated[x[1]]], axis=0) for x in itertools.permutations(range(len(users.numpy())), 2)])\n",
    "# print(rated_cross)"
   ]
  },
  {
   "cell_type": "code",
   "execution_count": 88,
   "metadata": {},
   "outputs": [
    {
     "data": {
      "text/plain": [
       "20"
      ]
     },
     "execution_count": 88,
     "metadata": {},
     "output_type": "execute_result"
    }
   ],
   "source": [
    "len(user_cross)"
   ]
  },
  {
   "cell_type": "code",
   "execution_count": 89,
   "metadata": {},
   "outputs": [
    {
     "name": "stdout",
     "output_type": "stream",
     "text": [
      "tf.Tensor(\n",
      "[[[ 0.47242978 -0.7581886   0.6176951  -0.5861519   0.3641987\n",
      "    0.10563103  0.61831975 -0.37575603]]\n",
      "\n",
      " [[ 0.47242978 -0.7581886   0.6176951  -0.5861519   0.3641987\n",
      "    0.10563103  0.61831975 -0.37575603]]\n",
      "\n",
      " [[ 0.47242978 -0.7581886   0.6176951  -0.5861519   0.3641987\n",
      "    0.10563103  0.61831975 -0.37575603]]\n",
      "\n",
      " [[ 0.47242978 -0.7581886   0.6176951  -0.5861519   0.3641987\n",
      "    0.10563103  0.61831975 -0.37575603]]\n",
      "\n",
      " [[ 0.32968965  1.3128943   0.4282597  -1.8893449  -1.0829191\n",
      "   -1.2234583   0.99611586  0.7264877 ]]\n",
      "\n",
      " [[ 0.32968965  1.3128943   0.4282597  -1.8893449  -1.0829191\n",
      "   -1.2234583   0.99611586  0.7264877 ]]\n",
      "\n",
      " [[ 0.32968965  1.3128943   0.4282597  -1.8893449  -1.0829191\n",
      "   -1.2234583   0.99611586  0.7264877 ]]\n",
      "\n",
      " [[ 0.32968965  1.3128943   0.4282597  -1.8893449  -1.0829191\n",
      "   -1.2234583   0.99611586  0.7264877 ]]\n",
      "\n",
      " [[ 0.6136244   1.5436143   2.036422    1.5196469   0.08901728\n",
      "   -0.90769035 -1.6418009  -0.3131709 ]]\n",
      "\n",
      " [[ 0.6136244   1.5436143   2.036422    1.5196469   0.08901728\n",
      "   -0.90769035 -1.6418009  -0.3131709 ]]\n",
      "\n",
      " [[ 0.6136244   1.5436143   2.036422    1.5196469   0.08901728\n",
      "   -0.90769035 -1.6418009  -0.3131709 ]]\n",
      "\n",
      " [[ 0.6136244   1.5436143   2.036422    1.5196469   0.08901728\n",
      "   -0.90769035 -1.6418009  -0.3131709 ]]\n",
      "\n",
      " [[-0.22931455  0.21385668 -0.18404375 -1.6126455  -1.4268681\n",
      "   -1.0110536  -1.2846677   0.08389689]]\n",
      "\n",
      " [[-0.22931455  0.21385668 -0.18404375 -1.6126455  -1.4268681\n",
      "   -1.0110536  -1.2846677   0.08389689]]\n",
      "\n",
      " [[-0.22931455  0.21385668 -0.18404375 -1.6126455  -1.4268681\n",
      "   -1.0110536  -1.2846677   0.08389689]]\n",
      "\n",
      " [[-0.22931455  0.21385668 -0.18404375 -1.6126455  -1.4268681\n",
      "   -1.0110536  -1.2846677   0.08389689]]\n",
      "\n",
      " [[-0.7453738  -1.3101593  -0.6682748   1.30258    -1.2745917\n",
      "    0.01897669  0.9483459   0.76908296]]\n",
      "\n",
      " [[-0.7453738  -1.3101593  -0.6682748   1.30258    -1.2745917\n",
      "    0.01897669  0.9483459   0.76908296]]\n",
      "\n",
      " [[-0.7453738  -1.3101593  -0.6682748   1.30258    -1.2745917\n",
      "    0.01897669  0.9483459   0.76908296]]\n",
      "\n",
      " [[-0.7453738  -1.3101593  -0.6682748   1.30258    -1.2745917\n",
      "    0.01897669  0.9483459   0.76908296]]], shape=(20, 1, 8), dtype=float32)\n"
     ]
    },
    {
     "ename": "InvalidArgumentError",
     "evalue": "Input to reshape is a tensor with 83048 values, but the requested shape has 240 [Op:Reshape]",
     "output_type": "error",
     "traceback": [
      "\u001b[0;31m---------------------------------------------------------------------------\u001b[0m",
      "\u001b[0;31mInvalidArgumentError\u001b[0m                      Traceback (most recent call last)",
      "\u001b[0;32m<ipython-input-89-89ba1f5cc17a>\u001b[0m in \u001b[0;36m<module>\u001b[0;34m\u001b[0m\n\u001b[1;32m      2\u001b[0m \u001b[0mprint\u001b[0m\u001b[0;34m(\u001b[0m\u001b[0muser_emb\u001b[0m\u001b[0;34m[\u001b[0m\u001b[0;34m:\u001b[0m\u001b[0;34m,\u001b[0m \u001b[0;36m0\u001b[0m\u001b[0;34m]\u001b[0m\u001b[0;34m)\u001b[0m\u001b[0;34m\u001b[0m\u001b[0;34m\u001b[0m\u001b[0m\n\u001b[1;32m      3\u001b[0m \u001b[0muser_embedd\u001b[0m \u001b[0;34m=\u001b[0m \u001b[0mtf\u001b[0m\u001b[0;34m.\u001b[0m\u001b[0mtile\u001b[0m\u001b[0;34m(\u001b[0m\u001b[0muser_emb\u001b[0m\u001b[0;34m,\u001b[0m \u001b[0;34m[\u001b[0m\u001b[0;36m1\u001b[0m\u001b[0;34m,\u001b[0m \u001b[0;36m1\u001b[0m\u001b[0;34m,\u001b[0m \u001b[0mnum_movies\u001b[0m\u001b[0;34m,\u001b[0m \u001b[0;36m1\u001b[0m\u001b[0;34m]\u001b[0m\u001b[0;34m)\u001b[0m\u001b[0;34m\u001b[0m\u001b[0;34m\u001b[0m\u001b[0m\n\u001b[0;32m----> 4\u001b[0;31m \u001b[0mexpanded_embedd\u001b[0m \u001b[0;34m=\u001b[0m \u001b[0mtf\u001b[0m\u001b[0;34m.\u001b[0m\u001b[0mreshape\u001b[0m\u001b[0;34m(\u001b[0m\u001b[0mnlr\u001b[0m\u001b[0;34m.\u001b[0m\u001b[0mmodel\u001b[0m\u001b[0;34m.\u001b[0m\u001b[0mitem_embedding\u001b[0m\u001b[0;34m,\u001b[0m \u001b[0;34m[\u001b[0m\u001b[0;36m1\u001b[0m\u001b[0;34m,\u001b[0m \u001b[0;36m1\u001b[0m\u001b[0;34m,\u001b[0m \u001b[0mnum_movies\u001b[0m\u001b[0;34m,\u001b[0m \u001b[0;36m24\u001b[0m\u001b[0;34m]\u001b[0m\u001b[0;34m)\u001b[0m\u001b[0;34m\u001b[0m\u001b[0;34m\u001b[0m\u001b[0m\n\u001b[0m\u001b[1;32m      5\u001b[0m \u001b[0mitem_embedd\u001b[0m \u001b[0;34m=\u001b[0m \u001b[0mtf\u001b[0m\u001b[0;34m.\u001b[0m\u001b[0mtile\u001b[0m\u001b[0;34m(\u001b[0m\u001b[0mexpanded_embedd\u001b[0m\u001b[0;34m,\u001b[0m \u001b[0;34m[\u001b[0m\u001b[0mlen\u001b[0m\u001b[0;34m(\u001b[0m\u001b[0muser_cross\u001b[0m\u001b[0;34m)\u001b[0m\u001b[0;34m,\u001b[0m \u001b[0;36m2\u001b[0m\u001b[0;34m,\u001b[0m \u001b[0;36m1\u001b[0m\u001b[0;34m,\u001b[0m \u001b[0;36m1\u001b[0m\u001b[0;34m]\u001b[0m\u001b[0;34m)\u001b[0m\u001b[0;34m\u001b[0m\u001b[0;34m\u001b[0m\u001b[0m\n\u001b[1;32m      6\u001b[0m \u001b[0mprint\u001b[0m\u001b[0;34m(\u001b[0m\u001b[0mitem_embed\u001b[0m\u001b[0;34m.\u001b[0m\u001b[0mshape\u001b[0m\u001b[0;34m)\u001b[0m\u001b[0;34m\u001b[0m\u001b[0;34m\u001b[0m\u001b[0m\n",
      "\u001b[0;32m~/anaconda3/envs/tensorflow/lib/python3.7/site-packages/tensorflow/python/ops/gen_array_ops.py\u001b[0m in \u001b[0;36mreshape\u001b[0;34m(tensor, shape, name)\u001b[0m\n\u001b[1;32m   7695\u001b[0m       \u001b[0;32mtry\u001b[0m\u001b[0;34m:\u001b[0m\u001b[0;34m\u001b[0m\u001b[0;34m\u001b[0m\u001b[0m\n\u001b[1;32m   7696\u001b[0m         return reshape_eager_fallback(\n\u001b[0;32m-> 7697\u001b[0;31m             tensor, shape, name=name, ctx=_ctx)\n\u001b[0m\u001b[1;32m   7698\u001b[0m       \u001b[0;32mexcept\u001b[0m \u001b[0m_core\u001b[0m\u001b[0;34m.\u001b[0m\u001b[0m_SymbolicException\u001b[0m\u001b[0;34m:\u001b[0m\u001b[0;34m\u001b[0m\u001b[0;34m\u001b[0m\u001b[0m\n\u001b[1;32m   7699\u001b[0m         \u001b[0;32mpass\u001b[0m  \u001b[0;31m# Add nodes to the TensorFlow graph.\u001b[0m\u001b[0;34m\u001b[0m\u001b[0;34m\u001b[0m\u001b[0m\n",
      "\u001b[0;32m~/anaconda3/envs/tensorflow/lib/python3.7/site-packages/tensorflow/python/ops/gen_array_ops.py\u001b[0m in \u001b[0;36mreshape_eager_fallback\u001b[0;34m(tensor, shape, name, ctx)\u001b[0m\n\u001b[1;32m   7745\u001b[0m   \u001b[0m_attrs\u001b[0m \u001b[0;34m=\u001b[0m \u001b[0;34m(\u001b[0m\u001b[0;34m\"T\"\u001b[0m\u001b[0;34m,\u001b[0m \u001b[0m_attr_T\u001b[0m\u001b[0;34m,\u001b[0m \u001b[0;34m\"Tshape\"\u001b[0m\u001b[0;34m,\u001b[0m \u001b[0m_attr_Tshape\u001b[0m\u001b[0;34m)\u001b[0m\u001b[0;34m\u001b[0m\u001b[0;34m\u001b[0m\u001b[0m\n\u001b[1;32m   7746\u001b[0m   _result = _execute.execute(b\"Reshape\", 1, inputs=_inputs_flat, attrs=_attrs,\n\u001b[0;32m-> 7747\u001b[0;31m                              ctx=_ctx, name=name)\n\u001b[0m\u001b[1;32m   7748\u001b[0m   _execute.record_gradient(\n\u001b[1;32m   7749\u001b[0m       \"Reshape\", _inputs_flat, _attrs, _result, name)\n",
      "\u001b[0;32m~/anaconda3/envs/tensorflow/lib/python3.7/site-packages/tensorflow/python/eager/execute.py\u001b[0m in \u001b[0;36mquick_execute\u001b[0;34m(op_name, num_outputs, inputs, attrs, ctx, name)\u001b[0m\n\u001b[1;32m     65\u001b[0m     \u001b[0;32melse\u001b[0m\u001b[0;34m:\u001b[0m\u001b[0;34m\u001b[0m\u001b[0;34m\u001b[0m\u001b[0m\n\u001b[1;32m     66\u001b[0m       \u001b[0mmessage\u001b[0m \u001b[0;34m=\u001b[0m \u001b[0me\u001b[0m\u001b[0;34m.\u001b[0m\u001b[0mmessage\u001b[0m\u001b[0;34m\u001b[0m\u001b[0;34m\u001b[0m\u001b[0m\n\u001b[0;32m---> 67\u001b[0;31m     \u001b[0msix\u001b[0m\u001b[0;34m.\u001b[0m\u001b[0mraise_from\u001b[0m\u001b[0;34m(\u001b[0m\u001b[0mcore\u001b[0m\u001b[0;34m.\u001b[0m\u001b[0m_status_to_exception\u001b[0m\u001b[0;34m(\u001b[0m\u001b[0me\u001b[0m\u001b[0;34m.\u001b[0m\u001b[0mcode\u001b[0m\u001b[0;34m,\u001b[0m \u001b[0mmessage\u001b[0m\u001b[0;34m)\u001b[0m\u001b[0;34m,\u001b[0m \u001b[0;32mNone\u001b[0m\u001b[0;34m)\u001b[0m\u001b[0;34m\u001b[0m\u001b[0;34m\u001b[0m\u001b[0m\n\u001b[0m\u001b[1;32m     68\u001b[0m   \u001b[0;32mexcept\u001b[0m \u001b[0mTypeError\u001b[0m \u001b[0;32mas\u001b[0m \u001b[0me\u001b[0m\u001b[0;34m:\u001b[0m\u001b[0;34m\u001b[0m\u001b[0;34m\u001b[0m\u001b[0m\n\u001b[1;32m     69\u001b[0m     \u001b[0;32mif\u001b[0m \u001b[0many\u001b[0m\u001b[0;34m(\u001b[0m\u001b[0mops\u001b[0m\u001b[0;34m.\u001b[0m\u001b[0m_is_keras_symbolic_tensor\u001b[0m\u001b[0;34m(\u001b[0m\u001b[0mx\u001b[0m\u001b[0;34m)\u001b[0m \u001b[0;32mfor\u001b[0m \u001b[0mx\u001b[0m \u001b[0;32min\u001b[0m \u001b[0minputs\u001b[0m\u001b[0;34m)\u001b[0m\u001b[0;34m:\u001b[0m\u001b[0;34m\u001b[0m\u001b[0;34m\u001b[0m\u001b[0m\n",
      "\u001b[0;32m~/anaconda3/envs/tensorflow/lib/python3.7/site-packages/six.py\u001b[0m in \u001b[0;36mraise_from\u001b[0;34m(value, from_value)\u001b[0m\n",
      "\u001b[0;31mInvalidArgumentError\u001b[0m: Input to reshape is a tensor with 83048 values, but the requested shape has 240 [Op:Reshape]"
     ]
    }
   ],
   "source": [
    "user_emb = tf.expand_dims(tf.nn.embedding_lookup(nlr.model.user_embedding, user_cross), axis=2)\n",
    "print(user_emb[:, 0])\n",
    "user_embedd = tf.tile(user_emb, [1, 1, num_movies, 1])\n",
    "expanded_embedd = tf.reshape(nlr.model.item_embedding, [1, 1, num_movies, 24])\n",
    "item_embedd = tf.tile(expanded_embedd, [len(user_cross), 2, 1, 1])\n",
    "print(item_embed.shape)\n",
    "print(user_embedd.shape)\n",
    "inp = tf.concat([user_embedd, item_embedd], axis=-1)"
   ]
  },
  {
   "cell_type": "code",
   "execution_count": 90,
   "metadata": {
    "scrolled": true
   },
   "outputs": [
    {
     "ename": "NameError",
     "evalue": "name 'inp' is not defined",
     "output_type": "error",
     "traceback": [
      "\u001b[0;31m---------------------------------------------------------------------------\u001b[0m",
      "\u001b[0;31mNameError\u001b[0m                                 Traceback (most recent call last)",
      "\u001b[0;32m<ipython-input-90-f88fa627ff7b>\u001b[0m in \u001b[0;36m<module>\u001b[0;34m\u001b[0m\n\u001b[0;32m----> 1\u001b[0;31m \u001b[0mresult\u001b[0m \u001b[0;34m=\u001b[0m \u001b[0mtf\u001b[0m\u001b[0;34m.\u001b[0m\u001b[0msqueeze\u001b[0m\u001b[0;34m(\u001b[0m\u001b[0mnlr\u001b[0m\u001b[0;34m.\u001b[0m\u001b[0mmodel\u001b[0m\u001b[0;34m.\u001b[0m\u001b[0mlikes_estimator\u001b[0m\u001b[0;34m(\u001b[0m\u001b[0minp\u001b[0m\u001b[0;34m)\u001b[0m\u001b[0;34m)\u001b[0m\u001b[0;34m\u001b[0m\u001b[0;34m\u001b[0m\u001b[0m\n\u001b[0m",
      "\u001b[0;31mNameError\u001b[0m: name 'inp' is not defined"
     ]
    }
   ],
   "source": [
    "result = tf.squeeze(nlr.model.likes_estimator(inp))"
   ]
  },
  {
   "cell_type": "code",
   "execution_count": 84,
   "metadata": {},
   "outputs": [
    {
     "name": "stdout",
     "output_type": "stream",
     "text": [
      "tf.Tensor(\n",
      "[[  2  11 101]\n",
      " [ 11  20 110]\n",
      " [101 110 200]], shape=(3, 3), dtype=int32)\n"
     ]
    }
   ],
   "source": [
    "num_movies = 5\n",
    "users = tf.convert_to_tensor([1, 10, 100])\n",
    "embed_user = tf.expand_dims(users, axis=1)\n",
    "users_1 = tf.tile(tf.expand_dims(embed_user, axis=1), [1, len(users), 1])\n",
    "users_2 = tf.tile(tf.expand_dims(embed_user, axis=0), [len(users),1, 1])\n",
    "# print(embed_user)\n",
    "# embed_user = tf.tile(embed_user, [1, num_movies, 1])\n",
    "# expanded_embedd = tf.expand_dims(nlr.model.item_embedding[0:num_movies], axis=0)\n",
    "# embed_item = tf.tile(expanded_embedd, [len(users), 1, 1])\n",
    "sim_input = tf.reduce_sum(tf.concat([users_1, users_2], axis=-1), axis=-1)\n",
    "print(sim_input)"
   ]
  },
  {
   "cell_type": "code",
   "execution_count": 99,
   "metadata": {},
   "outputs": [],
   "source": [
    "multi_ratings = tf.tile(tf.expand_dims(rated, axis=0), [3, 1, 1])"
   ]
  },
  {
   "cell_type": "code",
   "execution_count": 13,
   "metadata": {},
   "outputs": [
    {
     "data": {
      "text/plain": [
       "True"
      ]
     },
     "execution_count": 13,
     "metadata": {},
     "output_type": "execute_result"
    }
   ],
   "source": [
    "a = tf.convert_to_tensor(10)\n",
    "# b = tf.expand_dims(tf.convert_to_tensor(20), axis=0)\n",
    "# c = tf.convert_to_tensor([1,2,3,4])\n",
    "len(a.shape) == 0"
   ]
  },
  {
   "cell_type": "code",
   "execution_count": 117,
   "metadata": {},
   "outputs": [
    {
     "data": {
      "text/plain": [
       "(array([1, 2]),)"
      ]
     },
     "execution_count": 117,
     "metadata": {},
     "output_type": "execute_result"
    }
   ],
   "source": [
    "a = np.array([1,5,3,0], dtype=float)\n",
    "b = np.array([0,2,3,0], dtype=float)\n",
    "mask = np.where(b)\n",
    "mask"
   ]
  },
  {
   "cell_type": "code",
   "execution_count": 118,
   "metadata": {},
   "outputs": [
    {
     "data": {
      "text/plain": [
       "array([2.5, 1. ])"
      ]
     },
     "execution_count": 118,
     "metadata": {},
     "output_type": "execute_result"
    }
   ],
   "source": [
    "a[mask] / b[mask]"
   ]
  },
  {
   "cell_type": "code",
   "execution_count": null,
   "metadata": {},
   "outputs": [],
   "source": []
  }
 ],
 "metadata": {
  "kernelspec": {
   "display_name": "conda_tensorflow_p36",
   "language": "python",
   "name": "conda_tensorflow_p36"
  },
  "language_info": {
   "codemirror_mode": {
    "name": "ipython",
    "version": 3
   },
   "file_extension": ".py",
   "mimetype": "text/x-python",
   "name": "python",
   "nbconvert_exporter": "python",
   "pygments_lexer": "ipython3",
   "version": "3.6.5"
  }
 },
 "nbformat": 4,
 "nbformat_minor": 4
}
