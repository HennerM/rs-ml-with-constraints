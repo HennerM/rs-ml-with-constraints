{
 "cells": [
  {
   "cell_type": "code",
   "execution_count": 1,
   "outputs": [],
   "source": [
    "import tensorflow as tf\n",
    "\n",
    "from tensorflow.keras.layers import Input, Dense, Flatten, Conv2D, Reshape, Conv2DTranspose, Activation\n",
    "from tensorflow.keras import Model, backend as K\n",
    "from tensorflow.keras.regularizers import l2\n",
    "\n",
    "import matplotlib.pyplot as plt\n",
    "import pandas as pd\n",
    "import numpy as np\n",
    "\n",
    "%matplotlib inline"
   ],
   "metadata": {
    "collapsed": false,
    "pycharm": {
     "name": "#%%\n",
     "is_executing": false
    }
   }
  },
  {
   "cell_type": "code",
   "execution_count": 2,
   "outputs": [],
   "source": [
    "\n",
    "ratings = pd.read_csv('../Data/MovieLens/ml-latest-small/ratings.csv')\n",
    "movies = pd.read_csv('../Data/MovieLens/ml-latest-small/movies.csv', index_col='movieId')"
   ],
   "metadata": {
    "collapsed": false,
    "pycharm": {
     "name": "#%%\n",
     "is_executing": false
    }
   }
  },
  {
   "cell_type": "code",
   "execution_count": 65,
   "outputs": [],
   "source": [
    "def create_rating_matrix(ratings):\n",
    "    nr_users = int(max(ratings['userId']))\n",
    "    nr_movies = int(max(ratings['movieId']))\n",
    "    rating_matrix = np.zeros((nr_users, nr_movies))\n",
    "    rating_mask = np.zeros((nr_users, nr_movies))\n",
    "    for index, row in ratings.iterrows():\n",
    "      if row['movieId'] < nr_movies and row['userId'] < nr_movies:\n",
    "        rating_matrix[int(row['userId']) - 1, int(row['movieId']) - 1] = row['rating']\n",
    "        rating_mask[int(row['userId']) - 1, int(row['movieId']) - 1] = 1.0\n",
    "    return rating_matrix, rating_mask\n",
    "\n",
    "def convert_to_implicit(rating_matrix):\n",
    "    return rating_matrix - 3.0 >= 0\n",
    "\n",
    "def augment_unobserved(rating_mask, rate = 0.2):\n",
    "    # augment each users observations with unobserved\n",
    "    \n",
    "    def activate_ratings(single_row):\n",
    "        unobserved = single_row == 0.\n",
    "        nr_observed = len(single_row.nonzero()[0])\n",
    "        new_observations = round(nr_observed * rate)\n",
    "        \n",
    "        single_row[np.random.choice(unobserved.nonzero()[0], new_observations)] = 1.0\n",
    "        return single_row\n",
    "    \n",
    "    return np.apply_along_axis(activate_ratings, 1, rating_mask)\n"
   ],
   "metadata": {
    "collapsed": false,
    "pycharm": {
     "name": "#%%\n",
     "is_executing": false
    }
   }
  },
  {
   "cell_type": "code",
   "execution_count": 9,
   "outputs": [
    {
     "data": {
      "text/plain": "array([[1., 0., 1., ..., 0., 0., 0.],\n       [0., 0., 0., ..., 0., 0., 0.],\n       [0., 0., 0., ..., 0., 0., 0.],\n       ...,\n       [1., 1., 1., ..., 0., 0., 0.],\n       [1., 0., 0., ..., 0., 0., 0.],\n       [1., 0., 0., ..., 0., 0., 0.]])"
     },
     "metadata": {},
     "output_type": "execute_result",
     "execution_count": 9
    }
   ],
   "source": [
    "\n",
    "\n"
   ],
   "metadata": {
    "collapsed": false,
    "pycharm": {
     "name": "#%%\n",
     "is_executing": false
    }
   }
  },
  {
   "cell_type": "code",
   "execution_count": 66,
   "outputs": [
    {
     "data": {
      "text/plain": "100835.0"
     },
     "metadata": {},
     "output_type": "execute_result",
     "execution_count": 66
    }
   ],
   "source": [
    "rating_matrix, rating_mask = create_rating_matrix(ratings)\n",
    "binary_ratings = convert_to_implicit(rating_matrix)\n",
    "rating_mask = augment_unobserved(rating_mask)"
   ],
   "metadata": {
    "collapsed": false,
    "pycharm": {
     "name": "#%%\n",
     "is_executing": false
    }
   }
  },
  {
   "cell_type": "code",
   "execution_count": 70,
   "outputs": [
    {
     "data": {
      "text/plain": "120991.0"
     },
     "metadata": {},
     "output_type": "execute_result",
     "execution_count": 70
    }
   ],
   "source": [
    "rating_mask.sum()"
   ],
   "metadata": {
    "collapsed": false,
    "pycharm": {
     "name": "#%%\n",
     "is_executing": false
    }
   }
  },
  {
   "cell_type": "code",
   "execution_count": null,
   "outputs": [],
   "source": [
    "\n"
   ],
   "metadata": {
    "collapsed": false,
    "pycharm": {
     "name": "#%%\n"
    }
   }
  }
 ],
 "metadata": {
  "language_info": {
   "codemirror_mode": {
    "name": "ipython",
    "version": 2
   },
   "file_extension": ".py",
   "mimetype": "text/x-python",
   "name": "python",
   "nbconvert_exporter": "python",
   "pygments_lexer": "ipython2",
   "version": "2.7.6"
  },
  "kernelspec": {
   "name": "python3",
   "language": "python",
   "display_name": "Python 3"
  },
  "pycharm": {
   "stem_cell": {
    "cell_type": "raw",
    "source": [],
    "metadata": {
     "collapsed": false
    }
   }
  }
 },
 "nbformat": 4,
 "nbformat_minor": 0
}