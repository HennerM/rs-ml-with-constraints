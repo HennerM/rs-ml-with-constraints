{
 "cells": [
  {
   "cell_type": "code",
   "execution_count": 1,
   "outputs": [],
   "source": [
    "import tensorflow as tf\n",
    "import pandas as pd\n",
    "import numpy as np\n"
   ],
   "metadata": {
    "collapsed": false,
    "pycharm": {
     "name": "#%%\n",
     "is_executing": false
    }
   }
  },
  {
   "cell_type": "code",
   "execution_count": 132,
   "outputs": [],
   "source": [
    "\n",
    "ratings = pd.read_csv('../Data/MovieLens/ml-latest-small/ratings.csv')\n",
    "movies = pd.read_csv('../Data/MovieLens/ml-latest-small/movies.csv')\n",
    "movies['mId'] = movies.index\n",
    "ratings = ratings.join(movies, on='movieId', rsuffix='_movies')"
   ],
   "metadata": {
    "collapsed": false,
    "pycharm": {
     "name": "#%%\n",
     "is_executing": false
    }
   }
  },
  {
   "cell_type": "code",
   "execution_count": 133,
   "outputs": [],
   "source": [
    "def create_rating_matrix(ratings):\n",
    "    nr_users = int(max(ratings['userId']))\n",
    "    nr_movies = int(max(ratings['mId']))\n",
    "    rating_matrix = np.zeros((nr_users, nr_movies))\n",
    "    rating_mask = np.zeros((nr_users, nr_movies), dtype=int)\n",
    "    for index, row in ratings.iterrows():\n",
    "      if row['mId'] < nr_movies and row['userId'] < nr_movies:\n",
    "        rating_matrix[int(row['userId']) - 1, int(row['mId']) - 1] = row['rating']\n",
    "        rating_mask[int(row['userId']) - 1, int(row['mId']) - 1] = 1\n",
    "    return rating_matrix, rating_mask\n",
    "\n",
    "def convert_to_implicit(rating_matrix):\n",
    "    return rating_matrix - 3.0 >= 0\n",
    "\n",
    "def augment_unobserved(rating_mask, rate = 0.2):\n",
    "    # augment each users observations with unobserved\n",
    "    \n",
    "    def activate_ratings(single_row):\n",
    "        unobserved = single_row == 0\n",
    "        nr_observed = len(single_row.nonzero()[0])\n",
    "        new_observations = round(nr_observed * rate)\n",
    "        \n",
    "        single_row[np.random.choice(unobserved.nonzero()[0], new_observations)] = 1\n",
    "        return single_row\n",
    "    \n",
    "    return np.apply_along_axis(activate_ratings, 1, rating_mask)\n"
   ],
   "metadata": {
    "collapsed": false,
    "pycharm": {
     "name": "#%%\n",
     "is_executing": false
    }
   }
  },
  {
   "cell_type": "code",
   "execution_count": 144,
   "outputs": [],
   "source": [
    "def _int64_feature(value):\n",
    "  \"\"\"Returns an int64_list from a bool / enum / int / uint.\"\"\"\n",
    "  return tf.train.Feature(int64_list=tf.train.Int64List(value=value))\n",
    "\n",
    "\n",
    "def serialize_example(ratings, mask):\n",
    "  \"\"\"\n",
    "  Creates a tf.Example message ready to be written to a file.\n",
    "  \"\"\"\n",
    "  \n",
    "  # Create a dictionary mapping the feature name to the tf.Example-compatible\n",
    "  # data type.\n",
    "\n",
    "  feature = {\n",
    "      'rating': _int64_feature(ratings.nonzero()[0]),\n",
    "      'mask': _int64_feature(mask.nonzero()[0]),\n",
    "  }\n",
    "  # Create a Features message using tf.train.Example.\n",
    "  \n",
    "  example_proto = tf.train.Example(features=tf.train.Features(feature=feature))\n",
    "  return example_proto.SerializeToString()\n",
    "\n",
    "\n"
   ],
   "metadata": {
    "collapsed": false,
    "pycharm": {
     "name": "#%%\n",
     "is_executing": false
    }
   }
  },
  {
   "cell_type": "code",
   "execution_count": 138,
   "outputs": [],
   "source": [
    "rating_matrix, rating_mask = create_rating_matrix(ratings)\n",
    "binary_ratings = convert_to_implicit(rating_matrix)\n",
    "rating_mask = augment_unobserved(rating_mask)"
   ],
   "metadata": {
    "collapsed": false,
    "pycharm": {
     "name": "#%%\n",
     "is_executing": false
    }
   }
  },
  {
   "cell_type": "code",
   "execution_count": 146,
   "outputs": [],
   "source": [
    "filename = 'train.tfrecord'\n",
    "writer = tf.io.TFRecordWriter(filename)\n",
    "for i in range(rating_matrix.shape[0]):\n",
    "    writer.write(serialize_example(binary_ratings[i], rating_mask[i]))\n"
   ],
   "metadata": {
    "collapsed": false,
    "pycharm": {
     "name": "#%%\n",
     "is_executing": false
    }
   }
  },
  {
   "cell_type": "code",
   "execution_count": 147,
   "outputs": [
    {
     "data": {
      "text/plain": "(610, 9018)"
     },
     "metadata": {},
     "output_type": "execute_result",
     "execution_count": 147
    }
   ],
   "source": [
    "binary_ratings.shape"
   ],
   "metadata": {
    "collapsed": false,
    "pycharm": {
     "name": "#%%\n",
     "is_executing": false
    }
   }
  },
  {
   "cell_type": "code",
   "execution_count": null,
   "outputs": [],
   "source": [
    "\n"
   ],
   "metadata": {
    "collapsed": false,
    "pycharm": {
     "name": "#%%\n"
    }
   }
  }
 ],
 "metadata": {
  "language_info": {
   "codemirror_mode": {
    "name": "ipython",
    "version": 2
   },
   "file_extension": ".py",
   "mimetype": "text/x-python",
   "name": "python",
   "nbconvert_exporter": "python",
   "pygments_lexer": "ipython2",
   "version": "2.7.6"
  },
  "kernelspec": {
   "name": "python3",
   "language": "python",
   "display_name": "Python 3"
  },
  "pycharm": {
   "stem_cell": {
    "cell_type": "raw",
    "source": [],
    "metadata": {
     "collapsed": false
    }
   }
  }
 },
 "nbformat": 4,
 "nbformat_minor": 0
}