{
 "cells": [
  {
   "cell_type": "code",
   "execution_count": null,
   "metadata": {
    "pycharm": {
     "is_executing": false
    }
   },
   "outputs": [],
   "source": [
    "import utils.common\n",
    "import evaluation\n",
    "import importlib\n",
    "import numpy as np\n",
    "import time\n",
    "import models.MatrixFactorization\n",
    "import models.BPR\n",
    "importlib.reload(utils.common)\n",
    "importlib.reload(evaluation)\n",
    "importlib.reload(models.MatrixFactorization)\n",
    "importlib.reload(models.BPR)"
   ]
  },
  {
   "cell_type": "code",
   "execution_count": 206,
   "metadata": {},
   "outputs": [],
   "source": [
    "ev = evaluation.Evaluation(utils.common.movie_lens)"
   ]
  },
  {
   "cell_type": "code",
   "execution_count": 126,
   "metadata": {
    "pycharm": {
     "is_executing": false,
     "name": "#%%\n"
    }
   },
   "outputs": [
    {
     "name": "stdout",
     "output_type": "stream",
     "text": [
      "Epoch 1/10\n",
      "19/19 [==============================] - 8s 404ms/step - loss: 0.2570 - accuracy: 0.0146\n",
      "Epoch 2/10\n",
      "19/19 [==============================] - 0s 14ms/step - loss: 0.1808 - accuracy: 0.0477\n",
      "Epoch 3/10\n",
      "19/19 [==============================] - 0s 16ms/step - loss: 0.1677 - accuracy: 0.0536\n",
      "Epoch 4/10\n",
      "19/19 [==============================] - 0s 15ms/step - loss: 0.1537 - accuracy: 0.0415\n",
      "Epoch 5/10\n",
      "19/19 [==============================] - 0s 15ms/step - loss: 0.1487 - accuracy: 0.0230\n",
      "Epoch 6/10\n",
      "19/19 [==============================] - 0s 15ms/step - loss: 0.1383 - accuracy: 0.0230\n",
      "Epoch 7/10\n",
      "19/19 [==============================] - 0s 13ms/step - loss: 0.1344 - accuracy: 0.0328\n",
      "Epoch 8/10\n",
      "19/19 [==============================] - 0s 14ms/step - loss: 0.1245 - accuracy: 0.0242\n",
      "Epoch 9/10\n",
      "19/19 [==============================] - 0s 14ms/step - loss: 0.1250 - accuracy: 0.0197\n",
      "Epoch 10/10\n",
      "19/19 [==============================] - 0s 16ms/step - loss: 0.1103 - accuracy: 0.0296\n"
     ]
    }
   ],
   "source": [
    "model = models.ConstraintAutoRec.ConstraintAutoRec(utils.common.movie_lens['dimensions'], epochs=10, novelty_weight=0.1, diversity_weight=0.1, latent_dim=64)\n",
    "model.train(utils.common.load_dataset(utils.common.movie_lens, 'train'), utils.common.movie_lens['train']['records'])\n"
   ]
  },
  {
   "cell_type": "code",
   "execution_count": null,
   "metadata": {
    "pycharm": {
     "is_executing": false,
     "name": "#%%\n"
    }
   },
   "outputs": [],
   "source": [
    "diversity_model = models.ConstraintAutoRec.ConstraintAutoRec(utils.common.movie_lens['dimensions'], epochs=30, novelty_weight=0.25, diversity_weight=2.0)\n",
    "diversity_model.train(utils.common.load_dataset(utils.common.movie_lens, 'train'), utils.common.movie_lens['train']['records'])\n"
   ]
  },
  {
   "cell_type": "code",
   "execution_count": null,
   "metadata": {
    "pycharm": {
     "is_executing": false,
     "name": "#%%\n"
    }
   },
   "outputs": [],
   "source": [
    "def create_model(novelty_weight):\n",
    "    m = models.ConstraintAutoRec.ConstraintAutoRec(utils.common.movie_lens['dimensions'], epochs=15, novelty_weight=novelty_weight, diversity_weight=0, batch_size=128)\n",
    "    m.train(utils.common.load_dataset(utils.common.movie_lens, 'train'), utils.common.movie_lens['train']['records'])\n",
    "    return m\n",
    "\n",
    "nov_models2 = [create_model(x) for x in [0.1, 0.5, 1.0, 2.0]]"
   ]
  },
  {
   "cell_type": "code",
   "execution_count": null,
   "metadata": {
    "pycharm": {
     "is_executing": false,
     "name": "#%%\n"
    }
   },
   "outputs": [],
   "source": [
    "import matplotlib.pyplot as plt\n",
    "models"
   ]
  },
  {
   "cell_type": "code",
   "execution_count": null,
   "metadata": {
    "pycharm": {
     "name": "#%%\n"
    }
   },
   "outputs": [],
   "source": [
    "#ev = evaluation.Evaluation(utils.common.movie_lens)\n",
    "#big_eval = ev.evaluate_models(models)\n",
    "big_eval.head()"
   ]
  },
  {
   "cell_type": "code",
   "execution_count": null,
   "metadata": {},
   "outputs": [],
   "source": [
    "plt.bar(eval_data.index, eval_data['epc@10'])"
   ]
  },
  {
   "cell_type": "code",
   "execution_count": null,
   "metadata": {},
   "outputs": [],
   "source": [
    "plt.plot(eval_data['novelty_weight'], eval_data['epc@10'], 'ro', ls='--')\n",
    "plt.plot(eval_data['novelty_weight'], eval_data['accuracy'], 'bo', ls='--')\n",
    "plt.show()"
   ]
  },
  {
   "cell_type": "code",
   "execution_count": null,
   "metadata": {},
   "outputs": [],
   "source": [
    "def plot_bar(data, axis, x_param):\n",
    "    bottom = data[axis].min() \n",
    "    top = data[axis].max()\n",
    "    margin = (top - bottom) * 0.05\n",
    "    fig, ax = plt.subplots()\n",
    "    ax.bar(data.index, data[axis] )\n",
    "    ax.set_xticks(data.index)\n",
    "    ax.set_xticklabels(data[x_param])\n",
    "    ax.set_ylabel(axis)\n",
    "    ax.set_xlabel(x_param)\n",
    "    plt.show()"
   ]
  },
  {
   "cell_type": "code",
   "execution_count": 202,
   "metadata": {
    "scrolled": true
   },
   "outputs": [],
   "source": [
    "# mf = models.MatrixFactorization.MatrixFactorization(utils.common.movie_lens['user'], utils.common.movie_lens['dimensions'], epochs=10, latent_dim = 64)\n",
    "# mf.train(utils.common.load_dataset(utils.common.movie_lens, 'train'), utils.common.movie_lens['train']['records'])\n",
    "\n",
    "bpr = models.BPR.BPR(utils.common.movie_lens['user'], utils.common.movie_lens['dimensions'], epochs=5, latent_dim = 32, batch_size=1024)"
   ]
  },
  {
   "cell_type": "code",
   "execution_count": 209,
   "metadata": {},
   "outputs": [
    {
     "name": "stdout",
     "output_type": "stream",
     "text": [
      "Epoch #0 Loss at step 1610: 0.2968\n",
      "Epoch #1 Loss at step 1610: 0.2310\n",
      "Epoch #2 Loss at step 1610: 0.1927\n",
      "Epoch #3 Loss at step 1610: 0.1764\n",
      "Epoch #4 Loss at step 1610: 0.1552\n"
     ]
    }
   ],
   "source": [
    "bpr.batch_size = 8092\n",
    "bpr.train(utils.common.load_dataset(utils.common.movie_lens, 'train'), utils.common.movie_lens['train']['records'])"
   ]
  },
  {
   "cell_type": "code",
   "execution_count": 210,
   "metadata": {},
   "outputs": [
    {
     "name": "stdout",
     "output_type": "stream",
     "text": [
      "\r",
      "Evaluating BPR |>-----------------------------------------------------------| 0.5% \r",
      "\r",
      "Evaluating BPR |>-----------------------------------------------------------| 0.9% \r",
      "\r",
      "Evaluating BPR |>-----------------------------------------------------------| 1.4% \r",
      "\r",
      "Evaluating BPR |=>----------------------------------------------------------| 1.9% \r",
      "\r",
      "Evaluating BPR |=>----------------------------------------------------------| 2.3% \r",
      "\r",
      "Evaluating BPR |=>----------------------------------------------------------| 2.8% \r",
      "\r",
      "Evaluating BPR |=>----------------------------------------------------------| 3.3% \r",
      "\r",
      "Evaluating BPR |==>---------------------------------------------------------| 3.7% \r",
      "\r",
      "Evaluating BPR |==>---------------------------------------------------------| 4.2% \r",
      "\r",
      "Evaluating BPR |==>---------------------------------------------------------| 4.7% \r",
      "\r",
      "Evaluating BPR |===>--------------------------------------------------------| 5.1% \r",
      "\r",
      "Evaluating BPR |===>--------------------------------------------------------| 5.6% \r",
      "\r",
      "Evaluating BPR |===>--------------------------------------------------------| 6.1% \r",
      "\r",
      "Evaluating BPR |===>--------------------------------------------------------| 6.5% \r",
      "\r",
      "Evaluating BPR |====>-------------------------------------------------------| 7.0% \r",
      "\r",
      "Evaluating BPR |====>-------------------------------------------------------| 7.5% \r",
      "\r",
      "Evaluating BPR |====>-------------------------------------------------------| 7.9% \r",
      "\r",
      "Evaluating BPR |=====>------------------------------------------------------| 8.4% \r",
      "\r",
      "Evaluating BPR |=====>------------------------------------------------------| 8.9% \r",
      "\r",
      "Evaluating BPR |=====>------------------------------------------------------| 9.3% \r",
      "\r",
      "Evaluating BPR |=====>------------------------------------------------------| 9.8% \r",
      "\r",
      "Evaluating BPR |======>-----------------------------------------------------| 10.3% \r",
      "\r",
      "Evaluating BPR |======>-----------------------------------------------------| 10.7% \r",
      "\r",
      "Evaluating BPR |======>-----------------------------------------------------| 11.2% \r",
      "\r",
      "Evaluating BPR |=======>----------------------------------------------------| 11.7% \r",
      "\r",
      "Evaluating BPR |=======>----------------------------------------------------| 12.1% \r",
      "\r",
      "Evaluating BPR |=======>----------------------------------------------------| 12.6% \r",
      "\r",
      "Evaluating BPR |=======>----------------------------------------------------| 13.1% \r",
      "\r",
      "Evaluating BPR |========>---------------------------------------------------| 13.6% \r",
      "\r",
      "Evaluating BPR |========>---------------------------------------------------| 14.0% \r",
      "\r",
      "Evaluating BPR |========>---------------------------------------------------| 14.5% \r",
      "\r",
      "Evaluating BPR |========>---------------------------------------------------| 15.0% \r",
      "\r",
      "Evaluating BPR |=========>--------------------------------------------------| 15.4% \r",
      "\r",
      "Evaluating BPR |=========>--------------------------------------------------| 15.9% \r",
      "\r",
      "Evaluating BPR |=========>--------------------------------------------------| 16.4% \r",
      "\r",
      "Evaluating BPR |==========>-------------------------------------------------| 16.8% \r",
      "\r",
      "Evaluating BPR |==========>-------------------------------------------------| 17.3% \r",
      "\r",
      "Evaluating BPR |==========>-------------------------------------------------| 17.8% \r",
      "\r",
      "Evaluating BPR |==========>-------------------------------------------------| 18.2% \r",
      "\r",
      "Evaluating BPR |===========>------------------------------------------------| 18.7% \r",
      "\r",
      "Evaluating BPR |===========>------------------------------------------------| 19.2% \r",
      "\r",
      "Evaluating BPR |===========>------------------------------------------------| 19.6% \r",
      "\r",
      "Evaluating BPR |============>-----------------------------------------------| 20.1% \r",
      "\r",
      "Evaluating BPR |============>-----------------------------------------------| 20.6% \r",
      "\r",
      "Evaluating BPR |============>-----------------------------------------------| 21.0% \r",
      "\r",
      "Evaluating BPR |============>-----------------------------------------------| 21.5% \r",
      "\r",
      "Evaluating BPR |=============>----------------------------------------------| 22.0% \r",
      "\r",
      "Evaluating BPR |=============>----------------------------------------------| 22.4% \r",
      "\r",
      "Evaluating BPR |=============>----------------------------------------------| 22.9% \r",
      "\r",
      "Evaluating BPR |==============>---------------------------------------------| 23.4% \r",
      "\r",
      "Evaluating BPR |==============>---------------------------------------------| 23.8% \r",
      "\r",
      "Evaluating BPR |==============>---------------------------------------------| 24.3% \r",
      "\r",
      "Evaluating BPR |==============>---------------------------------------------| 24.8% \r",
      "\r",
      "Evaluating BPR |===============>--------------------------------------------| 25.2% \r",
      "\r",
      "Evaluating BPR |===============>--------------------------------------------| 25.7% \r",
      "\r",
      "Evaluating BPR |===============>--------------------------------------------| 26.2% \r",
      "\r",
      "Evaluating BPR |===============>--------------------------------------------| 26.6% \r",
      "\r",
      "Evaluating BPR |================>-------------------------------------------| 27.1% \r",
      "\r",
      "Evaluating BPR |================>-------------------------------------------| 27.6% \r",
      "\r",
      "Evaluating BPR |================>-------------------------------------------| 28.0% \r",
      "\r",
      "Evaluating BPR |=================>------------------------------------------| 28.5% \r",
      "\r",
      "Evaluating BPR |=================>------------------------------------------| 29.0% \r",
      "\r",
      "Evaluating BPR |=================>------------------------------------------| 29.4% \r",
      "\r",
      "Evaluating BPR |=================>------------------------------------------| 29.9% \r",
      "\r",
      "Evaluating BPR |==================>-----------------------------------------| 30.4% \r",
      "\r",
      "Evaluating BPR |==================>-----------------------------------------| 30.8% \r",
      "\r",
      "Evaluating BPR |==================>-----------------------------------------| 31.3% \r",
      "\r",
      "Evaluating BPR |===================>----------------------------------------| 31.8% \r",
      "\r",
      "Evaluating BPR |===================>----------------------------------------| 32.2% \r",
      "\r",
      "Evaluating BPR |===================>----------------------------------------| 32.7% \r",
      "\r",
      "Evaluating BPR |===================>----------------------------------------| 33.2% \r",
      "\r",
      "Evaluating BPR |====================>---------------------------------------| 33.6% \r",
      "\r",
      "Evaluating BPR |====================>---------------------------------------| 34.1% \r",
      "\r",
      "Evaluating BPR |====================>---------------------------------------| 34.6% \r",
      "\r",
      "Evaluating BPR |=====================>--------------------------------------| 35.0% \r",
      "\r",
      "Evaluating BPR |=====================>--------------------------------------| 35.5% \r",
      "\r",
      "Evaluating BPR |=====================>--------------------------------------| 36.0% \r",
      "\r",
      "Evaluating BPR |=====================>--------------------------------------| 36.4% \r",
      "\r",
      "Evaluating BPR |======================>-------------------------------------| 36.9% \r",
      "\r",
      "Evaluating BPR |======================>-------------------------------------| 37.4% \r",
      "\r",
      "Evaluating BPR |======================>-------------------------------------| 37.9% \r",
      "\r",
      "Evaluating BPR |======================>-------------------------------------| 38.3% \r",
      "\r",
      "Evaluating BPR |=======================>------------------------------------| 38.8% \r",
      "\r",
      "Evaluating BPR |=======================>------------------------------------| 39.3% \r",
      "\r",
      "Evaluating BPR |=======================>------------------------------------| 39.7% \r",
      "\r",
      "Evaluating BPR |========================>-----------------------------------| 40.2% \r",
      "\r",
      "Evaluating BPR |========================>-----------------------------------| 40.7% \r",
      "\r",
      "Evaluating BPR |========================>-----------------------------------| 41.1% \r",
      "\r",
      "Evaluating BPR |========================>-----------------------------------| 41.6% \r",
      "\r",
      "Evaluating BPR |=========================>----------------------------------| 42.1% \r",
      "\r",
      "Evaluating BPR |=========================>----------------------------------| 42.5% \r",
      "\r",
      "Evaluating BPR |=========================>----------------------------------| 43.0% \r",
      "\r",
      "Evaluating BPR |==========================>---------------------------------| 43.5% \r",
      "\r",
      "Evaluating BPR |==========================>---------------------------------| 43.9% \r",
      "\r",
      "Evaluating BPR |==========================>---------------------------------| 44.4% \r",
      "\r",
      "Evaluating BPR |==========================>---------------------------------| 44.9% \r",
      "\r",
      "Evaluating BPR |===========================>--------------------------------| 45.3% \r",
      "\r",
      "Evaluating BPR |===========================>--------------------------------| 45.8% \r",
      "\r",
      "Evaluating BPR |===========================>--------------------------------| 46.3% \r",
      "\r",
      "Evaluating BPR |============================>-------------------------------| 46.7% \r",
      "\r",
      "Evaluating BPR |============================>-------------------------------| 47.2% \r",
      "\r",
      "Evaluating BPR |============================>-------------------------------| 47.7% \r",
      "\r",
      "Evaluating BPR |============================>-------------------------------| 48.1% \r",
      "\r",
      "Evaluating BPR |=============================>------------------------------| 48.6% \r",
      "\r",
      "Evaluating BPR |=============================>------------------------------| 49.1% \r",
      "\r",
      "Evaluating BPR |=============================>------------------------------| 49.5% \r",
      "\r",
      "Evaluating BPR |==============================>-----------------------------| 50.0% \r",
      "\r",
      "Evaluating BPR |==============================>-----------------------------| 50.5% \r",
      "\r",
      "Evaluating BPR |==============================>-----------------------------| 50.9% \r",
      "\r",
      "Evaluating BPR |==============================>-----------------------------| 51.4% \r",
      "\r",
      "Evaluating BPR |===============================>----------------------------| 51.9% \r",
      "\r",
      "Evaluating BPR |===============================>----------------------------| 52.3% \r",
      "\r",
      "Evaluating BPR |===============================>----------------------------| 52.8% \r",
      "\r",
      "Evaluating BPR |===============================>----------------------------| 53.3% \r",
      "\r",
      "Evaluating BPR |================================>---------------------------| 53.7% \r",
      "\r",
      "Evaluating BPR |================================>---------------------------| 54.2% \r",
      "\r",
      "Evaluating BPR |================================>---------------------------| 54.7% \r",
      "\r",
      "Evaluating BPR |=================================>--------------------------| 55.1% \r",
      "\r",
      "Evaluating BPR |=================================>--------------------------| 55.6% \r",
      "\r",
      "Evaluating BPR |=================================>--------------------------| 56.1% \r",
      "\r",
      "Evaluating BPR |=================================>--------------------------| 56.5% \r",
      "\r",
      "Evaluating BPR |==================================>-------------------------| 57.0% \r",
      "\r",
      "Evaluating BPR |==================================>-------------------------| 57.5% \r",
      "\r",
      "Evaluating BPR |==================================>-------------------------| 57.9% \r",
      "\r",
      "Evaluating BPR |===================================>------------------------| 58.4% \r",
      "\r",
      "Evaluating BPR |===================================>------------------------| 58.9% \r",
      "\r",
      "Evaluating BPR |===================================>------------------------| 59.3% \r",
      "\r",
      "Evaluating BPR |===================================>------------------------| 59.8% \r",
      "\r",
      "Evaluating BPR |====================================>-----------------------| 60.3% \r",
      "\r",
      "Evaluating BPR |====================================>-----------------------| 60.7% \r",
      "\r",
      "Evaluating BPR |====================================>-----------------------| 61.2% \r",
      "\r",
      "Evaluating BPR |=====================================>----------------------| 61.7% \r",
      "\r",
      "Evaluating BPR |=====================================>----------------------| 62.1% \r",
      "\r",
      "Evaluating BPR |=====================================>----------------------| 62.6% \r",
      "\r",
      "Evaluating BPR |=====================================>----------------------| 63.1% \r",
      "\r",
      "Evaluating BPR |======================================>---------------------| 63.6% \r"
     ]
    }
   ],
   "source": [
    "result = ev.evaluate(bpr)"
   ]
  },
  {
   "cell_type": "code",
   "execution_count": 208,
   "metadata": {},
   "outputs": [
    {
     "data": {
      "text/plain": [
       "{'accuracy': 0.4650770839746678,\n",
       " 'precision': 0.5425221820552567,\n",
       " 'recall': 0.5191246418664671,\n",
       " 'map@1': 0.09086594626168225,\n",
       " 'map@5': 0.04997421185423155,\n",
       " 'map@10': 0.038979880821814805,\n",
       " 'diversity@5': 0.16134236228793516,\n",
       " 'diversity@10': 0.1638263742917533,\n",
       " 'epc@5': 0.3904947073664208,\n",
       " 'epc@10': 0.40470517320932886,\n",
       " 'epd@5': 0.20701922409353005,\n",
       " 'name': 'BPR',\n",
       " 'latent_dim': 32,\n",
       " 'epochs': 5,\n",
       " 'batch_size': 4096}"
      ]
     },
     "execution_count": 208,
     "metadata": {},
     "output_type": "execute_result"
    }
   ],
   "source": [
    "result"
   ]
  },
  {
   "cell_type": "code",
   "execution_count": 127,
   "metadata": {
    "scrolled": true
   },
   "outputs": [
    {
     "name": "stdout",
     "output_type": "stream",
     "text": [
      "Evaluating ConstraintAutoRec |============================================================>| 100.0% \n",
      "Evaluating BPR |============================================================>| 100.0% \n"
     ]
    }
   ],
   "source": [
    "result = ev.evaluate_models([model, bpr])"
   ]
  },
  {
   "cell_type": "code",
   "execution_count": null,
   "metadata": {
    "scrolled": false
   },
   "outputs": [],
   "source": [
    "ev.evaluate_models(nov_models2)"
   ]
  },
  {
   "cell_type": "code",
   "execution_count": 211,
   "metadata": {},
   "outputs": [
    {
     "data": {
      "text/plain": [
       "{'accuracy': 0.4768148516836452,\n",
       " 'precision': 0.5390853520053073,\n",
       " 'recall': 0.5404514802406271,\n",
       " 'map@1': 0.09876236497147713,\n",
       " 'map@5': 0.055156317693372335,\n",
       " 'map@10': 0.043819520386634364,\n",
       " 'diversity@5': 0.16117022541419124,\n",
       " 'diversity@10': 0.16641964375980106,\n",
       " 'epc@5': 0.4180729404503865,\n",
       " 'epc@10': 0.42959490156137525,\n",
       " 'epd@5': 0.2049803661056044,\n",
       " 'name': 'BPR',\n",
       " 'latent_dim': 32,\n",
       " 'epochs': 5,\n",
       " 'batch_size': 8092}"
      ]
     },
     "execution_count": 211,
     "metadata": {},
     "output_type": "execute_result"
    }
   ],
   "source": [
    "result"
   ]
  },
  {
   "cell_type": "code",
   "execution_count": null,
   "metadata": {},
   "outputs": [],
   "source": []
  }
 ],
 "metadata": {
  "kernelspec": {
   "display_name": "Python 3",
   "language": "python",
   "name": "python3"
  },
  "language_info": {
   "codemirror_mode": {
    "name": "ipython",
    "version": 3
   },
   "file_extension": ".py",
   "mimetype": "text/x-python",
   "name": "python",
   "nbconvert_exporter": "python",
   "pygments_lexer": "ipython3",
   "version": "3.7.3"
  },
  "pycharm": {
   "stem_cell": {
    "cell_type": "raw",
    "metadata": {
     "collapsed": false
    },
    "source": []
   }
  }
 },
 "nbformat": 4,
 "nbformat_minor": 1
}
