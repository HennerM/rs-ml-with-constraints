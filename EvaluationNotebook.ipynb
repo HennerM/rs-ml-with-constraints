{
 "cells": [
  {
   "cell_type": "code",
   "execution_count": null,
   "metadata": {
    "pycharm": {
     "is_executing": false
    }
   },
   "outputs": [],
   "source": [
    "\n",
    "import utils.common\n",
    "import evaluation\n",
    "import importlib\n",
    "import numpy as np\n",
    "import time\n",
    "import models.MatrixFactorization\n",
    "import models.ConstraintAutoRec\n",
    "importlib.reload(utils.common)\n",
    "importlib.reload(evaluation)\n",
    "importlib.reload(models.MatrixFactorization)\n",
    "importlib.reload(models.ConstraintAutoRec)\n",
    "\n"
   ]
  },
  {
   "cell_type": "code",
   "execution_count": 126,
   "metadata": {
    "pycharm": {
     "is_executing": false,
     "name": "#%%\n"
    }
   },
   "outputs": [
    {
     "name": "stdout",
     "output_type": "stream",
     "text": [
      "Epoch 1/10\n",
      "19/19 [==============================] - 8s 404ms/step - loss: 0.2570 - accuracy: 0.0146\n",
      "Epoch 2/10\n",
      "19/19 [==============================] - 0s 14ms/step - loss: 0.1808 - accuracy: 0.0477\n",
      "Epoch 3/10\n",
      "19/19 [==============================] - 0s 16ms/step - loss: 0.1677 - accuracy: 0.0536\n",
      "Epoch 4/10\n",
      "19/19 [==============================] - 0s 15ms/step - loss: 0.1537 - accuracy: 0.0415\n",
      "Epoch 5/10\n",
      "19/19 [==============================] - 0s 15ms/step - loss: 0.1487 - accuracy: 0.0230\n",
      "Epoch 6/10\n",
      "19/19 [==============================] - 0s 15ms/step - loss: 0.1383 - accuracy: 0.0230\n",
      "Epoch 7/10\n",
      "19/19 [==============================] - 0s 13ms/step - loss: 0.1344 - accuracy: 0.0328\n",
      "Epoch 8/10\n",
      "19/19 [==============================] - 0s 14ms/step - loss: 0.1245 - accuracy: 0.0242\n",
      "Epoch 9/10\n",
      "19/19 [==============================] - 0s 14ms/step - loss: 0.1250 - accuracy: 0.0197\n",
      "Epoch 10/10\n",
      "19/19 [==============================] - 0s 16ms/step - loss: 0.1103 - accuracy: 0.0296\n"
     ]
    }
   ],
   "source": [
    "model = models.ConstraintAutoRec.ConstraintAutoRec(utils.common.movie_lens['dimensions'], epochs=10, novelty_weight=0.1, diversity_weight=0.1, latent_dim=64)\n",
    "model.train(utils.common.load_dataset(utils.common.movie_lens, 'train'), utils.common.movie_lens['train']['records'])\n"
   ]
  },
  {
   "cell_type": "code",
   "execution_count": null,
   "metadata": {
    "pycharm": {
     "is_executing": false,
     "name": "#%%\n"
    }
   },
   "outputs": [],
   "source": [
    "diversity_model = models.ConstraintAutoRec.ConstraintAutoRec(utils.common.movie_lens['dimensions'], epochs=30, novelty_weight=0.25, diversity_weight=2.0)\n",
    "diversity_model.train(utils.common.load_dataset(utils.common.movie_lens, 'train'), utils.common.movie_lens['train']['records'])\n"
   ]
  },
  {
   "cell_type": "code",
   "execution_count": null,
   "metadata": {
    "pycharm": {
     "is_executing": false,
     "name": "#%%\n"
    }
   },
   "outputs": [],
   "source": [
    "def create_model(novelty_weight):\n",
    "    m = models.ConstraintAutoRec.ConstraintAutoRec(utils.common.movie_lens['dimensions'], epochs=15, novelty_weight=novelty_weight, diversity_weight=0, batch_size=128)\n",
    "    m.train(utils.common.load_dataset(utils.common.movie_lens, 'train'), utils.common.movie_lens['train']['records'])\n",
    "    return m\n",
    "\n",
    "nov_models2 = [create_model(x) for x in [0.1, 0.5, 1.0, 2.0]]"
   ]
  },
  {
   "cell_type": "code",
   "execution_count": null,
   "metadata": {
    "pycharm": {
     "is_executing": false,
     "name": "#%%\n"
    }
   },
   "outputs": [],
   "source": [
    "import matplotlib.pyplot as plt\n",
    "models"
   ]
  },
  {
   "cell_type": "code",
   "execution_count": null,
   "metadata": {
    "pycharm": {
     "name": "#%%\n"
    }
   },
   "outputs": [],
   "source": [
    "#ev = evaluation.Evaluation(utils.common.movie_lens)\n",
    "#big_eval = ev.evaluate_models(models)\n",
    "big_eval.head()"
   ]
  },
  {
   "cell_type": "code",
   "execution_count": null,
   "metadata": {},
   "outputs": [],
   "source": [
    "big_eval"
   ]
  },
  {
   "cell_type": "code",
   "execution_count": null,
   "metadata": {},
   "outputs": [],
   "source": [
    "plt.bar(eval_data.index, eval_data['epc@10'])"
   ]
  },
  {
   "cell_type": "code",
   "execution_count": null,
   "metadata": {},
   "outputs": [],
   "source": [
    "plt.plot(eval_data['novelty_weight'], eval_data['epc@10'], 'ro', ls='--')\n",
    "plt.plot(eval_data['novelty_weight'], eval_data['accuracy'], 'bo', ls='--')\n",
    "plt.show()"
   ]
  },
  {
   "cell_type": "code",
   "execution_count": null,
   "metadata": {},
   "outputs": [],
   "source": [
    "def plot_bar(data, axis, x_param):\n",
    "    bottom = data[axis].min() \n",
    "    top = data[axis].max()\n",
    "    margin = (top - bottom) * 0.05\n",
    "    fig, ax = plt.subplots()\n",
    "    ax.bar(data.index, data[axis] )\n",
    "    ax.set_xticks(data.index)\n",
    "    ax.set_xticklabels(data[x_param])\n",
    "    ax.set_ylabel(axis)\n",
    "    ax.set_xlabel(x_param)\n",
    "    plt.show()"
   ]
  },
  {
   "cell_type": "code",
   "execution_count": null,
   "metadata": {},
   "outputs": [],
   "source": [
    "plot_bar(eval_data, 'epc@10', 'novelty_weight')"
   ]
  },
  {
   "cell_type": "code",
   "execution_count": null,
   "metadata": {},
   "outputs": [],
   "source": [
    "plot_bar(eval_data, 'accuracy', 'novelty_weight')"
   ]
  },
  {
   "cell_type": "code",
   "execution_count": 129,
   "metadata": {},
   "outputs": [
    {
     "data": {
      "text/plain": [
       "<module 'models.BPR' from '/mnt/e/owncloud/FH/MasterThesis/Code/models/BPR.py'>"
      ]
     },
     "execution_count": 129,
     "metadata": {},
     "output_type": "execute_result"
    }
   ],
   "source": [
    "\n",
    "import utils.common\n",
    "import evaluation\n",
    "import importlib\n",
    "import numpy as np\n",
    "import time\n",
    "import models.MatrixFactorization\n",
    "import models.BPR\n",
    "importlib.reload(utils.common)\n",
    "importlib.reload(evaluation)\n",
    "importlib.reload(models.MatrixFactorization)\n",
    "importlib.reload(models.BPR)\n",
    "\n"
   ]
  },
  {
   "cell_type": "code",
   "execution_count": null,
   "metadata": {
    "scrolled": false
   },
   "outputs": [
    {
     "name": "stdout",
     "output_type": "stream",
     "text": [
      "Epoch #0 Loss at step 2580: 0.7566\r"
     ]
    }
   ],
   "source": [
    "# mf = models.MatrixFactorization.MatrixFactorization(utils.common.movie_lens['user'], utils.common.movie_lens['dimensions'], epochs=10, latent_dim = 64)\n",
    "# mf.train(utils.common.load_dataset(utils.common.movie_lens, 'train'), utils.common.movie_lens['train']['records'])\n",
    "\n",
    "bpr = models.BPR.BPR(utils.common.movie_lens['user'], utils.common.movie_lens['dimensions'], epochs=5, latent_dim = 32, batch_size=128)\n",
    "bpr.train(utils.common.load_dataset(utils.common.movie_lens, 'train'), utils.common.movie_lens['train']['records'])"
   ]
  },
  {
   "cell_type": "code",
   "execution_count": 125,
   "metadata": {},
   "outputs": [
    {
     "name": "stdout",
     "output_type": "stream",
     "text": [
      "\r",
      "Evaluating BPR |============================================================>| 100.0% \r\n"
     ]
    },
    {
     "data": {
      "text/plain": [
       "{'accuracy': 0.728796169630643,\n",
       " 'precision': 0.8695271453590193,\n",
       " 'recall': 0.8004836759371221,\n",
       " 'map@1': 0.19327731092436976,\n",
       " 'map@5': 0.08470121381886088,\n",
       " 'map@10': 0.06565318984736752,\n",
       " 'diversity@5': 0.30614628595624477,\n",
       " 'diversity@10': 0.31488377299134696,\n",
       " 'epc@5': 0.7644980470235259,\n",
       " 'epc@10': 0.7767215907725664,\n",
       " 'epd@5': 0.33222268291415785,\n",
       " 'name': 'BPR',\n",
       " 'latent_dim': 32,\n",
       " 'epochs': 10,\n",
       " 'batch_size': 128}"
      ]
     },
     "execution_count": 125,
     "metadata": {},
     "output_type": "execute_result"
    }
   ],
   "source": [
    "ev = evaluation.Evaluation(utils.common.movie_lens)\n",
    "ev.evaluate(bpr)"
   ]
  },
  {
   "cell_type": "code",
   "execution_count": 127,
   "metadata": {
    "scrolled": true
   },
   "outputs": [
    {
     "name": "stdout",
     "output_type": "stream",
     "text": [
      "Evaluating ConstraintAutoRec |============================================================>| 100.0% \n",
      "Evaluating BPR |============================================================>| 100.0% \n"
     ]
    }
   ],
   "source": [
    "result = ev.evaluate_models([model, bpr])"
   ]
  },
  {
   "cell_type": "code",
   "execution_count": null,
   "metadata": {
    "scrolled": false
   },
   "outputs": [],
   "source": [
    "ev.evaluate_models(nov_models2)"
   ]
  },
  {
   "cell_type": "code",
   "execution_count": 128,
   "metadata": {},
   "outputs": [
    {
     "data": {
      "text/html": [
       "<div>\n",
       "<style scoped>\n",
       "    .dataframe tbody tr th:only-of-type {\n",
       "        vertical-align: middle;\n",
       "    }\n",
       "\n",
       "    .dataframe tbody tr th {\n",
       "        vertical-align: top;\n",
       "    }\n",
       "\n",
       "    .dataframe thead th {\n",
       "        text-align: right;\n",
       "    }\n",
       "</style>\n",
       "<table border=\"1\" class=\"dataframe\">\n",
       "  <thead>\n",
       "    <tr style=\"text-align: right;\">\n",
       "      <th></th>\n",
       "      <th>accuracy</th>\n",
       "      <th>accuracy_weight</th>\n",
       "      <th>batch_size</th>\n",
       "      <th>dimensions</th>\n",
       "      <th>diversity@10</th>\n",
       "      <th>diversity@5</th>\n",
       "      <th>diversity_weight</th>\n",
       "      <th>epc@10</th>\n",
       "      <th>epc@5</th>\n",
       "      <th>epd@5</th>\n",
       "      <th>...</th>\n",
       "      <th>latent_dim</th>\n",
       "      <th>latent_dims</th>\n",
       "      <th>map@1</th>\n",
       "      <th>map@10</th>\n",
       "      <th>map@5</th>\n",
       "      <th>name</th>\n",
       "      <th>novelty_weight</th>\n",
       "      <th>optimizer</th>\n",
       "      <th>precision</th>\n",
       "      <th>recall</th>\n",
       "    </tr>\n",
       "  </thead>\n",
       "  <tbody>\n",
       "    <tr>\n",
       "      <th>0</th>\n",
       "      <td>0.672709</td>\n",
       "      <td>1.0</td>\n",
       "      <td>32</td>\n",
       "      <td>10379.0</td>\n",
       "      <td>0.234590</td>\n",
       "      <td>0.225265</td>\n",
       "      <td>0.1</td>\n",
       "      <td>0.735680</td>\n",
       "      <td>0.716488</td>\n",
       "      <td>0.316391</td>\n",
       "      <td>...</td>\n",
       "      <td>NaN</td>\n",
       "      <td>64.0</td>\n",
       "      <td>0.134454</td>\n",
       "      <td>0.045434</td>\n",
       "      <td>0.056975</td>\n",
       "      <td>ConstraintAutoRec</td>\n",
       "      <td>0.1</td>\n",
       "      <td>adam</td>\n",
       "      <td>0.894410</td>\n",
       "      <td>0.696493</td>\n",
       "    </tr>\n",
       "    <tr>\n",
       "      <th>1</th>\n",
       "      <td>0.728796</td>\n",
       "      <td>NaN</td>\n",
       "      <td>128</td>\n",
       "      <td>NaN</td>\n",
       "      <td>0.314884</td>\n",
       "      <td>0.306146</td>\n",
       "      <td>NaN</td>\n",
       "      <td>0.776722</td>\n",
       "      <td>0.764498</td>\n",
       "      <td>0.332223</td>\n",
       "      <td>...</td>\n",
       "      <td>32.0</td>\n",
       "      <td>NaN</td>\n",
       "      <td>0.193277</td>\n",
       "      <td>0.065653</td>\n",
       "      <td>0.084701</td>\n",
       "      <td>BPR</td>\n",
       "      <td>NaN</td>\n",
       "      <td>NaN</td>\n",
       "      <td>0.869527</td>\n",
       "      <td>0.800484</td>\n",
       "    </tr>\n",
       "  </tbody>\n",
       "</table>\n",
       "<p>2 rows × 21 columns</p>\n",
       "</div>"
      ],
      "text/plain": [
       "   accuracy  accuracy_weight  batch_size  dimensions  diversity@10  \\\n",
       "0  0.672709              1.0          32     10379.0      0.234590   \n",
       "1  0.728796              NaN         128         NaN      0.314884   \n",
       "\n",
       "   diversity@5  diversity_weight    epc@10     epc@5     epd@5  ...  \\\n",
       "0     0.225265               0.1  0.735680  0.716488  0.316391  ...   \n",
       "1     0.306146               NaN  0.776722  0.764498  0.332223  ...   \n",
       "\n",
       "   latent_dim  latent_dims     map@1    map@10     map@5               name  \\\n",
       "0         NaN         64.0  0.134454  0.045434  0.056975  ConstraintAutoRec   \n",
       "1        32.0          NaN  0.193277  0.065653  0.084701                BPR   \n",
       "\n",
       "  novelty_weight  optimizer precision    recall  \n",
       "0            0.1       adam  0.894410  0.696493  \n",
       "1            NaN        NaN  0.869527  0.800484  \n",
       "\n",
       "[2 rows x 21 columns]"
      ]
     },
     "execution_count": 128,
     "metadata": {},
     "output_type": "execute_result"
    }
   ],
   "source": [
    "result"
   ]
  },
  {
   "cell_type": "code",
   "execution_count": null,
   "metadata": {},
   "outputs": [],
   "source": []
  }
 ],
 "metadata": {
  "kernelspec": {
   "display_name": "Python 3",
   "language": "python",
   "name": "python3"
  },
  "language_info": {
   "codemirror_mode": {
    "name": "ipython",
    "version": 3
   },
   "file_extension": ".py",
   "mimetype": "text/x-python",
   "name": "python",
   "nbconvert_exporter": "python",
   "pygments_lexer": "ipython3",
   "version": "3.7.3"
  },
  "pycharm": {
   "stem_cell": {
    "cell_type": "raw",
    "metadata": {
     "collapsed": false
    },
    "source": []
   }
  }
 },
 "nbformat": 4,
 "nbformat_minor": 1
}
