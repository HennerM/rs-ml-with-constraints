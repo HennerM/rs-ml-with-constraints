{
 "cells": [
  {
   "cell_type": "code",
   "execution_count": null,
   "metadata": {
    "pycharm": {
     "is_executing": false
    }
   },
   "outputs": [],
   "source": [
    "\n",
    "import utils.common\n",
    "import evaluation\n",
    "import importlib\n",
    "import numpy as np\n",
    "import time\n",
    "import models.MatrixFactorization\n",
    "import models.ConstraintAutoRec\n",
    "importlib.reload(utils.common)\n",
    "importlib.reload(evaluation)\n",
    "importlib.reload(models.MatrixFactorization)\n",
    "importlib.reload(models.ConstraintAutoRec)\n",
    "\n"
   ]
  },
  {
   "cell_type": "code",
   "execution_count": null,
   "metadata": {
    "pycharm": {
     "is_executing": false,
     "name": "#%%\n"
    }
   },
   "outputs": [],
   "source": [
    "model = models.ConstraintAutoRec.ConstraintAutoRec(utils.common.movie_lens['dimensions'], epochs=5, novelty_weight=0.1, diversity_weight=0.1)\n",
    "model.train(utils.common.load_dataset(utils.common.movie_lens, 'train'), utils.common.movie_lens['train']['records'])\n"
   ]
  },
  {
   "cell_type": "code",
   "execution_count": null,
   "metadata": {
    "pycharm": {
     "is_executing": false,
     "name": "#%%\n"
    }
   },
   "outputs": [],
   "source": [
    "diversity_model = models.ConstraintAutoRec.ConstraintAutoRec(utils.common.movie_lens['dimensions'], epochs=30, novelty_weight=0.25, diversity_weight=2.0)\n",
    "diversity_model.train(utils.common.load_dataset(utils.common.movie_lens, 'train'), utils.common.movie_lens['train']['records'])\n"
   ]
  },
  {
   "cell_type": "code",
   "execution_count": null,
   "metadata": {
    "pycharm": {
     "is_executing": false,
     "name": "#%%\n"
    }
   },
   "outputs": [],
   "source": [
    "def create_model(novelty_weight):\n",
    "    m = models.ConstraintAutoRec.ConstraintAutoRec(utils.common.movie_lens['dimensions'], epochs=15, novelty_weight=novelty_weight, diversity_weight=0, batch_size=128)\n",
    "    m.train(utils.common.load_dataset(utils.common.movie_lens, 'train'), utils.common.movie_lens['train']['records'])\n",
    "    return m\n",
    "\n",
    "nov_models2 = [create_model(x) for x in [0.1, 0.5, 1.0, 2.0]]"
   ]
  },
  {
   "cell_type": "code",
   "execution_count": null,
   "metadata": {
    "pycharm": {
     "is_executing": false,
     "name": "#%%\n"
    }
   },
   "outputs": [],
   "source": [
    "import matplotlib.pyplot as plt\n",
    "models"
   ]
  },
  {
   "cell_type": "code",
   "execution_count": null,
   "metadata": {
    "pycharm": {
     "name": "#%%\n"
    }
   },
   "outputs": [],
   "source": [
    "#ev = evaluation.Evaluation(utils.common.movie_lens)\n",
    "#big_eval = ev.evaluate_models(models)\n",
    "big_eval.head()"
   ]
  },
  {
   "cell_type": "code",
   "execution_count": null,
   "metadata": {},
   "outputs": [],
   "source": [
    "big_eval"
   ]
  },
  {
   "cell_type": "code",
   "execution_count": null,
   "metadata": {},
   "outputs": [],
   "source": [
    "plt.bar(eval_data.index, eval_data['epc@10'])"
   ]
  },
  {
   "cell_type": "code",
   "execution_count": null,
   "metadata": {},
   "outputs": [],
   "source": [
    "plt.plot(eval_data['novelty_weight'], eval_data['epc@10'], 'ro', ls='--')\n",
    "plt.plot(eval_data['novelty_weight'], eval_data['accuracy'], 'bo', ls='--')\n",
    "plt.show()"
   ]
  },
  {
   "cell_type": "code",
   "execution_count": null,
   "metadata": {},
   "outputs": [],
   "source": [
    "def plot_bar(data, axis, x_param):\n",
    "    bottom = data[axis].min() \n",
    "    top = data[axis].max()\n",
    "    margin = (top - bottom) * 0.05\n",
    "    fig, ax = plt.subplots()\n",
    "    ax.bar(data.index, data[axis] )\n",
    "    ax.set_xticks(data.index)\n",
    "    ax.set_xticklabels(data[x_param])\n",
    "    ax.set_ylabel(axis)\n",
    "    ax.set_xlabel(x_param)\n",
    "    plt.show()"
   ]
  },
  {
   "cell_type": "code",
   "execution_count": null,
   "metadata": {},
   "outputs": [],
   "source": [
    "plot_bar(eval_data, 'epc@10', 'novelty_weight')"
   ]
  },
  {
   "cell_type": "code",
   "execution_count": null,
   "metadata": {},
   "outputs": [],
   "source": [
    "plot_bar(eval_data, 'accuracy', 'novelty_weight')"
   ]
  },
  {
   "cell_type": "code",
   "execution_count": 4,
   "metadata": {},
   "outputs": [
    {
     "data": {
      "text/plain": [
       "<module 'models.MatrixFactorization' from '/mnt/e/owncloud/FH/MasterThesis/Code/models/MatrixFactorization.py'>"
      ]
     },
     "execution_count": 4,
     "metadata": {},
     "output_type": "execute_result"
    }
   ],
   "source": [
    "\n",
    "import utils.common\n",
    "import evaluation\n",
    "import importlib\n",
    "import numpy as np\n",
    "import time\n",
    "import models.MatrixFactorization\n",
    "importlib.reload(utils.common)\n",
    "importlib.reload(evaluation)\n",
    "importlib.reload(models.MatrixFactorization)\n",
    "\n"
   ]
  },
  {
   "cell_type": "code",
   "execution_count": null,
   "metadata": {
    "scrolled": false
   },
   "outputs": [
    {
     "name": "stdout",
     "output_type": "stream",
     "text": [
      "Epoch 0, loss:  1.008 |========================>-------------------------------------------------------| 30.7% \r"
     ]
    }
   ],
   "source": [
    "# mf = models.MatrixFactorization.MatrixFactorization(utils.common.movie_lens['user'], utils.common.movie_lens['dimensions'], epochs=10, latent_dim = 64)\n",
    "mf.train(utils.common.load_dataset(utils.common.movie_lens, 'train'), utils.common.movie_lens['train']['records'])"
   ]
  },
  {
   "cell_type": "code",
   "execution_count": 67,
   "metadata": {},
   "outputs": [
    {
     "name": "stdout",
     "output_type": "stream",
     "text": [
      "\r",
      "Evaluating MatrixFactorization |------------------------------------------------------------| 0.5% \r",
      "\r",
      "Evaluating MatrixFactorization |------------------------------------------------------------| 0.9% \r",
      "\r",
      "Evaluating MatrixFactorization |------------------------------------------------------------| 1.4% \r",
      "\r",
      "Evaluating MatrixFactorization |█-----------------------------------------------------------| 1.9% \r",
      "\r",
      "Evaluating MatrixFactorization |█-----------------------------------------------------------| 2.3% \r",
      "\r",
      "Evaluating MatrixFactorization |█-----------------------------------------------------------| 2.8% \r",
      "\r",
      "Evaluating MatrixFactorization |█-----------------------------------------------------------| 3.3% \r",
      "\r",
      "Evaluating MatrixFactorization |██----------------------------------------------------------| 3.7% \r",
      "\r",
      "Evaluating MatrixFactorization |██----------------------------------------------------------| 4.2% \r",
      "\r",
      "Evaluating MatrixFactorization |██----------------------------------------------------------| 4.7% \r",
      "\r",
      "Evaluating MatrixFactorization |███---------------------------------------------------------| 5.1% \r",
      "\r",
      "Evaluating MatrixFactorization |███---------------------------------------------------------| 5.6% \r",
      "\r",
      "Evaluating MatrixFactorization |███---------------------------------------------------------| 6.1% \r",
      "\r",
      "Evaluating MatrixFactorization |███---------------------------------------------------------| 6.5% \r",
      "\r",
      "Evaluating MatrixFactorization |████--------------------------------------------------------| 7.0% \r",
      "\r",
      "Evaluating MatrixFactorization |████--------------------------------------------------------| 7.5% \r",
      "\r",
      "Evaluating MatrixFactorization |████--------------------------------------------------------| 7.9% \r",
      "\r",
      "Evaluating MatrixFactorization |█████-------------------------------------------------------| 8.4% \r",
      "\r",
      "Evaluating MatrixFactorization |█████-------------------------------------------------------| 8.9% \r",
      "\r",
      "Evaluating MatrixFactorization |█████-------------------------------------------------------| 9.3% \r",
      "\r",
      "Evaluating MatrixFactorization |█████-------------------------------------------------------| 9.8% \r",
      "\r",
      "Evaluating MatrixFactorization |██████------------------------------------------------------| 10.3% \r",
      "\r",
      "Evaluating MatrixFactorization |██████------------------------------------------------------| 10.7% \r",
      "\r",
      "Evaluating MatrixFactorization |██████------------------------------------------------------| 11.2% \r",
      "\r",
      "Evaluating MatrixFactorization |███████-----------------------------------------------------| 11.7% \r",
      "\r",
      "Evaluating MatrixFactorization |███████-----------------------------------------------------| 12.1% \r",
      "\r",
      "Evaluating MatrixFactorization |███████-----------------------------------------------------| 12.6% \r",
      "\r",
      "Evaluating MatrixFactorization |███████-----------------------------------------------------| 13.1% \r",
      "\r",
      "Evaluating MatrixFactorization |████████----------------------------------------------------| 13.6% \r",
      "\r",
      "Evaluating MatrixFactorization |████████----------------------------------------------------| 14.0% \r",
      "\r",
      "Evaluating MatrixFactorization |████████----------------------------------------------------| 14.5% \r",
      "\r",
      "Evaluating MatrixFactorization |████████----------------------------------------------------| 15.0% \r",
      "\r",
      "Evaluating MatrixFactorization |█████████---------------------------------------------------| 15.4% \r",
      "\r",
      "Evaluating MatrixFactorization |█████████---------------------------------------------------| 15.9% \r",
      "\r",
      "Evaluating MatrixFactorization |█████████---------------------------------------------------| 16.4% \r",
      "\r",
      "Evaluating MatrixFactorization |██████████--------------------------------------------------| 16.8% \r",
      "\r",
      "Evaluating MatrixFactorization |██████████--------------------------------------------------| 17.3% \r",
      "\r",
      "Evaluating MatrixFactorization |██████████--------------------------------------------------| 17.8% \r",
      "\r",
      "Evaluating MatrixFactorization |██████████--------------------------------------------------| 18.2% \r",
      "\r",
      "Evaluating MatrixFactorization |███████████-------------------------------------------------| 18.7% \r",
      "\r",
      "Evaluating MatrixFactorization |███████████-------------------------------------------------| 19.2% \r",
      "\r",
      "Evaluating MatrixFactorization |███████████-------------------------------------------------| 19.6% \r",
      "\r",
      "Evaluating MatrixFactorization |████████████------------------------------------------------| 20.1% \r",
      "\r",
      "Evaluating MatrixFactorization |████████████------------------------------------------------| 20.6% \r",
      "\r",
      "Evaluating MatrixFactorization |████████████------------------------------------------------| 21.0% \r",
      "\r",
      "Evaluating MatrixFactorization |████████████------------------------------------------------| 21.5% \r",
      "\r",
      "Evaluating MatrixFactorization |█████████████-----------------------------------------------| 22.0% \r",
      "\r",
      "Evaluating MatrixFactorization |█████████████-----------------------------------------------| 22.4% \r",
      "\r",
      "Evaluating MatrixFactorization |█████████████-----------------------------------------------| 22.9% \r",
      "\r",
      "Evaluating MatrixFactorization |██████████████----------------------------------------------| 23.4% \r",
      "\r",
      "Evaluating MatrixFactorization |██████████████----------------------------------------------| 23.8% \r",
      "\r",
      "Evaluating MatrixFactorization |██████████████----------------------------------------------| 24.3% \r",
      "\r",
      "Evaluating MatrixFactorization |██████████████----------------------------------------------| 24.8% \r",
      "\r",
      "Evaluating MatrixFactorization |███████████████---------------------------------------------| 25.2% \r",
      "\r",
      "Evaluating MatrixFactorization |███████████████---------------------------------------------| 25.7% \r",
      "\r",
      "Evaluating MatrixFactorization |███████████████---------------------------------------------| 26.2% \r",
      "\r",
      "Evaluating MatrixFactorization |███████████████---------------------------------------------| 26.6% \r",
      "\r",
      "Evaluating MatrixFactorization |████████████████--------------------------------------------| 27.1% \r",
      "\r",
      "Evaluating MatrixFactorization |████████████████--------------------------------------------| 27.6% \r",
      "\r",
      "Evaluating MatrixFactorization |████████████████--------------------------------------------| 28.0% \r",
      "\r",
      "Evaluating MatrixFactorization |█████████████████-------------------------------------------| 28.5% \r",
      "\r",
      "Evaluating MatrixFactorization |█████████████████-------------------------------------------| 29.0% \r",
      "\r",
      "Evaluating MatrixFactorization |█████████████████-------------------------------------------| 29.4% \r",
      "\r",
      "Evaluating MatrixFactorization |█████████████████-------------------------------------------| 29.9% \r",
      "\r",
      "Evaluating MatrixFactorization |██████████████████------------------------------------------| 30.4% \r",
      "\r",
      "Evaluating MatrixFactorization |██████████████████------------------------------------------| 30.8% \r",
      "\r",
      "Evaluating MatrixFactorization |██████████████████------------------------------------------| 31.3% \r",
      "\r",
      "Evaluating MatrixFactorization |███████████████████-----------------------------------------| 31.8% \r",
      "\r",
      "Evaluating MatrixFactorization |███████████████████-----------------------------------------| 32.2% \r",
      "\r",
      "Evaluating MatrixFactorization |███████████████████-----------------------------------------| 32.7% \r",
      "\r",
      "Evaluating MatrixFactorization |███████████████████-----------------------------------------| 33.2% \r",
      "\r",
      "Evaluating MatrixFactorization |████████████████████----------------------------------------| 33.6% \r",
      "\r",
      "Evaluating MatrixFactorization |████████████████████----------------------------------------| 34.1% \r",
      "\r",
      "Evaluating MatrixFactorization |████████████████████----------------------------------------| 34.6% \r",
      "\r",
      "Evaluating MatrixFactorization |█████████████████████---------------------------------------| 35.0% \r",
      "\r",
      "Evaluating MatrixFactorization |█████████████████████---------------------------------------| 35.5% \r",
      "\r",
      "Evaluating MatrixFactorization |█████████████████████---------------------------------------| 36.0% \r",
      "\r",
      "Evaluating MatrixFactorization |█████████████████████---------------------------------------| 36.4% \r",
      "\r",
      "Evaluating MatrixFactorization |██████████████████████--------------------------------------| 36.9% \r",
      "\r",
      "Evaluating MatrixFactorization |██████████████████████--------------------------------------| 37.4% \r",
      "\r",
      "Evaluating MatrixFactorization |██████████████████████--------------------------------------| 37.9% \r",
      "\r",
      "Evaluating MatrixFactorization |██████████████████████--------------------------------------| 38.3% \r",
      "\r",
      "Evaluating MatrixFactorization |███████████████████████-------------------------------------| 38.8% \r",
      "\r",
      "Evaluating MatrixFactorization |███████████████████████-------------------------------------| 39.3% \r",
      "\r",
      "Evaluating MatrixFactorization |███████████████████████-------------------------------------| 39.7% \r",
      "\r",
      "Evaluating MatrixFactorization |████████████████████████------------------------------------| 40.2% \r",
      "\r",
      "Evaluating MatrixFactorization |████████████████████████------------------------------------| 40.7% \r",
      "\r",
      "Evaluating MatrixFactorization |████████████████████████------------------------------------| 41.1% \r",
      "\r",
      "Evaluating MatrixFactorization |████████████████████████------------------------------------| 41.6% \r",
      "\r",
      "Evaluating MatrixFactorization |█████████████████████████-----------------------------------| 42.1% \r",
      "\r",
      "Evaluating MatrixFactorization |█████████████████████████-----------------------------------| 42.5% \r",
      "\r",
      "Evaluating MatrixFactorization |█████████████████████████-----------------------------------| 43.0% \r",
      "\r",
      "Evaluating MatrixFactorization |██████████████████████████----------------------------------| 43.5% \r",
      "\r",
      "Evaluating MatrixFactorization |██████████████████████████----------------------------------| 43.9% \r",
      "\r",
      "Evaluating MatrixFactorization |██████████████████████████----------------------------------| 44.4% \r",
      "\r",
      "Evaluating MatrixFactorization |██████████████████████████----------------------------------| 44.9% \r",
      "\r",
      "Evaluating MatrixFactorization |███████████████████████████---------------------------------| 45.3% \r",
      "\r",
      "Evaluating MatrixFactorization |███████████████████████████---------------------------------| 45.8% \r",
      "\r",
      "Evaluating MatrixFactorization |███████████████████████████---------------------------------| 46.3% \r",
      "\r",
      "Evaluating MatrixFactorization |████████████████████████████--------------------------------| 46.7% \r",
      "\r",
      "Evaluating MatrixFactorization |████████████████████████████--------------------------------| 47.2% \r",
      "\r",
      "Evaluating MatrixFactorization |████████████████████████████--------------------------------| 47.7% \r",
      "\r",
      "Evaluating MatrixFactorization |████████████████████████████--------------------------------| 48.1% \r",
      "\r",
      "Evaluating MatrixFactorization |█████████████████████████████-------------------------------| 48.6% \r",
      "\r",
      "Evaluating MatrixFactorization |█████████████████████████████-------------------------------| 49.1% \r",
      "\r",
      "Evaluating MatrixFactorization |█████████████████████████████-------------------------------| 49.5% \r",
      "\r",
      "Evaluating MatrixFactorization |██████████████████████████████------------------------------| 50.0% \r",
      "\r",
      "Evaluating MatrixFactorization |██████████████████████████████------------------------------| 50.5% \r",
      "\r",
      "Evaluating MatrixFactorization |██████████████████████████████------------------------------| 50.9% \r",
      "\r",
      "Evaluating MatrixFactorization |██████████████████████████████------------------------------| 51.4% \r",
      "\r",
      "Evaluating MatrixFactorization |███████████████████████████████-----------------------------| 51.9% \r",
      "\r",
      "Evaluating MatrixFactorization |███████████████████████████████-----------------------------| 52.3% \r",
      "\r",
      "Evaluating MatrixFactorization |███████████████████████████████-----------------------------| 52.8% \r",
      "\r",
      "Evaluating MatrixFactorization |███████████████████████████████-----------------------------| 53.3% \r",
      "\r",
      "Evaluating MatrixFactorization |████████████████████████████████----------------------------| 53.7% \r",
      "\r",
      "Evaluating MatrixFactorization |████████████████████████████████----------------------------| 54.2% \r",
      "\r",
      "Evaluating MatrixFactorization |████████████████████████████████----------------------------| 54.7% \r",
      "\r",
      "Evaluating MatrixFactorization |█████████████████████████████████---------------------------| 55.1% \r",
      "\r",
      "Evaluating MatrixFactorization |█████████████████████████████████---------------------------| 55.6% \r",
      "\r",
      "Evaluating MatrixFactorization |█████████████████████████████████---------------------------| 56.1% \r",
      "\r",
      "Evaluating MatrixFactorization |█████████████████████████████████---------------------------| 56.5% \r",
      "\r",
      "Evaluating MatrixFactorization |██████████████████████████████████--------------------------| 57.0% \r",
      "\r",
      "Evaluating MatrixFactorization |██████████████████████████████████--------------------------| 57.5% \r",
      "\r",
      "Evaluating MatrixFactorization |██████████████████████████████████--------------------------| 57.9% \r",
      "\r",
      "Evaluating MatrixFactorization |███████████████████████████████████-------------------------| 58.4% \r",
      "\r",
      "Evaluating MatrixFactorization |███████████████████████████████████-------------------------| 58.9% \r",
      "\r",
      "Evaluating MatrixFactorization |███████████████████████████████████-------------------------| 59.3% \r",
      "\r",
      "Evaluating MatrixFactorization |███████████████████████████████████-------------------------| 59.8% \r",
      "\r",
      "Evaluating MatrixFactorization |████████████████████████████████████------------------------| 60.3% \r",
      "\r",
      "Evaluating MatrixFactorization |████████████████████████████████████------------------------| 60.7% \r",
      "\r",
      "Evaluating MatrixFactorization |████████████████████████████████████------------------------| 61.2% \r",
      "\r",
      "Evaluating MatrixFactorization |█████████████████████████████████████-----------------------| 61.7% \r",
      "\r",
      "Evaluating MatrixFactorization |█████████████████████████████████████-----------------------| 62.1% \r",
      "\r",
      "Evaluating MatrixFactorization |█████████████████████████████████████-----------------------| 62.6% \r",
      "\r",
      "Evaluating MatrixFactorization |█████████████████████████████████████-----------------------| 63.1% \r",
      "\r",
      "Evaluating MatrixFactorization |██████████████████████████████████████----------------------| 63.6% \r",
      "\r",
      "Evaluating MatrixFactorization |██████████████████████████████████████----------------------| 64.0% \r",
      "\r",
      "Evaluating MatrixFactorization |██████████████████████████████████████----------------------| 64.5% \r",
      "\r",
      "Evaluating MatrixFactorization |██████████████████████████████████████----------------------| 65.0% \r",
      "\r",
      "Evaluating MatrixFactorization |███████████████████████████████████████---------------------| 65.4% \r",
      "\r",
      "Evaluating MatrixFactorization |███████████████████████████████████████---------------------| 65.9% \r",
      "\r",
      "Evaluating MatrixFactorization |███████████████████████████████████████---------------------| 66.4% \r",
      "\r",
      "Evaluating MatrixFactorization |████████████████████████████████████████--------------------| 66.8% \r",
      "\r",
      "Evaluating MatrixFactorization |████████████████████████████████████████--------------------| 67.3% \r",
      "\r",
      "Evaluating MatrixFactorization |████████████████████████████████████████--------------------| 67.8% \r",
      "\r",
      "Evaluating MatrixFactorization |████████████████████████████████████████--------------------| 68.2% \r",
      "\r",
      "Evaluating MatrixFactorization |█████████████████████████████████████████-------------------| 68.7% \r",
      "\r",
      "Evaluating MatrixFactorization |█████████████████████████████████████████-------------------| 69.2% \r",
      "\r",
      "Evaluating MatrixFactorization |█████████████████████████████████████████-------------------| 69.6% \r",
      "\r",
      "Evaluating MatrixFactorization |██████████████████████████████████████████------------------| 70.1% \r",
      "\r",
      "Evaluating MatrixFactorization |██████████████████████████████████████████------------------| 70.6% \r",
      "\r",
      "Evaluating MatrixFactorization |██████████████████████████████████████████------------------| 71.0% \r",
      "\r",
      "Evaluating MatrixFactorization |██████████████████████████████████████████------------------| 71.5% \r",
      "\r",
      "Evaluating MatrixFactorization |███████████████████████████████████████████-----------------| 72.0% \r",
      "\r",
      "Evaluating MatrixFactorization |███████████████████████████████████████████-----------------| 72.4% \r",
      "\r",
      "Evaluating MatrixFactorization |███████████████████████████████████████████-----------------| 72.9% \r",
      "\r",
      "Evaluating MatrixFactorization |████████████████████████████████████████████----------------| 73.4% \r",
      "\r",
      "Evaluating MatrixFactorization |████████████████████████████████████████████----------------| 73.8% \r",
      "\r",
      "Evaluating MatrixFactorization |████████████████████████████████████████████----------------| 74.3% \r",
      "\r",
      "Evaluating MatrixFactorization |████████████████████████████████████████████----------------| 74.8% \r",
      "\r",
      "Evaluating MatrixFactorization |█████████████████████████████████████████████---------------| 75.2% \r",
      "\r",
      "Evaluating MatrixFactorization |█████████████████████████████████████████████---------------| 75.7% \r",
      "\r",
      "Evaluating MatrixFactorization |█████████████████████████████████████████████---------------| 76.2% \r",
      "\r",
      "Evaluating MatrixFactorization |█████████████████████████████████████████████---------------| 76.6% \r",
      "\r",
      "Evaluating MatrixFactorization |██████████████████████████████████████████████--------------| 77.1% \r",
      "\r",
      "Evaluating MatrixFactorization |██████████████████████████████████████████████--------------| 77.6% \r",
      "\r",
      "Evaluating MatrixFactorization |██████████████████████████████████████████████--------------| 78.0% \r",
      "\r",
      "Evaluating MatrixFactorization |███████████████████████████████████████████████-------------| 78.5% \r",
      "\r",
      "Evaluating MatrixFactorization |███████████████████████████████████████████████-------------| 79.0% \r",
      "\r",
      "Evaluating MatrixFactorization |███████████████████████████████████████████████-------------| 79.4% \r",
      "\r",
      "Evaluating MatrixFactorization |███████████████████████████████████████████████-------------| 79.9% \r",
      "\r",
      "Evaluating MatrixFactorization |████████████████████████████████████████████████------------| 80.4% \r",
      "\r",
      "Evaluating MatrixFactorization |████████████████████████████████████████████████------------| 80.8% \r",
      "\r",
      "Evaluating MatrixFactorization |████████████████████████████████████████████████------------| 81.3% \r",
      "\r",
      "Evaluating MatrixFactorization |█████████████████████████████████████████████████-----------| 81.8% \r"
     ]
    },
    {
     "name": "stdout",
     "output_type": "stream",
     "text": [
      "Evaluating MatrixFactorization |██████████████████████████████████████████████████████████--| 97.2% \r"
     ]
    }
   ],
   "source": [
    "ev = evaluation.Evaluation(utils.common.movie_lens)\n",
    "res = ev.evaluate(mf)"
   ]
  },
  {
   "cell_type": "code",
   "execution_count": null,
   "metadata": {},
   "outputs": [],
   "source": [
    "ev = evaluation.Evaluation(utils.common.movie_lens)\n",
    "ev.evaluate(model)"
   ]
  },
  {
   "cell_type": "code",
   "execution_count": null,
   "metadata": {
    "scrolled": true
   },
   "outputs": [],
   "source": [
    "result = ev.evaluate_models([model, mf])"
   ]
  },
  {
   "cell_type": "code",
   "execution_count": null,
   "metadata": {
    "scrolled": false
   },
   "outputs": [],
   "source": [
    "ev.evaluate_models(nov_models2)"
   ]
  },
  {
   "cell_type": "code",
   "execution_count": 78,
   "metadata": {},
   "outputs": [
    {
     "data": {
      "text/plain": [
       "{'accuracy': 0.7623881019741017,\n",
       " 'precision': 0.8271346642213018,\n",
       " 'recall': 0.8667128559564206,\n",
       " 'map@1': 0.23342581775700935,\n",
       " 'map@5': 0.1375418005257009,\n",
       " 'map@10': 0.11591292492586013,\n",
       " 'diversity@5': 0.2578679587468785,\n",
       " 'diversity@10': 0.27128682306400537,\n",
       " 'epc@5': 0.7330164376135602,\n",
       " 'epc@10': 0.7430216165856256,\n",
       " 'epd@5': 0.3017509932890537,\n",
       " 'name': 'ConstraintAutoRec',\n",
       " 'dimensions': 10381,\n",
       " 'latent_dims': 128,\n",
       " 'accuracy_weight': 1.0,\n",
       " 'novelty_weight': 0.1,\n",
       " 'diversity_weight': 0.1,\n",
       " 'epochs': 5,\n",
       " 'batch_size': 32,\n",
       " 'optimizer': 'adam'}"
      ]
     },
     "execution_count": 78,
     "metadata": {},
     "output_type": "execute_result"
    }
   ],
   "source": [
    "res"
   ]
  },
  {
   "cell_type": "code",
   "execution_count": 68,
   "metadata": {},
   "outputs": [
    {
     "data": {
      "text/plain": [
       "{'accuracy': 0.44978036950245576,\n",
       " 'precision': 0.8055713264200937,\n",
       " 'recall': 0.43088724952223195,\n",
       " 'map@1': 0.002263434579439252,\n",
       " 'map@5': 0.0008795147001557631,\n",
       " 'map@10': 0.0006248166716225693,\n",
       " 'diversity@5': 0.37317394044498586,\n",
       " 'diversity@10': 0.37264000336748876,\n",
       " 'epc@5': 0.9584747178074999,\n",
       " 'epc@10': 0.9586116398686634,\n",
       " 'epd@5': 0.3700744143589543,\n",
       " 'name': 'MatrixFactorization',\n",
       " 'latent_dim': 32,\n",
       " 'epochs': 10,\n",
       " 'batch_size': 128}"
      ]
     },
     "execution_count": 68,
     "metadata": {},
     "output_type": "execute_result"
    }
   ],
   "source": [
    "res"
   ]
  },
  {
   "cell_type": "code",
   "execution_count": null,
   "metadata": {},
   "outputs": [],
   "source": []
  }
 ],
 "metadata": {
  "kernelspec": {
   "display_name": "Python 3",
   "language": "python",
   "name": "python3"
  },
  "language_info": {
   "codemirror_mode": {
    "name": "ipython",
    "version": 3
   },
   "file_extension": ".py",
   "mimetype": "text/x-python",
   "name": "python",
   "nbconvert_exporter": "python",
   "pygments_lexer": "ipython3",
   "version": "3.7.3"
  },
  "pycharm": {
   "stem_cell": {
    "cell_type": "raw",
    "metadata": {
     "collapsed": false
    },
    "source": []
   }
  }
 },
 "nbformat": 4,
 "nbformat_minor": 1
}
