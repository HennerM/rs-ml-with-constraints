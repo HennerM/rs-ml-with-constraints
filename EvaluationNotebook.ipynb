{
 "cells": [
  {
   "cell_type": "code",
   "execution_count": null,
   "metadata": {
    "pycharm": {
     "is_executing": false
    }
   },
   "outputs": [],
   "source": [
    "\n",
    "import utils.common\n",
    "import evaluation\n",
    "import importlib\n",
    "import numpy as np\n",
    "import time\n",
    "import models.MatrixFactorization\n",
    "import models.ConstraintAutoRec\n",
    "importlib.reload(utils.common)\n",
    "importlib.reload(evaluation)\n",
    "importlib.reload(models.MatrixFactorization)\n",
    "importlib.reload(models.ConstraintAutoRec)\n",
    "\n"
   ]
  },
  {
   "cell_type": "code",
   "execution_count": null,
   "metadata": {
    "pycharm": {
     "is_executing": false,
     "name": "#%%\n"
    }
   },
   "outputs": [],
   "source": [
    "model = models.ConstraintAutoRec.ConstraintAutoRec(utils.common.movie_lens['dimensions'], epochs=5, novelty_weight=0.1, diversity_weight=0.1)\n",
    "model.train(utils.common.load_dataset(utils.common.movie_lens, 'train'), utils.common.movie_lens['train']['records'])\n"
   ]
  },
  {
   "cell_type": "code",
   "execution_count": null,
   "metadata": {
    "pycharm": {
     "is_executing": false,
     "name": "#%%\n"
    }
   },
   "outputs": [],
   "source": [
    "diversity_model = models.ConstraintAutoRec.ConstraintAutoRec(utils.common.movie_lens['dimensions'], epochs=30, novelty_weight=0.25, diversity_weight=2.0)\n",
    "diversity_model.train(utils.common.load_dataset(utils.common.movie_lens, 'train'), utils.common.movie_lens['train']['records'])\n"
   ]
  },
  {
   "cell_type": "code",
   "execution_count": null,
   "metadata": {
    "pycharm": {
     "is_executing": false,
     "name": "#%%\n"
    }
   },
   "outputs": [],
   "source": [
    "def create_model(novelty_weight):\n",
    "    m = models.ConstraintAutoRec.ConstraintAutoRec(utils.common.movie_lens['dimensions'], epochs=15, novelty_weight=novelty_weight, diversity_weight=0, batch_size=128)\n",
    "    m.train(utils.common.load_dataset(utils.common.movie_lens, 'train'), utils.common.movie_lens['train']['records'])\n",
    "    return m\n",
    "\n",
    "nov_models2 = [create_model(x) for x in [0.1, 0.5, 1.0, 2.0]]"
   ]
  },
  {
   "cell_type": "code",
   "execution_count": null,
   "metadata": {
    "pycharm": {
     "is_executing": false,
     "name": "#%%\n"
    }
   },
   "outputs": [],
   "source": [
    "import matplotlib.pyplot as plt\n",
    "models"
   ]
  },
  {
   "cell_type": "code",
   "execution_count": null,
   "metadata": {
    "pycharm": {
     "name": "#%%\n"
    }
   },
   "outputs": [],
   "source": [
    "#ev = evaluation.Evaluation(utils.common.movie_lens)\n",
    "#big_eval = ev.evaluate_models(models)\n",
    "big_eval.head()"
   ]
  },
  {
   "cell_type": "code",
   "execution_count": null,
   "metadata": {},
   "outputs": [],
   "source": [
    "big_eval"
   ]
  },
  {
   "cell_type": "code",
   "execution_count": null,
   "metadata": {},
   "outputs": [],
   "source": [
    "plt.bar(eval_data.index, eval_data['epc@10'])"
   ]
  },
  {
   "cell_type": "code",
   "execution_count": null,
   "metadata": {},
   "outputs": [],
   "source": [
    "plt.plot(eval_data['novelty_weight'], eval_data['epc@10'], 'ro', ls='--')\n",
    "plt.plot(eval_data['novelty_weight'], eval_data['accuracy'], 'bo', ls='--')\n",
    "plt.show()"
   ]
  },
  {
   "cell_type": "code",
   "execution_count": null,
   "metadata": {},
   "outputs": [],
   "source": [
    "def plot_bar(data, axis, x_param):\n",
    "    bottom = data[axis].min() \n",
    "    top = data[axis].max()\n",
    "    margin = (top - bottom) * 0.05\n",
    "    fig, ax = plt.subplots()\n",
    "    ax.bar(data.index, data[axis] )\n",
    "    ax.set_xticks(data.index)\n",
    "    ax.set_xticklabels(data[x_param])\n",
    "    ax.set_ylabel(axis)\n",
    "    ax.set_xlabel(x_param)\n",
    "    plt.show()"
   ]
  },
  {
   "cell_type": "code",
   "execution_count": null,
   "metadata": {},
   "outputs": [],
   "source": [
    "plot_bar(eval_data, 'epc@10', 'novelty_weight')"
   ]
  },
  {
   "cell_type": "code",
   "execution_count": null,
   "metadata": {},
   "outputs": [],
   "source": [
    "plot_bar(eval_data, 'accuracy', 'novelty_weight')"
   ]
  },
  {
   "cell_type": "code",
   "execution_count": 74,
   "metadata": {},
   "outputs": [
    {
     "data": {
      "text/plain": [
       "<module 'models.MatrixFactorization' from '/mnt/e/owncloud/FH/MasterThesis/Code/models/MatrixFactorization.py'>"
      ]
     },
     "execution_count": 74,
     "metadata": {},
     "output_type": "execute_result"
    }
   ],
   "source": [
    "\n",
    "import utils.common\n",
    "import evaluation\n",
    "import importlib\n",
    "import numpy as np\n",
    "import time\n",
    "import models.MatrixFactorization\n",
    "importlib.reload(utils.common)\n",
    "importlib.reload(evaluation)\n",
    "importlib.reload(models.MatrixFactorization)\n",
    "\n"
   ]
  },
  {
   "cell_type": "code",
   "execution_count": null,
   "metadata": {},
   "outputs": [],
   "source": [
    "mf = models.MatrixFactorization.MatrixFactorization(utils.common.movie_lens['user'], utils.common.movie_lens['dimensions'], epochs=10)\n",
    "mf.train(utils.common.load_dataset(utils.common.movie_lens, 'train'), utils.common.movie_lens['train']['records'])"
   ]
  },
  {
   "cell_type": "code",
   "execution_count": 75,
   "metadata": {},
   "outputs": [
    {
     "name": "stdout",
     "output_type": "stream",
     "text": [
      "2212 136 2928\n",
      "2212 258\n"
     ]
    },
    {
     "name": "stderr",
     "output_type": "stream",
     "text": [
      "/mnt/e/owncloud/FH/MasterThesis/Code/evaluation.py:127: RuntimeWarning: invalid value encountered in double_scalars\n",
      "  return running_sum / min(n, np.sum(x_test))\n"
     ]
    },
    {
     "name": "stdout",
     "output_type": "stream",
     "text": [
      "2284 179 3204\n",
      "2284 293\n",
      "1961 80 2555\n",
      "1961 202\n"
     ]
    },
    {
     "name": "stderr",
     "output_type": "stream",
     "text": [
      "/mnt/e/owncloud/FH/MasterThesis/Code/evaluation.py:127: RuntimeWarning: invalid value encountered in double_scalars\n",
      "  return running_sum / min(n, np.sum(x_test))\n"
     ]
    },
    {
     "name": "stdout",
     "output_type": "stream",
     "text": [
      "2305 108 3142\n",
      "2305 312\n"
     ]
    },
    {
     "name": "stderr",
     "output_type": "stream",
     "text": [
      "/mnt/e/owncloud/FH/MasterThesis/Code/evaluation.py:127: RuntimeWarning: invalid value encountered in double_scalars\n",
      "  return running_sum / min(n, np.sum(x_test))\n"
     ]
    },
    {
     "name": "stdout",
     "output_type": "stream",
     "text": [
      "2155 123 2935\n",
      "2155 283\n"
     ]
    },
    {
     "name": "stderr",
     "output_type": "stream",
     "text": [
      "/mnt/e/owncloud/FH/MasterThesis/Code/evaluation.py:127: RuntimeWarning: invalid value encountered in double_scalars\n",
      "  return running_sum / min(n, np.sum(x_test))\n"
     ]
    },
    {
     "name": "stdout",
     "output_type": "stream",
     "text": [
      "2250 137 3062\n",
      "2250 273\n"
     ]
    },
    {
     "name": "stderr",
     "output_type": "stream",
     "text": [
      "/mnt/e/owncloud/FH/MasterThesis/Code/evaluation.py:127: RuntimeWarning: invalid value encountered in double_scalars\n",
      "  return running_sum / min(n, np.sum(x_test))\n"
     ]
    },
    {
     "name": "stdout",
     "output_type": "stream",
     "text": [
      "1984 206 2787\n",
      "1984 224\n",
      "1954 80 2526\n",
      "1953 92 2547\n",
      "1954 189\n",
      "1953 245\n",
      "2397 139 3181\n",
      "2397 289\n"
     ]
    },
    {
     "name": "stderr",
     "output_type": "stream",
     "text": [
      "/mnt/e/owncloud/FH/MasterThesis/Code/evaluation.py:127: RuntimeWarning: invalid value encountered in double_scalars\n",
      "  return running_sum / min(n, np.sum(x_test))\n"
     ]
    },
    {
     "name": "stdout",
     "output_type": "stream",
     "text": [
      "1742 139 2449\n",
      "1742 213\n",
      "1872 109 2529\n",
      "1872 197\n",
      "2231 122 2970\n",
      "2231 202\n",
      "2512 370 3748\n",
      "2512 467\n",
      "2271 211 3242\n",
      "2271 347\n",
      "2111 152 2927\n",
      "2111 253\n"
     ]
    },
    {
     "name": "stderr",
     "output_type": "stream",
     "text": [
      "/mnt/e/owncloud/FH/MasterThesis/Code/evaluation.py:127: RuntimeWarning: invalid value encountered in double_scalars\n",
      "  return running_sum / min(n, np.sum(x_test))\n"
     ]
    },
    {
     "name": "stdout",
     "output_type": "stream",
     "text": [
      "2483 122 3253\n",
      "2483 300\n",
      "1843 108 2484\n",
      "1843 190\n",
      "1713 85 2326\n",
      "1713 215\n",
      "2108 75 2724\n",
      "2108 200\n",
      "2146 149 2980\n",
      "2146 260\n",
      "2214 143 3027\n",
      "2214 256\n",
      "2187 171 3075\n",
      "2187 245\n"
     ]
    },
    {
     "name": "stderr",
     "output_type": "stream",
     "text": [
      "/mnt/e/owncloud/FH/MasterThesis/Code/evaluation.py:127: RuntimeWarning: invalid value encountered in double_scalars\n",
      "  return running_sum / min(n, np.sum(x_test))\n"
     ]
    },
    {
     "name": "stdout",
     "output_type": "stream",
     "text": [
      "1914 104 2537\n",
      "1914 163\n",
      "2252 167 3128\n",
      "2252 242\n",
      "2254 131 3046\n",
      "2254 222\n",
      "1900 123 2575\n",
      "1900 232\n",
      "2154 152 2970\n",
      "2154 270\n",
      "1973 98 2635\n",
      "1973 211\n",
      "2237 218 3195\n",
      "2237 302\n",
      "2218 162 3133\n",
      "2218 282\n",
      "1670 82 2226\n",
      "1670 168\n",
      "2150 258 3155\n",
      "2150 324\n",
      "1931 104 2591\n",
      "1931 194\n",
      "1801 71 2370\n",
      "1801 236\n",
      "2148 125 2926\n",
      "2148 223\n",
      "2301 140 3033\n",
      "2301 255\n",
      "2370 129 3094\n",
      "2370 243\n",
      "2227 104 2973\n",
      "2227 290\n",
      "2569 187 3639\n",
      "2569 361\n",
      "2129 122 2953\n",
      "2129 310\n",
      "1759 99 2382\n",
      "1759 164\n",
      "2160 107 2911\n",
      "2160 214\n",
      "2214 118 2900\n",
      "2214 197\n",
      "2070 165 3002\n",
      "2070 234\n",
      "1829 121 2572\n",
      "1829 266\n",
      "1686 96 2314\n",
      "1686 183\n",
      "1861 107 2472\n",
      "1861 177\n",
      "1603 92 2132\n",
      "1603 164\n",
      "1903 61 2405\n",
      "1903 199\n",
      "1748 88 2288\n",
      "1748 153\n",
      "1736 110 2349\n",
      "1736 192\n",
      "2363 210 3381\n",
      "2363 314\n",
      "2074 234 3042\n",
      "2074 269\n",
      "2262 250 3413\n",
      "2262 299\n",
      "2209 156 2992\n",
      "2209 289\n",
      "1780 101 2352\n",
      "1780 178\n",
      "1976 91 2521\n",
      "1976 224\n",
      "1882 177 2656\n",
      "1882 225\n",
      "1981 115 2678\n",
      "1981 187\n",
      "2304 132 3019\n",
      "2304 223\n",
      "2084 114 2762\n",
      "2084 203\n",
      "2036 92 2583\n",
      "2036 195\n",
      "1834 124 2422\n",
      "1834 215\n",
      "1854 75 2407\n",
      "1854 176\n",
      "2345 111 3152\n",
      "2345 315\n",
      "1935 153 2813\n",
      "1935 269\n",
      "2253 123 2970\n",
      "2253 216\n",
      "1961 85 2586\n",
      "1961 176\n",
      "1727 101 2312\n",
      "1727 195\n",
      "2026 85 2594\n",
      "2026 205\n",
      "1668 76 2172\n",
      "1668 182\n",
      "1699 214 2451\n",
      "1699 177\n",
      "2296 112 3040\n",
      "2296 253\n",
      "1842 71 2434\n",
      "1842 219\n",
      "1897 116 2550\n",
      "1897 183\n",
      "1808 140 2543\n",
      "1808 251\n",
      "2282 164 3258\n",
      "2282 291\n",
      "2091 117 2758\n",
      "2091 228\n",
      "2250 110 3021\n",
      "2250 267\n",
      "2320 216 3225\n",
      "2320 298\n",
      "1833 63 2348\n",
      "1833 241\n",
      "2471 306 3696\n",
      "2471 335\n",
      "2181 136 2919\n",
      "2181 265\n",
      "1566 77 2055\n",
      "1566 179\n",
      "2934 205 4064\n",
      "2934 431\n",
      "2221 79 2881\n",
      "2221 243\n",
      "2075 103 2714\n",
      "2075 211\n",
      "2003 154 2787\n",
      "2003 235\n",
      "1584 79 2079\n",
      "1584 153\n",
      "1752 100 2328\n",
      "1752 157\n",
      "1842 103 2408\n",
      "1842 195\n",
      "2134 136 2966\n",
      "2134 306\n",
      "1970 176 2790\n",
      "1970 269\n",
      "1684 110 2309\n",
      "1684 182\n",
      "1951 100 2536\n",
      "1951 212\n",
      "2325 172 3207\n",
      "2325 305\n",
      "1946 60 2453\n",
      "1946 176\n",
      "1936 95 2540\n",
      "1936 216\n",
      "2081 111 2740\n",
      "2081 201\n",
      "1964 96 2534\n",
      "1964 221\n",
      "2104 107 2727\n",
      "2104 237\n",
      "2044 140 2807\n",
      "2044 230\n",
      "1954 88 2571\n",
      "1954 233\n",
      "1861 116 2521\n",
      "1861 220\n",
      "2211 212 3260\n",
      "2211 325\n",
      "1780 190 2489\n",
      "1780 194\n",
      "1696 100 2252\n",
      "1696 168\n",
      "2128 112 2817\n",
      "2128 255\n",
      "2447 106 3130\n",
      "2447 256\n",
      "2293 151 3124\n",
      "2293 280ng ConstraintAutoRec |██████████████████████████████████████████████████--------------------------------------------------| 50.7% \n",
      "2149 141 2969\n",
      "2149 264\n",
      "1855 92 2442\n",
      "1855 208\n",
      "1695 78 2192\n",
      "1695 152\n",
      "2133 155 2981nstraintAutoRec |███████████████████████████████████████████████████-------------------------------------------------| 51.6% \n",
      "2133 276\n",
      "2071 194 2913\n",
      "2071 277\n",
      "1930 128 2679\n",
      "1930 241\n",
      "2011 85 2597\n",
      "2011 213\n",
      "2518 172 3394nstraintAutoRec |█████████████████████████████████████████████████████-----------------------------------------------| 53.0% \n",
      "2518 343\n",
      "2298 106 2940nstraintAutoRec |██████████████████████████████████████████████████████----------------------------------------------| 54.4% \n",
      "2298 217\n",
      "2546 162 3462\n",
      "2546 271\n",
      "2113 123 2921\n",
      "2113 292\n",
      "2389 183 3333\n",
      "2389 336ng ConstraintAutoRec |███████████████████████████████████████████████████████---------------------------------------------| 55.3% \n",
      "2087 102 2828\n",
      "2087 241\n",
      "2050 139 2759\n",
      "2050 219\n",
      "1933 119 2628nstraintAutoRec |████████████████████████████████████████████████████████--------------------------------------------| 56.3% \n",
      "1933 236\n",
      "1967 108 2696\n",
      "1967 227\n",
      "2048 161 2856nstraintAutoRec |█████████████████████████████████████████████████████████-------------------------------------------| 57.2% \n",
      "2048 241\n",
      "2193 114 2891nstraintAutoRec |██████████████████████████████████████████████████████████------------------------------------------| 58.1% \n",
      "2193 252\n",
      "1881 159 2629\n",
      "1881 208\n",
      "1961 137 2603nstraintAutoRec |███████████████████████████████████████████████████████████-----------------------------------------| 59.1% \n",
      "1961 184\n",
      "2142 134 2935\n",
      "2142 294\n",
      "2412 131 3177\n",
      "2412 316ng ConstraintAutoRec |████████████████████████████████████████████████████████████----------------------------------------| 60.0% \n",
      "2543 153 3441\n",
      "2543 312\n",
      "1850 104 2408\n",
      "1850 199\n",
      "1812 179 2585nstraintAutoRec |████████████████████████████████████████████████████████████----------------------------------------| 60.9% \n",
      "1812 205\n",
      "1856 118 2467\n",
      "1856 193\n",
      "1799 57 2271onstraintAutoRec |█████████████████████████████████████████████████████████████---------------------------------------| 61.9% \n",
      "1799 194\n",
      "1719 114 2321\n",
      "1719 180\n",
      "2292 246 3360nstraintAutoRec |███████████████████████████████████████████████████████████████-------------------------------------| 63.3% \n",
      "2292 358\n",
      "2239 145 3042\n",
      "2239 281\n",
      "2152 141 2915\n",
      "2152 255\n",
      "1827 73 2333onstraintAutoRec |████████████████████████████████████████████████████████████████------------------------------------| 64.2% \n",
      "1827 164\n",
      "1785 173 2411\n",
      "1785 147\n",
      "2641 241 3769nstraintAutoRec |█████████████████████████████████████████████████████████████████-----------------------------------| 65.1% \n",
      "2641 400\n",
      "1969 159 2756\n",
      "1969 213\n",
      "2060 113 2727nstraintAutoRec |█████████████████████████████████████████████████████████████████-----------------------------------| 65.6% \n",
      "2060 234\n",
      "1574 52 2017onstraintAutoRec |██████████████████████████████████████████████████████████████████----------------------------------| 67.0% \n",
      "1574 126\n",
      "1690 104 2307\n",
      "1690 184\n",
      "2198 150 3053\n",
      "2198 251\n",
      "1916 115 2519nstraintAutoRec |███████████████████████████████████████████████████████████████████---------------------------------| 67.9% \n",
      "1916 236\n",
      "1810 89 2370\n",
      "1810 161\n",
      "2598 135 3454nstraintAutoRec |█████████████████████████████████████████████████████████████████████-------------------------------| 69.3% \n",
      "2598 273\n",
      "2035 135 2807\n",
      "2035 281\n",
      "2255 88 2908\n",
      "2255 282\n",
      "1770 85 2309onstraintAutoRec |██████████████████████████████████████████████████████████████████████------------------------------| 70.2% \n",
      "1770 181\n",
      "2016 187 2906\n",
      "2016 282\n",
      "2039 123 2702nstraintAutoRec |███████████████████████████████████████████████████████████████████████-----------------------------| 71.2% \n",
      "2039 220\n",
      "2335 155 3202\n",
      "2335 310\n",
      "2329 234 3351nstraintAutoRec |████████████████████████████████████████████████████████████████████████----------------------------| 72.6% \n",
      "2329 299\n",
      "1656 107 2191\n",
      "1656 151\n",
      "2125 250 3195nstraintAutoRec |█████████████████████████████████████████████████████████████████████████---------------------------| 73.0% \n",
      "2125 289\n",
      "1674 75 2156\n",
      "1674 138\n",
      "1834 87 2435\n",
      "1834 257ng ConstraintAutoRec |██████████████████████████████████████████████████████████████████████████--------------------------| 74.4% \n",
      "1887 124 2510\n",
      "1887 180\n",
      "2115 123 2890\n",
      "2115 255\n",
      "2263 107 2942\n",
      "2263 231ng ConstraintAutoRec |███████████████████████████████████████████████████████████████████████████-------------------------| 75.3% \n",
      "2030 230 2988\n",
      "2030 274\n",
      "1995 88 2594onstraintAutoRec |████████████████████████████████████████████████████████████████████████████------------------------| 76.7% \n",
      "1995 189\n",
      "1893 135 2572\n",
      "1893 221\n",
      "2696 181 3664\n",
      "2696 330\n",
      "1934 146 2664nstraintAutoRec |█████████████████████████████████████████████████████████████████████████████-----------------------| 77.7% \n",
      "1934 255\n",
      "2214 132 3001\n",
      "2214 272\n",
      "2401 155 3284nstraintAutoRec |██████████████████████████████████████████████████████████████████████████████----------------------| 78.6% \n",
      "2401 320\n",
      "1840 137 2507\n",
      "1840 222\n",
      "1776 126 2475nstraintAutoRec |███████████████████████████████████████████████████████████████████████████████---------------------| 79.5% \n",
      "1776 224\n",
      "2452 213 3496\n",
      "2452 305\n",
      "1967 211 2799nstraintAutoRec |████████████████████████████████████████████████████████████████████████████████--------------------| 80.5% \n",
      "1967 240\n",
      "2036 144 2811\n",
      "2036 242\n",
      "2211 144 3075nstraintAutoRec |█████████████████████████████████████████████████████████████████████████████████-------------------| 81.4% \n",
      "2211 307\n",
      "2465 249 3591\n",
      "2465 371\n",
      "1792 196 2459nstraintAutoRec |██████████████████████████████████████████████████████████████████████████████████------------------| 82.3% \n",
      "1792 175\n",
      "2042 69 2669\n",
      "2042 226\n",
      "2231 196 3354\n",
      "2231 543ng ConstraintAutoRec |███████████████████████████████████████████████████████████████████████████████████-----------------| 83.7% \n",
      "2515 169 3408\n",
      "2515 301\n",
      "2043 117 2692\n",
      "2043 190ng ConstraintAutoRec |████████████████████████████████████████████████████████████████████████████████████----------------| 84.7% \n",
      "2083 157 2964\n",
      "2083 268\n",
      "2272 148 3032\n",
      "2272 295\n",
      "1967 129 2648nstraintAutoRec |█████████████████████████████████████████████████████████████████████████████████████---------------| 85.6% \n",
      "1967 241\n"
     ]
    },
    {
     "name": "stdout",
     "output_type": "stream",
     "text": [
      "1855 102 2490\n",
      "1855 239\n",
      "1944 89 2529onstraintAutoRec |██████████████████████████████████████████████████████████████████████████████████████--------------| 86.5% \n",
      "1944 179\n",
      "2469 97 3211\n",
      "2469 316\n",
      "1869 80 2436onstraintAutoRec |███████████████████████████████████████████████████████████████████████████████████████-------------| 87.4% \n",
      "1869 191\n",
      "1852 205 2719\n",
      "1852 194\n",
      "2395 123 3189nstraintAutoRec |████████████████████████████████████████████████████████████████████████████████████████------------| 88.4% \n",
      "2395 297\n",
      "1931 97 2591\n",
      "1931 225\n",
      "1749 78 2263onstraintAutoRec |█████████████████████████████████████████████████████████████████████████████████████████-----------| 89.3% \n",
      "1749 129\n",
      "1947 154 2779\n",
      "1947 301\n",
      "2329 164 3135nstraintAutoRec |██████████████████████████████████████████████████████████████████████████████████████████----------| 90.2% \n",
      "2329 286\n",
      "2134 116 2834\n",
      "2134 221\n",
      "1669 82 2112onstraintAutoRec |███████████████████████████████████████████████████████████████████████████████████████████---------| 91.2% \n",
      "1669 173\n",
      "1944 160 2722\n",
      "1944 216\n",
      "2420 177 3447nstraintAutoRec |████████████████████████████████████████████████████████████████████████████████████████████--------| 92.6% \n",
      "2420 337\n",
      "1869 88 2421\n",
      "1869 159\n",
      "1978 146 2742\n",
      "1978 330\n",
      "1764 143 2419\n",
      "1764 189ng ConstraintAutoRec |█████████████████████████████████████████████████████████████████████████████████████████████-------| 94.0% \n",
      "1544 99 2036\n",
      "1544 134\n",
      "2047 73 2644\n",
      "2047 242\n",
      "1930 83 2641\n",
      "1930 291ng ConstraintAutoRec |██████████████████████████████████████████████████████████████████████████████████████████████------| 94.9% \n",
      "1941 165 2697\n",
      "1941 219\n",
      "1727 79 2233onstraintAutoRec |████████████████████████████████████████████████████████████████████████████████████████████████----| 96.3% \n",
      "1727 153\n",
      "2028 113 2741\n",
      "2028 214\n",
      "2106 148 2929\n",
      "2106 262ng ConstraintAutoRec |█████████████████████████████████████████████████████████████████████████████████████████████████---| 97.7% \n",
      "1737 120 2335\n",
      "1737 171\n",
      "2159 128 2904\n",
      "2159 264\n"
     ]
    }
   ],
   "source": [
    "ev = evaluation.Evaluation(utils.common.movie_lens)\n",
    "res = ev.evaluate(model)"
   ]
  },
  {
   "cell_type": "code",
   "execution_count": null,
   "metadata": {},
   "outputs": [],
   "source": [
    "ev = evaluation.Evaluation(utils.common.movie_lens)\n",
    "ev.evaluate(model)"
   ]
  },
  {
   "cell_type": "code",
   "execution_count": null,
   "metadata": {
    "scrolled": true
   },
   "outputs": [],
   "source": [
    "result = ev.evaluate_models([model, mf])"
   ]
  },
  {
   "cell_type": "code",
   "execution_count": null,
   "metadata": {
    "scrolled": false
   },
   "outputs": [],
   "source": [
    "ev.evaluate_models(nov_models2)"
   ]
  },
  {
   "cell_type": "code",
   "execution_count": 76,
   "metadata": {},
   "outputs": [
    {
     "data": {
      "text/plain": [
       "{'accuracy': 0.7602649380328685,\n",
       " 'precision': 0.8239956877124487,\n",
       " 'recall': 0.8667436218791679,\n",
       " 'map@1': nan,\n",
       " 'map@5': nan,\n",
       " 'map@10': nan,\n",
       " 'diversity@5': 0.25785568289176014,\n",
       " 'diversity@10': 0.2710708478118732,\n",
       " 'epc@5': 0.7333487404553993,\n",
       " 'epc@10': 0.743238482821345,\n",
       " 'epd@5': 0.3019835871689278,\n",
       " 'name': 'ConstraintAutoRec',\n",
       " 'dimensions': 10381,\n",
       " 'latent_dims': 128,\n",
       " 'accuracy_weight': 1.0,\n",
       " 'novelty_weight': 0.1,\n",
       " 'diversity_weight': 0.1,\n",
       " 'epochs': 5,\n",
       " 'batch_size': 32,\n",
       " 'optimizer': 'adam'}"
      ]
     },
     "execution_count": 76,
     "metadata": {},
     "output_type": "execute_result"
    }
   ],
   "source": [
    "res"
   ]
  },
  {
   "cell_type": "code",
   "execution_count": null,
   "metadata": {},
   "outputs": [],
   "source": []
  },
  {
   "cell_type": "code",
   "execution_count": null,
   "metadata": {},
   "outputs": [],
   "source": []
  }
 ],
 "metadata": {
  "kernelspec": {
   "display_name": "Python 3",
   "language": "python",
   "name": "python3"
  },
  "language_info": {
   "codemirror_mode": {
    "name": "ipython",
    "version": 3
   },
   "file_extension": ".py",
   "mimetype": "text/x-python",
   "name": "python",
   "nbconvert_exporter": "python",
   "pygments_lexer": "ipython3",
   "version": "3.7.3"
  },
  "pycharm": {
   "stem_cell": {
    "cell_type": "raw",
    "metadata": {
     "collapsed": false
    },
    "source": []
   }
  }
 },
 "nbformat": 4,
 "nbformat_minor": 1
}
