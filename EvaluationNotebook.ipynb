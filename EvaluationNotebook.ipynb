{
 "cells": [
  {
   "cell_type": "code",
   "execution_count": 16,
   "metadata": {
    "pycharm": {
     "is_executing": false
    }
   },
   "outputs": [
    {
     "data": {
      "text/plain": [
       "<module 'models.MatrixFactorization' from '/mnt/e/owncloud/FH/MasterThesis/Code/models/MatrixFactorization.py'>"
      ]
     },
     "execution_count": 16,
     "metadata": {},
     "output_type": "execute_result"
    }
   ],
   "source": [
    "\n",
    "import utils.common\n",
    "import evaluation\n",
    "import importlib\n",
    "import numpy as np\n",
    "import time\n",
    "import models.MatrixFactorization\n",
    "importlib.reload(utils.common)\n",
    "importlib.reload(evaluation)\n",
    "importlib.reload(models.MatrixFactorization)\n",
    "\n"
   ]
  },
  {
   "cell_type": "code",
   "execution_count": null,
   "metadata": {
    "pycharm": {
     "is_executing": false,
     "name": "#%%\n"
    }
   },
   "outputs": [],
   "source": [
    "model = ConstraintAutoRec(utils.common.movie_lens['dimensions'], epochs=30, novelty_weight=0.25, diversity_weight=0)\n",
    "model.train(utils.common.load_dataset(utils.common.movie_lens, 'train'), utils.common.movie_lens['train']['records'])\n"
   ]
  },
  {
   "cell_type": "code",
   "execution_count": null,
   "metadata": {
    "pycharm": {
     "is_executing": false,
     "name": "#%%\n"
    }
   },
   "outputs": [],
   "source": [
    "diversity_model = ConstraintAutoRec(utils.common.movie_lens['dimensions'], epochs=30, novelty_weight=0.25, diversity_weight=2.0)\n",
    "diversity_model.train(utils.common.load_dataset(utils.common.movie_lens, 'train'), utils.common.movie_lens['train']['records'])\n"
   ]
  },
  {
   "cell_type": "code",
   "execution_count": 73,
   "metadata": {
    "pycharm": {
     "is_executing": false,
     "name": "#%%\n"
    }
   },
   "outputs": [
    {
     "name": "stdout",
     "output_type": "stream",
     "text": [
      "Epoch 1/5\n",
      "3462/3462 [==============================] - 61s 18ms/step - loss: 0.0296 - accuracy: 0.1109\n",
      "Epoch 2/5\n",
      "3462/3462 [==============================] - 44s 13ms/step - loss: 0.0176 - accuracy: 0.1039\n",
      "Epoch 3/5\n",
      "3462/3462 [==============================] - 45s 13ms/step - loss: 0.0150 - accuracy: 0.1161\n",
      "Epoch 4/5\n",
      "3462/3462 [==============================] - 45s 13ms/step - loss: 0.0138 - accuracy: 0.1660\n",
      "Epoch 5/5\n",
      "3462/3462 [==============================] - 44s 13ms/step - loss: 0.0130 - accuracy: 0.1881\n",
      "Epoch 1/5\n",
      "3462/3462 [==============================] - 57s 16ms/step - loss: 0.0684 - accuracy: 0.0457\n",
      "Epoch 2/5\n",
      "3462/3462 [==============================] - 44s 13ms/step - loss: 0.0438 - accuracy: 0.0659\n",
      "Epoch 3/5\n",
      "3462/3462 [==============================] - 44s 13ms/step - loss: 0.0387 - accuracy: 0.0913\n",
      "Epoch 4/5\n",
      "3462/3462 [==============================] - 44s 13ms/step - loss: 0.0360 - accuracy: 0.1163\n",
      "Epoch 5/5\n",
      "3462/3462 [==============================] - 44s 13ms/step - loss: 0.0345 - accuracy: 0.1237\n",
      "Epoch 1/5\n",
      "3462/3462 [==============================] - 56s 16ms/step - loss: 0.0967 - accuracy: 0.0321\n",
      "Epoch 2/5\n",
      "3462/3462 [==============================] - 42s 12ms/step - loss: 0.0638 - accuracy: 0.0597\n",
      "Epoch 3/5\n",
      "3462/3462 [==============================] - 46s 13ms/step - loss: 0.0570 - accuracy: 0.0607\n",
      "Epoch 4/5\n",
      "3462/3462 [==============================] - 44s 13ms/step - loss: 0.0532 - accuracy: 0.0602\n",
      "Epoch 5/5\n",
      "3462/3462 [==============================] - 43s 13ms/step - loss: 0.0512 - accuracy: 0.0506\n",
      "Epoch 1/5\n",
      "3462/3462 [==============================] - 59s 17ms/step - loss: 0.1394 - accuracy: 0.0178\n",
      "Epoch 2/5\n",
      "3462/3462 [==============================] - 44s 13ms/step - loss: 0.0936 - accuracy: 0.0072\n",
      "Epoch 3/5\n",
      "3462/3462 [==============================] - 45s 13ms/step - loss: 0.0838 - accuracy: 0.0092\n",
      "Epoch 4/5\n",
      "3462/3462 [==============================] - 45s 13ms/step - loss: 0.0791 - accuracy: 0.0124\n",
      "Epoch 5/5\n",
      "3462/3462 [==============================] - 44s 13ms/step - loss: 0.0758 - accuracy: 0.0156\n"
     ]
    }
   ],
   "source": [
    "def create_model(novelty_weight):\n",
    "    m = ConstraintAutoRec(utils.common.movie_lens['dimensions'], epochs=5, novelty_weight=novelty_weight, diversity_weight=0)\n",
    "    m.train(utils.common.load_dataset(utils.common.movie_lens, 'train'), utils.common.movie_lens['train']['records'])\n",
    "    return m\n",
    "\n",
    "models = [create_model(x) for x in [0.1, 0.5, 1.0, 2.0]]"
   ]
  },
  {
   "cell_type": "code",
   "execution_count": 50,
   "metadata": {
    "pycharm": {
     "is_executing": false,
     "name": "#%%\n"
    }
   },
   "outputs": [
    {
     "data": {
      "text/plain": [
       "[<models.ConstraintAutoRec.ConstraintAutoRec at 0x7fca0aee1d30>,\n",
       " <models.ConstraintAutoRec.ConstraintAutoRec at 0x7fca0a3b37f0>,\n",
       " <models.ConstraintAutoRec.ConstraintAutoRec at 0x7fca0b008550>,\n",
       " <models.ConstraintAutoRec.ConstraintAutoRec at 0x7fca013b1908>]"
      ]
     },
     "execution_count": 50,
     "metadata": {},
     "output_type": "execute_result"
    }
   ],
   "source": [
    "import matplotlib.pyplot as plt\n",
    "models"
   ]
  },
  {
   "cell_type": "code",
   "execution_count": 85,
   "metadata": {
    "pycharm": {
     "name": "#%%\n"
    }
   },
   "outputs": [
    {
     "data": {
      "text/html": [
       "<div>\n",
       "<style scoped>\n",
       "    .dataframe tbody tr th:only-of-type {\n",
       "        vertical-align: middle;\n",
       "    }\n",
       "\n",
       "    .dataframe tbody tr th {\n",
       "        vertical-align: top;\n",
       "    }\n",
       "\n",
       "    .dataframe thead th {\n",
       "        text-align: right;\n",
       "    }\n",
       "</style>\n",
       "<table border=\"1\" class=\"dataframe\">\n",
       "  <thead>\n",
       "    <tr style=\"text-align: right;\">\n",
       "      <th></th>\n",
       "      <th>accuracy</th>\n",
       "      <th>diversity@10</th>\n",
       "      <th>diversity@5</th>\n",
       "      <th>diversity_weight</th>\n",
       "      <th>epc@10</th>\n",
       "      <th>epc@5</th>\n",
       "      <th>epd@5</th>\n",
       "      <th>epochs</th>\n",
       "      <th>mse</th>\n",
       "      <th>name</th>\n",
       "      <th>novelty_weight</th>\n",
       "      <th>precision</th>\n",
       "      <th>recall</th>\n",
       "    </tr>\n",
       "  </thead>\n",
       "  <tbody>\n",
       "    <tr>\n",
       "      <th>0</th>\n",
       "      <td>0.993700</td>\n",
       "      <td>0.309300</td>\n",
       "      <td>0.305382</td>\n",
       "      <td>0</td>\n",
       "      <td>0.809829</td>\n",
       "      <td>0.797125</td>\n",
       "      <td>0.339143</td>\n",
       "      <td>5</td>\n",
       "      <td>0.146269</td>\n",
       "      <td>ConstraintAutoRec</td>\n",
       "      <td>0.1</td>\n",
       "      <td>1.0</td>\n",
       "      <td>0.993700</td>\n",
       "    </tr>\n",
       "    <tr>\n",
       "      <th>1</th>\n",
       "      <td>0.981441</td>\n",
       "      <td>0.301321</td>\n",
       "      <td>0.294672</td>\n",
       "      <td>0</td>\n",
       "      <td>0.828672</td>\n",
       "      <td>0.820444</td>\n",
       "      <td>0.335802</td>\n",
       "      <td>5</td>\n",
       "      <td>0.194387</td>\n",
       "      <td>ConstraintAutoRec</td>\n",
       "      <td>0.5</td>\n",
       "      <td>1.0</td>\n",
       "      <td>0.981441</td>\n",
       "    </tr>\n",
       "    <tr>\n",
       "      <th>2</th>\n",
       "      <td>0.971551</td>\n",
       "      <td>0.293877</td>\n",
       "      <td>0.287011</td>\n",
       "      <td>0</td>\n",
       "      <td>0.832976</td>\n",
       "      <td>0.827268</td>\n",
       "      <td>0.332188</td>\n",
       "      <td>5</td>\n",
       "      <td>0.220843</td>\n",
       "      <td>ConstraintAutoRec</td>\n",
       "      <td>1.0</td>\n",
       "      <td>1.0</td>\n",
       "      <td>0.971551</td>\n",
       "    </tr>\n",
       "    <tr>\n",
       "      <th>3</th>\n",
       "      <td>0.956056</td>\n",
       "      <td>0.288221</td>\n",
       "      <td>0.279943</td>\n",
       "      <td>0</td>\n",
       "      <td>0.850899</td>\n",
       "      <td>0.847013</td>\n",
       "      <td>0.330940</td>\n",
       "      <td>5</td>\n",
       "      <td>0.253143</td>\n",
       "      <td>ConstraintAutoRec</td>\n",
       "      <td>2.0</td>\n",
       "      <td>1.0</td>\n",
       "      <td>0.956056</td>\n",
       "    </tr>\n",
       "  </tbody>\n",
       "</table>\n",
       "</div>"
      ],
      "text/plain": [
       "   accuracy  diversity@10  diversity@5  diversity_weight    epc@10     epc@5  \\\n",
       "0  0.993700      0.309300     0.305382                 0  0.809829  0.797125   \n",
       "1  0.981441      0.301321     0.294672                 0  0.828672  0.820444   \n",
       "2  0.971551      0.293877     0.287011                 0  0.832976  0.827268   \n",
       "3  0.956056      0.288221     0.279943                 0  0.850899  0.847013   \n",
       "\n",
       "      epd@5  epochs       mse               name  novelty_weight  precision  \\\n",
       "0  0.339143       5  0.146269  ConstraintAutoRec             0.1        1.0   \n",
       "1  0.335802       5  0.194387  ConstraintAutoRec             0.5        1.0   \n",
       "2  0.332188       5  0.220843  ConstraintAutoRec             1.0        1.0   \n",
       "3  0.330940       5  0.253143  ConstraintAutoRec             2.0        1.0   \n",
       "\n",
       "     recall  \n",
       "0  0.993700  \n",
       "1  0.981441  \n",
       "2  0.971551  \n",
       "3  0.956056  "
      ]
     },
     "execution_count": 85,
     "metadata": {},
     "output_type": "execute_result"
    }
   ],
   "source": [
    "#ev = evaluation.Evaluation(utils.common.movie_lens)\n",
    "#big_eval = ev.evaluate_models(models)\n",
    "big_eval.head()"
   ]
  },
  {
   "cell_type": "code",
   "execution_count": 75,
   "metadata": {},
   "outputs": [
    {
     "data": {
      "text/html": [
       "<div>\n",
       "<style scoped>\n",
       "    .dataframe tbody tr th:only-of-type {\n",
       "        vertical-align: middle;\n",
       "    }\n",
       "\n",
       "    .dataframe tbody tr th {\n",
       "        vertical-align: top;\n",
       "    }\n",
       "\n",
       "    .dataframe thead th {\n",
       "        text-align: right;\n",
       "    }\n",
       "</style>\n",
       "<table border=\"1\" class=\"dataframe\">\n",
       "  <thead>\n",
       "    <tr style=\"text-align: right;\">\n",
       "      <th></th>\n",
       "      <th>accuracy</th>\n",
       "      <th>diversity@10</th>\n",
       "      <th>diversity@5</th>\n",
       "      <th>diversity_weight</th>\n",
       "      <th>epc@10</th>\n",
       "      <th>epc@5</th>\n",
       "      <th>epd@5</th>\n",
       "      <th>epochs</th>\n",
       "      <th>mse</th>\n",
       "      <th>name</th>\n",
       "      <th>novelty_weight</th>\n",
       "      <th>precision</th>\n",
       "      <th>recall</th>\n",
       "    </tr>\n",
       "  </thead>\n",
       "  <tbody>\n",
       "    <tr>\n",
       "      <th>0</th>\n",
       "      <td>0.993433</td>\n",
       "      <td>0.309370</td>\n",
       "      <td>0.000677</td>\n",
       "      <td>0</td>\n",
       "      <td>0.809861</td>\n",
       "      <td>0.797123</td>\n",
       "      <td>0.000770</td>\n",
       "      <td>5</td>\n",
       "      <td>0.146175</td>\n",
       "      <td>ConstraintAutoRec</td>\n",
       "      <td>0.1</td>\n",
       "      <td>1.0</td>\n",
       "      <td>0.993433</td>\n",
       "    </tr>\n",
       "    <tr>\n",
       "      <th>1</th>\n",
       "      <td>0.980580</td>\n",
       "      <td>0.301300</td>\n",
       "      <td>0.000701</td>\n",
       "      <td>0</td>\n",
       "      <td>0.828527</td>\n",
       "      <td>0.820255</td>\n",
       "      <td>0.000764</td>\n",
       "      <td>5</td>\n",
       "      <td>0.194251</td>\n",
       "      <td>ConstraintAutoRec</td>\n",
       "      <td>0.5</td>\n",
       "      <td>1.0</td>\n",
       "      <td>0.980580</td>\n",
       "    </tr>\n",
       "    <tr>\n",
       "      <th>2</th>\n",
       "      <td>0.970214</td>\n",
       "      <td>0.293833</td>\n",
       "      <td>0.000676</td>\n",
       "      <td>0</td>\n",
       "      <td>0.832992</td>\n",
       "      <td>0.827355</td>\n",
       "      <td>0.000760</td>\n",
       "      <td>5</td>\n",
       "      <td>0.220695</td>\n",
       "      <td>ConstraintAutoRec</td>\n",
       "      <td>1.0</td>\n",
       "      <td>1.0</td>\n",
       "      <td>0.970214</td>\n",
       "    </tr>\n",
       "    <tr>\n",
       "      <th>3</th>\n",
       "      <td>0.953900</td>\n",
       "      <td>0.288207</td>\n",
       "      <td>0.000624</td>\n",
       "      <td>0</td>\n",
       "      <td>0.850782</td>\n",
       "      <td>0.846885</td>\n",
       "      <td>0.000748</td>\n",
       "      <td>5</td>\n",
       "      <td>0.253001</td>\n",
       "      <td>ConstraintAutoRec</td>\n",
       "      <td>2.0</td>\n",
       "      <td>1.0</td>\n",
       "      <td>0.953900</td>\n",
       "    </tr>\n",
       "  </tbody>\n",
       "</table>\n",
       "</div>"
      ],
      "text/plain": [
       "   accuracy  diversity@10  diversity@5  diversity_weight    epc@10     epc@5  \\\n",
       "0  0.993433      0.309370     0.000677                 0  0.809861  0.797123   \n",
       "1  0.980580      0.301300     0.000701                 0  0.828527  0.820255   \n",
       "2  0.970214      0.293833     0.000676                 0  0.832992  0.827355   \n",
       "3  0.953900      0.288207     0.000624                 0  0.850782  0.846885   \n",
       "\n",
       "      epd@5  epochs       mse               name  novelty_weight  precision  \\\n",
       "0  0.000770       5  0.146175  ConstraintAutoRec             0.1        1.0   \n",
       "1  0.000764       5  0.194251  ConstraintAutoRec             0.5        1.0   \n",
       "2  0.000760       5  0.220695  ConstraintAutoRec             1.0        1.0   \n",
       "3  0.000748       5  0.253001  ConstraintAutoRec             2.0        1.0   \n",
       "\n",
       "     recall  \n",
       "0  0.993433  \n",
       "1  0.980580  \n",
       "2  0.970214  \n",
       "3  0.953900  "
      ]
     },
     "execution_count": 75,
     "metadata": {},
     "output_type": "execute_result"
    }
   ],
   "source": [
    "big_eval"
   ]
  },
  {
   "cell_type": "code",
   "execution_count": 55,
   "metadata": {},
   "outputs": [
    {
     "data": {
      "text/plain": [
       "<BarContainer object of 4 artists>"
      ]
     },
     "execution_count": 55,
     "metadata": {},
     "output_type": "execute_result"
    },
    {
     "data": {
      "image/png": "[encoded data removed]",
      "text/plain": [
       "<Figure size 432x288 with 1 Axes>"
      ]
     },
     "metadata": {
      "needs_background": "light"
     },
     "output_type": "display_data"
    }
   ],
   "source": [
    "plt.bar(eval_data.index, eval_data['epc@10'])"
   ]
  },
  {
   "cell_type": "code",
   "execution_count": 71,
   "metadata": {},
   "outputs": [
    {
     "data": {
      "image/png": "[encoded data removed]",
      "text/plain": [
       "<Figure size 432x288 with 1 Axes>"
      ]
     },
     "metadata": {
      "needs_background": "light"
     },
     "output_type": "display_data"
    }
   ],
   "source": [
    "plt.plot(eval_data['novelty_weight'], eval_data['epc@10'], 'ro', ls='--')\n",
    "plt.plot(eval_data['novelty_weight'], eval_data['accuracy'], 'bo', ls='--')\n",
    "plt.show()"
   ]
  },
  {
   "cell_type": "code",
   "execution_count": 58,
   "metadata": {},
   "outputs": [],
   "source": [
    "def plot_bar(data, axis, x_param):\n",
    "    bottom = data[axis].min() \n",
    "    top = data[axis].max()\n",
    "    margin = (top - bottom) * 0.05\n",
    "    fig, ax = plt.subplots()\n",
    "    ax.bar(data.index, data[axis] )\n",
    "    ax.set_xticks(data.index)\n",
    "    ax.set_xticklabels(data[x_param])\n",
    "    ax.set_ylabel(axis)\n",
    "    ax.set_xlabel(x_param)\n",
    "    plt.show()"
   ]
  },
  {
   "cell_type": "code",
   "execution_count": 59,
   "metadata": {},
   "outputs": [
    {
     "data": {
      "image/png": "[encoded data removed]",
      "text/plain": [
       "<Figure size 432x288 with 1 Axes>"
      ]
     },
     "metadata": {
      "needs_background": "light"
     },
     "output_type": "display_data"
    }
   ],
   "source": [
    "plot_bar(eval_data, 'epc@10', 'novelty_weight')"
   ]
  },
  {
   "cell_type": "code",
   "execution_count": 19,
   "metadata": {},
   "outputs": [
    {
     "ename": "NameError",
     "evalue": "name 'plot_bar' is not defined",
     "output_type": "error",
     "traceback": [
      "\u001b[0;31m---------------------------------------------------------------------------\u001b[0m",
      "\u001b[0;31mNameError\u001b[0m                                 Traceback (most recent call last)",
      "\u001b[0;32m<ipython-input-19-1ed67ba07a53>\u001b[0m in \u001b[0;36m<module>\u001b[0;34m\u001b[0m\n\u001b[0;32m----> 1\u001b[0;31m \u001b[0mplot_bar\u001b[0m\u001b[0;34m(\u001b[0m\u001b[0meval_data\u001b[0m\u001b[0;34m,\u001b[0m \u001b[0;34m'accuracy'\u001b[0m\u001b[0;34m,\u001b[0m \u001b[0;34m'novelty_weight'\u001b[0m\u001b[0;34m)\u001b[0m\u001b[0;34m\u001b[0m\u001b[0;34m\u001b[0m\u001b[0m\n\u001b[0m",
      "\u001b[0;31mNameError\u001b[0m: name 'plot_bar' is not defined"
     ]
    }
   ],
   "source": [
    "plot_bar(eval_data, 'accuracy', 'novelty_weight')"
   ]
  },
  {
   "cell_type": "code",
   "execution_count": 104,
   "metadata": {},
   "outputs": [
    {
     "data": {
      "text/plain": [
       "<module 'models.MatrixFactorization' from '/mnt/e/owncloud/FH/MasterThesis/Code/models/MatrixFactorization.py'>"
      ]
     },
     "execution_count": 104,
     "metadata": {},
     "output_type": "execute_result"
    }
   ],
   "source": [
    "\n",
    "import utils.common\n",
    "import evaluation\n",
    "import importlib\n",
    "import numpy as np\n",
    "import time\n",
    "import models.MatrixFactorization\n",
    "importlib.reload(utils.common)\n",
    "importlib.reload(evaluation)\n",
    "importlib.reload(models.MatrixFactorization)\n",
    "\n"
   ]
  },
  {
   "cell_type": "code",
   "execution_count": 108,
   "metadata": {},
   "outputs": [
    {
     "name": "stdout",
     "output_type": "stream",
     "text": [
      "Epoch 000 Loss at step 000: 1.962\n",
      "Epoch 001 Loss at step 000: 1.231\n",
      "Epoch 002 Loss at step 000: 0.945\n",
      "Epoch 003 Loss at step 000: 0.739\n",
      "Epoch 004 Loss at step 000: 0.583\n",
      "Epoch 005 Loss at step 000: 0.465\n",
      "Epoch 006 Loss at step 000: 0.373\n",
      "Epoch 007 Loss at step 000: 0.302\n",
      "Epoch 008 Loss at step 000: 0.246\n",
      "Epoch 009 Loss at step 000: 0.202\n",
      "Epoch 010 Loss at step 000: 0.167\n",
      "Epoch 011 Loss at step 000: 0.140\n",
      "Epoch 012 Loss at step 000: 0.117\n",
      "Epoch 013 Loss at step 000: 0.099\n",
      "Epoch 014 Loss at step 000: 0.084\n",
      "Epoch 015 Loss at step 000: 0.072\n",
      "Epoch 016 Loss at step 000: 0.062\n",
      "Epoch 017 Loss at step 000: 0.054\n",
      "Epoch 018 Loss at step 000: 0.047\n",
      "Epoch 019 Loss at step 000: 0.041\n",
      "Epoch 020 Loss at step 000: 0.036\n",
      "Epoch 021 Loss at step 000: 0.032\n",
      "Epoch 022 Loss at step 000: 0.028\n",
      "Epoch 023 Loss at step 000: 0.025\n",
      "Epoch 024 Loss at step 000: 0.023\n",
      "Epoch 025 Loss at step 000: 0.020\n",
      "Epoch 026 Loss at step 000: 0.018\n",
      "Epoch 027 Loss at step 000: 0.017\n",
      "Epoch 028 Loss at step 000: 0.015\n",
      "Epoch 029 Loss at step 000: 0.014\n"
     ]
    }
   ],
   "source": [
    "mf = models.MatrixFactorization.MatrixFactorization(utils.common.movie_lens['user'], utils.common.movie_lens['dimensions'], epochs=30)\n",
    "mf.train(utils.common.load_dataset(utils.common.movie_lens, 'train'), utils.common.movie_lens['train']['records'])"
   ]
  },
  {
   "cell_type": "code",
   "execution_count": 109,
   "metadata": {},
   "outputs": [
    {
     "name": "stdout",
     "output_type": "stream",
     "text": [
      "Process batch 0\n",
      "Process batch 1\n",
      "Process batch 2\n",
      "Process batch 3\n",
      "Process batch 4\n"
     ]
    },
    {
     "data": {
      "text/plain": [
       "{'accuracy': 0.4552522101225941,\n",
       " 'precision': 1.0,\n",
       " 'recall': 0.4552522101225941,\n",
       " 'mse': 34.22495481105142,\n",
       " 'diversity@5': 0.37978105322153205,\n",
       " 'diversity@10': 0.38001766147539223,\n",
       " 'epc@5': 0.994477823488149,\n",
       " 'epc@10': 0.9943148507151829,\n",
       " 'epd@5': 0.38238987338903574,\n",
       " 'name': None,\n",
       " 'latent_dim': 128,\n",
       " 'epochs': 30,\n",
       " 'batch_size': 64}"
      ]
     },
     "execution_count": 109,
     "metadata": {},
     "output_type": "execute_result"
    }
   ],
   "source": [
    "ev = evaluation.Evaluation(utils.common.movie_lens)\n",
    "ev.evaluate(mf)"
   ]
  },
  {
   "cell_type": "code",
   "execution_count": null,
   "metadata": {},
   "outputs": [],
   "source": []
  }
 ],
 "metadata": {
  "kernelspec": {
   "display_name": "Python 3",
   "language": "python",
   "name": "python3"
  },
  "language_info": {
   "codemirror_mode": {
    "name": "ipython",
    "version": 3
   },
   "file_extension": ".py",
   "mimetype": "text/x-python",
   "name": "python",
   "nbconvert_exporter": "python",
   "pygments_lexer": "ipython3",
   "version": "3.7.3"
  },
  "pycharm": {
   "stem_cell": {
    "cell_type": "raw",
    "metadata": {
     "collapsed": false
    },
    "source": []
   }
  }
 },
 "nbformat": 4,
 "nbformat_minor": 1
}
