{
 "cells": [
  {
   "cell_type": "code",
   "execution_count": 7,
   "metadata": {
    "pycharm": {
     "is_executing": false
    }
   },
   "outputs": [
    {
     "data": {
      "text/plain": [
       "<module 'evaluation' from '/mnt/e/owncloud/FH/MasterThesis/Code/evaluation.py'>"
      ]
     },
     "execution_count": 7,
     "metadata": {},
     "output_type": "execute_result"
    }
   ],
   "source": [
    "\n",
    "import utils.common\n",
    "import evaluation\n",
    "import importlib\n",
    "import numpy as np\n",
    "import time\n",
    "from models.ConstraintAutoRec import ConstraintAutoRec \n",
    "importlib.reload(utils.common)\n",
    "importlib.reload(evaluation)\n"
   ]
  },
  {
   "cell_type": "code",
   "execution_count": 2,
   "metadata": {
    "pycharm": {
     "is_executing": false,
     "name": "#%%\n"
    }
   },
   "outputs": [
    {
     "name": "stdout",
     "output_type": "stream",
     "text": [
      "Epoch 1/30\n",
      "19/19 [==============================] - 18s 946ms/step - loss: 0.2448 - accuracy: 0.0016\n",
      "Epoch 2/30\n",
      "19/19 [==============================] - 0s 16ms/step - loss: 0.0999 - accuracy: 0.0543\n",
      "Epoch 3/30\n",
      "19/19 [==============================] - 0s 15ms/step - loss: 0.0949 - accuracy: 0.1332\n",
      "Epoch 4/30\n",
      "19/19 [==============================] - 0s 20ms/step - loss: 0.1119 - accuracy: 0.0839\n",
      "Epoch 5/30\n",
      "19/19 [==============================] - 0s 17ms/step - loss: 0.1093 - accuracy: 0.0822\n",
      "Epoch 6/30\n",
      "19/19 [==============================] - 0s 16ms/step - loss: 0.1308 - accuracy: 0.0970\n",
      "Epoch 7/30\n",
      "19/19 [==============================] - 0s 16ms/step - loss: 0.1015 - accuracy: 0.1069\n",
      "Epoch 8/30\n",
      "19/19 [==============================] - 0s 14ms/step - loss: 0.0820 - accuracy: 0.1130\n",
      "Epoch 9/30\n",
      "19/19 [==============================] - 0s 15ms/step - loss: 0.0663 - accuracy: 0.1562\n",
      "Epoch 10/30\n",
      "19/19 [==============================] - 0s 14ms/step - loss: 0.0814 - accuracy: 0.2018\n",
      "Epoch 11/30\n",
      "19/19 [==============================] - 0s 15ms/step - loss: 0.0729 - accuracy: 0.2089\n",
      "Epoch 12/30\n",
      "19/19 [==============================] - 0s 14ms/step - loss: 0.0783 - accuracy: 0.1781\n",
      "Epoch 13/30\n",
      "19/19 [==============================] - 0s 16ms/step - loss: 0.0704 - accuracy: 0.2003\n",
      "Epoch 14/30\n",
      "19/19 [==============================] - 0s 19ms/step - loss: 0.0632 - accuracy: 0.1826\n",
      "Epoch 15/30\n",
      "19/19 [==============================] - 0s 17ms/step - loss: 0.0615 - accuracy: 0.2106\n",
      "Epoch 16/30\n",
      "19/19 [==============================] - 0s 17ms/step - loss: 0.0495 - accuracy: 0.2023\n",
      "Epoch 17/30\n",
      "19/19 [==============================] - 0s 18ms/step - loss: 0.0729 - accuracy: 0.2127\n",
      "Epoch 18/30\n",
      "19/19 [==============================] - 0s 15ms/step - loss: 0.0738 - accuracy: 0.2052\n",
      "Epoch 19/30\n",
      "19/19 [==============================] - 0s 16ms/step - loss: 0.0669 - accuracy: 0.1911\n",
      "Epoch 20/30\n",
      "19/19 [==============================] - 0s 17ms/step - loss: 0.0542 - accuracy: 0.1832\n",
      "Epoch 21/30\n",
      "19/19 [==============================] - 0s 18ms/step - loss: 0.0530 - accuracy: 0.1866\n",
      "Epoch 22/30\n",
      "19/19 [==============================] - 0s 17ms/step - loss: 0.0587 - accuracy: 0.2107\n",
      "Epoch 23/30\n",
      "19/19 [==============================] - 0s 17ms/step - loss: 0.0626 - accuracy: 0.1727\n",
      "Epoch 24/30\n",
      "19/19 [==============================] - 0s 17ms/step - loss: 0.0501 - accuracy: 0.1908\n",
      "Epoch 25/30\n",
      "19/19 [==============================] - 0s 16ms/step - loss: 0.0576 - accuracy: 0.1901\n",
      "Epoch 26/30\n",
      "19/19 [==============================] - 0s 15ms/step - loss: 0.0470 - accuracy: 0.2021\n",
      "Epoch 27/30\n",
      "19/19 [==============================] - 0s 15ms/step - loss: 0.0601 - accuracy: 0.2127\n",
      "Epoch 28/30\n",
      "19/19 [==============================] - 0s 15ms/step - loss: 0.0600 - accuracy: 0.2107\n",
      "Epoch 29/30\n",
      "19/19 [==============================] - 0s 15ms/step - loss: 0.0618 - accuracy: 0.2054\n",
      "Epoch 30/30\n",
      "19/19 [==============================] - 0s 17ms/step - loss: 0.0503 - accuracy: 0.2140\n"
     ]
    }
   ],
   "source": [
    "model = ConstraintAutoRec(utils.common.movie_lens['dimensions'], epochs=30, novelty_weight=0.25, diversity_weight=0)\n",
    "model.train(utils.common.load_dataset(utils.common.movie_lens, 'train'), utils.common.movie_lens['train']['records'])\n"
   ]
  },
  {
   "cell_type": "code",
   "execution_count": 3,
   "metadata": {
    "pycharm": {
     "is_executing": false,
     "name": "#%%\n"
    }
   },
   "outputs": [
    {
     "name": "stdout",
     "output_type": "stream",
     "text": [
      "Epoch 1/30\n",
      "19/19 [==============================] - 13s 709ms/step - loss: 0.2581 - accuracy: 0.0154\n",
      "Epoch 2/30\n",
      "19/19 [==============================] - 0s 17ms/step - loss: 0.1328 - accuracy: 0.0771\n",
      "Epoch 3/30\n",
      "19/19 [==============================] - 0s 15ms/step - loss: 0.1220 - accuracy: 0.1161\n",
      "Epoch 4/30\n",
      "19/19 [==============================] - 0s 16ms/step - loss: 0.1221 - accuracy: 0.0970\n",
      "Epoch 5/30\n",
      "19/19 [==============================] - 0s 16ms/step - loss: 0.1366 - accuracy: 0.0946\n",
      "Epoch 6/30\n",
      "19/19 [==============================] - 0s 15ms/step - loss: 0.1126 - accuracy: 0.0668\n",
      "Epoch 7/30\n",
      "19/19 [==============================] - 0s 15ms/step - loss: 0.1007 - accuracy: 0.0925\n",
      "Epoch 8/30\n",
      "19/19 [==============================] - 0s 14ms/step - loss: 0.1137 - accuracy: 0.1373\n",
      "Epoch 9/30\n",
      "19/19 [==============================] - 0s 16ms/step - loss: 0.0946 - accuracy: 0.1250\n",
      "Epoch 10/30\n",
      "19/19 [==============================] - 0s 15ms/step - loss: 0.0935 - accuracy: 0.1567\n",
      "Epoch 11/30\n",
      "19/19 [==============================] - 0s 14ms/step - loss: 0.0945 - accuracy: 0.1922\n",
      "Epoch 12/30\n",
      "19/19 [==============================] - 0s 15ms/step - loss: 0.0939 - accuracy: 0.2071\n",
      "Epoch 13/30\n",
      "19/19 [==============================] - 0s 15ms/step - loss: 0.0911 - accuracy: 0.1490\n",
      "Epoch 14/30\n",
      "19/19 [==============================] - 0s 17ms/step - loss: 0.0814 - accuracy: 0.1793\n",
      "Epoch 15/30\n",
      "19/19 [==============================] - 0s 15ms/step - loss: 0.0900 - accuracy: 0.2146\n",
      "Epoch 16/30\n",
      "19/19 [==============================] - 0s 14ms/step - loss: 0.0839 - accuracy: 0.1884\n",
      "Epoch 17/30\n",
      "19/19 [==============================] - 0s 14ms/step - loss: 0.0711 - accuracy: 0.1842\n",
      "Epoch 18/30\n",
      "19/19 [==============================] - 0s 14ms/step - loss: 0.0585 - accuracy: 0.1990\n",
      "Epoch 19/30\n",
      "19/19 [==============================] - 0s 14ms/step - loss: 0.0760 - accuracy: 0.1695\n",
      "Epoch 20/30\n",
      "19/19 [==============================] - 0s 13ms/step - loss: 0.0751 - accuracy: 0.2003\n",
      "Epoch 21/30\n",
      "19/19 [==============================] - 0s 13ms/step - loss: 0.0648 - accuracy: 0.1901\n",
      "Epoch 22/30\n",
      "19/19 [==============================] - 0s 13ms/step - loss: 0.0758 - accuracy: 0.1959\n",
      "Epoch 23/30\n",
      "19/19 [==============================] - 0s 14ms/step - loss: 0.0678 - accuracy: 0.1562\n",
      "Epoch 24/30\n",
      "19/19 [==============================] - 0s 13ms/step - loss: 0.0638 - accuracy: 0.1952\n",
      "Epoch 25/30\n",
      "19/19 [==============================] - 0s 13ms/step - loss: 0.0741 - accuracy: 0.2071\n",
      "Epoch 26/30\n",
      "19/19 [==============================] - 0s 13ms/step - loss: 0.0685 - accuracy: 0.2071\n",
      "Epoch 27/30\n",
      "19/19 [==============================] - 0s 14ms/step - loss: 0.0687 - accuracy: 0.1990\n",
      "Epoch 28/30\n",
      "19/19 [==============================] - 0s 15ms/step - loss: 0.0603 - accuracy: 0.2204\n",
      "Epoch 29/30\n",
      "19/19 [==============================] - 0s 14ms/step - loss: 0.0538 - accuracy: 0.2155\n",
      "Epoch 30/30\n",
      "19/19 [==============================] - 0s 14ms/step - loss: 0.0613 - accuracy: 0.2140\n"
     ]
    }
   ],
   "source": [
    "diversity_model = ConstraintAutoRec(utils.common.movie_lens['dimensions'], epochs=30, novelty_weight=0.25, diversity_weight=2.0)\n",
    "diversity_model.train(utils.common.load_dataset(utils.common.movie_lens, 'train'), utils.common.movie_lens['train']['records'])\n"
   ]
  },
  {
   "cell_type": "code",
   "execution_count": 8,
   "metadata": {
    "pycharm": {
     "is_executing": false,
     "name": "#%%\n"
    }
   },
   "outputs": [
    {
     "data": {
      "text/html": [
       "<div>\n",
       "<style scoped>\n",
       "    .dataframe tbody tr th:only-of-type {\n",
       "        vertical-align: middle;\n",
       "    }\n",
       "\n",
       "    .dataframe tbody tr th {\n",
       "        vertical-align: top;\n",
       "    }\n",
       "\n",
       "    .dataframe thead th {\n",
       "        text-align: right;\n",
       "    }\n",
       "</style>\n",
       "<table border=\"1\" class=\"dataframe\">\n",
       "  <thead>\n",
       "    <tr style=\"text-align: right;\">\n",
       "      <th></th>\n",
       "      <th>accuracy</th>\n",
       "      <th>diversity@10</th>\n",
       "      <th>diversity@5</th>\n",
       "      <th>diversity_weight</th>\n",
       "      <th>epc@10</th>\n",
       "      <th>epc@5</th>\n",
       "      <th>epd@5</th>\n",
       "      <th>epochs</th>\n",
       "      <th>mse</th>\n",
       "      <th>name</th>\n",
       "      <th>novelty_weight</th>\n",
       "      <th>precision</th>\n",
       "      <th>recall</th>\n",
       "    </tr>\n",
       "  </thead>\n",
       "  <tbody>\n",
       "    <tr>\n",
       "      <th>0</th>\n",
       "      <td>0.905244</td>\n",
       "      <td>0.340574</td>\n",
       "      <td>0.172158</td>\n",
       "      <td>0.0</td>\n",
       "      <td>0.850133</td>\n",
       "      <td>0.843335</td>\n",
       "      <td>0.0</td>\n",
       "      <td>30</td>\n",
       "      <td>0.226756</td>\n",
       "      <td>ConstraintAutoRec</td>\n",
       "      <td>0.25</td>\n",
       "      <td>1.0</td>\n",
       "      <td>0.905244</td>\n",
       "    </tr>\n",
       "    <tr>\n",
       "      <th>1</th>\n",
       "      <td>0.911256</td>\n",
       "      <td>0.330751</td>\n",
       "      <td>0.159573</td>\n",
       "      <td>2.0</td>\n",
       "      <td>0.797763</td>\n",
       "      <td>0.779275</td>\n",
       "      <td>0.0</td>\n",
       "      <td>30</td>\n",
       "      <td>0.224487</td>\n",
       "      <td>ConstraintAutoRec</td>\n",
       "      <td>0.25</td>\n",
       "      <td>1.0</td>\n",
       "      <td>0.911256</td>\n",
       "    </tr>\n",
       "  </tbody>\n",
       "</table>\n",
       "</div>"
      ],
      "text/plain": [
       "   accuracy  diversity@10  diversity@5  diversity_weight    epc@10     epc@5  \\\n",
       "0  0.905244      0.340574     0.172158               0.0  0.850133  0.843335   \n",
       "1  0.911256      0.330751     0.159573               2.0  0.797763  0.779275   \n",
       "\n",
       "   epd@5  epochs       mse               name  novelty_weight  precision  \\\n",
       "0    0.0      30  0.226756  ConstraintAutoRec            0.25        1.0   \n",
       "1    0.0      30  0.224487  ConstraintAutoRec            0.25        1.0   \n",
       "\n",
       "     recall  \n",
       "0  0.905244  \n",
       "1  0.911256  "
      ]
     },
     "execution_count": 8,
     "metadata": {},
     "output_type": "execute_result"
    }
   ],
   "source": [
    "evaluation.evaluate_models([model, diversity_model], utils.common.movie_lens)"
   ]
  },
  {
   "cell_type": "code",
   "execution_count": 21,
   "metadata": {
    "pycharm": {
     "is_executing": false,
     "name": "#%%\n"
    }
   },
   "outputs": [
    {
     "name": "stdout",
     "output_type": "stream",
     "text": [
      "[0.35384535 0.4221759  0.36133661 0.37903591 0.37158885 0.37909942\n",
      " 0.37158885 0.34767615 0.3977605  0.3999889  0.39673332 0.37158885\n",
      " 0.36312487 0.33879023 0.33802584 0.44754982 0.37506144 0.34250773\n",
      " 0.35636298 0.37158885 0.34767615 0.3452513  0.34767615 0.32982079\n",
      " 0.32850409 0.38061155 0.37158885 0.36213975 0.3711608  0.39816611\n",
      " 0.3999889  0.38964961 0.34949324 0.34087444 0.38274409 0.40040078\n",
      " 0.35562639 0.34767615 0.27175493 0.39314323 0.39137657 0.36133661\n",
      " 0.34767615 0.37184981 0.37491748 0.37158885 0.3999889  0.37158885\n",
      " 0.28344052 0.40071555 0.34775549 0.41920553 0.37158885 0.34036513\n",
      " 0.3999889  0.3999889  0.37684953 0.34869716 0.37193355 0.37643507\n",
      " 0.32861484]\n",
      "[0.32797424 0.3538495  0.33527071 0.37704107 0.33569401 0.43368328\n",
      " 0.33527071 0.33569401 0.38577694 0.40354093 0.37212231 0.33527071\n",
      " 0.3489091  0.36130503 0.36840594 0.37748977 0.28783923 0.42504729\n",
      " 0.37944574 0.29403785 0.33527071 0.36873184 0.36539341 0.37939101\n",
      " 0.40134614 0.37402168 0.33569401 0.30167627 0.30025188 0.39653528\n",
      " 0.29414785 0.36539341 0.33527071 0.34136784 0.39276324 0.33527071\n",
      " 0.37776672 0.37053627 0.40069616 0.35142981 0.34912173 0.33527071\n",
      " 0.3920155  0.35864172 0.33527071 0.33527071 0.31810483 0.33527071\n",
      " 0.3513324  0.36723207 0.39331638 0.38610477 0.33527071 0.34961838\n",
      " 0.30446265 0.35864172 0.40612748 0.36557025 0.34136784 0.37555326\n",
      " 0.3450823 ]\n"
     ]
    }
   ],
   "source": [
    "\n",
    "# top_100 = evaluation.recommend_top_n(pred_2, 100)\n",
    "\n",
    "toystory = movie_features[0]\n",
    "psycho = movie_features[2098]\n",
    "toystory2 =movie_features[2769] \n",
    "# print(cosine_similarity(a, b))"
   ]
  },
  {
   "cell_type": "code",
   "execution_count": 15,
   "metadata": {
    "pycharm": {
     "name": "#%%\n"
    }
   },
   "outputs": [
    {
     "data": {
      "text/plain": [
       "{'dimensions': 10381,\n",
       " 'args': {'epochs': 30, 'novelty_weight': 0.25, 'diversity_weight': 0},\n",
       " 'latent_dims': 128,\n",
       " 'input_dim': 10381,\n",
       " 'accuracy_weight': 1.0,\n",
       " 'novelty_weight': 0.25,\n",
       " 'diversity_weight': 0,\n",
       " 'epochs': 30,\n",
       " 'batch_size': 32,\n",
       " 'name': 'ConstraintAutoRec',\n",
       " 'params': {'epochs': 30, 'novelty_weight': 0.25, 'diversity_weight': 0},\n",
       " 'encoder': <tensorflow.python.keras.engine.training.Model at 0x7fcaf817a898>,\n",
       " 'decoder': <tensorflow.python.keras.engine.training.Model at 0x7fcaf405ae10>,\n",
       " 'model': <tensorflow.python.keras.engine.training.Model at 0x7fcaf40771d0>}"
      ]
     },
     "execution_count": 15,
     "metadata": {},
     "output_type": "execute_result"
    }
   ],
   "source": [
    "model.__dict__"
   ]
  },
  {
   "cell_type": "code",
   "execution_count": 17,
   "metadata": {},
   "outputs": [
    {
     "data": {
      "text/plain": [
       "30"
      ]
     },
     "execution_count": 17,
     "metadata": {},
     "output_type": "execute_result"
    }
   ],
   "source": [
    "model.__dict__['epochs']"
   ]
  },
  {
   "cell_type": "code",
   "execution_count": null,
   "metadata": {},
   "outputs": [],
   "source": []
  }
 ],
 "metadata": {
  "kernelspec": {
   "display_name": "Python 3",
   "language": "python",
   "name": "python3"
  },
  "language_info": {
   "codemirror_mode": {
    "name": "ipython",
    "version": 3
   },
   "file_extension": ".py",
   "mimetype": "text/x-python",
   "name": "python",
   "nbconvert_exporter": "python",
   "pygments_lexer": "ipython3",
   "version": "3.7.3"
  },
  "pycharm": {
   "stem_cell": {
    "cell_type": "raw",
    "metadata": {
     "collapsed": false
    },
    "source": []
   }
  }
 },
 "nbformat": 4,
 "nbformat_minor": 1
}
