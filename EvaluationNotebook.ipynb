{
 "cells": [
  {
   "cell_type": "code",
   "execution_count": 1,
   "metadata": {
    "pycharm": {
     "is_executing": false
    }
   },
   "outputs": [
    {
     "data": {
      "text/plain": [
       "<module 'models.BPR' from '/home/ec2-user/SageMaker/rs-ml-with-constraints/models/BPR.py'>"
      ]
     },
     "execution_count": 1,
     "metadata": {},
     "output_type": "execute_result"
    }
   ],
   "source": [
    "import utils.common\n",
    "import evaluation\n",
    "import importlib\n",
    "import numpy as np\n",
    "import time\n",
    "import models.MatrixFactorization\n",
    "import models.BPR\n",
    "import models.ConstraintAutoRec\n",
    "importlib.reload(utils.common)\n",
    "importlib.reload(evaluation)\n",
    "importlib.reload(models.MatrixFactorization)\n",
    "importlib.reload(models.BPR)"
   ]
  },
  {
   "cell_type": "code",
   "execution_count": 2,
   "metadata": {},
   "outputs": [],
   "source": [
    "ev = evaluation.Evaluation(utils.common.ml_small)"
   ]
  },
  {
   "cell_type": "code",
   "execution_count": 3,
   "metadata": {
    "pycharm": {
     "is_executing": false,
     "name": "#%%\n"
    }
   },
   "outputs": [
    {
     "name": "stdout",
     "output_type": "stream",
     "text": [
      "Epoch 1/10\n",
      "19/19 [==============================] - 15s 791ms/step - loss: 0.2561 - accuracy: 0.0000e+00\n",
      "Epoch 2/10\n",
      "19/19 [==============================] - 0s 18ms/step - loss: 0.1787 - accuracy: 0.0164\n",
      "Epoch 3/10\n",
      "19/19 [==============================] - 0s 24ms/step - loss: 0.1581 - accuracy: 0.0474\n",
      "Epoch 4/10\n",
      "19/19 [==============================] - 0s 17ms/step - loss: 0.1593 - accuracy: 0.0312\n",
      "Epoch 5/10\n",
      "19/19 [==============================] - 0s 17ms/step - loss: 0.1533 - accuracy: 0.0073\n",
      "Epoch 6/10\n",
      "19/19 [==============================] - 0s 18ms/step - loss: 0.1453 - accuracy: 0.0296\n",
      "Epoch 7/10\n",
      "19/19 [==============================] - 0s 18ms/step - loss: 0.1401 - accuracy: 0.0312\n",
      "Epoch 8/10\n",
      "19/19 [==============================] - 0s 18ms/step - loss: 0.1392 - accuracy: 0.0251\n",
      "Epoch 9/10\n",
      "19/19 [==============================] - 0s 18ms/step - loss: 0.1216 - accuracy: 0.0237\n",
      "Epoch 10/10\n",
      "19/19 [==============================] - 0s 17ms/step - loss: 0.1189 - accuracy: 0.0230\n"
     ]
    }
   ],
   "source": [
    "model = models.ConstraintAutoRec.ConstraintAutoRec(utils.common.ml_small['dimensions'], epochs=10, novelty_weight=0.1, diversity_weight=0.1, latent_dim=64)\n",
    "model.train(utils.common.load_dataset(utils.common.ml_small, 'train'), utils.common.ml_small['train']['records'])"
   ]
  },
  {
   "cell_type": "code",
   "execution_count": 4,
   "metadata": {},
   "outputs": [
    {
     "name": "stdout",
     "output_type": "stream",
     "text": [
      "Batch nr 1 predicted\n",
      "Batch nr 2 predicted\n"
     ]
    },
    {
     "data": {
      "text/plain": [
       "{'accuracy': 0.7226011197618034,\n",
       " 'precision': 0.8949401562824231,\n",
       " 'recall': 0.764382022251553,\n",
       " 'map@1': 0.13513513513513514,\n",
       " 'map@5': 0.06660285285285285,\n",
       " 'map@10': 0.04873461258877926,\n",
       " 'diversity@5': 0.21513328565133855,\n",
       " 'diversity@10': 0.2533638369443251,\n",
       " 'epc@5': 0.7152287925633201,\n",
       " 'epc@10': 0.7328247190794073,\n",
       " 'epd@5': 0.3091634445805061,\n",
       " 'name': 'ConstraintAutoRec',\n",
       " 'dimensions': 10381,\n",
       " 'latent_dims': 64,\n",
       " 'accuracy_weight': 1.0,\n",
       " 'novelty_weight': 0.1,\n",
       " 'diversity_weight': 0.1,\n",
       " 'epochs': 10,\n",
       " 'batch_size': 32,\n",
       " 'optimizer': 'adam'}"
      ]
     },
     "execution_count": 4,
     "metadata": {},
     "output_type": "execute_result"
    }
   ],
   "source": [
    "ev.evaluate_single_thread(model)"
   ]
  },
  {
   "cell_type": "code",
   "execution_count": null,
   "metadata": {
    "pycharm": {
     "is_executing": false,
     "name": "#%%\n"
    }
   },
   "outputs": [],
   "source": [
    "diversity_model = models.ConstraintAutoRec.ConstraintAutoRec(utils.common.movie_lens['dimensions'], epochs=30, novelty_weight=0.25, diversity_weight=2.0)\n",
    "diversity_model.train(utils.common.load_dataset(utils.common.movie_lens, 'train'), utils.common.movie_lens['train']['records'])\n"
   ]
  },
  {
   "cell_type": "code",
   "execution_count": null,
   "metadata": {
    "pycharm": {
     "is_executing": false,
     "name": "#%%\n"
    }
   },
   "outputs": [],
   "source": [
    "def create_model(novelty_weight):\n",
    "    m = models.ConstraintAutoRec.ConstraintAutoRec(utils.common.movie_lens['dimensions'], epochs=15, novelty_weight=novelty_weight, diversity_weight=0, batch_size=128)\n",
    "    m.train(utils.common.load_dataset(utils.common.movie_lens, 'train'), utils.common.movie_lens['train']['records'])\n",
    "    return m\n",
    "\n",
    "nov_models2 = [create_model(x) for x in [0.1, 0.5, 1.0, 2.0]]"
   ]
  },
  {
   "cell_type": "code",
   "execution_count": null,
   "metadata": {
    "pycharm": {
     "is_executing": false,
     "name": "#%%\n"
    }
   },
   "outputs": [],
   "source": [
    "import matplotlib.pyplot as plt\n",
    "models"
   ]
  },
  {
   "cell_type": "code",
   "execution_count": null,
   "metadata": {
    "pycharm": {
     "name": "#%%\n"
    }
   },
   "outputs": [],
   "source": [
    "#ev = evaluation.Evaluation(utils.common.movie_lens)\n",
    "#big_eval = ev.evaluate_models(models)\n",
    "big_eval.head()"
   ]
  },
  {
   "cell_type": "code",
   "execution_count": null,
   "metadata": {},
   "outputs": [],
   "source": [
    "plt.bar(eval_data.index, eval_data['epc@10'])"
   ]
  },
  {
   "cell_type": "code",
   "execution_count": null,
   "metadata": {},
   "outputs": [],
   "source": [
    "plt.plot(eval_data['novelty_weight'], eval_data['epc@10'], 'ro', ls='--')\n",
    "plt.plot(eval_data['novelty_weight'], eval_data['accuracy'], 'bo', ls='--')\n",
    "plt.show()"
   ]
  },
  {
   "cell_type": "code",
   "execution_count": null,
   "metadata": {},
   "outputs": [],
   "source": [
    "def plot_bar(data, axis, x_param):\n",
    "    bottom = data[axis].min() \n",
    "    top = data[axis].max()\n",
    "    margin = (top - bottom) * 0.05\n",
    "    fig, ax = plt.subplots()\n",
    "    ax.bar(data.index, data[axis] )\n",
    "    ax.set_xticks(data.index)\n",
    "    ax.set_xticklabels(data[x_param])\n",
    "    ax.set_ylabel(axis)\n",
    "    ax.set_xlabel(x_param)\n",
    "    plt.show()"
   ]
  },
  {
   "cell_type": "code",
   "execution_count": 3,
   "metadata": {
    "scrolled": true
   },
   "outputs": [],
   "source": [
    "# mf = models.MatrixFactorization.MatrixFactorization(utils.common.movie_lens['user'], utils.common.movie_lens['dimensions'], epochs=10, latent_dim = 64)\n",
    "# mf.train(utils.common.load_dataset(utils.common.movie_lens, 'train'), utils.common.movie_lens['train']['records'])\n",
    "\n",
    "bpr = models.BPR.BPR(utils.common.movie_lens['user'], utils.common.movie_lens['dimensions'], epochs=5, latent_dim = 32, batch_size=1024)"
   ]
  },
  {
   "cell_type": "code",
   "execution_count": 209,
   "metadata": {},
   "outputs": [
    {
     "name": "stdout",
     "output_type": "stream",
     "text": [
      "Epoch #0 Loss at step 1610: 0.2968\n",
      "Epoch #1 Loss at step 1610: 0.2310\n",
      "Epoch #2 Loss at step 1610: 0.1927\n",
      "Epoch #3 Loss at step 1610: 0.1764\n",
      "Epoch #4 Loss at step 1610: 0.1552\n"
     ]
    }
   ],
   "source": [
    "bpr.batch_size = 8092\n",
    "bpr.train(utils.common.load_dataset(utils.common.movie_lens, 'train'), utils.common.movie_lens['train']['records'])"
   ]
  },
  {
   "cell_type": "code",
   "execution_count": 4,
   "metadata": {
    "scrolled": true
   },
   "outputs": [
    {
     "name": "stdout",
     "output_type": "stream",
     "text": [
      "Batch nr 1 predicted\n",
      "Batch nr 2 predicted\n",
      "Batch nr 3 predicted\n",
      "Batch nr 4 predicted\n",
      "Batch nr 5 predicted\n",
      "Batch nr 6 predicted\n",
      "Batch nr 7 predicted\n",
      "Batch nr 8 predicted\n",
      "Batch nr 9 predicted\n",
      "Batch nr 10 predicted\n",
      "Batch nr 11 predicted\n",
      "Batch nr 12 predicted\n",
      "Batch nr 13 predicted\n",
      "Batch nr 14 predicted\n",
      "Batch nr 15 predicted\n",
      "Batch nr 16 predicted\n",
      "Batch nr 17 predicted\n",
      "Batch nr 18 predicted\n",
      "Batch nr 19 predicted\n",
      "Batch nr 20 predicted\n",
      "Batch nr 21 predicted\n",
      "Batch nr 22 predicted\n",
      "Batch nr 23 predicted\n",
      "Batch nr 24 predicted\n",
      "Batch nr 25 predicted\n",
      "Batch nr 26 predicted\n",
      "Batch nr 27 predicted\n",
      "Batch nr 28 predicted\n",
      "Batch nr 29 predicted\n",
      "Batch nr 30 predicted\n",
      "Batch nr 31 predicted\n",
      "Batch nr 32 predicted\n",
      "Batch nr 33 predicted\n",
      "Batch nr 34 predicted\n",
      "Batch nr 35 predicted\n",
      "Batch nr 36 predicted\n",
      "Batch nr 37 predicted\n",
      "Batch nr 38 predicted\n",
      "Batch nr 39 predicted\n",
      "Batch nr 40 predicted\n",
      "Batch nr 41 predicted\n",
      "Batch nr 42 predicted\n",
      "Batch nr 43 predicted\n",
      "Batch nr 44 predicted\n",
      "Batch nr 45 predicted\n",
      "Batch nr 46 predicted\n",
      "Batch nr 47 predicted\n",
      "Batch nr 48 predicted\n",
      "Batch nr 49 predicted\n",
      "Batch nr 50 predicted\n",
      "Batch nr 51 predicted\n",
      "Batch nr 52 predicted\n",
      "Batch nr 53 predicted\n",
      "Batch nr 54 predicted\n",
      "Batch nr 55 predicted\n",
      "Batch nr 56 predicted\n",
      "Batch nr 57 predicted\n",
      "Batch nr 58 predicted\n",
      "Batch nr 59 predicted\n",
      "Batch nr 60 predicted\n",
      "Batch nr 61 predicted\n",
      "Batch nr 62 predicted\n",
      "Batch nr 63 predicted\n",
      "Batch nr 64 predicted\n",
      "Batch nr 65 predicted\n",
      "Batch nr 66 predicted\n",
      "Batch nr 67 predicted\n",
      "Batch nr 68 predicted\n",
      "Batch nr 69 predicted\n",
      "Batch nr 70 predicted\n",
      "Batch nr 71 predicted\n",
      "Batch nr 72 predicted\n",
      "Batch nr 73 predicted\n",
      "Batch nr 74 predicted\n",
      "Batch nr 75 predicted\n",
      "Batch nr 76 predicted\n",
      "Batch nr 77 predicted\n",
      "Batch nr 78 predicted\n",
      "Batch nr 79 predicted\n",
      "Batch nr 80 predicted\n",
      "Batch nr 81 predicted\n",
      "Batch nr 82 predicted\n",
      "Batch nr 83 predicted\n",
      "Batch nr 84 predicted\n",
      "Batch nr 85 predicted\n",
      "Batch nr 86 predicted\n",
      "Batch nr 87 predicted\n",
      "Batch nr 88 predicted\n",
      "Batch nr 89 predicted\n",
      "Batch nr 90 predicted\n",
      "Batch nr 91 predicted\n",
      "Batch nr 92 predicted\n",
      "Batch nr 93 predicted\n",
      "Batch nr 94 predicted\n",
      "Batch nr 95 predicted\n",
      "Batch nr 96 predicted\n",
      "Batch nr 97 predicted\n",
      "Batch nr 98 predicted\n",
      "Batch nr 99 predicted\n",
      "Batch nr 100 predicted\n",
      "Batch nr 101 predicted\n",
      "Batch nr 102 predicted\n",
      "Batch nr 103 predicted\n",
      "Batch nr 104 predicted\n",
      "Batch nr 105 predicted\n",
      "Batch nr 106 predicted\n",
      "Batch nr 107 predicted\n",
      "Batch nr 108 predicted\n",
      "Batch nr 109 predicted\n",
      "Batch nr 110 predicted\n",
      "Batch nr 111 predicted\n",
      "Batch nr 112 predicted\n",
      "Batch nr 113 predicted\n",
      "Batch nr 114 predicted\n",
      "Batch nr 115 predicted\n",
      "Batch nr 116 predicted\n",
      "Batch nr 117 predicted\n",
      "Batch nr 118 predicted\n",
      "Batch nr 119 predicted\n",
      "Batch nr 120 predicted\n",
      "Batch nr 121 predicted\n",
      "Batch nr 122 predicted\n",
      "Batch nr 123 predicted\n",
      "Batch nr 124 predicted\n",
      "Batch nr 125 predicted\n",
      "Batch nr 126 predicted\n",
      "Batch nr 127 predicted\n",
      "Batch nr 128 predicted\n",
      "Batch nr 129 predicted\n",
      "Batch nr 130 predicted\n",
      "Batch nr 131 predicted\n",
      "Batch nr 132 predicted\n",
      "Batch nr 133 predicted\n",
      "Batch nr 134 predicted\n",
      "Batch nr 135 predicted\n",
      "Batch nr 136 predicted\n",
      "Batch nr 137 predicted\n",
      "Batch nr 138 predicted\n",
      "Batch nr 139 predicted\n",
      "Batch nr 140 predicted\n",
      "Batch nr 141 predicted\n",
      "Batch nr 142 predicted\n",
      "Batch nr 143 predicted\n",
      "Batch nr 144 predicted\n",
      "Batch nr 145 predicted\n",
      "Batch nr 146 predicted\n",
      "Batch nr 147 predicted\n",
      "Batch nr 148 predicted\n",
      "Batch nr 149 predicted\n",
      "Batch nr 150 predicted\n",
      "Batch nr 151 predicted\n",
      "Batch nr 152 predicted\n",
      "Batch nr 153 predicted\n",
      "Batch nr 154 predicted\n",
      "Batch nr 155 predicted\n",
      "Batch nr 156 predicted\n",
      "Batch nr 157 predicted\n",
      "Batch nr 158 predicted\n",
      "Batch nr 159 predicted\n",
      "Batch nr 160 predicted\n",
      "Batch nr 161 predicted\n",
      "Batch nr 162 predicted\n",
      "Batch nr 163 predicted\n",
      "Batch nr 164 predicted\n",
      "Batch nr 165 predicted\n",
      "Batch nr 166 predicted\n",
      "Batch nr 167 predicted\n",
      "Batch nr 168 predicted\n",
      "Batch nr 169 predicted\n",
      "Batch nr 170 predicted\n",
      "Batch nr 171 predicted\n",
      "Batch nr 172 predicted\n",
      "Batch nr 173 predicted\n",
      "Batch nr 174 predicted\n",
      "Batch nr 175 predicted\n",
      "Batch nr 176 predicted\n",
      "Batch nr 177 predicted\n",
      "Batch nr 178 predicted\n",
      "Batch nr 179 predicted\n",
      "Batch nr 180 predicted\n",
      "Batch nr 181 predicted\n",
      "Batch nr 182 predicted\n",
      "Batch nr 183 predicted\n",
      "Batch nr 184 predicted\n",
      "Batch nr 185 predicted\n",
      "Batch nr 186 predicted\n",
      "Batch nr 187 predicted\n",
      "Batch nr 188 predicted\n",
      "Batch nr 189 predicted\n",
      "Batch nr 190 predicted\n",
      "Batch nr 191 predicted\n",
      "Batch nr 192 predicted\n",
      "Batch nr 193 predicted\n",
      "Batch nr 194 predicted\n",
      "Batch nr 195 predicted\n",
      "Batch nr 196 predicted\n",
      "Batch nr 197 predicted\n",
      "Batch nr 198 predicted\n",
      "Batch nr 199 predicted\n",
      "Batch nr 200 predicted\n",
      "Batch nr 201 predicted\n",
      "Batch nr 202 predicted\n",
      "Batch nr 203 predicted\n",
      "Batch nr 204 predicted\n",
      "Batch nr 205 predicted\n",
      "Batch nr 206 predicted\n",
      "Batch nr 207 predicted\n",
      "Batch nr 208 predicted\n",
      "Batch nr 209 predicted\n",
      "Batch nr 210 predicted\n",
      "Batch nr 211 predicted\n",
      "Batch nr 212 predicted\n",
      "Batch nr 213 predicted\n",
      "Batch nr 214 predicted\n",
      "waiting for queue\n",
      "processing results\n",
      "Evaluating BPR |======================================>---------------------| 63.6% \r"
     ]
    }
   ],
   "source": [
    "result = ev.evaluate(bpr)"
   ]
  },
  {
   "cell_type": "code",
   "execution_count": 5,
   "metadata": {},
   "outputs": [
    {
     "data": {
      "text/plain": [
       "{'accuracy': 0.24272472285478736,\n",
       " 'precision': 0.5270423815721148,\n",
       " 'recall': 0.20473174005475447,\n",
       " 'map@1': 0.0009856892523364485,\n",
       " 'map@5': 0.0005072141906801659,\n",
       " 'map@10': 0.0003713081562453642,\n",
       " 'diversity@5': 0.24208009880360445,\n",
       " 'diversity@10': 0.24206584267840847,\n",
       " 'epc@5': 0.6275318828936683,\n",
       " 'epc@10': 0.6274940655597349,\n",
       " 'epd@5': 0.24108397364521375,\n",
       " 'name': 'BPR',\n",
       " 'latent_dim': 32,\n",
       " 'epochs': 5,\n",
       " 'batch_size': 1024}"
      ]
     },
     "execution_count": 5,
     "metadata": {},
     "output_type": "execute_result"
    }
   ],
   "source": [
    "result"
   ]
  },
  {
   "cell_type": "code",
   "execution_count": 127,
   "metadata": {
    "scrolled": true
   },
   "outputs": [
    {
     "name": "stdout",
     "output_type": "stream",
     "text": [
      "Evaluating ConstraintAutoRec |============================================================>| 100.0% \n",
      "Evaluating BPR |============================================================>| 100.0% \n"
     ]
    }
   ],
   "source": [
    "result = ev.evaluate_models([model, bpr])"
   ]
  },
  {
   "cell_type": "code",
   "execution_count": null,
   "metadata": {},
   "outputs": [],
   "source": [
    "ev.evaluate_models(nov_models2)"
   ]
  },
  {
   "cell_type": "code",
   "execution_count": 211,
   "metadata": {},
   "outputs": [
    {
     "data": {
      "text/plain": [
       "{'accuracy': 0.4768148516836452,\n",
       " 'precision': 0.5390853520053073,\n",
       " 'recall': 0.5404514802406271,\n",
       " 'map@1': 0.09876236497147713,\n",
       " 'map@5': 0.055156317693372335,\n",
       " 'map@10': 0.043819520386634364,\n",
       " 'diversity@5': 0.16117022541419124,\n",
       " 'diversity@10': 0.16641964375980106,\n",
       " 'epc@5': 0.4180729404503865,\n",
       " 'epc@10': 0.42959490156137525,\n",
       " 'epd@5': 0.2049803661056044,\n",
       " 'name': 'BPR',\n",
       " 'latent_dim': 32,\n",
       " 'epochs': 5,\n",
       " 'batch_size': 8092}"
      ]
     },
     "execution_count": 211,
     "metadata": {},
     "output_type": "execute_result"
    }
   ],
   "source": [
    "result"
   ]
  },
  {
   "cell_type": "code",
   "execution_count": null,
   "metadata": {},
   "outputs": [],
   "source": []
  }
 ],
 "metadata": {
  "kernelspec": {
   "display_name": "conda_tensorflow_p36",
   "language": "python",
   "name": "conda_tensorflow_p36"
  },
  "language_info": {
   "codemirror_mode": {
    "name": "ipython",
    "version": 3
   },
   "file_extension": ".py",
   "mimetype": "text/x-python",
   "name": "python",
   "nbconvert_exporter": "python",
   "pygments_lexer": "ipython3",
   "version": "3.6.5"
  },
  "pycharm": {
   "stem_cell": {
    "cell_type": "raw",
    "metadata": {
     "collapsed": false
    },
    "source": []
   }
  }
 },
 "nbformat": 4,
 "nbformat_minor": 4
}
