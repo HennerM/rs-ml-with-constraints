{
 "cells": [
  {
   "cell_type": "code",
   "execution_count": 83,
   "metadata": {
    "pycharm": {
     "is_executing": false
    }
   },
   "outputs": [
    {
     "data": {
      "text/plain": [
       "<module 'evaluation' from '/mnt/e/owncloud/FH/MasterThesis/Code/evaluation.py'>"
      ]
     },
     "execution_count": 83,
     "metadata": {},
     "output_type": "execute_result"
    }
   ],
   "source": [
    "\n",
    "import utils.common\n",
    "import evaluation\n",
    "import importlib\n",
    "import numpy as np\n",
    "import time\n",
    "from models.ConstraintAutoRec import ConstraintAutoRec \n",
    "importlib.reload(utils.common)\n",
    "importlib.reload(evaluation)\n"
   ]
  },
  {
   "cell_type": "code",
   "execution_count": null,
   "metadata": {
    "pycharm": {
     "is_executing": false,
     "name": "#%%\n"
    }
   },
   "outputs": [],
   "source": [
    "model = ConstraintAutoRec(utils.common.movie_lens['dimensions'], epochs=30, novelty_weight=0.25, diversity_weight=0)\n",
    "model.train(utils.common.load_dataset(utils.common.movie_lens, 'train'), utils.common.movie_lens['train']['records'])\n"
   ]
  },
  {
   "cell_type": "code",
   "execution_count": null,
   "metadata": {
    "pycharm": {
     "is_executing": false,
     "name": "#%%\n"
    }
   },
   "outputs": [],
   "source": [
    "diversity_model = ConstraintAutoRec(utils.common.movie_lens['dimensions'], epochs=30, novelty_weight=0.25, diversity_weight=2.0)\n",
    "diversity_model.train(utils.common.load_dataset(utils.common.movie_lens, 'train'), utils.common.movie_lens['train']['records'])\n"
   ]
  },
  {
   "cell_type": "code",
   "execution_count": 73,
   "metadata": {
    "pycharm": {
     "is_executing": false,
     "name": "#%%\n"
    }
   },
   "outputs": [
    {
     "name": "stdout",
     "output_type": "stream",
     "text": [
      "Epoch 1/5\n",
      "3462/3462 [==============================] - 61s 18ms/step - loss: 0.0296 - accuracy: 0.1109\n",
      "Epoch 2/5\n",
      "3462/3462 [==============================] - 44s 13ms/step - loss: 0.0176 - accuracy: 0.1039\n",
      "Epoch 3/5\n",
      "3462/3462 [==============================] - 45s 13ms/step - loss: 0.0150 - accuracy: 0.1161\n",
      "Epoch 4/5\n",
      "3462/3462 [==============================] - 45s 13ms/step - loss: 0.0138 - accuracy: 0.1660\n",
      "Epoch 5/5\n",
      "3462/3462 [==============================] - 44s 13ms/step - loss: 0.0130 - accuracy: 0.1881\n",
      "Epoch 1/5\n",
      "3462/3462 [==============================] - 57s 16ms/step - loss: 0.0684 - accuracy: 0.0457\n",
      "Epoch 2/5\n",
      "3462/3462 [==============================] - 44s 13ms/step - loss: 0.0438 - accuracy: 0.0659\n",
      "Epoch 3/5\n",
      "3462/3462 [==============================] - 44s 13ms/step - loss: 0.0387 - accuracy: 0.0913\n",
      "Epoch 4/5\n",
      "3462/3462 [==============================] - 44s 13ms/step - loss: 0.0360 - accuracy: 0.1163\n",
      "Epoch 5/5\n",
      "3462/3462 [==============================] - 44s 13ms/step - loss: 0.0345 - accuracy: 0.1237\n",
      "Epoch 1/5\n",
      "3462/3462 [==============================] - 56s 16ms/step - loss: 0.0967 - accuracy: 0.0321\n",
      "Epoch 2/5\n",
      "3462/3462 [==============================] - 42s 12ms/step - loss: 0.0638 - accuracy: 0.0597\n",
      "Epoch 3/5\n",
      "3462/3462 [==============================] - 46s 13ms/step - loss: 0.0570 - accuracy: 0.0607\n",
      "Epoch 4/5\n",
      "3462/3462 [==============================] - 44s 13ms/step - loss: 0.0532 - accuracy: 0.0602\n",
      "Epoch 5/5\n",
      "3462/3462 [==============================] - 43s 13ms/step - loss: 0.0512 - accuracy: 0.0506\n",
      "Epoch 1/5\n",
      "3462/3462 [==============================] - 59s 17ms/step - loss: 0.1394 - accuracy: 0.0178\n",
      "Epoch 2/5\n",
      "3462/3462 [==============================] - 44s 13ms/step - loss: 0.0936 - accuracy: 0.0072\n",
      "Epoch 3/5\n",
      "3462/3462 [==============================] - 45s 13ms/step - loss: 0.0838 - accuracy: 0.0092\n",
      "Epoch 4/5\n",
      "3462/3462 [==============================] - 45s 13ms/step - loss: 0.0791 - accuracy: 0.0124\n",
      "Epoch 5/5\n",
      "3462/3462 [==============================] - 44s 13ms/step - loss: 0.0758 - accuracy: 0.0156\n"
     ]
    }
   ],
   "source": [
    "def create_model(novelty_weight):\n",
    "    m = ConstraintAutoRec(utils.common.movie_lens['dimensions'], epochs=5, novelty_weight=novelty_weight, diversity_weight=0)\n",
    "    m.train(utils.common.load_dataset(utils.common.movie_lens, 'train'), utils.common.movie_lens['train']['records'])\n",
    "    return m\n",
    "\n",
    "models = [create_model(x) for x in [0.1, 0.5, 1.0, 2.0]]"
   ]
  },
  {
   "cell_type": "code",
   "execution_count": 50,
   "metadata": {
    "pycharm": {
     "is_executing": false,
     "name": "#%%\n"
    }
   },
   "outputs": [
    {
     "data": {
      "text/plain": [
       "[<models.ConstraintAutoRec.ConstraintAutoRec at 0x7fca0aee1d30>,\n",
       " <models.ConstraintAutoRec.ConstraintAutoRec at 0x7fca0a3b37f0>,\n",
       " <models.ConstraintAutoRec.ConstraintAutoRec at 0x7fca0b008550>,\n",
       " <models.ConstraintAutoRec.ConstraintAutoRec at 0x7fca013b1908>]"
      ]
     },
     "execution_count": 50,
     "metadata": {},
     "output_type": "execute_result"
    }
   ],
   "source": [
    "import matplotlib.pyplot as plt\n",
    "models"
   ]
  },
  {
   "cell_type": "code",
   "execution_count": 82,
   "metadata": {
    "pycharm": {
     "name": "#%%\n"
    }
   },
   "outputs": [
    {
     "name": "stdout",
     "output_type": "stream",
     "text": [
      "Process batch 0\n",
      "Process batch 1\n",
      "Process batch 2\n",
      "Process batch 3\n",
      "Process batch 4\n",
      "Process batch 5\n",
      "Process batch 6\n",
      "Process batch 7\n",
      "Process batch 8\n",
      "Process batch 9\n",
      "Process batch 0\n",
      "Process batch 1\n",
      "Process batch 2\n",
      "Process batch 3\n",
      "Process batch 4\n",
      "Process batch 5\n",
      "Process batch 6\n",
      "Process batch 7\n",
      "Process batch 8\n",
      "Process batch 9\n",
      "Process batch 0\n",
      "Process batch 1\n",
      "Process batch 2\n",
      "Process batch 3\n",
      "Process batch 4\n",
      "Process batch 5\n",
      "Process batch 6\n",
      "Process batch 7\n",
      "Process batch 8\n",
      "Process batch 9\n",
      "Process batch 0\n",
      "Process batch 1\n",
      "Process batch 2\n",
      "Process batch 3\n",
      "Process batch 4\n",
      "Process batch 5\n",
      "Process batch 6\n",
      "Process batch 7\n",
      "Process batch 8\n",
      "Process batch 9\n"
     ]
    },
    {
     "data": {
      "text/html": [
       "<div>\n",
       "<style scoped>\n",
       "    .dataframe tbody tr th:only-of-type {\n",
       "        vertical-align: middle;\n",
       "    }\n",
       "\n",
       "    .dataframe tbody tr th {\n",
       "        vertical-align: top;\n",
       "    }\n",
       "\n",
       "    .dataframe thead th {\n",
       "        text-align: right;\n",
       "    }\n",
       "</style>\n",
       "<table border=\"1\" class=\"dataframe\">\n",
       "  <thead>\n",
       "    <tr style=\"text-align: right;\">\n",
       "      <th></th>\n",
       "      <th>accuracy</th>\n",
       "      <th>diversity@10</th>\n",
       "      <th>diversity@5</th>\n",
       "      <th>diversity_weight</th>\n",
       "      <th>epc@10</th>\n",
       "      <th>epc@5</th>\n",
       "      <th>epd@5</th>\n",
       "      <th>epochs</th>\n",
       "      <th>mse</th>\n",
       "      <th>name</th>\n",
       "      <th>novelty_weight</th>\n",
       "      <th>precision</th>\n",
       "      <th>recall</th>\n",
       "    </tr>\n",
       "  </thead>\n",
       "  <tbody>\n",
       "    <tr>\n",
       "      <th>0</th>\n",
       "      <td>0.933703</td>\n",
       "      <td>0.318061</td>\n",
       "      <td>0.156319</td>\n",
       "      <td>0</td>\n",
       "      <td>0.729094</td>\n",
       "      <td>0.709974</td>\n",
       "      <td>0.170807</td>\n",
       "      <td>20</td>\n",
       "      <td>0.188898</td>\n",
       "      <td>ConstraintAutoRec</td>\n",
       "      <td>0.1</td>\n",
       "      <td>1.0</td>\n",
       "      <td>0.933703</td>\n",
       "    </tr>\n",
       "    <tr>\n",
       "      <th>1</th>\n",
       "      <td>0.891598</td>\n",
       "      <td>0.296547</td>\n",
       "      <td>0.147810</td>\n",
       "      <td>0</td>\n",
       "      <td>0.815188</td>\n",
       "      <td>0.810332</td>\n",
       "      <td>0.169179</td>\n",
       "      <td>20</td>\n",
       "      <td>0.237496</td>\n",
       "      <td>ConstraintAutoRec</td>\n",
       "      <td>0.5</td>\n",
       "      <td>1.0</td>\n",
       "      <td>0.891598</td>\n",
       "    </tr>\n",
       "    <tr>\n",
       "      <th>2</th>\n",
       "      <td>0.859730</td>\n",
       "      <td>0.269714</td>\n",
       "      <td>0.129205</td>\n",
       "      <td>0</td>\n",
       "      <td>0.752825</td>\n",
       "      <td>0.742493</td>\n",
       "      <td>0.164829</td>\n",
       "      <td>20</td>\n",
       "      <td>0.265736</td>\n",
       "      <td>ConstraintAutoRec</td>\n",
       "      <td>1.0</td>\n",
       "      <td>1.0</td>\n",
       "      <td>0.859730</td>\n",
       "    </tr>\n",
       "    <tr>\n",
       "      <th>3</th>\n",
       "      <td>0.822217</td>\n",
       "      <td>0.266285</td>\n",
       "      <td>0.118318</td>\n",
       "      <td>0</td>\n",
       "      <td>0.763332</td>\n",
       "      <td>0.748306</td>\n",
       "      <td>0.161816</td>\n",
       "      <td>20</td>\n",
       "      <td>0.309332</td>\n",
       "      <td>ConstraintAutoRec</td>\n",
       "      <td>2.0</td>\n",
       "      <td>1.0</td>\n",
       "      <td>0.822217</td>\n",
       "    </tr>\n",
       "  </tbody>\n",
       "</table>\n",
       "</div>"
      ],
      "text/plain": [
       "   accuracy  diversity@10  diversity@5  diversity_weight    epc@10     epc@5  \\\n",
       "0  0.933703      0.318061     0.156319                 0  0.729094  0.709974   \n",
       "1  0.891598      0.296547     0.147810                 0  0.815188  0.810332   \n",
       "2  0.859730      0.269714     0.129205                 0  0.752825  0.742493   \n",
       "3  0.822217      0.266285     0.118318                 0  0.763332  0.748306   \n",
       "\n",
       "      epd@5  epochs       mse               name  novelty_weight  precision  \\\n",
       "0  0.170807      20  0.188898  ConstraintAutoRec             0.1        1.0   \n",
       "1  0.169179      20  0.237496  ConstraintAutoRec             0.5        1.0   \n",
       "2  0.164829      20  0.265736  ConstraintAutoRec             1.0        1.0   \n",
       "3  0.161816      20  0.309332  ConstraintAutoRec             2.0        1.0   \n",
       "\n",
       "     recall  \n",
       "0  0.933703  \n",
       "1  0.891598  \n",
       "2  0.859730  \n",
       "3  0.822217  "
      ]
     },
     "execution_count": 82,
     "metadata": {},
     "output_type": "execute_result"
    }
   ],
   "source": [
    "ev = evaluation.Evaluation(utils.common.movie_lens)\n",
    "big_eval = ev.evaluate_models(models)\n",
    "eval_data.head()"
   ]
  },
  {
   "cell_type": "code",
   "execution_count": 75,
   "metadata": {},
   "outputs": [
    {
     "data": {
      "text/html": [
       "<div>\n",
       "<style scoped>\n",
       "    .dataframe tbody tr th:only-of-type {\n",
       "        vertical-align: middle;\n",
       "    }\n",
       "\n",
       "    .dataframe tbody tr th {\n",
       "        vertical-align: top;\n",
       "    }\n",
       "\n",
       "    .dataframe thead th {\n",
       "        text-align: right;\n",
       "    }\n",
       "</style>\n",
       "<table border=\"1\" class=\"dataframe\">\n",
       "  <thead>\n",
       "    <tr style=\"text-align: right;\">\n",
       "      <th></th>\n",
       "      <th>accuracy</th>\n",
       "      <th>diversity@10</th>\n",
       "      <th>diversity@5</th>\n",
       "      <th>diversity_weight</th>\n",
       "      <th>epc@10</th>\n",
       "      <th>epc@5</th>\n",
       "      <th>epd@5</th>\n",
       "      <th>epochs</th>\n",
       "      <th>mse</th>\n",
       "      <th>name</th>\n",
       "      <th>novelty_weight</th>\n",
       "      <th>precision</th>\n",
       "      <th>recall</th>\n",
       "    </tr>\n",
       "  </thead>\n",
       "  <tbody>\n",
       "    <tr>\n",
       "      <th>0</th>\n",
       "      <td>0.993433</td>\n",
       "      <td>0.309370</td>\n",
       "      <td>0.000677</td>\n",
       "      <td>0</td>\n",
       "      <td>0.809861</td>\n",
       "      <td>0.797123</td>\n",
       "      <td>0.000770</td>\n",
       "      <td>5</td>\n",
       "      <td>0.146175</td>\n",
       "      <td>ConstraintAutoRec</td>\n",
       "      <td>0.1</td>\n",
       "      <td>1.0</td>\n",
       "      <td>0.993433</td>\n",
       "    </tr>\n",
       "    <tr>\n",
       "      <th>1</th>\n",
       "      <td>0.980580</td>\n",
       "      <td>0.301300</td>\n",
       "      <td>0.000701</td>\n",
       "      <td>0</td>\n",
       "      <td>0.828527</td>\n",
       "      <td>0.820255</td>\n",
       "      <td>0.000764</td>\n",
       "      <td>5</td>\n",
       "      <td>0.194251</td>\n",
       "      <td>ConstraintAutoRec</td>\n",
       "      <td>0.5</td>\n",
       "      <td>1.0</td>\n",
       "      <td>0.980580</td>\n",
       "    </tr>\n",
       "    <tr>\n",
       "      <th>2</th>\n",
       "      <td>0.970214</td>\n",
       "      <td>0.293833</td>\n",
       "      <td>0.000676</td>\n",
       "      <td>0</td>\n",
       "      <td>0.832992</td>\n",
       "      <td>0.827355</td>\n",
       "      <td>0.000760</td>\n",
       "      <td>5</td>\n",
       "      <td>0.220695</td>\n",
       "      <td>ConstraintAutoRec</td>\n",
       "      <td>1.0</td>\n",
       "      <td>1.0</td>\n",
       "      <td>0.970214</td>\n",
       "    </tr>\n",
       "    <tr>\n",
       "      <th>3</th>\n",
       "      <td>0.953900</td>\n",
       "      <td>0.288207</td>\n",
       "      <td>0.000624</td>\n",
       "      <td>0</td>\n",
       "      <td>0.850782</td>\n",
       "      <td>0.846885</td>\n",
       "      <td>0.000748</td>\n",
       "      <td>5</td>\n",
       "      <td>0.253001</td>\n",
       "      <td>ConstraintAutoRec</td>\n",
       "      <td>2.0</td>\n",
       "      <td>1.0</td>\n",
       "      <td>0.953900</td>\n",
       "    </tr>\n",
       "  </tbody>\n",
       "</table>\n",
       "</div>"
      ],
      "text/plain": [
       "   accuracy  diversity@10  diversity@5  diversity_weight    epc@10     epc@5  \\\n",
       "0  0.993433      0.309370     0.000677                 0  0.809861  0.797123   \n",
       "1  0.980580      0.301300     0.000701                 0  0.828527  0.820255   \n",
       "2  0.970214      0.293833     0.000676                 0  0.832992  0.827355   \n",
       "3  0.953900      0.288207     0.000624                 0  0.850782  0.846885   \n",
       "\n",
       "      epd@5  epochs       mse               name  novelty_weight  precision  \\\n",
       "0  0.000770       5  0.146175  ConstraintAutoRec             0.1        1.0   \n",
       "1  0.000764       5  0.194251  ConstraintAutoRec             0.5        1.0   \n",
       "2  0.000760       5  0.220695  ConstraintAutoRec             1.0        1.0   \n",
       "3  0.000748       5  0.253001  ConstraintAutoRec             2.0        1.0   \n",
       "\n",
       "     recall  \n",
       "0  0.993433  \n",
       "1  0.980580  \n",
       "2  0.970214  \n",
       "3  0.953900  "
      ]
     },
     "execution_count": 75,
     "metadata": {},
     "output_type": "execute_result"
    }
   ],
   "source": [
    "big_eval"
   ]
  },
  {
   "cell_type": "code",
   "execution_count": 55,
   "metadata": {},
   "outputs": [
    {
     "data": {
      "text/plain": [
       "<BarContainer object of 4 artists>"
      ]
     },
     "execution_count": 55,
     "metadata": {},
     "output_type": "execute_result"
    },
    {
     "data": {
      "image/png": "[encoded data removed]",
      "text/plain": [
       "<Figure size 432x288 with 1 Axes>"
      ]
     },
     "metadata": {
      "needs_background": "light"
     },
     "output_type": "display_data"
    }
   ],
   "source": [
    "plt.bar(eval_data.index, eval_data['epc@10'])"
   ]
  },
  {
   "cell_type": "code",
   "execution_count": 71,
   "metadata": {},
   "outputs": [
    {
     "data": {
      "image/png": "[encoded data removed]",
      "text/plain": [
       "<Figure size 432x288 with 1 Axes>"
      ]
     },
     "metadata": {
      "needs_background": "light"
     },
     "output_type": "display_data"
    }
   ],
   "source": [
    "plt.plot(eval_data['novelty_weight'], eval_data['epc@10'], 'ro', ls='--')\n",
    "plt.plot(eval_data['novelty_weight'], eval_data['accuracy'], 'bo', ls='--')\n",
    "plt.show()"
   ]
  },
  {
   "cell_type": "code",
   "execution_count": 58,
   "metadata": {},
   "outputs": [],
   "source": [
    "def plot_bar(data, axis, x_param):\n",
    "    bottom = data[axis].min() \n",
    "    top = data[axis].max()\n",
    "    margin = (top - bottom) * 0.05\n",
    "    fig, ax = plt.subplots()\n",
    "    ax.bar(data.index, data[axis] )\n",
    "    ax.set_xticks(data.index)\n",
    "    ax.set_xticklabels(data[x_param])\n",
    "    ax.set_ylabel(axis)\n",
    "    ax.set_xlabel(x_param)\n",
    "    plt.show()"
   ]
  },
  {
   "cell_type": "code",
   "execution_count": 59,
   "metadata": {},
   "outputs": [
    {
     "data": {
      "image/png": "[encoded data removed]",
      "text/plain": [
       "<Figure size 432x288 with 1 Axes>"
      ]
     },
     "metadata": {
      "needs_background": "light"
     },
     "output_type": "display_data"
    }
   ],
   "source": [
    "plot_bar(eval_data, 'epc@10', 'novelty_weight')"
   ]
  },
  {
   "cell_type": "code",
   "execution_count": 60,
   "metadata": {},
   "outputs": [
    {
     "data": {
      "image/png": "[encoded data removed]",
      "text/plain": [
       "<Figure size 432x288 with 1 Axes>"
      ]
     },
     "metadata": {
      "needs_background": "light"
     },
     "output_type": "display_data"
    }
   ],
   "source": [
    "plot_bar(eval_data, 'accuracy', 'novelty_weight')"
   ]
  },
  {
   "cell_type": "code",
   "execution_count": null,
   "metadata": {},
   "outputs": [],
   "source": []
  }
 ],
 "metadata": {
  "kernelspec": {
   "display_name": "Python 3",
   "language": "python",
   "name": "python3"
  },
  "language_info": {
   "codemirror_mode": {
    "name": "ipython",
    "version": 3
   },
   "file_extension": ".py",
   "mimetype": "text/x-python",
   "name": "python",
   "nbconvert_exporter": "python",
   "pygments_lexer": "ipython3",
   "version": "3.7.3"
  },
  "pycharm": {
   "stem_cell": {
    "cell_type": "raw",
    "metadata": {
     "collapsed": false
    },
    "source": []
   }
  }
 },
 "nbformat": 4,
 "nbformat_minor": 1
}
