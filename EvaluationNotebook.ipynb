{
 "cells": [
  {
   "cell_type": "code",
   "execution_count": 138,
   "metadata": {
    "pycharm": {
     "is_executing": false
    }
   },
   "outputs": [
    {
     "data": {
      "text/plain": [
       "<module 'models.ConstraintAutoRec' from '/mnt/e/owncloud/FH/MasterThesis/Code/models/ConstraintAutoRec.py'>"
      ]
     },
     "execution_count": 138,
     "metadata": {},
     "output_type": "execute_result"
    }
   ],
   "source": [
    "\n",
    "import utils.common\n",
    "import evaluation\n",
    "import importlib\n",
    "import numpy as np\n",
    "import time\n",
    "import models.MatrixFactorization\n",
    "import models.ConstraintAutoRec\n",
    "importlib.reload(utils.common)\n",
    "importlib.reload(evaluation)\n",
    "importlib.reload(models.MatrixFactorization)\n",
    "importlib.reload(models.ConstraintAutoRec)\n",
    "\n"
   ]
  },
  {
   "cell_type": "code",
   "execution_count": 139,
   "metadata": {
    "pycharm": {
     "is_executing": false,
     "name": "#%%\n"
    }
   },
   "outputs": [
    {
     "name": "stdout",
     "output_type": "stream",
     "text": [
      "Epoch 1/30\n",
      "19/19 [==============================] - 7s 385ms/step - loss: 0.2843 - accuracy: 0.0066\n",
      "Epoch 2/30\n",
      "19/19 [==============================] - 0s 21ms/step - loss: 0.1819 - accuracy: 0.0398\n",
      "Epoch 3/30\n",
      "19/19 [==============================] - 0s 16ms/step - loss: 0.1769 - accuracy: 0.0536\n",
      "Epoch 4/30\n",
      "19/19 [==============================] - 0s 13ms/step - loss: 0.1750 - accuracy: 0.0242\n",
      "Epoch 5/30\n",
      "19/19 [==============================] - 0s 14ms/step - loss: 0.1514 - accuracy: 0.0035\n",
      "Epoch 6/30\n",
      "19/19 [==============================] - 0s 14ms/step - loss: 0.1438 - accuracy: 0.0156\n",
      "Epoch 7/30\n",
      "19/19 [==============================] - 0s 13ms/step - loss: 0.1355 - accuracy: 0.0345\n",
      "Epoch 8/30\n",
      "19/19 [==============================] - 0s 13ms/step - loss: 0.1317 - accuracy: 0.0242\n",
      "Epoch 9/30\n",
      "19/19 [==============================] - 0s 14ms/step - loss: 0.1146 - accuracy: 0.0277\n",
      "Epoch 10/30\n",
      "19/19 [==============================] - 0s 14ms/step - loss: 0.1110 - accuracy: 0.0230\n",
      "Epoch 11/30\n",
      "19/19 [==============================] - 0s 14ms/step - loss: 0.1032 - accuracy: 0.0294\n",
      "Epoch 12/30\n",
      "19/19 [==============================] - 0s 14ms/step - loss: 0.1093 - accuracy: 0.0052\n",
      "Epoch 13/30\n",
      "19/19 [==============================] - 0s 14ms/step - loss: 0.0938 - accuracy: 0.0154\n",
      "Epoch 14/30\n",
      "19/19 [==============================] - 0s 14ms/step - loss: 0.0886 - accuracy: 0.0091\n",
      "Epoch 15/30\n",
      "19/19 [==============================] - 0s 14ms/step - loss: 0.0881 - accuracy: 0.0035\n",
      "Epoch 16/30\n",
      "19/19 [==============================] - 0s 13ms/step - loss: 0.0855 - accuracy: 0.0017\n",
      "Epoch 17/30\n",
      "19/19 [==============================] - 0s 13ms/step - loss: 0.0993 - accuracy: 0.0132\n",
      "Epoch 18/30\n",
      "19/19 [==============================] - 0s 13ms/step - loss: 0.0882 - accuracy: 0.0000e+00\n",
      "Epoch 19/30\n",
      "19/19 [==============================] - 0s 13ms/step - loss: 0.0779 - accuracy: 0.0000e+00\n",
      "Epoch 20/30\n",
      "19/19 [==============================] - 0s 13ms/step - loss: 0.0745 - accuracy: 0.0017\n",
      "Epoch 21/30\n",
      "19/19 [==============================] - 0s 13ms/step - loss: 0.0751 - accuracy: 0.0017\n",
      "Epoch 22/30\n",
      "19/19 [==============================] - 0s 13ms/step - loss: 0.0696 - accuracy: 0.0017\n",
      "Epoch 23/30\n",
      "19/19 [==============================] - 0s 14ms/step - loss: 0.0690 - accuracy: 0.0017\n",
      "Epoch 24/30\n",
      "19/19 [==============================] - 0s 13ms/step - loss: 0.0674 - accuracy: 0.0066\n",
      "Epoch 25/30\n",
      "19/19 [==============================] - 0s 14ms/step - loss: 0.0631 - accuracy: 0.0036\n",
      "Epoch 26/30\n",
      "19/19 [==============================] - 0s 13ms/step - loss: 0.0588 - accuracy: 0.0058\n",
      "Epoch 27/30\n",
      "19/19 [==============================] - 0s 13ms/step - loss: 0.0577 - accuracy: 0.0052\n",
      "Epoch 28/30\n",
      "19/19 [==============================] - 0s 14ms/step - loss: 0.0608 - accuracy: 0.0115\n",
      "Epoch 29/30\n",
      "19/19 [==============================] - 0s 14ms/step - loss: 0.0569 - accuracy: 0.0132\n",
      "Epoch 30/30\n",
      "19/19 [==============================] - 0s 14ms/step - loss: 0.0469 - accuracy: 0.0109\n"
     ]
    }
   ],
   "source": [
    "model = models.ConstraintAutoRec.ConstraintAutoRec(utils.common.movie_lens['dimensions'], epochs=30, novelty_weight=0.25, diversity_weight=0)\n",
    "model.train(utils.common.load_dataset(utils.common.movie_lens, 'train'), utils.common.movie_lens['train']['records'])\n"
   ]
  },
  {
   "cell_type": "code",
   "execution_count": null,
   "metadata": {
    "pycharm": {
     "is_executing": false,
     "name": "#%%\n"
    }
   },
   "outputs": [],
   "source": [
    "diversity_model = models.ConstraintAutoRec.ConstraintAutoRec(utils.common.movie_lens['dimensions'], epochs=30, novelty_weight=0.25, diversity_weight=2.0)\n",
    "diversity_model.train(utils.common.load_dataset(utils.common.movie_lens, 'train'), utils.common.movie_lens['train']['records'])\n"
   ]
  },
  {
   "cell_type": "code",
   "execution_count": null,
   "metadata": {
    "pycharm": {
     "is_executing": false,
     "name": "#%%\n"
    }
   },
   "outputs": [],
   "source": [
    "def create_model(novelty_weight):\n",
    "    m = ConstraintAutoRec(utils.common.movie_lens['dimensions'], epochs=5, novelty_weight=novelty_weight, diversity_weight=0)\n",
    "    m.train(utils.common.load_dataset(utils.common.movie_lens, 'train'), utils.common.movie_lens['train']['records'])\n",
    "    return m\n",
    "\n",
    "models = [create_model(x) for x in [0.1, 0.5, 1.0, 2.0]]"
   ]
  },
  {
   "cell_type": "code",
   "execution_count": null,
   "metadata": {
    "pycharm": {
     "is_executing": false,
     "name": "#%%\n"
    }
   },
   "outputs": [],
   "source": [
    "import matplotlib.pyplot as plt\n",
    "models"
   ]
  },
  {
   "cell_type": "code",
   "execution_count": null,
   "metadata": {
    "pycharm": {
     "name": "#%%\n"
    }
   },
   "outputs": [],
   "source": [
    "#ev = evaluation.Evaluation(utils.common.movie_lens)\n",
    "#big_eval = ev.evaluate_models(models)\n",
    "big_eval.head()"
   ]
  },
  {
   "cell_type": "code",
   "execution_count": null,
   "metadata": {},
   "outputs": [],
   "source": [
    "big_eval"
   ]
  },
  {
   "cell_type": "code",
   "execution_count": null,
   "metadata": {},
   "outputs": [],
   "source": [
    "plt.bar(eval_data.index, eval_data['epc@10'])"
   ]
  },
  {
   "cell_type": "code",
   "execution_count": null,
   "metadata": {},
   "outputs": [],
   "source": [
    "plt.plot(eval_data['novelty_weight'], eval_data['epc@10'], 'ro', ls='--')\n",
    "plt.plot(eval_data['novelty_weight'], eval_data['accuracy'], 'bo', ls='--')\n",
    "plt.show()"
   ]
  },
  {
   "cell_type": "code",
   "execution_count": null,
   "metadata": {},
   "outputs": [],
   "source": [
    "def plot_bar(data, axis, x_param):\n",
    "    bottom = data[axis].min() \n",
    "    top = data[axis].max()\n",
    "    margin = (top - bottom) * 0.05\n",
    "    fig, ax = plt.subplots()\n",
    "    ax.bar(data.index, data[axis] )\n",
    "    ax.set_xticks(data.index)\n",
    "    ax.set_xticklabels(data[x_param])\n",
    "    ax.set_ylabel(axis)\n",
    "    ax.set_xlabel(x_param)\n",
    "    plt.show()"
   ]
  },
  {
   "cell_type": "code",
   "execution_count": null,
   "metadata": {},
   "outputs": [],
   "source": [
    "plot_bar(eval_data, 'epc@10', 'novelty_weight')"
   ]
  },
  {
   "cell_type": "code",
   "execution_count": null,
   "metadata": {},
   "outputs": [],
   "source": [
    "plot_bar(eval_data, 'accuracy', 'novelty_weight')"
   ]
  },
  {
   "cell_type": "code",
   "execution_count": null,
   "metadata": {},
   "outputs": [],
   "source": [
    "\n",
    "import utils.common\n",
    "import evaluation\n",
    "import importlib\n",
    "import numpy as np\n",
    "import time\n",
    "import models.MatrixFactorization\n",
    "importlib.reload(utils.common)\n",
    "importlib.reload(evaluation)\n",
    "importlib.reload(models.MatrixFactorization)\n",
    "\n"
   ]
  },
  {
   "cell_type": "code",
   "execution_count": null,
   "metadata": {},
   "outputs": [],
   "source": [
    "mf = models.MatrixFactorization.MatrixFactorization(utils.common.movie_lens['user'], utils.common.movie_lens['dimensions'], epochs=30)\n",
    "mf.train(utils.common.load_dataset(utils.common.movie_lens, 'train'), utils.common.movie_lens['train']['records'])"
   ]
  },
  {
   "cell_type": "code",
   "execution_count": 137,
   "metadata": {},
   "outputs": [
    {
     "name": "stdout",
     "output_type": "stream",
     "text": [
      "Process batch 0\n",
      "Process batch 1\n",
      "Process batch 2\n",
      "Process batch 3\n",
      "Process batch 4\n",
      "{'accuracy': 0.4552522101225941, 'precision': 1.0, 'recall': 0.4552522101225941, 'mse': 34.22495481105142, 'diversity@5': 0.37978105322153205, 'diversity@10': 0.38001766147539223, 'epc@5': 0.994477823488149, 'epc@10': 0.9943148507151829, 'epd@5': 0.38223197624192223, 'name': None, 'latent_dim': 128, 'epochs': 30, 'batch_size': 64}\n",
      "Process batch 0\n",
      "Process batch 1\n",
      "Process batch 2\n",
      "Process batch 3\n",
      "Process batch 4\n",
      "{'accuracy': 0.6734472182703258, 'precision': 1.0, 'recall': 0.6734472182703258, 'mse': 0.23750839411373578, 'diversity@5': 0.3026198716995352, 'diversity@10': 0.29916652467666316, 'epc@5': 0.740063574862006, 'epc@10': 0.7386550855124261, 'epd@5': 0.33454678545522476, 'name': 'ConstraintAutoRec', 'dimensions': 10379, 'latent_dims': 128, 'accuracy_weight': 1.0, 'novelty_weight': 0.25, 'diversity_weight': 0, 'epochs': 30, 'batch_size': 32, 'optimizer': 'adam'}\n"
     ]
    }
   ],
   "source": [
    "ev = evaluation.Evaluation(utils.common.movie_lens)\n",
    "print(ev.evaluate(mf))\n",
    "print(ev.evaluate(model))\n"
   ]
  },
  {
   "cell_type": "code",
   "execution_count": null,
   "metadata": {},
   "outputs": [],
   "source": []
  }
 ],
 "metadata": {
  "kernelspec": {
   "display_name": "Python 3",
   "language": "python",
   "name": "python3"
  },
  "language_info": {
   "codemirror_mode": {
    "name": "ipython",
    "version": 3
   },
   "file_extension": ".py",
   "mimetype": "text/x-python",
   "name": "python",
   "nbconvert_exporter": "python",
   "pygments_lexer": "ipython3",
   "version": "3.7.3"
  },
  "pycharm": {
   "stem_cell": {
    "cell_type": "raw",
    "metadata": {
     "collapsed": false
    },
    "source": []
   }
  }
 },
 "nbformat": 4,
 "nbformat_minor": 1
}
