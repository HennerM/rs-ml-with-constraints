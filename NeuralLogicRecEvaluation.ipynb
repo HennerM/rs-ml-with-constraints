{
 "cells": [
  {
   "cell_type": "code",
   "execution_count": 55,
   "metadata": {},
   "outputs": [
    {
     "data": {
      "text/plain": [
       "<module 'models.NeuralLogicRec' from '/mnt/e/owncloud/FH/MasterThesis/Code/models/NeuralLogicRec.py'>"
      ]
     },
     "execution_count": 55,
     "metadata": {},
     "output_type": "execute_result"
    }
   ],
   "source": [
    "import utils.common\n",
    "import evaluation\n",
    "import importlib\n",
    "import numpy as np\n",
    "import tensorflow as tf\n",
    "import models.MatrixFactorization\n",
    "import models.BPR\n",
    "import models.ConstraintAutoRec\n",
    "import models.NeuralLogicRec\n",
    "import pandas as pd\n",
    "from models.NeuralLogicRec import item_cf, user_cf, diversity_constraint, Constraint, And, Or, Implies, Forall, Not, Equiv\n",
    "importlib.reload(utils.common)\n",
    "importlib.reload(evaluation)\n",
    "importlib.reload(models.NeuralLogicRec)"
   ]
  },
  {
   "cell_type": "code",
   "execution_count": 41,
   "metadata": {},
   "outputs": [],
   "source": [
    "ev_test = evaluation.Evaluation(utils.common.ml_small)"
   ]
  },
  {
   "cell_type": "code",
   "execution_count": 56,
   "metadata": {},
   "outputs": [],
   "source": [
    "constraints = list()\n",
    "constraints.append(Constraint(weight=0.75, formula=item_cf))\n",
    "constraints.append(Constraint(weight=0.75, formula=user_cf))\n",
    "@tf.function\n",
    "def likes_equiv(model, outputs):\n",
    "    return Forall(Equiv(outputs['rec'], outputs['likes']))\n",
    "constraints.append(Constraint(weight=0.75, formula=likes_equiv))\n",
    "@tf.function\n",
    "def novelty_constraint(model, outputs):\n",
    "    return Forall(Implies(outputs['popular'], Not(outputs['rec'])))\n",
    "constraints.append(Constraint(weight=0.25, formula=novelty_constraint))\n",
    "constraints.append(Constraint(weight=0.25, formula=diversity_constraint))"
   ]
  },
  {
   "cell_type": "code",
   "execution_count": 57,
   "metadata": {
    "scrolled": false
   },
   "outputs": [
    {
     "name": "stderr",
     "output_type": "stream",
     "text": [
      "/home/markush/anaconda3/envs/tensorflow/lib/python3.7/site-packages/tensorflow_core/python/framework/indexed_slices.py:424: UserWarning: Converting sparse IndexedSlices to a dense Tensor of unknown shape. This may consume a large amount of memory.\n",
      "  \"Converting sparse IndexedSlices to a dense Tensor of unknown shape. \"\n"
     ]
    },
    {
     "name": "stdout",
     "output_type": "stream",
     "text": [
      "Epoch #0 Loss at step 1: 0.6694, time: 22.505. Train accuracy 0.646, Validation accuracy 0.251\r"
     ]
    },
    {
     "name": "stderr",
     "output_type": "stream",
     "text": [
      "/home/markush/anaconda3/envs/tensorflow/lib/python3.7/site-packages/tensorflow_core/python/framework/indexed_slices.py:424: UserWarning: Converting sparse IndexedSlices to a dense Tensor of unknown shape. This may consume a large amount of memory.\n",
      "  \"Converting sparse IndexedSlices to a dense Tensor of unknown shape. \"\n"
     ]
    },
    {
     "name": "stdout",
     "output_type": "stream",
     "text": [
      "Epoch #0 Loss at step 12: 0.4640, time: 73.853\n",
      "Epoch #1 Loss at step 12: 0.4294, time: 54.535Train accuracy 0.655, Validation accuracy 0.135\n",
      "Epoch #2 Loss at step 12: 0.3874, time: 54.860Train accuracy 0.671, Validation accuracy 0.229\n",
      "Epoch #3 Loss at step 12: 0.3940, time: 54.317Train accuracy 0.655, Validation accuracy 0.160\n",
      "Epoch #4 Loss at step 12: 0.3482, time: 54.629Train accuracy 0.666, Validation accuracy 0.149\n",
      "Epoch #5 Loss at step 12: 0.3384, time: 54.901Train accuracy 0.657, Validation accuracy 0.214\n",
      "Epoch #6 Loss at step 12: 0.3077, time: 55.315Train accuracy 0.653, Validation accuracy 0.153\n",
      "Epoch #7 Loss at step 12: 0.2917, time: 54.365Train accuracy 0.658, Validation accuracy 0.216\n",
      "Epoch #8 Loss at step 12: 0.2682, time: 55.030Train accuracy 0.650, Validation accuracy 0.186\n",
      "Epoch #9 Loss at step 12: 0.2727, time: 53.765Train accuracy 0.672, Validation accuracy 0.159\n"
     ]
    }
   ],
   "source": [
    "nlr = models.NeuralLogicRec.NLR(utils.common.ml_small['user'], utils.common.ml_small['dimensions'], epochs=10, constraints=constraints, mode='ae')\n",
    "nlr.train(utils.common.load_dataset(utils.common.ml_small), utils.common.ml_small['train']['records'])"
   ]
  },
  {
   "cell_type": "code",
   "execution_count": 53,
   "metadata": {},
   "outputs": [
    {
     "name": "stdout",
     "output_type": "stream",
     "text": [
      "Batch nr 2 predicted\r"
     ]
    }
   ],
   "source": [
    "results.append(ev_test.evaluate_single_thread(nlr))"
   ]
  },
  {
   "cell_type": "code",
   "execution_count": null,
   "metadata": {},
   "outputs": [],
   "source": []
  }
 ],
 "metadata": {
  "kernelspec": {
   "display_name": "Python 3",
   "language": "python",
   "name": "python3"
  },
  "language_info": {
   "codemirror_mode": {
    "name": "ipython",
    "version": 3
   },
   "file_extension": ".py",
   "mimetype": "text/x-python",
   "name": "python",
   "nbconvert_exporter": "python",
   "pygments_lexer": "ipython3",
   "version": "3.7.3"
  }
 },
 "nbformat": 4,
 "nbformat_minor": 4
}
