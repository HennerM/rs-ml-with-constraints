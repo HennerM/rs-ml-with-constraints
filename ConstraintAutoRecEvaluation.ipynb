{
 "cells": [
  {
   "cell_type": "code",
   "execution_count": 137,
   "metadata": {
    "pycharm": {
     "is_executing": false
    }
   },
   "outputs": [
    {
     "data": {
      "text/plain": [
       "<module 'models.NeuralLogicRec' from '/home/ec2-user/SageMaker/rs-ml-with-constraints/models/NeuralLogicRec.py'>"
      ]
     },
     "execution_count": 137,
     "metadata": {},
     "output_type": "execute_result"
    }
   ],
   "source": [
    "import utils.common\n",
    "import evaluation\n",
    "import importlib\n",
    "import numpy as np\n",
    "import time\n",
    "import models.MatrixFactorization\n",
    "import models.BPR\n",
    "import models.ConstraintAutoRec\n",
    "import models.NeuralLogicRec\n",
    "import pandas as pd\n",
    "importlib.reload(utils.common)\n",
    "importlib.reload(evaluation)\n",
    "importlib.reload(models.MatrixFactorization)\n",
    "importlib.reload(models.ConstraintAutoRec)\n",
    "importlib.reload(models.BPR)\n",
    "importlib.reload(models.NeuralLogicRec)"
   ]
  },
  {
   "cell_type": "code",
   "execution_count": 8,
   "metadata": {},
   "outputs": [],
   "source": [
    "eval_ml = evaluation.Evaluation(utils.common.movie_lens)"
   ]
  },
  {
   "cell_type": "markdown",
   "metadata": {},
   "source": [
    "# Preparations\n",
    "Pre train ConstraintAutoRec model for 5 epcohs without constraints for both MovieLens and MSD datasets"
   ]
  },
  {
   "cell_type": "code",
   "execution_count": null,
   "metadata": {
    "pycharm": {
     "is_executing": false,
     "name": "#%%\n"
    }
   },
   "outputs": [],
   "source": [
    "pre_train_ml = models.ConstraintAutoRec.ConstraintAutoRec(utils.common.movie_lens['dimensions'], epochs=10, novelty_weight=0.0, diversity_weight=0.0, name='ConstraintAutoRec_ML_pretrain')\n",
    "pre_train_ml.train(utils.common.load_dataset(utils.common.movie_lens, 'train'), utils.common.movie_lens['train']['records'])\n",
    "pre_train_ml.save('../saved_models')"
   ]
  },
  {
   "cell_type": "code",
   "execution_count": 46,
   "metadata": {},
   "outputs": [
    {
     "name": "stdout",
     "output_type": "stream",
     "text": [
      "Epoch 1/5\n",
      "3686/3686 [==============================] - 60s 16ms/step - loss: 0.1367 - accuracy: 0.0224\n",
      "Epoch 2/5\n",
      "3686/3686 [==============================] - 47s 13ms/step - loss: 0.1155 - accuracy: 0.0227\n",
      "Epoch 3/5\n",
      "3686/3686 [==============================] - 47s 13ms/step - loss: 0.1090 - accuracy: 0.0251\n",
      "Epoch 4/5\n",
      "3686/3686 [==============================] - 46s 13ms/step - loss: 0.1047 - accuracy: 0.0245\n",
      "Epoch 5/5\n",
      "3686/3686 [==============================] - 46s 13ms/step - loss: 0.1019 - accuracy: 0.0215\n"
     ]
    }
   ],
   "source": [
    "eval_msd = evaluation.Evaluation(utils.common.msd)\n",
    "pre_train_msd = models.ConstraintAutoRec.ConstraintAutoRec(utils.common.msd['dimensions'], epochs=5, novelty_weight=0.0, diversity_weight=0.0, name='ConstraintAutoRec_MSD_pretrain')\n",
    "pre_train_msd.train(utils.common.load_dataset(utils.common.msd, 'train'), utils.common.msd['train']['records'])\n",
    "pre_train_msd.save('../saved_models')"
   ]
  },
  {
   "cell_type": "code",
   "execution_count": 47,
   "metadata": {},
   "outputs": [
    {
     "name": "stdout",
     "output_type": "stream",
     "text": [
      "Batch nr 186 predicted\r"
     ]
    }
   ],
   "source": [
    "# pre_trained_values_ml = eval_ml.evaluate_single_thread(pre_train_ml)\n",
    "pre_trained_values_msd = eval_msd.evaluate_single_thread(pre_train_msd)"
   ]
  },
  {
   "cell_type": "code",
   "execution_count": 48,
   "metadata": {},
   "outputs": [
    {
     "data": {
      "text/plain": [
       "{'accuracy': 0.7797116434948488,\n",
       " 'precision@5': 0.1073257138037198,\n",
       " 'recall@5': 0.05511885060069977,\n",
       " 'map@1': 0.1406941925688499,\n",
       " 'map@5': 0.06884927998725393,\n",
       " 'map@10': 0.05380031712097676,\n",
       " 'diversity@5': 0.20857941921150433,\n",
       " 'diversity@10': 0.22032034619479818,\n",
       " 'epc@5': 0.946260835931058,\n",
       " 'epc@10': 0.9491344340198895,\n",
       " 'epd@5': 0.27438448588482334,\n",
       " 'coverage@1': 0.3306019070321812,\n",
       " 'coverage@5': 0.6129320619785459,\n",
       " 'coverage@10': 0.7482121573301549,\n",
       " 'name': 'ConstraintAutoRec_MSD_pretrain',\n",
       " 'dimensions': 6712,\n",
       " 'latent_dims': 32,\n",
       " 'accuracy_weight': 1.0,\n",
       " 'novelty_weight': 0.0,\n",
       " 'diversity_weight': 0.0,\n",
       " 'epochs': 5,\n",
       " 'batch_size': 32,\n",
       " 'optimizer': 'adam'}"
      ]
     },
     "execution_count": 48,
     "metadata": {},
     "output_type": "execute_result"
    }
   ],
   "source": [
    "pre_trained_values_msd"
   ]
  },
  {
   "cell_type": "markdown",
   "metadata": {},
   "source": [
    "# Diversity evaluation\n",
    "## Training\n",
    "Train all instances of ConstraintAutoRec with different values for diversity constraint weight\n",
    "\n",
    "Values used: 0.5, 1.0, 2.0, 4.0, 8.0"
   ]
  },
  {
   "cell_type": "code",
   "execution_count": 20,
   "metadata": {},
   "outputs": [
    {
     "name": "stdout",
     "output_type": "stream",
     "text": [
      "Epoch 1/5\n",
      "4327/4327 [==============================] - 88s 20ms/step - loss: 0.0862 - accuracy: 0.0108\n",
      "Epoch 2/5\n",
      "4327/4327 [==============================] - 73s 17ms/step - loss: 0.0858 - accuracy: 0.0111\n",
      "Epoch 3/5\n",
      "4327/4327 [==============================] - 73s 17ms/step - loss: 0.0855 - accuracy: 0.0109\n",
      "Epoch 4/5\n",
      "4327/4327 [==============================] - 74s 17ms/step - loss: 0.0852 - accuracy: 0.0110\n",
      "Epoch 5/5\n",
      "4327/4327 [==============================] - 74s 17ms/step - loss: 0.0847 - accuracy: 0.0114\n",
      "Epoch 1/5214 predicted\n",
      "4327/4327 [==============================] - 90s 21ms/step - loss: 0.0886 - accuracy: 0.0107\n",
      "Epoch 2/5\n",
      "4327/4327 [==============================] - 75s 17ms/step - loss: 0.0883 - accuracy: 0.0102\n",
      "Epoch 3/5\n",
      "4327/4327 [==============================] - 75s 17ms/step - loss: 0.0878 - accuracy: 0.0108\n",
      "Epoch 4/5\n",
      "4327/4327 [==============================] - 74s 17ms/step - loss: 0.0874 - accuracy: 0.0108\n",
      "Epoch 5/5\n",
      "4327/4327 [==============================] - 74s 17ms/step - loss: 0.0873 - accuracy: 0.0108\n",
      "Epoch 1/5214 predicted\n",
      "4327/4327 [==============================] - 89s 21ms/step - loss: 0.0935 - accuracy: 0.0110\n",
      "Epoch 2/5\n",
      "4327/4327 [==============================] - 75s 17ms/step - loss: 0.0931 - accuracy: 0.0102\n",
      "Epoch 3/5\n",
      "4327/4327 [==============================] - 74s 17ms/step - loss: 0.0926 - accuracy: 0.0106\n",
      "Epoch 4/5\n",
      "4327/4327 [==============================] - 75s 17ms/step - loss: 0.0924 - accuracy: 0.0107\n",
      "Epoch 5/5\n",
      "4327/4327 [==============================] - 74s 17ms/step - loss: 0.0919 - accuracy: 0.0109\n",
      "Epoch 1/5214 predicted\n",
      "4327/4327 [==============================] - 88s 20ms/step - loss: 0.1030 - accuracy: 0.0096\n",
      "Epoch 2/5\n",
      "4327/4327 [==============================] - 74s 17ms/step - loss: 0.1024 - accuracy: 0.0096\n",
      "Epoch 3/5\n",
      "4327/4327 [==============================] - 74s 17ms/step - loss: 0.1022 - accuracy: 0.0094\n",
      "Epoch 4/5\n",
      "4327/4327 [==============================] - 74s 17ms/step - loss: 0.1019 - accuracy: 0.0097\n",
      "Epoch 5/5\n",
      "4327/4327 [==============================] - 74s 17ms/step - loss: 0.1016 - accuracy: 0.0099\n",
      "Epoch 1/5214 predicted\n",
      "4327/4327 [==============================] - 90s 21ms/step - loss: 0.1213 - accuracy: 0.0092\n",
      "Epoch 2/5\n",
      "4327/4327 [==============================] - 76s 18ms/step - loss: 0.1213 - accuracy: 0.0085\n",
      "Epoch 3/5\n",
      "4327/4327 [==============================] - 73s 17ms/step - loss: 0.1206 - accuracy: 0.0086\n",
      "Epoch 4/5\n",
      "4327/4327 [==============================] - 72s 17ms/step - loss: 0.1203 - accuracy: 0.0087\n",
      "Epoch 5/5\n",
      "4327/4327 [==============================] - 73s 17ms/step - loss: 0.1203 - accuracy: 0.0089\n",
      "Batch nr 214 predicted\r"
     ]
    }
   ],
   "source": [
    "evals = list()\n",
    "diversity_weights = [0.5, 1.0, 2.0, 4.0, 8.0]\n",
    "for div_weight in diversity_weights:\n",
    "    diversity_model = models.ConstraintAutoRec.ConstraintAutoRec(utils.common.movie_lens['dimensions'], epochs=5, novelty_weight=0.0, diversity_weight=div_weight, name='ConstraintAutoRec_ML_div_' + str(div_weight))\n",
    "    diversity_model.load('../saved_models/ConstraintAutoRec_ML_pretrain.h5')\n",
    "    diversity_model.train(utils.common.load_dataset(utils.common.movie_lens, 'train'), utils.common.movie_lens['train']['records'])\n",
    "    diversity_model.save('../saved_models')\n",
    "    evals.append(eval_ml.evaluate_single_thread(diversity_model))"
   ]
  },
  {
   "cell_type": "code",
   "execution_count": 50,
   "metadata": {},
   "outputs": [
    {
     "name": "stdout",
     "output_type": "stream",
     "text": [
      "Epoch 1/5\n",
      "3686/3686 [==============================] - 60s 16ms/step - loss: 0.1020 - accuracy: 0.0219\n",
      "Epoch 2/5\n",
      "3686/3686 [==============================] - 48s 13ms/step - loss: 0.1006 - accuracy: 0.0209\n",
      "Epoch 3/5\n",
      "3686/3686 [==============================] - 48s 13ms/step - loss: 0.0991 - accuracy: 0.0226\n",
      "Epoch 4/5\n",
      "3686/3686 [==============================] - 47s 13ms/step - loss: 0.0979 - accuracy: 0.0210\n",
      "Epoch 5/5\n",
      "3686/3686 [==============================] - 47s 13ms/step - loss: 0.0970 - accuracy: 0.0201\n",
      "Epoch 1/5186 predicted\n",
      "3686/3686 [==============================] - 60s 16ms/step - loss: 0.1042 - accuracy: 0.0206\n",
      "Epoch 2/5\n",
      "3686/3686 [==============================] - 48s 13ms/step - loss: 0.1028 - accuracy: 0.0210\n",
      "Epoch 3/5\n",
      "3686/3686 [==============================] - 47s 13ms/step - loss: 0.1012 - accuracy: 0.0186\n",
      "Epoch 4/5\n",
      "3686/3686 [==============================] - 47s 13ms/step - loss: 0.1003 - accuracy: 0.0212\n",
      "Epoch 5/5\n",
      "3686/3686 [==============================] - 47s 13ms/step - loss: 0.0994 - accuracy: 0.0206\n",
      "Epoch 1/5186 predicted\n",
      "3686/3686 [==============================] - 60s 16ms/step - loss: 0.1087 - accuracy: 0.0211\n",
      "Epoch 2/5\n",
      "3686/3686 [==============================] - 48s 13ms/step - loss: 0.1072 - accuracy: 0.0203\n",
      "Epoch 3/5\n",
      "3686/3686 [==============================] - 48s 13ms/step - loss: 0.1058 - accuracy: 0.0219\n",
      "Epoch 4/5\n",
      "3686/3686 [==============================] - 47s 13ms/step - loss: 0.1047 - accuracy: 0.0204\n",
      "Epoch 5/5\n",
      "3686/3686 [==============================] - 47s 13ms/step - loss: 0.1039 - accuracy: 0.0204\n",
      "Epoch 1/5186 predicted\n",
      "3686/3686 [==============================] - 61s 17ms/step - loss: 0.1176 - accuracy: 0.0220\n",
      "Epoch 2/5\n",
      "3686/3686 [==============================] - 48s 13ms/step - loss: 0.1160 - accuracy: 0.0190\n",
      "Epoch 3/5\n",
      "3686/3686 [==============================] - 47s 13ms/step - loss: 0.1148 - accuracy: 0.0194\n",
      "Epoch 4/5\n",
      "3686/3686 [==============================] - 46s 13ms/step - loss: 0.1138 - accuracy: 0.0205\n",
      "Epoch 5/5\n",
      "3686/3686 [==============================] - 47s 13ms/step - loss: 0.1127 - accuracy: 0.0191\n",
      "Epoch 1/5186 predicted\n",
      "3686/3686 [==============================] - 60s 16ms/step - loss: 0.1348 - accuracy: 0.0193\n",
      "Epoch 2/5\n",
      "3686/3686 [==============================] - 47s 13ms/step - loss: 0.1336 - accuracy: 0.0183\n",
      "Epoch 3/5\n",
      "3686/3686 [==============================] - 47s 13ms/step - loss: 0.1323 - accuracy: 0.0157\n",
      "Epoch 4/5\n",
      "3686/3686 [==============================] - 47s 13ms/step - loss: 0.1314 - accuracy: 0.0147\n",
      "Epoch 5/5\n",
      "3686/3686 [==============================] - 47s 13ms/step - loss: 0.1306 - accuracy: 0.0128\n",
      "Batch nr 186 predicted\r"
     ]
    }
   ],
   "source": [
    "div_evals_msd = list()\n",
    "diversity_weights = [0.5, 1.0, 2.0, 4.0, 8.0]\n",
    "for div_weight in diversity_weights:\n",
    "    diversity_model = models.ConstraintAutoRec.ConstraintAutoRec(utils.common.msd['dimensions'], epochs=5, novelty_weight=0.0, diversity_weight=div_weight, name='ConstraintAutoRec_MSD_div_' + str(div_weight))\n",
    "    diversity_model.load('../saved_models/ConstraintAutoRec_MSD_pretrain.h5')\n",
    "    diversity_model.train(utils.common.load_dataset(utils.common.msd, 'train'), utils.common.msd['train']['records'])\n",
    "    diversity_model.save('../saved_models')\n",
    "    div_evals_msd.append(eval_msd.evaluate_single_thread(diversity_model))"
   ]
  },
  {
   "cell_type": "code",
   "execution_count": 59,
   "metadata": {},
   "outputs": [],
   "source": [
    "results_diversity = pd.DataFrame([pre_trained_values_msd] + div_evals_msd)"
   ]
  },
  {
   "cell_type": "markdown",
   "metadata": {},
   "source": [
    "## Result evaluation\n",
    "The gained metrics for the diversity constraint are gained and summarized in the following"
   ]
  },
  {
   "cell_type": "code",
   "execution_count": 60,
   "metadata": {
    "pycharm": {
     "is_executing": false,
     "name": "#%%\n"
    }
   },
   "outputs": [
    {
     "name": "stdout",
     "output_type": "stream",
     "text": [
      "\\begin{tabular}{rrrr}\n",
      "\\toprule\n",
      " diversity\\_weight &  map@1 &  map@5 &  map@10 \\\\\n",
      "\\midrule\n",
      "            0.000 &  0.141 &  0.069 &   0.054 \\\\\n",
      "            0.500 &  0.143 &  0.071 &   0.055 \\\\\n",
      "            1.000 &  0.141 &  0.070 &   0.055 \\\\\n",
      "            2.000 &  0.142 &  0.071 &   0.055 \\\\\n",
      "            4.000 &  0.137 &  0.068 &   0.053 \\\\\n",
      "            8.000 &  0.127 &  0.064 &   0.050 \\\\\n",
      "\\bottomrule\n",
      "\\end{tabular}\n",
      "\n"
     ]
    },
    {
     "data": {
      "text/html": [
       "<div>\n",
       "<style scoped>\n",
       "    .dataframe tbody tr th:only-of-type {\n",
       "        vertical-align: middle;\n",
       "    }\n",
       "\n",
       "    .dataframe tbody tr th {\n",
       "        vertical-align: top;\n",
       "    }\n",
       "\n",
       "    .dataframe thead th {\n",
       "        text-align: right;\n",
       "    }\n",
       "</style>\n",
       "<table border=\"1\" class=\"dataframe\">\n",
       "  <thead>\n",
       "    <tr style=\"text-align: right;\">\n",
       "      <th></th>\n",
       "      <th>diversity_weight</th>\n",
       "      <th>diversity@5</th>\n",
       "      <th>diversity@10</th>\n",
       "      <th>epc@5</th>\n",
       "      <th>epd@5</th>\n",
       "      <th>coverage@5</th>\n",
       "      <th>coverage@1</th>\n",
       "    </tr>\n",
       "  </thead>\n",
       "  <tbody>\n",
       "    <tr>\n",
       "      <th>0</th>\n",
       "      <td>0.0</td>\n",
       "      <td>0.208579</td>\n",
       "      <td>0.220320</td>\n",
       "      <td>0.946261</td>\n",
       "      <td>0.274384</td>\n",
       "      <td>0.612932</td>\n",
       "      <td>0.330602</td>\n",
       "    </tr>\n",
       "    <tr>\n",
       "      <th>1</th>\n",
       "      <td>0.5</td>\n",
       "      <td>0.220484</td>\n",
       "      <td>0.230212</td>\n",
       "      <td>0.954539</td>\n",
       "      <td>0.278442</td>\n",
       "      <td>0.743743</td>\n",
       "      <td>0.426996</td>\n",
       "    </tr>\n",
       "    <tr>\n",
       "      <th>2</th>\n",
       "      <td>1.0</td>\n",
       "      <td>0.220470</td>\n",
       "      <td>0.232320</td>\n",
       "      <td>0.951101</td>\n",
       "      <td>0.279382</td>\n",
       "      <td>0.733760</td>\n",
       "      <td>0.425209</td>\n",
       "    </tr>\n",
       "    <tr>\n",
       "      <th>3</th>\n",
       "      <td>2.0</td>\n",
       "      <td>0.221469</td>\n",
       "      <td>0.231190</td>\n",
       "      <td>0.957750</td>\n",
       "      <td>0.280501</td>\n",
       "      <td>0.748212</td>\n",
       "      <td>0.436234</td>\n",
       "    </tr>\n",
       "    <tr>\n",
       "      <th>4</th>\n",
       "      <td>4.0</td>\n",
       "      <td>0.217772</td>\n",
       "      <td>0.228198</td>\n",
       "      <td>0.960000</td>\n",
       "      <td>0.278112</td>\n",
       "      <td>0.769964</td>\n",
       "      <td>0.460369</td>\n",
       "    </tr>\n",
       "    <tr>\n",
       "      <th>5</th>\n",
       "      <td>8.0</td>\n",
       "      <td>0.219965</td>\n",
       "      <td>0.231494</td>\n",
       "      <td>0.968597</td>\n",
       "      <td>0.280659</td>\n",
       "      <td>0.800954</td>\n",
       "      <td>0.482122</td>\n",
       "    </tr>\n",
       "  </tbody>\n",
       "</table>\n",
       "</div>"
      ],
      "text/plain": [
       "   diversity_weight  diversity@5  diversity@10     epc@5     epd@5  \\\n",
       "0               0.0     0.208579      0.220320  0.946261  0.274384   \n",
       "1               0.5     0.220484      0.230212  0.954539  0.278442   \n",
       "2               1.0     0.220470      0.232320  0.951101  0.279382   \n",
       "3               2.0     0.221469      0.231190  0.957750  0.280501   \n",
       "4               4.0     0.217772      0.228198  0.960000  0.278112   \n",
       "5               8.0     0.219965      0.231494  0.968597  0.280659   \n",
       "\n",
       "   coverage@5  coverage@1  \n",
       "0    0.612932    0.330602  \n",
       "1    0.743743    0.426996  \n",
       "2    0.733760    0.425209  \n",
       "3    0.748212    0.436234  \n",
       "4    0.769964    0.460369  \n",
       "5    0.800954    0.482122  "
      ]
     },
     "execution_count": 60,
     "metadata": {},
     "output_type": "execute_result"
    }
   ],
   "source": [
    "print(results_diversity[['diversity_weight',\n",
    "       'map@1', 'map@5', 'map@10', ]].to_latex(float_format = \"%.3f\", index=False))\n",
    "results_diversity[['diversity_weight',\n",
    "       'diversity@5', 'diversity@10', 'epc@5', 'epd@5', 'coverage@5','coverage@1' ]]"
   ]
  },
  {
   "cell_type": "code",
   "execution_count": 64,
   "metadata": {},
   "outputs": [
    {
     "name": "stdout",
     "output_type": "stream",
     "text": [
      "\\begin{tabular}{rrrrrr}\n",
      "\\toprule\n",
      " diversity\\_weight &  diversity@5 &  diversity@10 &  epc@5 &  epd@5 &  coverage@5 \\\\\n",
      "\\midrule\n",
      "            0.000 &        0.209 &         0.220 &  0.946 &  0.274 &       0.613 \\\\\n",
      "            0.500 &        0.220 &         0.230 &  0.955 &  0.278 &       0.744 \\\\\n",
      "            1.000 &        0.220 &         0.232 &  0.951 &  0.279 &       0.734 \\\\\n",
      "            2.000 &        0.221 &         0.231 &  0.958 &  0.281 &       0.748 \\\\\n",
      "            4.000 &        0.218 &         0.228 &  0.960 &  0.278 &       0.770 \\\\\n",
      "            8.000 &        0.220 &         0.231 &  0.969 &  0.281 &       0.801 \\\\\n",
      "\\bottomrule\n",
      "\\end{tabular}\n",
      "\n"
     ]
    }
   ],
   "source": [
    "print(results_diversity[['diversity_weight',\n",
    "       'diversity@5', 'diversity@10', 'epc@5', 'epd@5', 'coverage@5' ]].to_latex(float_format = \"%.3f\", index=False))"
   ]
  },
  {
   "cell_type": "markdown",
   "metadata": {},
   "source": [
    "# Visualization\n",
    "Bar plots are used to visualize the change in metrics."
   ]
  },
  {
   "cell_type": "code",
   "execution_count": 71,
   "metadata": {},
   "outputs": [],
   "source": [
    "import matplotlib.pyplot as plt\n",
    "import matplotlib.cm as cmx\n",
    "import matplotlib.colors as colors\n",
    "\n",
    "\n",
    "def get_colors(idx):\n",
    "    jet = cm = plt.get_cmap('viridis') \n",
    "    cNorm  = colors.Normalize(vmin=0, vmax=max(idx) + 1)\n",
    "    scalarMap = cmx.ScalarMappable(norm=cNorm, cmap=jet)\n",
    "    return scalarMap.to_rgba(idx)\n",
    "\n",
    "def simple_plot(f, data, x, y):\n",
    "    f.bar(data.index, data[y],color=get_colors(data.index))\n",
    "    f.set_xticks(data.index)\n",
    "    f.set_xticklabels(data[x])\n",
    "    f.set_xlabel(y, fontsize=16)\n",
    "    \n",
    "def plot_bar(data, axis, x_param):\n",
    "    bottom = data[axis].min() \n",
    "    top = data[axis].max()\n",
    "    margin = (top - bottom) * 0.05\n",
    "    fig, ax = plt.subplots()\n",
    "    ax.bar(data.index, data[axis] )\n",
    "    ax.set_xticks(data.index)\n",
    "    ax.set_xticklabels(data[x_param])\n",
    "    ax.set_ylabel(axis)\n",
    "    ax.set_xlabel(x_param)\n",
    "    plt.show()"
   ]
  },
  {
   "cell_type": "code",
   "execution_count": 168,
   "metadata": {
    "pycharm": {
     "is_executing": false,
     "name": "#%%\n"
    }
   },
   "outputs": [
    {
     "data": {
      "image/png": "[encoded data removed]",
      "text/plain": [
       "<Figure size 648x252 with 2 Axes>"
      ]
     },
     "metadata": {},
     "output_type": "display_data"
    }
   ],
   "source": [
    "width = 0.95\n",
    "bar_c = get_colors(range(3))\n",
    "fig = plt.figure(figsize=(9,3.5))\n",
    "def plot_map(ax, data):\n",
    "    ax.bar(data.index - width/3, data['map@1'], width/3, label='MAP@1', color=bar_c[0])\n",
    "    ax.bar(data.index, data['map@5'], width/3, label='MAP@5', color=bar_c[1])\n",
    "    ax.bar(data.index + width/3, data['map@5'], width/3, label='MAP@10', color=bar_c[2])\n",
    "    ax.set_xticks(data.index)\n",
    "    ax.set_xticklabels(data.diversity_weight)\n",
    "#     ax.set_ylim(data['map@5'.min())\n",
    "    \n",
    "    ax.set_ylabel('MAP@N', fontsize=12)\n",
    "    \n",
    "ax1 = fig.add_subplot(121)\n",
    "ax1.set_xlabel('MovieLens', fontsize=14)\n",
    "plot_map(ax1, pd.DataFrame(evals))\n",
    "ax2 = fig.add_subplot(122)\n",
    "ax2.set_xlabel('MSD', fontsize=14)\n",
    "plot_map(ax2, results_diversity)\n",
    "fig.legend(['MAP@1','MAP@5', 'MAP@10'])\n",
    "fig.savefig('../plots/CAR_diversity_map.pdf')"
   ]
  },
  {
   "cell_type": "code",
   "execution_count": 171,
   "metadata": {},
   "outputs": [
    {
     "data": {
      "image/png": "[encoded data removed]",
      "text/plain": [
       "<Figure size 648x252 with 2 Axes>"
      ]
     },
     "metadata": {},
     "output_type": "display_data"
    }
   ],
   "source": [
    "width = 0.95\n",
    "bar_c = get_colors(range(2))\n",
    "fig = plt.figure(figsize=(9,3.5))\n",
    "def plot_map(ax, data):\n",
    "    ax.bar(data.index - width/4, data['diversity@5'], width/3, label='Diversity@5', color=bar_c[0])\n",
    "#     ax.bar(data.index, data['map@5'], width/3, label='MAP@5', color=bar_c[1])\n",
    "    ax.bar(data.index + width/4, data['diversity@10'], width/3, label='Diversity@10', color=bar_c[1])\n",
    "    ax.set_xticks(data.index)\n",
    "    ax.set_xticklabels(data.diversity_weight)\n",
    "    ax.set_ylabel('Diversity@N', fontsize=12)\n",
    "#     ax.legend(loc='center right')\n",
    "    \n",
    "ax1 = fig.add_subplot(121)\n",
    "ax1.set_xlabel('MovieLens', fontsize=14)\n",
    "plot_map(ax1, pd.DataFrame(evals))\n",
    "ax2 = fig.add_subplot(122)\n",
    "ax2.set_xlabel('MSD', fontsize=14)\n",
    "plot_map(ax2, results_diversity)\n",
    "fig.legend(['Diversity@5', 'Diversity@10'])\n",
    "fig.savefig('../plots/CAR_diversity_diversity.pdf')"
   ]
  },
  {
   "cell_type": "markdown",
   "metadata": {},
   "source": [
    "# Experiments with novelty weight"
   ]
  },
  {
   "cell_type": "code",
   "execution_count": null,
   "metadata": {
    "pycharm": {
     "is_executing": false,
     "name": "#%%\n"
    },
    "scrolled": true
   },
   "outputs": [
    {
     "name": "stdout",
     "output_type": "stream",
     "text": [
      "Epoch 1/5\n",
      "3686/3686 [==============================] - 62s 17ms/step - loss: 0.1306 - accuracy: 0.0297\n",
      "Epoch 2/5\n",
      "3686/3686 [==============================] - 49s 13ms/step - loss: 0.1274 - accuracy: 0.0281\n",
      "Epoch 3/5\n",
      "3686/3686 [==============================] - 49s 13ms/step - loss: 0.1255 - accuracy: 0.0289\n",
      "Epoch 4/5\n",
      "3686/3686 [==============================] - 48s 13ms/step - loss: 0.1243 - accuracy: 0.0282\n",
      "Epoch 5/5\n",
      "3686/3686 [==============================] - 49s 13ms/step - loss: 0.1234 - accuracy: 0.0297\n",
      "Epoch 1/5186 predicted\n",
      "3686/3686 [==============================] - 61s 16ms/step - loss: 0.1477 - accuracy: 0.0313\n",
      "Epoch 2/5\n",
      "3686/3686 [==============================] - 49s 13ms/step - loss: 0.1425 - accuracy: 0.0313\n",
      "Epoch 3/5\n",
      "3686/3686 [==============================] - 48s 13ms/step - loss: 0.1406 - accuracy: 0.0324\n",
      "Epoch 4/5\n",
      "3686/3686 [==============================] - 48s 13ms/step - loss: 0.1395 - accuracy: 0.0320\n",
      "Epoch 5/5\n",
      "3686/3686 [==============================] - 48s 13ms/step - loss: 0.1386 - accuracy: 0.0329\n",
      "Epoch 1/5186 predicted\n",
      "3686/3686 [==============================] - 61s 17ms/step - loss: 0.1670 - accuracy: 0.0318\n",
      "Epoch 2/5\n",
      "3686/3686 [==============================] - 50s 14ms/step - loss: 0.1590 - accuracy: 0.0334\n",
      "Epoch 3/5\n",
      "3686/3686 [==============================] - 49s 13ms/step - loss: 0.1572 - accuracy: 0.0344\n",
      "Epoch 4/5\n",
      "3686/3686 [==============================] - 49s 13ms/step - loss: 0.1560 - accuracy: 0.0347\n",
      "Epoch 5/5\n",
      "3686/3686 [==============================] - 49s 13ms/step - loss: 0.1554 - accuracy: 0.0359\n",
      "Batch nr 93 predicted\r"
     ]
    }
   ],
   "source": [
    "novelty_evals_2 = {'ML': list(), 'MSD': list()}\n",
    "novelty_weights = [1.0, 2.0, 4.0]\n",
    "for ds in [ 'MSD']:\n",
    "    dataset = utils.common.movie_lens if ds == 'ML' else utils.common.msd\n",
    "    for nov_weight in novelty_weights:\n",
    "        nov_model = models.ConstraintAutoRec.ConstraintAutoRec(dataset['dimensions'], epochs=5, novelty_weight=nov_weight, diversity_weight=0.0, name='ConstraintAutoRec_' + ds + '_nov_' + str(nov_weight))\n",
    "        nov_model.load('../saved_models/ConstraintAutoRec_' + ds + '_pretrain.h5')\n",
    "        nov_model.train(utils.common.load_dataset(dataset, 'train'), dataset['train']['records'])\n",
    "        nov_model.save('../saved_models')\n",
    "        if ds == 'ML':\n",
    "            novelty_evals_2['ML'].append(eval_ml.evaluate_single_thread(nov_model))\n",
    "        else:\n",
    "            novelty_evals_2['MSD'].append(eval_msd.evaluate_single_thread(nov_model))"
   ]
  },
  {
   "cell_type": "code",
   "execution_count": 140,
   "metadata": {
    "pycharm": {
     "name": "#%%\n"
    }
   },
   "outputs": [],
   "source": [
    "novelty_evals_ml = pd.DataFrame([pre_trained_values] + novelty_evals['ML'])"
   ]
  },
  {
   "cell_type": "code",
   "execution_count": 141,
   "metadata": {},
   "outputs": [
    {
     "name": "stdout",
     "output_type": "stream",
     "text": [
      "\\begin{tabular}{rrrr}\n",
      "\\toprule\n",
      " novelty\\_weight &  map@1 &  map@5 &  map@10 \\\\\n",
      "\\midrule\n",
      "          0.000 &  0.270 &  0.156 &   0.128 \\\\\n",
      "          0.250 &  0.291 &  0.170 &   0.141 \\\\\n",
      "          0.500 &  0.302 &  0.177 &   0.148 \\\\\n",
      "          1.000 &  0.309 &  0.184 &   0.155 \\\\\n",
      "          2.000 &  0.317 &  0.188 &   0.157 \\\\\n",
      "          4.000 &  0.319 &  0.191 &   0.159 \\\\\n",
      "\\bottomrule\n",
      "\\end{tabular}\n",
      "\n"
     ]
    }
   ],
   "source": [
    "print(novelty_evals_ml[['novelty_weight',\n",
    "       'map@1', 'map@5', 'map@10', ]].to_latex(float_format = \"%.3f\", index=False))"
   ]
  },
  {
   "cell_type": "code",
   "execution_count": 143,
   "metadata": {},
   "outputs": [
    {
     "name": "stdout",
     "output_type": "stream",
     "text": [
      "\\begin{tabular}{rrrrrrr}\n",
      "\\toprule\n",
      " novelty\\_weight &  epc@5 &  epc@10 &  epd@5 &  coverage@1 &  coverage@5 &  coverage@10 \\\\\n",
      "\\midrule\n",
      "          0.000 &  0.757 &   0.775 &  0.149 &       0.087 &       0.188 &        0.259 \\\\\n",
      "          0.250 &  0.741 &   0.758 &  0.149 &       0.051 &       0.105 &        0.148 \\\\\n",
      "          0.500 &  0.750 &   0.766 &  0.149 &       0.052 &       0.104 &        0.145 \\\\\n",
      "          1.000 &  0.762 &   0.777 &  0.149 &       0.048 &       0.097 &        0.136 \\\\\n",
      "          2.000 &  0.759 &   0.774 &  0.150 &       0.042 &       0.087 &        0.120 \\\\\n",
      "          4.000 &  0.758 &   0.773 &  0.151 &       0.041 &       0.087 &        0.125 \\\\\n",
      "\\bottomrule\n",
      "\\end{tabular}\n",
      "\n"
     ]
    }
   ],
   "source": [
    "print(novelty_evals_ml[['novelty_weight',\n",
    "       'epc@5', 'epc@10', 'epd@5', 'coverage@1','coverage@5', 'coverage@10' ]].to_latex(float_format = \"%.3f\", index=False))"
   ]
  },
  {
   "cell_type": "code",
   "execution_count": 142,
   "metadata": {},
   "outputs": [
    {
     "data": {
      "text/html": [
       "<div>\n",
       "<style scoped>\n",
       "    .dataframe tbody tr th:only-of-type {\n",
       "        vertical-align: middle;\n",
       "    }\n",
       "\n",
       "    .dataframe tbody tr th {\n",
       "        vertical-align: top;\n",
       "    }\n",
       "\n",
       "    .dataframe thead th {\n",
       "        text-align: right;\n",
       "    }\n",
       "</style>\n",
       "<table border=\"1\" class=\"dataframe\">\n",
       "  <thead>\n",
       "    <tr style=\"text-align: right;\">\n",
       "      <th></th>\n",
       "      <th>accuracy</th>\n",
       "      <th>accuracy_weight</th>\n",
       "      <th>batch_size</th>\n",
       "      <th>coverage@1</th>\n",
       "      <th>coverage@10</th>\n",
       "      <th>coverage@5</th>\n",
       "      <th>dimensions</th>\n",
       "      <th>diversity@10</th>\n",
       "      <th>diversity@5</th>\n",
       "      <th>diversity_weight</th>\n",
       "      <th>...</th>\n",
       "      <th>epochs</th>\n",
       "      <th>latent_dims</th>\n",
       "      <th>map@1</th>\n",
       "      <th>map@10</th>\n",
       "      <th>map@5</th>\n",
       "      <th>name</th>\n",
       "      <th>novelty_weight</th>\n",
       "      <th>optimizer</th>\n",
       "      <th>precision@5</th>\n",
       "      <th>recall@5</th>\n",
       "    </tr>\n",
       "  </thead>\n",
       "  <tbody>\n",
       "    <tr>\n",
       "      <th>0</th>\n",
       "      <td>0.779712</td>\n",
       "      <td>1.0</td>\n",
       "      <td>32</td>\n",
       "      <td>0.330602</td>\n",
       "      <td>0.748212</td>\n",
       "      <td>0.612932</td>\n",
       "      <td>6712</td>\n",
       "      <td>0.220320</td>\n",
       "      <td>0.208579</td>\n",
       "      <td>0.0</td>\n",
       "      <td>...</td>\n",
       "      <td>5</td>\n",
       "      <td>32</td>\n",
       "      <td>0.140694</td>\n",
       "      <td>0.053800</td>\n",
       "      <td>0.068849</td>\n",
       "      <td>ConstraintAutoRec_MSD_pretrain</td>\n",
       "      <td>0.00</td>\n",
       "      <td>adam</td>\n",
       "      <td>0.107326</td>\n",
       "      <td>0.055119</td>\n",
       "    </tr>\n",
       "    <tr>\n",
       "      <th>1</th>\n",
       "      <td>0.835557</td>\n",
       "      <td>1.0</td>\n",
       "      <td>32</td>\n",
       "      <td>0.168206</td>\n",
       "      <td>0.497169</td>\n",
       "      <td>0.363081</td>\n",
       "      <td>6712</td>\n",
       "      <td>0.222469</td>\n",
       "      <td>0.210983</td>\n",
       "      <td>0.0</td>\n",
       "      <td>...</td>\n",
       "      <td>5</td>\n",
       "      <td>32</td>\n",
       "      <td>0.156214</td>\n",
       "      <td>0.059934</td>\n",
       "      <td>0.076787</td>\n",
       "      <td>ConstraintAutoRec_MSD_nov_0.25</td>\n",
       "      <td>0.25</td>\n",
       "      <td>adam</td>\n",
       "      <td>0.117060</td>\n",
       "      <td>0.059646</td>\n",
       "    </tr>\n",
       "    <tr>\n",
       "      <th>2</th>\n",
       "      <td>0.840840</td>\n",
       "      <td>1.0</td>\n",
       "      <td>32</td>\n",
       "      <td>0.145858</td>\n",
       "      <td>0.441299</td>\n",
       "      <td>0.317640</td>\n",
       "      <td>6712</td>\n",
       "      <td>0.217560</td>\n",
       "      <td>0.206865</td>\n",
       "      <td>0.0</td>\n",
       "      <td>...</td>\n",
       "      <td>5</td>\n",
       "      <td>32</td>\n",
       "      <td>0.161866</td>\n",
       "      <td>0.061778</td>\n",
       "      <td>0.079336</td>\n",
       "      <td>ConstraintAutoRec_MSD_nov_0.5</td>\n",
       "      <td>0.50</td>\n",
       "      <td>adam</td>\n",
       "      <td>0.120628</td>\n",
       "      <td>0.061601</td>\n",
       "    </tr>\n",
       "    <tr>\n",
       "      <th>3</th>\n",
       "      <td>0.867797</td>\n",
       "      <td>1.0</td>\n",
       "      <td>32</td>\n",
       "      <td>0.141091</td>\n",
       "      <td>0.424017</td>\n",
       "      <td>0.306466</td>\n",
       "      <td>6712</td>\n",
       "      <td>0.215251</td>\n",
       "      <td>0.204730</td>\n",
       "      <td>0.0</td>\n",
       "      <td>...</td>\n",
       "      <td>5</td>\n",
       "      <td>32</td>\n",
       "      <td>0.171988</td>\n",
       "      <td>0.065501</td>\n",
       "      <td>0.084627</td>\n",
       "      <td>ConstraintAutoRec_MSD_nov_1.0</td>\n",
       "      <td>1.00</td>\n",
       "      <td>adam</td>\n",
       "      <td>0.126928</td>\n",
       "      <td>0.065092</td>\n",
       "    </tr>\n",
       "    <tr>\n",
       "      <th>4</th>\n",
       "      <td>0.866943</td>\n",
       "      <td>1.0</td>\n",
       "      <td>32</td>\n",
       "      <td>0.127682</td>\n",
       "      <td>0.390346</td>\n",
       "      <td>0.283224</td>\n",
       "      <td>6712</td>\n",
       "      <td>0.212000</td>\n",
       "      <td>0.202940</td>\n",
       "      <td>0.0</td>\n",
       "      <td>...</td>\n",
       "      <td>5</td>\n",
       "      <td>32</td>\n",
       "      <td>0.183670</td>\n",
       "      <td>0.069528</td>\n",
       "      <td>0.089739</td>\n",
       "      <td>ConstraintAutoRec_MSD_nov_2.0</td>\n",
       "      <td>2.00</td>\n",
       "      <td>adam</td>\n",
       "      <td>0.132673</td>\n",
       "      <td>0.068257</td>\n",
       "    </tr>\n",
       "    <tr>\n",
       "      <th>5</th>\n",
       "      <td>0.855195</td>\n",
       "      <td>1.0</td>\n",
       "      <td>32</td>\n",
       "      <td>0.114720</td>\n",
       "      <td>0.353248</td>\n",
       "      <td>0.258343</td>\n",
       "      <td>6712</td>\n",
       "      <td>0.203454</td>\n",
       "      <td>0.193733</td>\n",
       "      <td>0.0</td>\n",
       "      <td>...</td>\n",
       "      <td>5</td>\n",
       "      <td>32</td>\n",
       "      <td>0.191641</td>\n",
       "      <td>0.072635</td>\n",
       "      <td>0.094605</td>\n",
       "      <td>ConstraintAutoRec_MSD_nov_4.0</td>\n",
       "      <td>4.00</td>\n",
       "      <td>adam</td>\n",
       "      <td>0.138661</td>\n",
       "      <td>0.071306</td>\n",
       "    </tr>\n",
       "  </tbody>\n",
       "</table>\n",
       "<p>6 rows × 23 columns</p>\n",
       "</div>"
      ],
      "text/plain": [
       "   accuracy  accuracy_weight  batch_size  coverage@1  coverage@10  coverage@5  \\\n",
       "0  0.779712              1.0          32    0.330602     0.748212    0.612932   \n",
       "1  0.835557              1.0          32    0.168206     0.497169    0.363081   \n",
       "2  0.840840              1.0          32    0.145858     0.441299    0.317640   \n",
       "3  0.867797              1.0          32    0.141091     0.424017    0.306466   \n",
       "4  0.866943              1.0          32    0.127682     0.390346    0.283224   \n",
       "5  0.855195              1.0          32    0.114720     0.353248    0.258343   \n",
       "\n",
       "   dimensions  diversity@10  diversity@5  diversity_weight  ...  epochs  \\\n",
       "0        6712      0.220320     0.208579               0.0  ...       5   \n",
       "1        6712      0.222469     0.210983               0.0  ...       5   \n",
       "2        6712      0.217560     0.206865               0.0  ...       5   \n",
       "3        6712      0.215251     0.204730               0.0  ...       5   \n",
       "4        6712      0.212000     0.202940               0.0  ...       5   \n",
       "5        6712      0.203454     0.193733               0.0  ...       5   \n",
       "\n",
       "   latent_dims     map@1    map@10     map@5                            name  \\\n",
       "0           32  0.140694  0.053800  0.068849  ConstraintAutoRec_MSD_pretrain   \n",
       "1           32  0.156214  0.059934  0.076787  ConstraintAutoRec_MSD_nov_0.25   \n",
       "2           32  0.161866  0.061778  0.079336   ConstraintAutoRec_MSD_nov_0.5   \n",
       "3           32  0.171988  0.065501  0.084627   ConstraintAutoRec_MSD_nov_1.0   \n",
       "4           32  0.183670  0.069528  0.089739   ConstraintAutoRec_MSD_nov_2.0   \n",
       "5           32  0.191641  0.072635  0.094605   ConstraintAutoRec_MSD_nov_4.0   \n",
       "\n",
       "   novelty_weight  optimizer precision@5  recall@5  \n",
       "0            0.00       adam    0.107326  0.055119  \n",
       "1            0.25       adam    0.117060  0.059646  \n",
       "2            0.50       adam    0.120628  0.061601  \n",
       "3            1.00       adam    0.126928  0.065092  \n",
       "4            2.00       adam    0.132673  0.068257  \n",
       "5            4.00       adam    0.138661  0.071306  \n",
       "\n",
       "[6 rows x 23 columns]"
      ]
     },
     "execution_count": 142,
     "metadata": {},
     "output_type": "execute_result"
    }
   ],
   "source": [
    "novelty_evals_msd = pd.DataFrame([pre_trained_values_msd] + novelty_evals['MSD'])\n",
    "novelty_evals_msd"
   ]
  },
  {
   "cell_type": "code",
   "execution_count": 144,
   "metadata": {},
   "outputs": [
    {
     "name": "stdout",
     "output_type": "stream",
     "text": [
      "\\begin{tabular}{rrrr}\n",
      "\\toprule\n",
      " novelty\\_weight &  map@1 &  map@5 &  map@10 \\\\\n",
      "\\midrule\n",
      "          0.000 &  0.141 &  0.069 &   0.054 \\\\\n",
      "          0.250 &  0.156 &  0.077 &   0.060 \\\\\n",
      "          0.500 &  0.162 &  0.079 &   0.062 \\\\\n",
      "          1.000 &  0.172 &  0.085 &   0.066 \\\\\n",
      "          2.000 &  0.184 &  0.090 &   0.070 \\\\\n",
      "          4.000 &  0.192 &  0.095 &   0.073 \\\\\n",
      "\\bottomrule\n",
      "\\end{tabular}\n",
      "\n"
     ]
    }
   ],
   "source": [
    "print(novelty_evals_msd[['novelty_weight',\n",
    "       'map@1', 'map@5', 'map@10', ]].to_latex(float_format = \"%.3f\", index=False))"
   ]
  },
  {
   "cell_type": "code",
   "execution_count": 145,
   "metadata": {},
   "outputs": [
    {
     "name": "stdout",
     "output_type": "stream",
     "text": [
      "\\begin{tabular}{rrrrrrr}\n",
      "\\toprule\n",
      " novelty\\_weight &  epc@5 &  epc@10 &  epd@5 &  coverage@1 &  coverage@5 &  coverage@10 \\\\\n",
      "\\midrule\n",
      "          0.000 &  0.946 &   0.949 &  0.274 &       0.331 &       0.613 &        0.748 \\\\\n",
      "          0.250 &  0.925 &   0.930 &  0.270 &       0.168 &       0.363 &        0.497 \\\\\n",
      "          0.500 &  0.922 &   0.929 &  0.269 &       0.146 &       0.318 &        0.441 \\\\\n",
      "          1.000 &  0.927 &   0.934 &  0.269 &       0.141 &       0.306 &        0.424 \\\\\n",
      "          2.000 &  0.926 &   0.933 &  0.268 &       0.128 &       0.283 &        0.390 \\\\\n",
      "          4.000 &  0.927 &   0.934 &  0.268 &       0.115 &       0.258 &        0.353 \\\\\n",
      "\\bottomrule\n",
      "\\end{tabular}\n",
      "\n"
     ]
    }
   ],
   "source": [
    "print(novelty_evals_msd[['novelty_weight',\n",
    "       'epc@5', 'epc@10', 'epd@5', 'coverage@1','coverage@5', 'coverage@10' ]].to_latex(float_format = \"%.3f\", index=False))"
   ]
  },
  {
   "cell_type": "code",
   "execution_count": 176,
   "metadata": {},
   "outputs": [
    {
     "data": {
      "image/png": "[encoded data removed]",
      "text/plain": [
       "<Figure size 648x252 with 2 Axes>"
      ]
     },
     "metadata": {},
     "output_type": "display_data"
    }
   ],
   "source": [
    "width = 0.95\n",
    "bar_c = get_colors(range(3))\n",
    "fig = plt.figure(figsize=(9,3.5))\n",
    "def plot_map(ax, data):\n",
    "    ax.bar(data.index - width/3, data['map@1'], width/3, label='MAP@1', color=bar_c[0])\n",
    "    ax.bar(data.index, data['map@5'], width/3, label='MAP@5', color=bar_c[1])\n",
    "    ax.bar(data.index + width/3, data['map@5'], width/3, label='MAP@10', color=bar_c[2])\n",
    "    ax.set_xticks(data.index)\n",
    "    ax.set_xticklabels(data.novelty_weight)\n",
    "#     ax.set_ylim(data['map@5'.min())\n",
    "    \n",
    "    ax.set_ylabel('MAP@N', fontsize=12)\n",
    "    \n",
    "ax1 = fig.add_subplot(121)\n",
    "ax1.set_xlabel('MovieLens', fontsize=14)\n",
    "plot_map(ax1, novelty_evals_ml)\n",
    "ax2 = fig.add_subplot(122)\n",
    "ax2.set_xlabel('MSD', fontsize=14)\n",
    "plot_map(ax2, novelty_evals_msd)\n",
    "fig.legend(['MAP@1','MAP@5', 'MAP@10'])\n",
    "fig.savefig('../plots/CAR_novelty_map.pdf')"
   ]
  },
  {
   "cell_type": "code",
   "execution_count": 177,
   "metadata": {},
   "outputs": [
    {
     "data": {
      "image/png": "[encoded data removed]",
      "text/plain": [
       "<Figure size 648x252 with 2 Axes>"
      ]
     },
     "metadata": {},
     "output_type": "display_data"
    }
   ],
   "source": [
    "width = 0.95\n",
    "bar_c = get_colors(range(2))\n",
    "fig = plt.figure(figsize=(9,3.5))\n",
    "def plot_map(ax, data):\n",
    "    ax.bar(data.index - width/4, data['coverage@5'], width/3, label='Coverage@5', color=bar_c[0])\n",
    "#     ax.bar(data.index, data['map@5'], width/3, label='MAP@5', color=bar_c[1])\n",
    "    ax.bar(data.index + width/4, data['coverage@10'], width/3, label='Coverage@10', color=bar_c[1])\n",
    "    ax.set_xticks(data.index)\n",
    "    ax.set_xticklabels(data.novelty_weight)\n",
    "    ax.set_ylabel('Coverage@N', fontsize=12)\n",
    "#     ax.legend(loc='center right')\n",
    "    \n",
    "ax1 = fig.add_subplot(121)\n",
    "ax1.set_xlabel('MovieLens', fontsize=14)\n",
    "plot_map(ax1, novelty_evals_ml)\n",
    "ax2 = fig.add_subplot(122)\n",
    "ax2.set_xlabel('MSD', fontsize=14)\n",
    "plot_map(ax2, novelty_evals_msd)\n",
    "fig.legend(['Coverage@5', 'Coverage@10'])\n",
    "fig.savefig('../plots/CAR_novelty_coverage.pdf')"
   ]
  }
 ],
 "metadata": {
  "kernelspec": {
   "display_name": "conda_tensorflow_p36",
   "language": "python",
   "name": "conda_tensorflow_p36"
  },
  "language_info": {
   "codemirror_mode": {
    "name": "ipython",
    "version": 3
   },
   "file_extension": ".py",
   "mimetype": "text/x-python",
   "name": "python",
   "nbconvert_exporter": "python",
   "pygments_lexer": "ipython3",
   "version": "3.6.5"
  },
  "pycharm": {
   "stem_cell": {
    "cell_type": "raw",
    "metadata": {
     "collapsed": false
    },
    "source": []
   }
  }
 },
 "nbformat": 4,
 "nbformat_minor": 4
}
